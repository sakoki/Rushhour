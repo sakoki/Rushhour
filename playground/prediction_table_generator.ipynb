{
 "cells": [
  {
   "cell_type": "markdown",
   "metadata": {},
   "source": [
    "# Function to create data tables for baseline time series prediction\n",
    "*Author: Koki Sasagawa*  \n",
    "*Last edited: 2/19/2019*"
   ]
  },
  {
   "cell_type": "code",
   "execution_count": 1,
   "metadata": {},
   "outputs": [],
   "source": [
    "import pandas as pd\n",
    "import numpy as np \n",
    "import os "
   ]
  },
  {
   "cell_type": "code",
   "execution_count": 2,
   "metadata": {},
   "outputs": [],
   "source": [
    "# Specify file directory \n",
    "input_dir = '../temp_data/'"
   ]
  },
  {
   "cell_type": "code",
   "execution_count": 3,
   "metadata": {},
   "outputs": [
    {
     "name": "stdout",
     "output_type": "stream",
     "text": [
      "0 .DS_Store\n",
      "1 dummy_df.csv\n",
      "2 sf_filtered_census_data.shx\n",
      "3 sf_filtered_census_data.shp\n",
      "4 sf_filtered_census_data.cpg\n",
      "5 sf_filtered_census_data.dbf\n",
      "6 sfdata_clean\n"
     ]
    }
   ],
   "source": [
    "files = os.listdir(input_dir)\n",
    "for i, v in enumerate(files):\n",
    "    print(i, v)"
   ]
  },
  {
   "cell_type": "code",
   "execution_count": 4,
   "metadata": {},
   "outputs": [
    {
     "data": {
      "text/html": [
       "<div>\n",
       "<style scoped>\n",
       "    .dataframe tbody tr th:only-of-type {\n",
       "        vertical-align: middle;\n",
       "    }\n",
       "\n",
       "    .dataframe tbody tr th {\n",
       "        vertical-align: top;\n",
       "    }\n",
       "\n",
       "    .dataframe thead th {\n",
       "        text-align: right;\n",
       "    }\n",
       "</style>\n",
       "<table border=\"1\" class=\"dataframe\">\n",
       "  <thead>\n",
       "    <tr style=\"text-align: right;\">\n",
       "      <th></th>\n",
       "      <th>Region</th>\n",
       "      <th>hour1</th>\n",
       "      <th>hour2</th>\n",
       "      <th>hour3</th>\n",
       "      <th>hour4</th>\n",
       "      <th>hour5</th>\n",
       "      <th>hour6</th>\n",
       "      <th>hour7</th>\n",
       "      <th>hour8</th>\n",
       "      <th>hour9</th>\n",
       "      <th>hour10</th>\n",
       "      <th>hour11</th>\n",
       "      <th>hour12</th>\n",
       "    </tr>\n",
       "  </thead>\n",
       "  <tbody>\n",
       "    <tr>\n",
       "      <th>0</th>\n",
       "      <td>1</td>\n",
       "      <td>12</td>\n",
       "      <td>15</td>\n",
       "      <td>11</td>\n",
       "      <td>23</td>\n",
       "      <td>3</td>\n",
       "      <td>4</td>\n",
       "      <td>6</td>\n",
       "      <td>23</td>\n",
       "      <td>12</td>\n",
       "      <td>11</td>\n",
       "      <td>10</td>\n",
       "      <td>9</td>\n",
       "    </tr>\n",
       "    <tr>\n",
       "      <th>1</th>\n",
       "      <td>2</td>\n",
       "      <td>12</td>\n",
       "      <td>15</td>\n",
       "      <td>11</td>\n",
       "      <td>23</td>\n",
       "      <td>3</td>\n",
       "      <td>4</td>\n",
       "      <td>6</td>\n",
       "      <td>23</td>\n",
       "      <td>12</td>\n",
       "      <td>11</td>\n",
       "      <td>10</td>\n",
       "      <td>9</td>\n",
       "    </tr>\n",
       "    <tr>\n",
       "      <th>2</th>\n",
       "      <td>3</td>\n",
       "      <td>12</td>\n",
       "      <td>15</td>\n",
       "      <td>11</td>\n",
       "      <td>23</td>\n",
       "      <td>3</td>\n",
       "      <td>4</td>\n",
       "      <td>6</td>\n",
       "      <td>23</td>\n",
       "      <td>12</td>\n",
       "      <td>11</td>\n",
       "      <td>10</td>\n",
       "      <td>9</td>\n",
       "    </tr>\n",
       "    <tr>\n",
       "      <th>3</th>\n",
       "      <td>4</td>\n",
       "      <td>12</td>\n",
       "      <td>15</td>\n",
       "      <td>11</td>\n",
       "      <td>23</td>\n",
       "      <td>3</td>\n",
       "      <td>4</td>\n",
       "      <td>6</td>\n",
       "      <td>23</td>\n",
       "      <td>12</td>\n",
       "      <td>11</td>\n",
       "      <td>10</td>\n",
       "      <td>9</td>\n",
       "    </tr>\n",
       "    <tr>\n",
       "      <th>4</th>\n",
       "      <td>5</td>\n",
       "      <td>12</td>\n",
       "      <td>15</td>\n",
       "      <td>11</td>\n",
       "      <td>23</td>\n",
       "      <td>3</td>\n",
       "      <td>4</td>\n",
       "      <td>6</td>\n",
       "      <td>23</td>\n",
       "      <td>12</td>\n",
       "      <td>11</td>\n",
       "      <td>10</td>\n",
       "      <td>9</td>\n",
       "    </tr>\n",
       "  </tbody>\n",
       "</table>\n",
       "</div>"
      ],
      "text/plain": [
       "   Region  hour1  hour2  hour3  hour4  hour5  hour6  hour7  hour8  hour9  \\\n",
       "0       1     12     15     11     23      3      4      6     23     12   \n",
       "1       2     12     15     11     23      3      4      6     23     12   \n",
       "2       3     12     15     11     23      3      4      6     23     12   \n",
       "3       4     12     15     11     23      3      4      6     23     12   \n",
       "4       5     12     15     11     23      3      4      6     23     12   \n",
       "\n",
       "   hour10  hour11  hour12  \n",
       "0      11      10       9  \n",
       "1      11      10       9  \n",
       "2      11      10       9  \n",
       "3      11      10       9  \n",
       "4      11      10       9  "
      ]
     },
     "execution_count": 4,
     "metadata": {},
     "output_type": "execute_result"
    }
   ],
   "source": [
    "train_df = pd.read_csv(input_dir + files[1])\n",
    "train_df.head()"
   ]
  },
  {
   "cell_type": "code",
   "execution_count": 5,
   "metadata": {},
   "outputs": [],
   "source": [
    "# split by x and y\n",
    "input_x = train_df.iloc[:,list(range(1,6))]\n",
    "output_y = train_df.iloc[:,6]"
   ]
  },
  {
   "cell_type": "code",
   "execution_count": 6,
   "metadata": {},
   "outputs": [
    {
     "data": {
      "text/plain": [
       "0    4\n",
       "1    4\n",
       "2    4\n",
       "3    4\n",
       "4    4\n",
       "Name: y, dtype: int64"
      ]
     },
     "execution_count": 6,
     "metadata": {},
     "output_type": "execute_result"
    }
   ],
   "source": [
    "output_y.rename('y', inplace=True)\n",
    "output_y.head()"
   ]
  },
  {
   "cell_type": "code",
   "execution_count": 7,
   "metadata": {},
   "outputs": [
    {
     "data": {
      "text/html": [
       "<div>\n",
       "<style scoped>\n",
       "    .dataframe tbody tr th:only-of-type {\n",
       "        vertical-align: middle;\n",
       "    }\n",
       "\n",
       "    .dataframe tbody tr th {\n",
       "        vertical-align: top;\n",
       "    }\n",
       "\n",
       "    .dataframe thead th {\n",
       "        text-align: right;\n",
       "    }\n",
       "</style>\n",
       "<table border=\"1\" class=\"dataframe\">\n",
       "  <thead>\n",
       "    <tr style=\"text-align: right;\">\n",
       "      <th></th>\n",
       "      <th>hour1</th>\n",
       "      <th>hour2</th>\n",
       "      <th>hour3</th>\n",
       "      <th>hour4</th>\n",
       "      <th>hour5</th>\n",
       "    </tr>\n",
       "  </thead>\n",
       "  <tbody>\n",
       "    <tr>\n",
       "      <th>0</th>\n",
       "      <td>12</td>\n",
       "      <td>15</td>\n",
       "      <td>11</td>\n",
       "      <td>23</td>\n",
       "      <td>3</td>\n",
       "    </tr>\n",
       "    <tr>\n",
       "      <th>1</th>\n",
       "      <td>12</td>\n",
       "      <td>15</td>\n",
       "      <td>11</td>\n",
       "      <td>23</td>\n",
       "      <td>3</td>\n",
       "    </tr>\n",
       "    <tr>\n",
       "      <th>2</th>\n",
       "      <td>12</td>\n",
       "      <td>15</td>\n",
       "      <td>11</td>\n",
       "      <td>23</td>\n",
       "      <td>3</td>\n",
       "    </tr>\n",
       "    <tr>\n",
       "      <th>3</th>\n",
       "      <td>12</td>\n",
       "      <td>15</td>\n",
       "      <td>11</td>\n",
       "      <td>23</td>\n",
       "      <td>3</td>\n",
       "    </tr>\n",
       "    <tr>\n",
       "      <th>4</th>\n",
       "      <td>12</td>\n",
       "      <td>15</td>\n",
       "      <td>11</td>\n",
       "      <td>23</td>\n",
       "      <td>3</td>\n",
       "    </tr>\n",
       "  </tbody>\n",
       "</table>\n",
       "</div>"
      ],
      "text/plain": [
       "   hour1  hour2  hour3  hour4  hour5\n",
       "0     12     15     11     23      3\n",
       "1     12     15     11     23      3\n",
       "2     12     15     11     23      3\n",
       "3     12     15     11     23      3\n",
       "4     12     15     11     23      3"
      ]
     },
     "execution_count": 7,
     "metadata": {},
     "output_type": "execute_result"
    }
   ],
   "source": [
    "input_x.head()"
   ]
  },
  {
   "cell_type": "code",
   "execution_count": 8,
   "metadata": {},
   "outputs": [
    {
     "data": {
      "text/plain": [
       "0    [12, 15, 11, 23, 3]\n",
       "1    [12, 15, 11, 23, 3]\n",
       "2    [12, 15, 11, 23, 3]\n",
       "3    [12, 15, 11, 23, 3]\n",
       "4    [12, 15, 11, 23, 3]\n",
       "Name: x, dtype: object"
      ]
     },
     "execution_count": 8,
     "metadata": {},
     "output_type": "execute_result"
    }
   ],
   "source": [
    "input_x = input_x.apply(lambda x: x.tolist(), axis=1)\n",
    "input_x.rename('x', inplace=True)\n",
    "input_x.head()"
   ]
  },
  {
   "cell_type": "code",
   "execution_count": 9,
   "metadata": {},
   "outputs": [
    {
     "data": {
      "text/plain": [
       "0    1\n",
       "1    2\n",
       "2    3\n",
       "3    4\n",
       "4    5\n",
       "Name: Region, dtype: int64"
      ]
     },
     "execution_count": 9,
     "metadata": {},
     "output_type": "execute_result"
    }
   ],
   "source": [
    "region_id = train_df.iloc[:,0]\n",
    "region_id.head()"
   ]
  },
  {
   "cell_type": "code",
   "execution_count": 10,
   "metadata": {},
   "outputs": [
    {
     "data": {
      "text/html": [
       "<div>\n",
       "<style scoped>\n",
       "    .dataframe tbody tr th:only-of-type {\n",
       "        vertical-align: middle;\n",
       "    }\n",
       "\n",
       "    .dataframe tbody tr th {\n",
       "        vertical-align: top;\n",
       "    }\n",
       "\n",
       "    .dataframe thead th {\n",
       "        text-align: right;\n",
       "    }\n",
       "</style>\n",
       "<table border=\"1\" class=\"dataframe\">\n",
       "  <thead>\n",
       "    <tr style=\"text-align: right;\">\n",
       "      <th></th>\n",
       "      <th>Region</th>\n",
       "      <th>x</th>\n",
       "      <th>y</th>\n",
       "    </tr>\n",
       "  </thead>\n",
       "  <tbody>\n",
       "    <tr>\n",
       "      <th>0</th>\n",
       "      <td>1</td>\n",
       "      <td>[12, 15, 11, 23, 3]</td>\n",
       "      <td>4</td>\n",
       "    </tr>\n",
       "    <tr>\n",
       "      <th>1</th>\n",
       "      <td>2</td>\n",
       "      <td>[12, 15, 11, 23, 3]</td>\n",
       "      <td>4</td>\n",
       "    </tr>\n",
       "    <tr>\n",
       "      <th>2</th>\n",
       "      <td>3</td>\n",
       "      <td>[12, 15, 11, 23, 3]</td>\n",
       "      <td>4</td>\n",
       "    </tr>\n",
       "    <tr>\n",
       "      <th>3</th>\n",
       "      <td>4</td>\n",
       "      <td>[12, 15, 11, 23, 3]</td>\n",
       "      <td>4</td>\n",
       "    </tr>\n",
       "    <tr>\n",
       "      <th>4</th>\n",
       "      <td>5</td>\n",
       "      <td>[12, 15, 11, 23, 3]</td>\n",
       "      <td>4</td>\n",
       "    </tr>\n",
       "  </tbody>\n",
       "</table>\n",
       "</div>"
      ],
      "text/plain": [
       "   Region                    x  y\n",
       "0       1  [12, 15, 11, 23, 3]  4\n",
       "1       2  [12, 15, 11, 23, 3]  4\n",
       "2       3  [12, 15, 11, 23, 3]  4\n",
       "3       4  [12, 15, 11, 23, 3]  4\n",
       "4       5  [12, 15, 11, 23, 3]  4"
      ]
     },
     "execution_count": 10,
     "metadata": {},
     "output_type": "execute_result"
    }
   ],
   "source": [
    "prediction_table = pd.concat([region_id, input_x, output_y],\n",
    "                             axis=1,) \n",
    "prediction_table.head()"
   ]
  },
  {
   "cell_type": "code",
   "execution_count": null,
   "metadata": {},
   "outputs": [],
   "source": [
    "def prediction_table_generator(data, x_idx, y_idx):\n",
    "    \"\"\"Generate subsets of the data split into training values (x) and prediction value (y)\n",
    "    \n",
    "    The resulting dataframe will contain 3 columns:\n",
    "    \n",
    "    region_ID | x | y |\n",
    "    \n",
    "    Where:\n",
    "    region_ID --> unique identifier for census zones\n",
    "    x --> list of training values \n",
    "    y --> prediction value \n",
    "    \n",
    "    :param data: data to be formatted into training \n",
    "    :type data: DataFrame\n",
    "    :param int x_idx: index setting the limit of training values (x)\n",
    "    :param int y_idx: index of prediction value (y)\n",
    "    \"\"\"\n",
    "    \n",
    "    # Create series of Region ID's\n",
    "    region_id = data.iloc[:,0]\n",
    "    \n",
    "    # Create column containing list of training values    \n",
    "    input_x = data.iloc[:,list(range(1, x_idx))]\n",
    "    input_x = input_x.apply(lambda x: x.tolist(), axis=1)\n",
    "    input_x.rename('x', inplace=True)\n",
    "    \n",
    "    # Create Series of y values\n",
    "    if y == x_idx + 1: \n",
    "        output_y = data.iloc[:,y_idx]\n",
    "        output_y.rename('y', inplace=True)\n",
    "    else:\n",
    "        print('y_idx must be greater than x_idx by 1')\n",
    "        return\n",
    "    \n",
    "    prediction_table = pd.concat([region_id, input_x, output_y], axis=1)\n",
    "    \n",
    "    prediction_table.to_csv('data_{}_{}.csv'.format(x_idx, y_idx), index=False)\n",
    "    \n",
    "    return prediction_table"
   ]
  }
 ],
 "metadata": {
  "kernelspec": {
   "display_name": "Python 3",
   "language": "python",
   "name": "python3"
  },
  "language_info": {
   "codemirror_mode": {
    "name": "ipython",
    "version": 3
   },
   "file_extension": ".py",
   "mimetype": "text/x-python",
   "name": "python",
   "nbconvert_exporter": "python",
   "pygments_lexer": "ipython3",
   "version": "3.6.1"
  }
 },
 "nbformat": 4,
 "nbformat_minor": 2
}
