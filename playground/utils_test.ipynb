{
 "cells": [
  {
   "cell_type": "code",
   "execution_count": 1,
   "metadata": {
    "collapsed": true
   },
   "outputs": [],
   "source": [
    "import pandas as pd\n",
    "import matplotlib.pyplot as plt\n",
    "%matplotlib inline"
   ]
  },
  {
   "cell_type": "code",
   "execution_count": null,
   "metadata": {
    "collapsed": true
   },
   "outputs": [],
   "source": [
    "def file_cleaner_(data_intput, data_output, file_name):\n",
    "    '''Reads in SF speed data and formats them into proper csv files'''\n",
    "    \n",
    "    with open(data_intput + file_name, 'r') as old_file:\n",
    "        with open(data_output + file_name, 'w') as new_file:\n",
    "            first = 0 \n",
    "            for line in old_file.readlines():\n",
    "                # If it is the first line, separate the header from the data\n",
    "                if first == 0: \n",
    "                    line = re.sub(r'\\t|\\n|\\s+', '', line)\n",
    "                    header = re.findall(r'[A-Z+?\\_?]+', line)\n",
    "                    data = re.findall(r'[\\-?\\d+?\\/?\\.?\\:?]+|\\,(?=\\,)', line)\n",
    "                    \n",
    "                    # Date and time are connected \n",
    "                    date = re.search(r'(\\d{2}\\/){2}\\d{4}', data[1]).group(0)\n",
    "                    time = re.search(r'(\\d{2}\\:){2}\\d{2}', data[1]).group(0)\n",
    "                    date = date + ' ' + time \n",
    "                    \n",
    "                    # Remove the merged date and time\n",
    "                    data.remove(data[1])\n",
    "                    \n",
    "                    # Insert separated date and time\n",
    "                    data.insert(1, date)\n",
    "                    \n",
    "                    data = [x if x != ',' else '' for x in data]\n",
    "                    header = (',').join(header)\n",
    "                    data = (',').join(data)\n",
    "                    new_file.write(header + '\\n')\n",
    "                    new_file.write(data + '\\n')\n",
    "                    first += 1 \n",
    "                else:\n",
    "                    if line != '\\n':\n",
    "                        line = line.rstrip()\n",
    "                        new_file.write(line + '\\n')"
   ]
  },
  {
   "cell_type": "code",
   "execution_count": null,
   "metadata": {
    "collapsed": true
   },
   "outputs": [],
   "source": [
    "def read_file(dir_name, file_name, output):"
   ]
  },
  {
   "cell_type": "code",
   "execution_count": null,
   "metadata": {
    "collapsed": true
   },
   "outputs": [],
   "source": [
    "def write_file(dir_name, file_name, data):\n",
    "    with open(dir_name + file_name, 'w') as new_file:\n",
    "    "
   ]
  }
 ],
 "metadata": {
  "kernelspec": {
   "display_name": "Python 3",
   "language": "python",
   "name": "python3"
  },
  "language_info": {
   "codemirror_mode": {
    "name": "ipython",
    "version": 3
   },
   "file_extension": ".py",
   "mimetype": "text/x-python",
   "name": "python",
   "nbconvert_exporter": "python",
   "pygments_lexer": "ipython3",
   "version": "3.6.3"
  }
 },
 "nbformat": 4,
 "nbformat_minor": 2
}
