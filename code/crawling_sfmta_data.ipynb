{
 "cells": [
  {
   "cell_type": "code",
   "execution_count": 29,
   "metadata": {
    "collapsed": true
   },
   "outputs": [],
   "source": [
    "import requests\n",
    "import requests_ftp\n",
    "import re"
   ]
  },
  {
   "cell_type": "code",
   "execution_count": 107,
   "metadata": {},
   "outputs": [],
   "source": [
    "def get_sfmta_data(base_url,local_dir = './'):\n",
    "\n",
    "    requests_ftp.monkeypatch_session()\n",
    "    s = requests.Session()\n",
    "    resp = s.list(base_url)\n",
    "\n",
    "    content = resp.content.decode()\n",
    "\n",
    "    c = re.split(' |\\ |\\n |\\r |-r',content)\n",
    "    c = list(filter(None, c))\n",
    "\n",
    "    list_names = []\n",
    "    for fname in c:\n",
    "        if 'sfmtaAVLRawData' in fname:\n",
    "            \n",
    "            fname = fname.rstrip()\n",
    "            list_names.append(fname)\n",
    "            r = s.get(base_url+fname)\n",
    "            open(local_dir+fname, 'wb').write(r.content)\n",
    "\n",
    "    return list_names\n"
   ]
  },
  {
   "cell_type": "code",
   "execution_count": 108,
   "metadata": {},
   "outputs": [],
   "source": [
    "base_url = 'ftp://avl-data.sfmta.com/avl_data/avl_raw/'\n",
    "#This will automatically download the file into local directory\n",
    "list_names = get_sfmta_data(base_url,local_dir = './')"
   ]
  }
 ],
 "metadata": {
  "kernelspec": {
   "display_name": "Python 3",
   "language": "python",
   "name": "python3"
  },
  "language_info": {
   "codemirror_mode": {
    "name": "ipython",
    "version": 3
   },
   "file_extension": ".py",
   "mimetype": "text/x-python",
   "name": "python",
   "nbconvert_exporter": "python",
   "pygments_lexer": "ipython3",
   "version": "3.6.3"
  }
 },
 "nbformat": 4,
 "nbformat_minor": 2
}
