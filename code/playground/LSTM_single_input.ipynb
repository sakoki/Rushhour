{
 "cells": [
  {
   "cell_type": "markdown",
   "metadata": {},
   "source": [
    "# Scaling for multiple time-series\n",
    "*Author: Koki Sasagawa*  \n",
    "*Last updated: 4/14/2019*\n",
    "\n",
    "For this notebook, we are working specifically with the speed data for **Feburary 2016**.\n",
    "\n",
    "- Training a separate model for every region is expensive\n",
    "- Take the nearest neighbors of a census region, average the speed for all of those regions, and concatenate and train. \n",
    "- Each region is a time series of speed"
   ]
  },
  {
   "cell_type": "code",
   "execution_count": 5,
   "metadata": {},
   "outputs": [
    {
     "name": "stderr",
     "output_type": "stream",
     "text": [
      "Using TensorFlow backend.\n",
      "/Users/koki/Documents/Learning/UMICH_course_material/SI_699_Big_Data/rushhour/lib/python3.6/site-packages/ipykernel_launcher.py:18: DeprecationWarning: the formatter module is deprecated\n"
     ]
    },
    {
     "ename": "ImportError",
     "evalue": "cannot import name 'SFDATA_file_cleaner'",
     "output_type": "error",
     "traceback": [
      "\u001b[0;31m---------------------------------------------------------------------------\u001b[0m",
      "\u001b[0;31mImportError\u001b[0m                               Traceback (most recent call last)",
      "\u001b[0;32m<ipython-input-5-c6f71ec6a3a9>\u001b[0m in \u001b[0;36m<module>\u001b[0;34m\u001b[0m\n\u001b[1;32m     16\u001b[0m \u001b[0;34m\u001b[0m\u001b[0m\n\u001b[1;32m     17\u001b[0m \u001b[0msys\u001b[0m\u001b[0;34m.\u001b[0m\u001b[0mpath\u001b[0m\u001b[0;34m.\u001b[0m\u001b[0minsert\u001b[0m\u001b[0;34m(\u001b[0m\u001b[0;36m0\u001b[0m\u001b[0;34m,\u001b[0m \u001b[0;34m'../utils/'\u001b[0m\u001b[0;34m)\u001b[0m\u001b[0;34m\u001b[0m\u001b[0m\n\u001b[0;32m---> 18\u001b[0;31m \u001b[0;32mfrom\u001b[0m \u001b[0mformatter\u001b[0m \u001b[0;32mimport\u001b[0m \u001b[0mSFDATA_file_cleaner\u001b[0m\u001b[0;34m,\u001b[0m \u001b[0mcoordinate_mapper\u001b[0m\u001b[0;34m\u001b[0m\u001b[0m\n\u001b[0m\u001b[1;32m     19\u001b[0m \u001b[0;32mfrom\u001b[0m \u001b[0mtoolkit\u001b[0m \u001b[0;32mimport\u001b[0m \u001b[0mget_fname\u001b[0m\u001b[0;34m\u001b[0m\u001b[0m\n\u001b[1;32m     20\u001b[0m \u001b[0;32mfrom\u001b[0m \u001b[0mdecorators\u001b[0m \u001b[0;32mimport\u001b[0m \u001b[0mtimer\u001b[0m\u001b[0;34m\u001b[0m\u001b[0m\n",
      "\u001b[0;31mImportError\u001b[0m: cannot import name 'SFDATA_file_cleaner'"
     ]
    }
   ],
   "source": [
    "import geopandas as gpd\n",
    "import matplotlib.pyplot as plt\n",
    "import seaborn as sns\n",
    "import pandas as pd\n",
    "import numpy as np\n",
    "import networkx as nx\n",
    "import os\n",
    "import re\n",
    "import sys\n",
    "\n",
    "# LSTM network\n",
    "from keras.models import Sequential\n",
    "from keras.layers import Dense, Dropout, LSTM\n",
    "from sklearn.metrics import mean_squared_error,mean_absolute_error\n",
    "import seaborn as sns\n",
    "\n",
    "sys.path.insert(0, '../utils/')\n",
    "from formatter import SFDATA_file_cleaner, coordinate_mapper\n",
    "from toolkit import get_fname\n",
    "from decorators import timer\n",
    "\n",
    "%matplotlib inline"
   ]
  },
  {
   "cell_type": "code",
   "execution_count": 8,
   "metadata": {},
   "outputs": [],
   "source": [
    "# Add timer decorator to measure progress\n",
    "coordinate_mapper = timer(coordinate_mapper)"
   ]
  },
  {
   "cell_type": "code",
   "execution_count": 1,
   "metadata": {},
   "outputs": [
    {
     "name": "stdout",
     "output_type": "stream",
     "text": [
      "0\n",
      "1\n",
      "2\n",
      "3\n",
      "4\n"
     ]
    }
   ],
   "source": [
    "for i in range(5):\n",
    "    print(i)"
   ]
  },
  {
   "cell_type": "markdown",
   "metadata": {},
   "source": [
    "# Data Preparation"
   ]
  },
  {
   "cell_type": "markdown",
   "metadata": {},
   "source": [
    "## 1. Get 2016 speed data\n",
    "This step can take a while depending on internet speed. "
   ]
  },
  {
   "cell_type": "code",
   "execution_count": 4,
   "metadata": {},
   "outputs": [],
   "source": [
    "# Need to do this in order to access utils which is one layer higher than playground directory \n",
    "# import sys\n",
    "# sys.path.insert(0, '../utils/')\n",
    "# from api import get_sfmta_data"
   ]
  },
  {
   "cell_type": "code",
   "execution_count": 5,
   "metadata": {},
   "outputs": [],
   "source": [
    "# base_url = 'ftp://avl-data.sfmta.com/avl_data/avl_raw/'\n",
    "# file_directory = '../../raw_data/sf_speed_data/'\n",
    "\n",
    "# get_sfmta_data(base_url, file_directory)"
   ]
  },
  {
   "cell_type": "markdown",
   "metadata": {},
   "source": [
    "## 2. Clean 2016 speed data\n",
    "\n",
    "*Note: Check that file path directories are properly configured*"
   ]
  },
  {
   "cell_type": "code",
   "execution_count": 6,
   "metadata": {},
   "outputs": [],
   "source": [
    "# input_dir = '../../raw_data/sf_speed_data/'\n",
    "# output_dir = '../../temp_data/sfdata_clean/'\n",
    "# Make sure .DS_Store is removed.\n",
    "\n",
    "# for file in os.listdir(input_dir):\n",
    "#     SFDATA_file_cleaner(input_dir, output_dir, file)"
   ]
  },
  {
   "cell_type": "markdown",
   "metadata": {},
   "source": [
    "## 3. load all data + format"
   ]
  },
  {
   "cell_type": "code",
   "execution_count": 8,
   "metadata": {},
   "outputs": [],
   "source": [
    "# Filtered Census Zones (GIS data with GeoID)\n",
    "shp_file = '../../temp_data/sf_GEOID_GIS_data.shp'\n",
    "\n",
    "# Input directory\n",
    "input_dir = '../../temp_data/sfdata_clean/'\n",
    "\n",
    "# Output directory\n",
    "output_dir = '../../temp_data/sfdata_mapped/'"
   ]
  },
  {
   "cell_type": "code",
   "execution_count": 9,
   "metadata": {},
   "outputs": [
    {
     "name": "stdout",
     "output_type": "stream",
     "text": [
      "Size of census zones df: (196, 2)\n"
     ]
    },
    {
     "data": {
      "text/html": [
       "<div>\n",
       "<style scoped>\n",
       "    .dataframe tbody tr th:only-of-type {\n",
       "        vertical-align: middle;\n",
       "    }\n",
       "\n",
       "    .dataframe tbody tr th {\n",
       "        vertical-align: top;\n",
       "    }\n",
       "\n",
       "    .dataframe thead th {\n",
       "        text-align: right;\n",
       "    }\n",
       "</style>\n",
       "<table border=\"1\" class=\"dataframe\">\n",
       "  <thead>\n",
       "    <tr style=\"text-align: right;\">\n",
       "      <th></th>\n",
       "      <th>geoid10</th>\n",
       "      <th>geometry</th>\n",
       "    </tr>\n",
       "  </thead>\n",
       "  <tbody>\n",
       "    <tr>\n",
       "      <th>0</th>\n",
       "      <td>6075016500</td>\n",
       "      <td>POLYGON ((-122.446471 37.775802, -122.44478 37...</td>\n",
       "    </tr>\n",
       "    <tr>\n",
       "      <th>1</th>\n",
       "      <td>6075016400</td>\n",
       "      <td>POLYGON ((-122.44034 37.77658, -122.439844 37....</td>\n",
       "    </tr>\n",
       "    <tr>\n",
       "      <th>2</th>\n",
       "      <td>6075016300</td>\n",
       "      <td>POLYGON ((-122.429152 37.778007, -122.428909 3...</td>\n",
       "    </tr>\n",
       "    <tr>\n",
       "      <th>3</th>\n",
       "      <td>6075016100</td>\n",
       "      <td>POLYGON ((-122.428909 37.778039, -122.429152 3...</td>\n",
       "    </tr>\n",
       "    <tr>\n",
       "      <th>4</th>\n",
       "      <td>6075016000</td>\n",
       "      <td>POLYGON ((-122.420425 37.780583, -122.420336 3...</td>\n",
       "    </tr>\n",
       "  </tbody>\n",
       "</table>\n",
       "</div>"
      ],
      "text/plain": [
       "      geoid10                                           geometry\n",
       "0  6075016500  POLYGON ((-122.446471 37.775802, -122.44478 37...\n",
       "1  6075016400  POLYGON ((-122.44034 37.77658, -122.439844 37....\n",
       "2  6075016300  POLYGON ((-122.429152 37.778007, -122.428909 3...\n",
       "3  6075016100  POLYGON ((-122.428909 37.778039, -122.429152 3...\n",
       "4  6075016000  POLYGON ((-122.420425 37.780583, -122.420336 3..."
      ]
     },
     "execution_count": 9,
     "metadata": {},
     "output_type": "execute_result"
    }
   ],
   "source": [
    "# Load census data \n",
    "shp_file = gpd.GeoDataFrame.from_file(shp_file)\n",
    "print('Size of census zones df: {}'.format(shp_file.shape))\n",
    "shp_file.head()"
   ]
  },
  {
   "cell_type": "code",
   "execution_count": 11,
   "metadata": {},
   "outputs": [
    {
     "name": "stdout",
     "output_type": "stream",
     "text": [
      "0 sfmtaAVLRawData02252016.csv\n",
      "1 sfmtaAVLRawData02132016.csv\n",
      "2 sfmtaAVLRawData02032016.csv\n",
      "3 sfmtaAVLRawData02022016.csv\n",
      "4 sfmtaAVLRawData02122016.csv\n",
      "5 sfmtaAVLRawData02242016.csv\n",
      "6 sfmtaAVLRawData02102016.csv\n",
      "7 sfmtaAVLRawData02262016.csv\n",
      "8 sfmtaAVLRawData02092016.csv\n",
      "9 sfmtaAVLRawData02192016.csv\n",
      "10 sfmtaAVLRawData02272016.csv\n",
      "11 sfmtaAVLRawData02182016.csv\n",
      "12 sfmtaAVLRawData02082016.csv\n",
      "13 sfmtaAVLRawData02012016.csv\n",
      "14 sfmtaAVLRawData02112016.csv\n",
      "15 sfmtaAVLRawData02142016.csv\n",
      "16 sfmtaAVLRawData02042016.csv\n",
      "17 sfmtaAVLRawData02222016.csv\n",
      "18 sfmtaAVLRawData02232016.csv\n",
      "19 sfmtaAVLRawData02052016.csv\n",
      "20 sfmtaAVLRawData02152016.csv\n",
      "21 sfmtaAVLRawData02212016.csv\n",
      "22 sfmtaAVLRawData02172016.csv\n",
      "23 sfmtaAVLRawData02072016.csv\n",
      "24 sfmtaAVLRawData02282016.csv\n",
      "25 sfmtaAVLRawData02062016.csv\n",
      "26 sfmtaAVLRawData02162016.csv\n",
      "27 sfmtaAVLRawData02292016.csv\n",
      "28 sfmtaAVLRawData02202016.csv\n"
     ]
    }
   ],
   "source": [
    "# All files by date\n",
    "for i, fname in enumerate(os.listdir(input_dir)):\n",
    "    print(i, fname)"
   ]
  },
  {
   "cell_type": "markdown",
   "metadata": {},
   "source": [
    "### 3.a. Map to coordinate regions"
   ]
  },
  {
   "cell_type": "code",
   "execution_count": 14,
   "metadata": {},
   "outputs": [
    {
     "name": "stdout",
     "output_type": "stream",
     "text": [
      "Running coordinate_mapper...\n"
     ]
    },
    {
     "name": "stderr",
     "output_type": "stream",
     "text": [
      "/Users/koki/Documents/Learning/UMICH_course_material/SI_699_Big_Data/rushhour/lib/python3.6/site-packages/IPython/core/interactiveshell.py:3267: DtypeWarning: Columns (2) have mixed types. Specify dtype option on import or set low_memory=False.\n",
      "  exec(code_obj, self.user_global_ns, self.user_ns)\n"
     ]
    },
    {
     "name": "stdout",
     "output_type": "stream",
     "text": [
      "Finished in 119.4279s\n",
      "Running coordinate_mapper...\n",
      "Finished in 105.7468s\n",
      "Running coordinate_mapper...\n",
      "Finished in 31.0469s\n",
      "Running coordinate_mapper...\n",
      "Finished in 31.7317s\n",
      "Running coordinate_mapper...\n",
      "Finished in 136.8604s\n",
      "Running coordinate_mapper...\n",
      "Finished in 131.8547s\n",
      "Running coordinate_mapper...\n",
      "Finished in 123.2712s\n",
      "Running coordinate_mapper...\n",
      "Finished in 118.8585s\n",
      "Running coordinate_mapper...\n",
      "Finished in 143.7571s\n",
      "Running coordinate_mapper...\n",
      "Finished in 149.8816s\n",
      "Running coordinate_mapper...\n",
      "Finished in 112.1061s\n",
      "Running coordinate_mapper...\n",
      "Finished in 141.1215s\n",
      "Running coordinate_mapper...\n",
      "Finished in 142.8439s\n",
      "Running coordinate_mapper...\n",
      "Finished in 38.3669s\n",
      "Running coordinate_mapper...\n",
      "Finished in 141.5949s\n",
      "Running coordinate_mapper...\n",
      "Finished in 102.7517s\n",
      "Running coordinate_mapper...\n",
      "Finished in 37.0628s\n",
      "Running coordinate_mapper...\n",
      "Finished in 138.6227s\n",
      "Running coordinate_mapper...\n",
      "Finished in 139.1920s\n",
      "Running coordinate_mapper...\n",
      "Finished in 87.6535s\n",
      "Running coordinate_mapper...\n",
      "Finished in 92.8727s\n",
      "Running coordinate_mapper...\n",
      "Finished in 102.4803s\n",
      "Running coordinate_mapper...\n",
      "Finished in 144.3661s\n",
      "Running coordinate_mapper...\n",
      "Finished in 104.6319s\n",
      "Running coordinate_mapper...\n",
      "Finished in 103.5154s\n",
      "Running coordinate_mapper...\n",
      "Finished in 94.6020s\n",
      "Running coordinate_mapper...\n",
      "Finished in 123.6640s\n",
      "Running coordinate_mapper...\n",
      "Finished in 120.6014s\n",
      "Running coordinate_mapper...\n",
      "Finished in 89.4679s\n"
     ]
    }
   ],
   "source": [
    "# Check that all 29 files for the month of feburuary is there\n",
    "# Map each to corresponding census zones \n",
    "for fname in os.listdir(input_dir):\n",
    "    coordinate_mapper(shp_file, input_dir, output_dir, fname)"
   ]
  },
  {
   "cell_type": "markdown",
   "metadata": {},
   "source": [
    "### 3.b. Aggregate by census region"
   ]
  },
  {
   "cell_type": "code",
   "execution_count": 15,
   "metadata": {},
   "outputs": [],
   "source": [
    "input_dir = '../../temp_data/sfdata_mapped/'\n",
    "output_dir ='../../temp_data/region_data/'"
   ]
  },
  {
   "cell_type": "code",
   "execution_count": null,
   "metadata": {},
   "outputs": [],
   "source": [
    "def aggregate_by_region(input_dir, output_dir):\n",
    "    \"\"\"Aggregate files by corresponding region ID (geoid10)\n",
    "    \n",
    "    For each file, the script will partition data by region ID.\n",
    "    Each region ID file will get updated every time a new file is read,\n",
    "    Each of the resulting files will contain all data pertaining to a region ID.\n",
    "    \n",
    "    :param str input_dir: directory containing input files\n",
    "    :param str output_dir: directory to save output files\n",
    "    :param str file_name: name of file \n",
    "    :return: table of all data for one region\n",
    "    :rtype: DataFrame \n",
    "    \"\"\"\n",
    "    \n",
    "    base_fname = 'time_series_region'\n",
    "    file_names = get_fname(input_dir, contains='2016')\n",
    "    \n",
    "    for file in file_names:\n",
    "        aggr_data = pd.read_csv(input_dir + file)\n",
    "        \n",
    "        # Loop though data for each region \n",
    "        # open only one region file at a time to save memory\n",
    "        for region_id, group_df in aggr_data.groupby('geoid10'):\n",
    "            # Check if region file already exists\n",
    "            output_fname = '{}/{}_{}.csv'.format(output_dir, base_fname, region_id)\n",
    "            if os.path.exists(output_fname):\n",
    "                f = open(output_fname,'a')\n",
    "            else:\n",
    "                f = open(output_fname,'w+')\n",
    "                f.write(','.join(aggr_data.columns)+'\\n')\n",
    "                \n",
    "            for i in group_df.itertuples():\n",
    "                f.write(','.join([str(cell) for cell in list(i)[1:]])+'\\n')\n",
    "                \n",
    "            f.close()\n",
    "\n",
    "        print('finished partitioning {}'.format(file))"
   ]
  },
  {
   "cell_type": "code",
   "execution_count": 5,
   "metadata": {},
   "outputs": [
    {
     "name": "stdout",
     "output_type": "stream",
     "text": [
      "finished partitioning mapped_sfmtaAVLRawData02012016.csv\n",
      "finished partitioning mapped_sfmtaAVLRawData02022016.csv\n",
      "finished partitioning mapped_sfmtaAVLRawData02032016.csv\n",
      "finished partitioning mapped_sfmtaAVLRawData02042016.csv\n",
      "finished partitioning mapped_sfmtaAVLRawData02052016.csv\n",
      "finished partitioning mapped_sfmtaAVLRawData02062016.csv\n",
      "finished partitioning mapped_sfmtaAVLRawData02072016.csv\n",
      "finished partitioning mapped_sfmtaAVLRawData02082016.csv\n",
      "finished partitioning mapped_sfmtaAVLRawData02092016.csv\n",
      "finished partitioning mapped_sfmtaAVLRawData02102016.csv\n"
     ]
    },
    {
     "name": "stderr",
     "output_type": "stream",
     "text": [
      "/Users/koki/Documents/Learning/UMICH_course_material/SI_699_Big_Data/rushhour/lib/python3.6/site-packages/IPython/core/interactiveshell.py:3191: DtypeWarning: Columns (2) have mixed types. Specify dtype option on import or set low_memory=False.\n",
      "  if (yield from self.run_code(code, result)):\n"
     ]
    },
    {
     "name": "stdout",
     "output_type": "stream",
     "text": [
      "finished partitioning mapped_sfmtaAVLRawData02112016.csv\n",
      "finished partitioning mapped_sfmtaAVLRawData02122016.csv\n",
      "finished partitioning mapped_sfmtaAVLRawData02132016.csv\n",
      "finished partitioning mapped_sfmtaAVLRawData02142016.csv\n",
      "finished partitioning mapped_sfmtaAVLRawData02152016.csv\n",
      "finished partitioning mapped_sfmtaAVLRawData02162016.csv\n",
      "finished partitioning mapped_sfmtaAVLRawData02172016.csv\n",
      "finished partitioning mapped_sfmtaAVLRawData02182016.csv\n",
      "finished partitioning mapped_sfmtaAVLRawData02192016.csv\n",
      "finished partitioning mapped_sfmtaAVLRawData02202016.csv\n",
      "finished partitioning mapped_sfmtaAVLRawData02212016.csv\n",
      "finished partitioning mapped_sfmtaAVLRawData02222016.csv\n",
      "finished partitioning mapped_sfmtaAVLRawData02232016.csv\n",
      "finished partitioning mapped_sfmtaAVLRawData02242016.csv\n",
      "finished partitioning mapped_sfmtaAVLRawData02252016.csv\n",
      "finished partitioning mapped_sfmtaAVLRawData02262016.csv\n",
      "finished partitioning mapped_sfmtaAVLRawData02272016.csv\n",
      "finished partitioning mapped_sfmtaAVLRawData02282016.csv\n",
      "finished partitioning mapped_sfmtaAVLRawData02292016.csv\n"
     ]
    }
   ],
   "source": [
    "aggregate_by_region(input_dir, output_dir)"
   ]
  },
  {
   "cell_type": "code",
   "execution_count": 7,
   "metadata": {},
   "outputs": [
    {
     "data": {
      "text/plain": [
       "197"
      ]
     },
     "execution_count": 7,
     "metadata": {},
     "output_type": "execute_result"
    }
   ],
   "source": [
    "len(os.listdir(output_dir))"
   ]
  },
  {
   "cell_type": "markdown",
   "metadata": {},
   "source": [
    "## 3.c. Format data into frequency level timeseries"
   ]
  },
  {
   "cell_type": "code",
   "execution_count": 2,
   "metadata": {},
   "outputs": [
    {
     "name": "stdout",
     "output_type": "stream",
     "text": [
      "Number of region files: 196\n"
     ]
    }
   ],
   "source": [
    "input_dir = '../../temp_data/region_data/'\n",
    "print('Number of region files: {}'.format(len(os.listdir(input_dir))))"
   ]
  },
  {
   "cell_type": "code",
   "execution_count": 3,
   "metadata": {},
   "outputs": [],
   "source": [
    "def region_by_time_generator(path, columns=['REPORT_TIME'], Y='SPEED', unit='H'):\n",
    "    \"\"\"Format data into a frequency level time series\n",
    "\n",
    "    Rows are region_ID and columns are time (based on unit specified).\n",
    "    Speed is aggregated (currently takes the mean) based on the time granularity specified.\n",
    "    The output is the input for the function `predict_time_series_ARIMA()`.\n",
    "\n",
    "    .. todo:: datetime conversion no longer necessary as it is handled by `coordinate_mapper()`\n",
    "        implement `aggregate_func()`\n",
    "\n",
    "    :param str path: input directory containing files of interest\n",
    "    :param list columns: column to be converted to datetime \n",
    "    :param str Y: specification of name of the column to be treated as Y\n",
    "    :param str unit: specification for time granularity\n",
    "    :return: formatted table\n",
    "    :rtype: DataFrame\n",
    "    \"\"\"\n",
    "    \n",
    "    file_names = get_fname(path)\n",
    "    new_time_df = pd.DataFrame()\n",
    "\n",
    "    for name in file_names:\n",
    "        region_data = pd.read_csv(path + name, parse_dates=columns, infer_datetime_format=True)\n",
    "        region_data.index = region_data[columns[0]]\n",
    "        \n",
    "        # group second data into one time unit.\n",
    "        unit_aggregate = region_data[Y].resample(unit).mean()\n",
    "\n",
    "        # turn a series of data into a row(with dataframe type).\n",
    "        unit_aggregate = unit_aggregate.to_frame(name=re.sub(\"time_series_|\\.csv\", \"\", name))\n",
    "        unit_aggregate = unit_aggregate.transpose()\n",
    "\n",
    "        # add into final result\n",
    "        new_time_df = pd.concat([new_time_df, unit_aggregate])\n",
    "        \n",
    "    return new_time_df"
   ]
  },
  {
   "cell_type": "code",
   "execution_count": 4,
   "metadata": {},
   "outputs": [
    {
     "name": "stderr",
     "output_type": "stream",
     "text": [
      "/Users/koki/Documents/Learning/UMICH_course_material/SI_699_Big_Data/rushhour/lib/python3.6/site-packages/IPython/core/interactiveshell.py:3185: DtypeWarning: Columns (2) have mixed types. Specify dtype option on import or set low_memory=False.\n",
      "  if (yield from self.run_code(code, result)):\n"
     ]
    }
   ],
   "source": [
    "sample_time_series = region_by_time_generator(input_dir, columns=['REPORT_TIME'], Y='SPEED',unit='H')"
   ]
  },
  {
   "cell_type": "code",
   "execution_count": 5,
   "metadata": {},
   "outputs": [],
   "source": [
    "sample_time_series.to_csv('../../output/region_by_time_series.csv', index=True)"
   ]
  },
  {
   "cell_type": "code",
   "execution_count": 46,
   "metadata": {},
   "outputs": [],
   "source": [
    "sample_time_series = pd.read_csv('../../output/region_by_time_series.csv', index_col=0)"
   ]
  },
  {
   "cell_type": "code",
   "execution_count": 47,
   "metadata": {},
   "outputs": [
    {
     "name": "stdout",
     "output_type": "stream",
     "text": [
      "(196, 697)\n"
     ]
    },
    {
     "data": {
      "text/html": [
       "<div>\n",
       "<style scoped>\n",
       "    .dataframe tbody tr th:only-of-type {\n",
       "        vertical-align: middle;\n",
       "    }\n",
       "\n",
       "    .dataframe tbody tr th {\n",
       "        vertical-align: top;\n",
       "    }\n",
       "\n",
       "    .dataframe thead th {\n",
       "        text-align: right;\n",
       "    }\n",
       "</style>\n",
       "<table border=\"1\" class=\"dataframe\">\n",
       "  <thead>\n",
       "    <tr style=\"text-align: right;\">\n",
       "      <th></th>\n",
       "      <th>2016-02-01 00:00:00</th>\n",
       "      <th>2016-02-01 01:00:00</th>\n",
       "      <th>2016-02-01 02:00:00</th>\n",
       "      <th>2016-02-01 03:00:00</th>\n",
       "      <th>2016-02-01 04:00:00</th>\n",
       "      <th>2016-02-01 05:00:00</th>\n",
       "      <th>2016-02-01 06:00:00</th>\n",
       "      <th>2016-02-01 07:00:00</th>\n",
       "      <th>2016-02-01 08:00:00</th>\n",
       "      <th>2016-02-01 09:00:00</th>\n",
       "      <th>...</th>\n",
       "      <th>2016-02-29 15:00:00</th>\n",
       "      <th>2016-02-29 16:00:00</th>\n",
       "      <th>2016-02-29 17:00:00</th>\n",
       "      <th>2016-02-29 18:00:00</th>\n",
       "      <th>2016-02-29 19:00:00</th>\n",
       "      <th>2016-02-29 20:00:00</th>\n",
       "      <th>2016-02-29 21:00:00</th>\n",
       "      <th>2016-02-29 22:00:00</th>\n",
       "      <th>2016-02-29 23:00:00</th>\n",
       "      <th>2016-03-01 00:00:00</th>\n",
       "    </tr>\n",
       "  </thead>\n",
       "  <tbody>\n",
       "    <tr>\n",
       "      <th>region_6075010100</th>\n",
       "      <td>1.103094</td>\n",
       "      <td>0.850827</td>\n",
       "      <td>0.137040</td>\n",
       "      <td>0.078909</td>\n",
       "      <td>0.196874</td>\n",
       "      <td>1.539069</td>\n",
       "      <td>1.714272</td>\n",
       "      <td>2.258792</td>\n",
       "      <td>1.799093</td>\n",
       "      <td>2.151459</td>\n",
       "      <td>...</td>\n",
       "      <td>2.239105</td>\n",
       "      <td>2.471772</td>\n",
       "      <td>2.591621</td>\n",
       "      <td>2.202300</td>\n",
       "      <td>1.242359</td>\n",
       "      <td>1.202609</td>\n",
       "      <td>0.981914</td>\n",
       "      <td>1.050426</td>\n",
       "      <td>1.368480</td>\n",
       "      <td>0.0</td>\n",
       "    </tr>\n",
       "    <tr>\n",
       "      <th>region_6075010200</th>\n",
       "      <td>4.474976</td>\n",
       "      <td>6.177880</td>\n",
       "      <td>7.323182</td>\n",
       "      <td>6.249900</td>\n",
       "      <td>5.763750</td>\n",
       "      <td>4.905341</td>\n",
       "      <td>4.557325</td>\n",
       "      <td>3.481254</td>\n",
       "      <td>1.850865</td>\n",
       "      <td>2.825775</td>\n",
       "      <td>...</td>\n",
       "      <td>2.734535</td>\n",
       "      <td>2.477057</td>\n",
       "      <td>2.435120</td>\n",
       "      <td>3.243975</td>\n",
       "      <td>3.458722</td>\n",
       "      <td>2.948414</td>\n",
       "      <td>2.544947</td>\n",
       "      <td>2.356152</td>\n",
       "      <td>2.466459</td>\n",
       "      <td>NaN</td>\n",
       "    </tr>\n",
       "    <tr>\n",
       "      <th>region_6075010300</th>\n",
       "      <td>5.635000</td>\n",
       "      <td>5.944400</td>\n",
       "      <td>8.889000</td>\n",
       "      <td>1.620333</td>\n",
       "      <td>NaN</td>\n",
       "      <td>5.532250</td>\n",
       "      <td>4.415793</td>\n",
       "      <td>4.503976</td>\n",
       "      <td>4.671350</td>\n",
       "      <td>5.090225</td>\n",
       "      <td>...</td>\n",
       "      <td>4.047194</td>\n",
       "      <td>4.435053</td>\n",
       "      <td>4.571130</td>\n",
       "      <td>4.656116</td>\n",
       "      <td>4.763261</td>\n",
       "      <td>5.180390</td>\n",
       "      <td>5.349852</td>\n",
       "      <td>4.901961</td>\n",
       "      <td>4.934529</td>\n",
       "      <td>NaN</td>\n",
       "    </tr>\n",
       "    <tr>\n",
       "      <th>region_6075010400</th>\n",
       "      <td>5.674429</td>\n",
       "      <td>9.444333</td>\n",
       "      <td>6.944000</td>\n",
       "      <td>7.500000</td>\n",
       "      <td>12.778000</td>\n",
       "      <td>5.926167</td>\n",
       "      <td>4.881000</td>\n",
       "      <td>5.593897</td>\n",
       "      <td>3.988920</td>\n",
       "      <td>6.063925</td>\n",
       "      <td>...</td>\n",
       "      <td>4.736745</td>\n",
       "      <td>4.836363</td>\n",
       "      <td>4.627703</td>\n",
       "      <td>4.603434</td>\n",
       "      <td>4.804670</td>\n",
       "      <td>4.637204</td>\n",
       "      <td>5.731026</td>\n",
       "      <td>4.656882</td>\n",
       "      <td>4.882050</td>\n",
       "      <td>NaN</td>\n",
       "    </tr>\n",
       "    <tr>\n",
       "      <th>region_6075010500</th>\n",
       "      <td>3.446908</td>\n",
       "      <td>6.550136</td>\n",
       "      <td>4.444000</td>\n",
       "      <td>0.000000</td>\n",
       "      <td>5.799818</td>\n",
       "      <td>5.608138</td>\n",
       "      <td>4.122118</td>\n",
       "      <td>4.304811</td>\n",
       "      <td>4.170099</td>\n",
       "      <td>4.161973</td>\n",
       "      <td>...</td>\n",
       "      <td>4.107213</td>\n",
       "      <td>3.237954</td>\n",
       "      <td>2.903063</td>\n",
       "      <td>3.350814</td>\n",
       "      <td>3.964277</td>\n",
       "      <td>4.254140</td>\n",
       "      <td>4.476809</td>\n",
       "      <td>4.541343</td>\n",
       "      <td>4.188110</td>\n",
       "      <td>NaN</td>\n",
       "    </tr>\n",
       "  </tbody>\n",
       "</table>\n",
       "<p>5 rows × 697 columns</p>\n",
       "</div>"
      ],
      "text/plain": [
       "                   2016-02-01 00:00:00  2016-02-01 01:00:00  \\\n",
       "region_6075010100             1.103094             0.850827   \n",
       "region_6075010200             4.474976             6.177880   \n",
       "region_6075010300             5.635000             5.944400   \n",
       "region_6075010400             5.674429             9.444333   \n",
       "region_6075010500             3.446908             6.550136   \n",
       "\n",
       "                   2016-02-01 02:00:00  2016-02-01 03:00:00  \\\n",
       "region_6075010100             0.137040             0.078909   \n",
       "region_6075010200             7.323182             6.249900   \n",
       "region_6075010300             8.889000             1.620333   \n",
       "region_6075010400             6.944000             7.500000   \n",
       "region_6075010500             4.444000             0.000000   \n",
       "\n",
       "                   2016-02-01 04:00:00  2016-02-01 05:00:00  \\\n",
       "region_6075010100             0.196874             1.539069   \n",
       "region_6075010200             5.763750             4.905341   \n",
       "region_6075010300                  NaN             5.532250   \n",
       "region_6075010400            12.778000             5.926167   \n",
       "region_6075010500             5.799818             5.608138   \n",
       "\n",
       "                   2016-02-01 06:00:00  2016-02-01 07:00:00  \\\n",
       "region_6075010100             1.714272             2.258792   \n",
       "region_6075010200             4.557325             3.481254   \n",
       "region_6075010300             4.415793             4.503976   \n",
       "region_6075010400             4.881000             5.593897   \n",
       "region_6075010500             4.122118             4.304811   \n",
       "\n",
       "                   2016-02-01 08:00:00  2016-02-01 09:00:00  ...  \\\n",
       "region_6075010100             1.799093             2.151459  ...   \n",
       "region_6075010200             1.850865             2.825775  ...   \n",
       "region_6075010300             4.671350             5.090225  ...   \n",
       "region_6075010400             3.988920             6.063925  ...   \n",
       "region_6075010500             4.170099             4.161973  ...   \n",
       "\n",
       "                   2016-02-29 15:00:00  2016-02-29 16:00:00  \\\n",
       "region_6075010100             2.239105             2.471772   \n",
       "region_6075010200             2.734535             2.477057   \n",
       "region_6075010300             4.047194             4.435053   \n",
       "region_6075010400             4.736745             4.836363   \n",
       "region_6075010500             4.107213             3.237954   \n",
       "\n",
       "                   2016-02-29 17:00:00  2016-02-29 18:00:00  \\\n",
       "region_6075010100             2.591621             2.202300   \n",
       "region_6075010200             2.435120             3.243975   \n",
       "region_6075010300             4.571130             4.656116   \n",
       "region_6075010400             4.627703             4.603434   \n",
       "region_6075010500             2.903063             3.350814   \n",
       "\n",
       "                   2016-02-29 19:00:00  2016-02-29 20:00:00  \\\n",
       "region_6075010100             1.242359             1.202609   \n",
       "region_6075010200             3.458722             2.948414   \n",
       "region_6075010300             4.763261             5.180390   \n",
       "region_6075010400             4.804670             4.637204   \n",
       "region_6075010500             3.964277             4.254140   \n",
       "\n",
       "                   2016-02-29 21:00:00  2016-02-29 22:00:00  \\\n",
       "region_6075010100             0.981914             1.050426   \n",
       "region_6075010200             2.544947             2.356152   \n",
       "region_6075010300             5.349852             4.901961   \n",
       "region_6075010400             5.731026             4.656882   \n",
       "region_6075010500             4.476809             4.541343   \n",
       "\n",
       "                   2016-02-29 23:00:00  2016-03-01 00:00:00  \n",
       "region_6075010100             1.368480                  0.0  \n",
       "region_6075010200             2.466459                  NaN  \n",
       "region_6075010300             4.934529                  NaN  \n",
       "region_6075010400             4.882050                  NaN  \n",
       "region_6075010500             4.188110                  NaN  \n",
       "\n",
       "[5 rows x 697 columns]"
      ]
     },
     "execution_count": 47,
     "metadata": {},
     "output_type": "execute_result"
    }
   ],
   "source": [
    "print(sample_time_series.shape)\n",
    "sample_time_series.head()"
   ]
  },
  {
   "cell_type": "markdown",
   "metadata": {},
   "source": [
    "## 3.d. Add neighboring regions ave speeds as train data"
   ]
  },
  {
   "cell_type": "code",
   "execution_count": 48,
   "metadata": {},
   "outputs": [
    {
     "name": "stdout",
     "output_type": "stream",
     "text": [
      "Number of NaN cells: 3453\n",
      "Percent missing values: 2.5276\n"
     ]
    }
   ],
   "source": [
    "miss_cells = sum(sample_time_series.isna().sum().values)\n",
    "total_cells = sample_time_series.shape[0] * sample_time_series.shape[1]\n",
    "print('Number of NaN cells: {}'.format(miss_cells))\n",
    "print('Percent missing values: {:.4f}'.format((miss_cells/total_cells) * 100))"
   ]
  },
  {
   "cell_type": "code",
   "execution_count": 49,
   "metadata": {},
   "outputs": [],
   "source": [
    "# Impute NaN values with column means\n",
    "sample_time_series.fillna(sample_time_series.mean(), inplace=True)"
   ]
  },
  {
   "cell_type": "code",
   "execution_count": 50,
   "metadata": {},
   "outputs": [
    {
     "data": {
      "image/png": "[encoded data removed]",
      "text/plain": [
       "<Figure size 720x360 with 1 Axes>"
      ]
     },
     "metadata": {
      "needs_background": "light"
     },
     "output_type": "display_data"
    }
   ],
   "source": [
    "plt.figure(figsize=(10,5))\n",
    "g = sns.lineplot(x=sample_time_series.columns, y=sample_time_series.iloc[0,:])"
   ]
  },
  {
   "cell_type": "code",
   "execution_count": 51,
   "metadata": {},
   "outputs": [],
   "source": [
    "# from sklearn.preprocessing import MinMaxScaler\n",
    "# scaler = MinMaxScaler(feature_range = (0,1))\n",
    "# scaled_time_series = scaler.fit_transform(sample_time_series)\n",
    "# # turn scaled data into df.\n",
    "# sample_time_series_scale = pd.DataFrame(score_scale,index=sample_time_series.index, columns=sample_time_series.columns)\n",
    "# sample_time_series_scale.head(10)"
   ]
  },
  {
   "cell_type": "markdown",
   "metadata": {},
   "source": [
    "To predict the value at time $T$, based on the data from days $T-N$ where $N$ can be any number of steps. \n",
    "Lets predict the speed of the next 1 hour using the past 12 hours. "
   ]
  },
  {
   "cell_type": "code",
   "execution_count": 52,
   "metadata": {},
   "outputs": [],
   "source": [
    "# Drop the column for march\n",
    "last_col = sample_time_series.columns.tolist()[-1]\n",
    "sample_time_series.drop(axis=1, columns=last_col, inplace=True)"
   ]
  },
  {
   "cell_type": "code",
   "execution_count": 53,
   "metadata": {},
   "outputs": [
    {
     "data": {
      "text/html": [
       "<div>\n",
       "<style scoped>\n",
       "    .dataframe tbody tr th:only-of-type {\n",
       "        vertical-align: middle;\n",
       "    }\n",
       "\n",
       "    .dataframe tbody tr th {\n",
       "        vertical-align: top;\n",
       "    }\n",
       "\n",
       "    .dataframe thead th {\n",
       "        text-align: right;\n",
       "    }\n",
       "</style>\n",
       "<table border=\"1\" class=\"dataframe\">\n",
       "  <thead>\n",
       "    <tr style=\"text-align: right;\">\n",
       "      <th></th>\n",
       "      <th>2016-02-01 00:00:00</th>\n",
       "      <th>2016-02-01 01:00:00</th>\n",
       "      <th>2016-02-01 02:00:00</th>\n",
       "      <th>2016-02-01 03:00:00</th>\n",
       "      <th>2016-02-01 04:00:00</th>\n",
       "      <th>2016-02-01 05:00:00</th>\n",
       "      <th>2016-02-01 06:00:00</th>\n",
       "      <th>2016-02-01 07:00:00</th>\n",
       "      <th>2016-02-01 08:00:00</th>\n",
       "      <th>2016-02-01 09:00:00</th>\n",
       "      <th>...</th>\n",
       "      <th>2016-02-29 14:00:00</th>\n",
       "      <th>2016-02-29 15:00:00</th>\n",
       "      <th>2016-02-29 16:00:00</th>\n",
       "      <th>2016-02-29 17:00:00</th>\n",
       "      <th>2016-02-29 18:00:00</th>\n",
       "      <th>2016-02-29 19:00:00</th>\n",
       "      <th>2016-02-29 20:00:00</th>\n",
       "      <th>2016-02-29 21:00:00</th>\n",
       "      <th>2016-02-29 22:00:00</th>\n",
       "      <th>2016-02-29 23:00:00</th>\n",
       "    </tr>\n",
       "  </thead>\n",
       "  <tbody>\n",
       "    <tr>\n",
       "      <th>region_6075010100</th>\n",
       "      <td>1.103094</td>\n",
       "      <td>0.850827</td>\n",
       "      <td>0.137040</td>\n",
       "      <td>0.078909</td>\n",
       "      <td>0.196874</td>\n",
       "      <td>1.539069</td>\n",
       "      <td>1.714272</td>\n",
       "      <td>2.258792</td>\n",
       "      <td>1.799093</td>\n",
       "      <td>2.151459</td>\n",
       "      <td>...</td>\n",
       "      <td>2.045441</td>\n",
       "      <td>2.239105</td>\n",
       "      <td>2.471772</td>\n",
       "      <td>2.591621</td>\n",
       "      <td>2.202300</td>\n",
       "      <td>1.242359</td>\n",
       "      <td>1.202609</td>\n",
       "      <td>0.981914</td>\n",
       "      <td>1.050426</td>\n",
       "      <td>1.368480</td>\n",
       "    </tr>\n",
       "    <tr>\n",
       "      <th>region_6075010200</th>\n",
       "      <td>4.474976</td>\n",
       "      <td>6.177880</td>\n",
       "      <td>7.323182</td>\n",
       "      <td>6.249900</td>\n",
       "      <td>5.763750</td>\n",
       "      <td>4.905341</td>\n",
       "      <td>4.557325</td>\n",
       "      <td>3.481254</td>\n",
       "      <td>1.850865</td>\n",
       "      <td>2.825775</td>\n",
       "      <td>...</td>\n",
       "      <td>2.397086</td>\n",
       "      <td>2.734535</td>\n",
       "      <td>2.477057</td>\n",
       "      <td>2.435120</td>\n",
       "      <td>3.243975</td>\n",
       "      <td>3.458722</td>\n",
       "      <td>2.948414</td>\n",
       "      <td>2.544947</td>\n",
       "      <td>2.356152</td>\n",
       "      <td>2.466459</td>\n",
       "    </tr>\n",
       "    <tr>\n",
       "      <th>region_6075010300</th>\n",
       "      <td>5.635000</td>\n",
       "      <td>5.944400</td>\n",
       "      <td>8.889000</td>\n",
       "      <td>1.620333</td>\n",
       "      <td>7.844551</td>\n",
       "      <td>5.532250</td>\n",
       "      <td>4.415793</td>\n",
       "      <td>4.503976</td>\n",
       "      <td>4.671350</td>\n",
       "      <td>5.090225</td>\n",
       "      <td>...</td>\n",
       "      <td>3.904699</td>\n",
       "      <td>4.047194</td>\n",
       "      <td>4.435053</td>\n",
       "      <td>4.571130</td>\n",
       "      <td>4.656116</td>\n",
       "      <td>4.763261</td>\n",
       "      <td>5.180390</td>\n",
       "      <td>5.349852</td>\n",
       "      <td>4.901961</td>\n",
       "      <td>4.934529</td>\n",
       "    </tr>\n",
       "    <tr>\n",
       "      <th>region_6075010400</th>\n",
       "      <td>5.674429</td>\n",
       "      <td>9.444333</td>\n",
       "      <td>6.944000</td>\n",
       "      <td>7.500000</td>\n",
       "      <td>12.778000</td>\n",
       "      <td>5.926167</td>\n",
       "      <td>4.881000</td>\n",
       "      <td>5.593897</td>\n",
       "      <td>3.988920</td>\n",
       "      <td>6.063925</td>\n",
       "      <td>...</td>\n",
       "      <td>4.967918</td>\n",
       "      <td>4.736745</td>\n",
       "      <td>4.836363</td>\n",
       "      <td>4.627703</td>\n",
       "      <td>4.603434</td>\n",
       "      <td>4.804670</td>\n",
       "      <td>4.637204</td>\n",
       "      <td>5.731026</td>\n",
       "      <td>4.656882</td>\n",
       "      <td>4.882050</td>\n",
       "    </tr>\n",
       "    <tr>\n",
       "      <th>region_6075010500</th>\n",
       "      <td>3.446908</td>\n",
       "      <td>6.550136</td>\n",
       "      <td>4.444000</td>\n",
       "      <td>0.000000</td>\n",
       "      <td>5.799818</td>\n",
       "      <td>5.608138</td>\n",
       "      <td>4.122118</td>\n",
       "      <td>4.304811</td>\n",
       "      <td>4.170099</td>\n",
       "      <td>4.161973</td>\n",
       "      <td>...</td>\n",
       "      <td>3.743409</td>\n",
       "      <td>4.107213</td>\n",
       "      <td>3.237954</td>\n",
       "      <td>2.903063</td>\n",
       "      <td>3.350814</td>\n",
       "      <td>3.964277</td>\n",
       "      <td>4.254140</td>\n",
       "      <td>4.476809</td>\n",
       "      <td>4.541343</td>\n",
       "      <td>4.188110</td>\n",
       "    </tr>\n",
       "  </tbody>\n",
       "</table>\n",
       "<p>5 rows × 696 columns</p>\n",
       "</div>"
      ],
      "text/plain": [
       "                   2016-02-01 00:00:00  2016-02-01 01:00:00  \\\n",
       "region_6075010100             1.103094             0.850827   \n",
       "region_6075010200             4.474976             6.177880   \n",
       "region_6075010300             5.635000             5.944400   \n",
       "region_6075010400             5.674429             9.444333   \n",
       "region_6075010500             3.446908             6.550136   \n",
       "\n",
       "                   2016-02-01 02:00:00  2016-02-01 03:00:00  \\\n",
       "region_6075010100             0.137040             0.078909   \n",
       "region_6075010200             7.323182             6.249900   \n",
       "region_6075010300             8.889000             1.620333   \n",
       "region_6075010400             6.944000             7.500000   \n",
       "region_6075010500             4.444000             0.000000   \n",
       "\n",
       "                   2016-02-01 04:00:00  2016-02-01 05:00:00  \\\n",
       "region_6075010100             0.196874             1.539069   \n",
       "region_6075010200             5.763750             4.905341   \n",
       "region_6075010300             7.844551             5.532250   \n",
       "region_6075010400            12.778000             5.926167   \n",
       "region_6075010500             5.799818             5.608138   \n",
       "\n",
       "                   2016-02-01 06:00:00  2016-02-01 07:00:00  \\\n",
       "region_6075010100             1.714272             2.258792   \n",
       "region_6075010200             4.557325             3.481254   \n",
       "region_6075010300             4.415793             4.503976   \n",
       "region_6075010400             4.881000             5.593897   \n",
       "region_6075010500             4.122118             4.304811   \n",
       "\n",
       "                   2016-02-01 08:00:00  2016-02-01 09:00:00  ...  \\\n",
       "region_6075010100             1.799093             2.151459  ...   \n",
       "region_6075010200             1.850865             2.825775  ...   \n",
       "region_6075010300             4.671350             5.090225  ...   \n",
       "region_6075010400             3.988920             6.063925  ...   \n",
       "region_6075010500             4.170099             4.161973  ...   \n",
       "\n",
       "                   2016-02-29 14:00:00  2016-02-29 15:00:00  \\\n",
       "region_6075010100             2.045441             2.239105   \n",
       "region_6075010200             2.397086             2.734535   \n",
       "region_6075010300             3.904699             4.047194   \n",
       "region_6075010400             4.967918             4.736745   \n",
       "region_6075010500             3.743409             4.107213   \n",
       "\n",
       "                   2016-02-29 16:00:00  2016-02-29 17:00:00  \\\n",
       "region_6075010100             2.471772             2.591621   \n",
       "region_6075010200             2.477057             2.435120   \n",
       "region_6075010300             4.435053             4.571130   \n",
       "region_6075010400             4.836363             4.627703   \n",
       "region_6075010500             3.237954             2.903063   \n",
       "\n",
       "                   2016-02-29 18:00:00  2016-02-29 19:00:00  \\\n",
       "region_6075010100             2.202300             1.242359   \n",
       "region_6075010200             3.243975             3.458722   \n",
       "region_6075010300             4.656116             4.763261   \n",
       "region_6075010400             4.603434             4.804670   \n",
       "region_6075010500             3.350814             3.964277   \n",
       "\n",
       "                   2016-02-29 20:00:00  2016-02-29 21:00:00  \\\n",
       "region_6075010100             1.202609             0.981914   \n",
       "region_6075010200             2.948414             2.544947   \n",
       "region_6075010300             5.180390             5.349852   \n",
       "region_6075010400             4.637204             5.731026   \n",
       "region_6075010500             4.254140             4.476809   \n",
       "\n",
       "                   2016-02-29 22:00:00  2016-02-29 23:00:00  \n",
       "region_6075010100             1.050426             1.368480  \n",
       "region_6075010200             2.356152             2.466459  \n",
       "region_6075010300             4.901961             4.934529  \n",
       "region_6075010400             4.656882             4.882050  \n",
       "region_6075010500             4.541343             4.188110  \n",
       "\n",
       "[5 rows x 696 columns]"
      ]
     },
     "execution_count": 53,
     "metadata": {},
     "output_type": "execute_result"
    }
   ],
   "source": [
    "sample_time_series.head()"
   ]
  },
  {
   "cell_type": "code",
   "execution_count": 54,
   "metadata": {},
   "outputs": [
    {
     "name": "stdout",
     "output_type": "stream",
     "text": [
      "Train size: 487 Test size: 209\n"
     ]
    }
   ],
   "source": [
    "# Split data to train and test\n",
    "split_size=0.7\n",
    "train_size = round(sample_time_series.shape[1] * 0.7)\n",
    "test_size = sample_time_series.shape[1] - train_size\n",
    "print('Train size: {} Test size: {}'.format(train_size, test_size))"
   ]
  },
  {
   "cell_type": "code",
   "execution_count": 55,
   "metadata": {},
   "outputs": [],
   "source": [
    "# Separate to train and test set\n",
    "train_set = sample_time_series.iloc[:,0:train_size]\n",
    "test_set = sample_time_series.iloc[:,train_size:]"
   ]
  },
  {
   "cell_type": "code",
   "execution_count": 56,
   "metadata": {},
   "outputs": [],
   "source": [
    "# Choose row from dataset\n",
    "train_set = np.array(train_set.iloc[1])\n",
    "test_set = np.array(test_set.iloc[1])"
   ]
  },
  {
   "cell_type": "markdown",
   "metadata": {},
   "source": [
    "Last column in the table becomes target y, and the first N colummns become our input x1, x2 and x3\n",
    "Input vector for LSTM is an 3D array:\n",
    "1. Num samples\n",
    "2. Num time steps\n",
    "3. Num features\n",
    "\n",
    "Example: \n",
    "Imagine 50 words in one sentence, where each word is represented by a word vector. So we need 50 time steps to go through each word vector in the sentence as an input to the LSTM at each time step. There is one sentence per observation and hence num_features = 1. Like this, we need to iterate over all the sentences in the train data to extract the pattern between the words in all sentences. This is exactly what we want here in the time series forecast as well — we want to identify all the patterns that exist between each of the previous values in the window to predict the current time step!)"
   ]
  },
  {
   "cell_type": "code",
   "execution_count": 132,
   "metadata": {},
   "outputs": [],
   "source": [
    "# ## code snippet: https://www.analyticsvidhya.com/blog/2018/10/predicting-stock-price-machine-learningnd-deep-learning-techniques-python/\n",
    "# split_size =0.7\n",
    "# time_window = 12\n",
    "\n",
    "# #creating dataframe\n",
    "# x_train, y_train = np.empty(shape=[0, time_window, 1]),np.empty(shape=[0,1])\n",
    "# X_test, Y_test = np.empty(shape=[0, time_window, 1]),np.empty(shape=[0,1])\n",
    "\n",
    "# scaled_data = sample_time_series.iloc[1].T.to_frame()\n",
    "\n",
    "# labels = scaled_data.index # add label\n",
    "\n",
    "# #creating train and test sets\n",
    "# dataset = scaled_data.values\n",
    "\n",
    "# size = int(len(dataset) * split_size)\n",
    "\n",
    "# train, test = dataset[0:size], dataset[size:len(dataset)]\n",
    "\n",
    "# test_label =labels[size:len(labels)]# add label\n",
    "# #converting dataset into x_train and y_train\n",
    "\n",
    "# sub_x_train, sub_y_train = [], []\n",
    "# for i in range(time_window,len(train)):\n",
    "#     sub_x_train.append(train[i-time_window:i])\n",
    "#     sub_y_train.append(train[i])\n",
    "# sub_x_train, sub_y_train = np.array(sub_x_train), np.array(sub_y_train)\n",
    "# x_train = np.concatenate((x_train, sub_x_train), axis=0)\n",
    "# y_train = np.concatenate((y_train, sub_y_train), axis=0)\n",
    "\n",
    "# # create test dataset predicting values, using past time_window from the train data\n",
    "# inputs = dataset[len(dataset) - len(test) - time_window:]\n",
    "# inputs = inputs.reshape(-1,1)\n",
    "\n",
    "# sub_X_test = []\n",
    "# sub_Y_test = []\n",
    "# indexes = list()\n",
    "# for i in range(time_window,inputs.shape[0]):\n",
    "#     sub_X_test.append(inputs[i-time_window:i])\n",
    "#     sub_Y_test.append(inputs[i])\n",
    "# #     indexes.append(test_label[i])# add label\n",
    "# sub_X_test,sub_Y_test = np.arrayA(sub_X_test), np.array(sub_Y_test)\n",
    "\n",
    "# X_test = np.concatenate((X_test, sub_X_test), axis=0)\n",
    "# Y_test = np.concatenate((Y_test, sub_Y_test), axis=0)"
   ]
  },
  {
   "cell_type": "code",
   "execution_count": 57,
   "metadata": {},
   "outputs": [
    {
     "name": "stdout",
     "output_type": "stream",
     "text": [
      "(0, 168, 1) (0, 1) (0, 168, 1) (0, 1)\n"
     ]
    },
    {
     "data": {
      "text/html": [
       "<div>\n",
       "<style scoped>\n",
       "    .dataframe tbody tr th:only-of-type {\n",
       "        vertical-align: middle;\n",
       "    }\n",
       "\n",
       "    .dataframe tbody tr th {\n",
       "        vertical-align: top;\n",
       "    }\n",
       "\n",
       "    .dataframe thead th {\n",
       "        text-align: right;\n",
       "    }\n",
       "</style>\n",
       "<table border=\"1\" class=\"dataframe\">\n",
       "  <thead>\n",
       "    <tr style=\"text-align: right;\">\n",
       "      <th></th>\n",
       "      <th>region_6075010900</th>\n",
       "    </tr>\n",
       "  </thead>\n",
       "  <tbody>\n",
       "    <tr>\n",
       "      <th>2016-02-01 00:00:00</th>\n",
       "      <td>5.229478</td>\n",
       "    </tr>\n",
       "    <tr>\n",
       "      <th>2016-02-01 01:00:00</th>\n",
       "      <td>6.805500</td>\n",
       "    </tr>\n",
       "    <tr>\n",
       "      <th>2016-02-01 02:00:00</th>\n",
       "      <td>10.416500</td>\n",
       "    </tr>\n",
       "    <tr>\n",
       "      <th>2016-02-01 03:00:00</th>\n",
       "      <td>7.037545</td>\n",
       "    </tr>\n",
       "    <tr>\n",
       "      <th>2016-02-01 04:00:00</th>\n",
       "      <td>10.139000</td>\n",
       "    </tr>\n",
       "  </tbody>\n",
       "</table>\n",
       "</div>"
      ],
      "text/plain": [
       "                     region_6075010900\n",
       "2016-02-01 00:00:00           5.229478\n",
       "2016-02-01 01:00:00           6.805500\n",
       "2016-02-01 02:00:00          10.416500\n",
       "2016-02-01 03:00:00           7.037545\n",
       "2016-02-01 04:00:00          10.139000"
      ]
     },
     "execution_count": 57,
     "metadata": {},
     "output_type": "execute_result"
    }
   ],
   "source": [
    "split_size =0.7\n",
    "# Use information from the past week\n",
    "time_window = 24 * 7 \n",
    "\n",
    "# Initialize LSTM input structure (3rd order tensor)\n",
    "X_train, y_train = np.empty(shape=[0, time_window, 1]), np.empty(shape=[0,1])\n",
    "X_test, y_test = np.empty(shape=[0, time_window, 1]), np.empty(shape=[0,1])\n",
    "print(X_train.shape, y_train.shape, X_test.shape, y_test.shape)\n",
    "\n",
    "# Test with row 9 data\n",
    "scaled_data = sample_time_series.iloc[8].T.to_frame()\n",
    "scaled_data.head()"
   ]
  },
  {
   "cell_type": "code",
   "execution_count": 58,
   "metadata": {},
   "outputs": [],
   "source": [
    "# feature_set = []\n",
    "# labels = []\n",
    "# for i in range(168, 696):\n",
    "#     feature_set.append(sample_time_series[i-168:i, 0])\n",
    "#     labels.append(sample_time_series[i, 0])\n",
    "    \n",
    "# print(feature_set[0])\n",
    "# print(labels[0])"
   ]
  },
  {
   "cell_type": "code",
   "execution_count": 59,
   "metadata": {},
   "outputs": [
    {
     "name": "stdout",
     "output_type": "stream",
     "text": [
      "Index(['2016-02-01 00:00:00', '2016-02-01 01:00:00', '2016-02-01 02:00:00',\n",
      "       '2016-02-01 03:00:00', '2016-02-01 04:00:00'],\n",
      "      dtype='object') \n",
      "\n",
      "[[ 5.22947826]\n",
      " [ 6.8055    ]\n",
      " [10.4165    ]\n",
      " [ 7.03754483]\n",
      " [10.139     ]]\n"
     ]
    }
   ],
   "source": [
    "# Add Labels\n",
    "labels = scaled_data.index\n",
    "print(labels[:5], '\\n')\n",
    "# Add values\n",
    "values = scaled_data.values\n",
    "print(values[:5])"
   ]
  },
  {
   "cell_type": "code",
   "execution_count": 60,
   "metadata": {},
   "outputs": [
    {
     "name": "stdout",
     "output_type": "stream",
     "text": [
      "[[ 5.22947826]\n",
      " [ 6.8055    ]\n",
      " [10.4165    ]\n",
      " [ 7.03754483]\n",
      " [10.139     ]] \n",
      "\n",
      "[[4.83440385]\n",
      " [5.173336  ]\n",
      " [4.56452903]\n",
      " [4.65316022]\n",
      " [4.15620126]]\n"
     ]
    }
   ],
   "source": [
    "# Split to train / test\n",
    "size = int(len(values) * split_size)\n",
    "train, test = values[0:size], values[size:len(values)]\n",
    "print(train[:5],'\\n')\n",
    "print(test[:5])"
   ]
  },
  {
   "cell_type": "code",
   "execution_count": 67,
   "metadata": {},
   "outputs": [],
   "source": [
    "# size = size of training set: 487\n",
    "# labels = 696\n",
    "test_labels =labels[size:len(labels)]# add label"
   ]
  },
  {
   "cell_type": "code",
   "execution_count": null,
   "metadata": {},
   "outputs": [],
   "source": [
    "\n",
    "# converting dataset into x_train and y_train\n",
    "sub_X_train, sub_y_train = [], []\n",
    "# Time window = 168\n",
    "# Generate numbers starting form 168 ... 696\n",
    "for i in range(time_window,len(train)):\n",
    "    sub_x_train.append(train[i-time_window:i])\n",
    "    sub_y_train.append(train[i])\n",
    "sub_x_train, sub_y_train = np.array(sub_x_train), np.array(sub_y_train)\n",
    "x_train = np.concatenate((x_train, sub_x_train), axis=0)\n",
    "y_train = np.concatenate((y_train, sub_y_train), axis=0)\n",
    "\n",
    "# create test dataset predicting values, using past time_window from the train data\n",
    "inputs = dataset[len(dataset) - len(test) - time_window:]\n",
    "inputs = inputs.reshape(-1,1)\n",
    "\n",
    "sub_X_test = []\n",
    "sub_Y_test = []\n",
    "indexes = list()\n",
    "for i in range(time_window,inputs.shape[0]):\n",
    "    sub_X_test.append(inputs[i-time_window:i])\n",
    "    sub_Y_test.append(inputs[i])\n",
    "#     indexes.append(test_label[i])# add label\n",
    "sub_X_test,sub_Y_test = np.array(sub_X_test), np.array(sub_Y_test)\n",
    "\n",
    "X_test = np.concatenate((X_test, sub_X_test), axis=0)\n",
    "Y_test = np.concatenate((Y_test, sub_Y_test), axis=0)\n",
    "\n",
    "# create and fit the LSTM network\n",
    "model = Sequential()\n",
    "model.add(LSTM(units=16, return_sequences=True, input_shape=(x_train.shape[1],1)))\n",
    "model.add(LSTM(units=16))\n",
    "model.add(Dense(1))\n",
    "\n",
    "model.compile(loss='mean_squared_error', optimizer='adam')\n",
    "history = model.fit(x_train, y_train, epochs=60, batch_size=16, verbose=2)\n",
    "\n",
    "predict_speed = model.predict(X_test)\n",
    "lstm_mse = mean_squared_error(Y_test, predict_speed)\n",
    "lstm_mae = mean_absolute_error(Y_test, predict_speed)\n",
    "print('Test RMSE: %.3f' % np.sqrt(lstm_mse))\n",
    "print('Test MAE: %.3f' % lstm_mae)\n",
    "\n",
    "# plot\n",
    "sns.set(rc={'figure.figsize':(20,10)})\n",
    "plt.plot(labels,dataset,label='Train data')\n",
    "#         plt.plot(labels[int(len(labels)/2):],X[int(len(X)/2):])\n",
    "\n",
    "plt.plot(test_label,predict_speed, color='red',label='validation data')#\n",
    "plt.legend()\n",
    "plt.title('region_6075010900 LSTM prediction')"
   ]
  },
  {
   "cell_type": "code",
   "execution_count": null,
   "metadata": {},
   "outputs": [],
   "source": []
  },
  {
   "cell_type": "code",
   "execution_count": 18,
   "metadata": {},
   "outputs": [
    {
     "data": {
      "text/plain": [
       "dict_keys(['loss'])"
      ]
     },
     "execution_count": 18,
     "metadata": {},
     "output_type": "execute_result"
    }
   ],
   "source": [
    "history.history.keys()"
   ]
  },
  {
   "cell_type": "code",
   "execution_count": 19,
   "metadata": {},
   "outputs": [
    {
     "ename": "KeyError",
     "evalue": "'val_loss'",
     "output_type": "error",
     "traceback": [
      "\u001b[0;31m---------------------------------------------------------------------------\u001b[0m",
      "\u001b[0;31mKeyError\u001b[0m                                  Traceback (most recent call last)",
      "\u001b[0;32m<ipython-input-19-d737d78baf69>\u001b[0m in \u001b[0;36m<module>\u001b[0;34m\u001b[0m\n\u001b[1;32m      1\u001b[0m \u001b[0;31m# summarize history for loss\u001b[0m\u001b[0;34m\u001b[0m\u001b[0;34m\u001b[0m\u001b[0m\n\u001b[1;32m      2\u001b[0m \u001b[0mplt\u001b[0m\u001b[0;34m.\u001b[0m\u001b[0mplot\u001b[0m\u001b[0;34m(\u001b[0m\u001b[0mhistory\u001b[0m\u001b[0;34m.\u001b[0m\u001b[0mhistory\u001b[0m\u001b[0;34m[\u001b[0m\u001b[0;34m'loss'\u001b[0m\u001b[0;34m]\u001b[0m\u001b[0;34m)\u001b[0m\u001b[0;34m\u001b[0m\u001b[0m\n\u001b[0;32m----> 3\u001b[0;31m \u001b[0mplt\u001b[0m\u001b[0;34m.\u001b[0m\u001b[0mplot\u001b[0m\u001b[0;34m(\u001b[0m\u001b[0mhistory\u001b[0m\u001b[0;34m.\u001b[0m\u001b[0mhistory\u001b[0m\u001b[0;34m[\u001b[0m\u001b[0;34m'val_loss'\u001b[0m\u001b[0;34m]\u001b[0m\u001b[0;34m)\u001b[0m\u001b[0;34m\u001b[0m\u001b[0m\n\u001b[0m\u001b[1;32m      4\u001b[0m \u001b[0mplt\u001b[0m\u001b[0;34m.\u001b[0m\u001b[0mtitle\u001b[0m\u001b[0;34m(\u001b[0m\u001b[0;34m'model loss'\u001b[0m\u001b[0;34m)\u001b[0m\u001b[0;34m\u001b[0m\u001b[0m\n\u001b[1;32m      5\u001b[0m \u001b[0mplt\u001b[0m\u001b[0;34m.\u001b[0m\u001b[0mylabel\u001b[0m\u001b[0;34m(\u001b[0m\u001b[0;34m'loss'\u001b[0m\u001b[0;34m)\u001b[0m\u001b[0;34m\u001b[0m\u001b[0m\n",
      "\u001b[0;31mKeyError\u001b[0m: 'val_loss'"
     ]
    },
    {
     "data": {
      "image/png": "[encoded data removed]",
      "text/plain": [
       "<Figure size 1440x720 with 1 Axes>"
      ]
     },
     "metadata": {},
     "output_type": "display_data"
    }
   ],
   "source": [
    "# summarize history for loss\n",
    "plt.plot(history.history['loss'])\n",
    "plt.plot(history.history['val_loss'])\n",
    "plt.title('model loss')\n",
    "plt.ylabel('loss')\n",
    "plt.xlabel('epoch')\n",
    "plt.legend(['train', 'test'], loc='upper left')\n",
    "plt.show()"
   ]
  },
  {
   "cell_type": "code",
   "execution_count": 20,
   "metadata": {},
   "outputs": [],
   "source": [
    "test_node = [x_train, y_train, X_test, Y_test]"
   ]
  },
  {
   "cell_type": "markdown",
   "metadata": {},
   "source": [
    "# Get nearest-neighbors with graph"
   ]
  },
  {
   "cell_type": "code",
   "execution_count": 6,
   "metadata": {},
   "outputs": [],
   "source": [
    "G = nx.read_gpickle('../../output/census.gpickle')"
   ]
  },
  {
   "cell_type": "code",
   "execution_count": 7,
   "metadata": {},
   "outputs": [
    {
     "name": "stdout",
     "output_type": "stream",
     "text": [
      "Graph stats:\n",
      "Number of nodes: 196\n",
      "Number of edges: 612\n"
     ]
    }
   ],
   "source": [
    "print('Graph stats:')\n",
    "print('Number of nodes: {}'.format(G.number_of_nodes()))\n",
    "print('Number of edges: {}'.format(G.number_of_edges()))"
   ]
  },
  {
   "cell_type": "code",
   "execution_count": 16,
   "metadata": {},
   "outputs": [
    {
     "data": {
      "text/plain": [
       "[6075013000,\n",
       " 6075011000,\n",
       " 6075010800,\n",
       " 6075010200,\n",
       " 6075010300,\n",
       " 6075013101,\n",
       " 6075012902]"
      ]
     },
     "execution_count": 16,
     "metadata": {},
     "output_type": "execute_result"
    }
   ],
   "source": [
    "# get node number of geoid\n",
    "node = [x for x,y in G.nodes(data=True) if y['geoid'] == 6075010900]\n",
    "assert len(node) == 1, 'There are more than one node with specified geoid'\n",
    " \n",
    "nearest_nodes = list(G.neighbors(node[0]))\n",
    "[G.node[i]['geoid'] for i in nearest_nodes]"
   ]
  },
  {
   "cell_type": "code",
   "execution_count": 24,
   "metadata": {},
   "outputs": [],
   "source": [
    "neighbor_averages = {}\n",
    "\n",
    "for x in geoid:\n",
    "    neighbor_data = sample_time_series.loc['region_' + str(x)].T.to_frame()\n",
    "    \n",
    "    split_size =0.7\n",
    "    time_window = 12\n",
    "    #creating dataframe\n",
    "    x_train, y_train = np.empty(shape=[0, time_window, 1]),np.empty(shape=[0,1])\n",
    "    X_test, Y_test = np.empty(shape=[0, time_window, 1]),np.empty(shape=[0,1])\n",
    "\n",
    "    labels = neighbor_data.index # add label\n",
    "\n",
    "    #creating train and test sets\n",
    "    dataset = neighbor_data.values\n",
    "\n",
    "    size = int(len(dataset) * split_size)\n",
    "\n",
    "    train, test = dataset[0:size], dataset[size:len(dataset)]\n",
    "\n",
    "    test_label =labels[size:len(labels)]# add label\n",
    "    #converting dataset into x_train and y_train\n",
    "\n",
    "    sub_x_train, sub_y_train = [], []\n",
    "    for i in range(time_window,len(train)):\n",
    "        sub_x_train.append(train[i-time_window:i])\n",
    "        sub_y_train.append(train[i])\n",
    "    sub_x_train, sub_y_train = np.array(sub_x_train), np.array(sub_y_train)\n",
    "    x_train = np.concatenate((x_train, sub_x_train), axis=0)\n",
    "    y_train = np.concatenate((y_train, sub_y_train), axis=0)\n",
    "\n",
    "    # create test dataset predicting values, using past time_window from the train data\n",
    "    inputs = dataset[len(dataset) - len(test) - time_window:]\n",
    "    inputs = inputs.reshape(-1,1)\n",
    "\n",
    "    sub_X_test = []\n",
    "    sub_Y_test = []\n",
    "    indexes = list()\n",
    "    for i in range(time_window,inputs.shape[0]):\n",
    "        sub_X_test.append(inputs[i-time_window:i])\n",
    "        sub_Y_test.append(inputs[i])\n",
    "    #     indexes.append(test_label[i])# add label\n",
    "    sub_X_test,sub_Y_test = np.array(sub_X_test), np.array(sub_Y_test)\n",
    "\n",
    "    X_test = np.concatenate((X_test, sub_X_test), axis=0)\n",
    "    Y_test = np.concatenate((Y_test, sub_Y_test), axis=0)\n",
    "    \n",
    "    neighbor_averages[str(x)] = [x_train, X_test]"
   ]
  },
  {
   "cell_type": "code",
   "execution_count": 25,
   "metadata": {},
   "outputs": [
    {
     "data": {
      "text/plain": [
       "475"
      ]
     },
     "execution_count": 25,
     "metadata": {},
     "output_type": "execute_result"
    }
   ],
   "source": [
    "len(neighbor_averages['6075010200'][0])"
   ]
  },
  {
   "cell_type": "code",
   "execution_count": 53,
   "metadata": {},
   "outputs": [],
   "source": [
    "x_train_averages = []\n",
    "for k,v in neighbor_averages.items():\n",
    "    x_train_averages.append(neighbor_averages[str(k)][0])\n",
    "\n",
    "x_train_averages = np.mean(x_train_averages, axis=0)"
   ]
  },
  {
   "cell_type": "code",
   "execution_count": 54,
   "metadata": {},
   "outputs": [
    {
     "data": {
      "text/plain": [
       "array([[4.83309838],\n",
       "       [4.92469978],\n",
       "       [4.87552116],\n",
       "       [3.50445907],\n",
       "       [4.98249093],\n",
       "       [4.31890746],\n",
       "       [3.98459239],\n",
       "       [3.60023172],\n",
       "       [3.45090929],\n",
       "       [3.67386085],\n",
       "       [3.63170646],\n",
       "       [3.50072831]])"
      ]
     },
     "execution_count": 54,
     "metadata": {},
     "output_type": "execute_result"
    }
   ],
   "source": [
    "x_train_averages[0]"
   ]
  },
  {
   "cell_type": "code",
   "execution_count": 41,
   "metadata": {},
   "outputs": [
    {
     "name": "stdout",
     "output_type": "stream",
     "text": [
      "475\n"
     ]
    },
    {
     "data": {
      "text/plain": [
       "array([[4.83309838],\n",
       "       [4.92469978],\n",
       "       [4.87552116],\n",
       "       [3.50445907],\n",
       "       [4.98249093],\n",
       "       [4.31890746],\n",
       "       [3.98459239],\n",
       "       [3.60023172],\n",
       "       [3.45090929],\n",
       "       [3.67386085],\n",
       "       [3.63170646],\n",
       "       [3.50072831]])"
      ]
     },
     "execution_count": 41,
     "metadata": {},
     "output_type": "execute_result"
    }
   ],
   "source": [
    "x_train_ave = np.mean((neighbor_averages['6075013000'][0], \n",
    "                       neighbor_averages['6075011000'][0], \n",
    "                       neighbor_averages['6075010800'][0],\n",
    "                       neighbor_averages['6075010200'][0],\n",
    "                       neighbor_averages['6075010300'][0],\n",
    "                       neighbor_averages['6075013101'][0],\n",
    "                       neighbor_averages['6075012902'][0]), axis=0)\n",
    "print(len(x_train_ave))\n",
    "x_train_ave[0]"
   ]
  },
  {
   "cell_type": "code",
   "execution_count": 55,
   "metadata": {},
   "outputs": [],
   "source": [
    "x_test_averages = []\n",
    "for k,v in neighbor_averages.items():\n",
    "    x_test_averages.append(neighbor_averages[str(k)][1])\n",
    "\n",
    "x_test_averages = np.mean(x_test_averages, axis=0)"
   ]
  },
  {
   "cell_type": "code",
   "execution_count": 56,
   "metadata": {},
   "outputs": [
    {
     "data": {
      "text/plain": [
       "array([[3.31825783],\n",
       "       [3.4750376 ],\n",
       "       [3.41206271],\n",
       "       [3.32741034],\n",
       "       [4.01889916],\n",
       "       [4.34361839],\n",
       "       [4.84412618],\n",
       "       [5.48386348],\n",
       "       [5.5429978 ],\n",
       "       [5.1053857 ],\n",
       "       [5.05812687],\n",
       "       [4.23844404]])"
      ]
     },
     "execution_count": 56,
     "metadata": {},
     "output_type": "execute_result"
    }
   ],
   "source": [
    "x_test_averages[0]"
   ]
  },
  {
   "cell_type": "code",
   "execution_count": 47,
   "metadata": {},
   "outputs": [
    {
     "name": "stdout",
     "output_type": "stream",
     "text": [
      "209\n"
     ]
    },
    {
     "data": {
      "text/plain": [
       "array([[3.31825783],\n",
       "       [3.4750376 ],\n",
       "       [3.41206271],\n",
       "       [3.32741034],\n",
       "       [4.01889916],\n",
       "       [4.34361839],\n",
       "       [4.84412618],\n",
       "       [5.48386348],\n",
       "       [5.5429978 ],\n",
       "       [5.1053857 ],\n",
       "       [5.05812687],\n",
       "       [4.23844404]])"
      ]
     },
     "execution_count": 47,
     "metadata": {},
     "output_type": "execute_result"
    }
   ],
   "source": [
    "x_test_ave = np.mean((neighbor_averages['6075013000'][1], \n",
    "                       neighbor_averages['6075011000'][1], \n",
    "                       neighbor_averages['6075010800'][1],\n",
    "                       neighbor_averages['6075010200'][1],\n",
    "                       neighbor_averages['6075010300'][1],\n",
    "                       neighbor_averages['6075013101'][1],\n",
    "                       neighbor_averages['6075012902'][1]), axis=0)\n",
    "print(len(x_test_ave))\n",
    "x_test_ave[0]"
   ]
  },
  {
   "cell_type": "markdown",
   "metadata": {},
   "source": [
    "Concatenation"
   ]
  },
  {
   "cell_type": "code",
   "execution_count": 48,
   "metadata": {},
   "outputs": [],
   "source": [
    "x_train_concat = np.concatenate((x_train, x_train_ave), axis=1)"
   ]
  },
  {
   "cell_type": "code",
   "execution_count": 49,
   "metadata": {},
   "outputs": [
    {
     "data": {
      "text/plain": [
       "array([[4.83309838],\n",
       "       [4.92469978],\n",
       "       [4.87552116],\n",
       "       [3.50445907],\n",
       "       [4.98249093],\n",
       "       [4.31890746],\n",
       "       [3.98459239],\n",
       "       [3.60023172],\n",
       "       [3.45090929],\n",
       "       [3.67386085],\n",
       "       [3.63170646],\n",
       "       [3.50072831]])"
      ]
     },
     "execution_count": 49,
     "metadata": {},
     "output_type": "execute_result"
    }
   ],
   "source": [
    "x_train_ave[0]"
   ]
  },
  {
   "cell_type": "code",
   "execution_count": 51,
   "metadata": {},
   "outputs": [
    {
     "data": {
      "text/plain": [
       "array([[6.93677778],\n",
       "       [5.03083333],\n",
       "       [3.93533333],\n",
       "       [6.04175   ],\n",
       "       [6.82528571],\n",
       "       [4.61116667],\n",
       "       [5.38826136],\n",
       "       [4.86753211],\n",
       "       [4.34285366],\n",
       "       [4.54994574],\n",
       "       [4.66478161],\n",
       "       [4.66913235],\n",
       "       [4.83309838],\n",
       "       [4.92469978],\n",
       "       [4.87552116],\n",
       "       [3.50445907],\n",
       "       [4.98249093],\n",
       "       [4.31890746],\n",
       "       [3.98459239],\n",
       "       [3.60023172],\n",
       "       [3.45090929],\n",
       "       [3.67386085],\n",
       "       [3.63170646],\n",
       "       [3.50072831]])"
      ]
     },
     "execution_count": 51,
     "metadata": {},
     "output_type": "execute_result"
    }
   ],
   "source": [
    "x_train_concat[0]"
   ]
  },
  {
   "cell_type": "code",
   "execution_count": 57,
   "metadata": {},
   "outputs": [
    {
     "name": "stdout",
     "output_type": "stream",
     "text": [
      "Epoch 1/60\n",
      " - 2s - loss: 22.8835\n",
      "Epoch 2/60\n",
      " - 1s - loss: 4.9532\n",
      "Epoch 3/60\n",
      " - 1s - loss: 2.5752\n",
      "Epoch 4/60\n",
      " - 1s - loss: 2.5814\n",
      "Epoch 5/60\n",
      " - 1s - loss: 2.5731\n",
      "Epoch 6/60\n",
      " - 1s - loss: 2.5639\n",
      "Epoch 7/60\n",
      " - 1s - loss: 2.5576\n",
      "Epoch 8/60\n",
      " - 1s - loss: 2.5520\n",
      "Epoch 9/60\n",
      " - 1s - loss: 2.5354\n",
      "Epoch 10/60\n",
      " - 1s - loss: 2.5155\n",
      "Epoch 11/60\n",
      " - 1s - loss: 2.5059\n",
      "Epoch 12/60\n",
      " - 1s - loss: 2.4736\n",
      "Epoch 13/60\n",
      " - 1s - loss: 2.4366\n",
      "Epoch 14/60\n",
      " - 1s - loss: 2.3880\n",
      "Epoch 15/60\n",
      " - 1s - loss: 2.3625\n",
      "Epoch 16/60\n",
      " - 1s - loss: 2.2385\n",
      "Epoch 17/60\n",
      " - 1s - loss: 2.0939\n",
      "Epoch 18/60\n",
      " - 1s - loss: 1.8359\n",
      "Epoch 19/60\n",
      " - 1s - loss: 1.5882\n",
      "Epoch 20/60\n",
      " - 1s - loss: 1.4979\n",
      "Epoch 21/60\n",
      " - 1s - loss: 1.4820\n",
      "Epoch 22/60\n",
      " - 1s - loss: 1.3897\n",
      "Epoch 23/60\n",
      " - 1s - loss: 1.2955\n",
      "Epoch 24/60\n",
      " - 1s - loss: 1.2991\n",
      "Epoch 25/60\n",
      " - 1s - loss: 1.3480\n",
      "Epoch 26/60\n",
      " - 1s - loss: 1.1888\n",
      "Epoch 27/60\n",
      " - 1s - loss: 1.1283\n",
      "Epoch 28/60\n",
      " - 1s - loss: 1.1009\n",
      "Epoch 29/60\n",
      " - 1s - loss: 1.0961\n",
      "Epoch 30/60\n",
      " - 1s - loss: 1.0182\n",
      "Epoch 31/60\n",
      " - 1s - loss: 1.2084\n",
      "Epoch 32/60\n",
      " - 1s - loss: 1.3921\n",
      "Epoch 33/60\n",
      " - 1s - loss: 1.1941\n",
      "Epoch 34/60\n",
      " - 1s - loss: 1.1347\n",
      "Epoch 35/60\n",
      " - 1s - loss: 1.0905\n",
      "Epoch 36/60\n",
      " - 1s - loss: 1.0423\n",
      "Epoch 37/60\n",
      " - 1s - loss: 1.0442\n",
      "Epoch 38/60\n",
      " - 1s - loss: 1.0823\n",
      "Epoch 39/60\n",
      " - 1s - loss: 1.0412\n",
      "Epoch 40/60\n",
      " - 1s - loss: 1.0152\n",
      "Epoch 41/60\n",
      " - 1s - loss: 1.0496\n",
      "Epoch 42/60\n",
      " - 1s - loss: 0.9467\n",
      "Epoch 43/60\n",
      " - 1s - loss: 1.0263\n",
      "Epoch 44/60\n",
      " - 1s - loss: 0.9478\n",
      "Epoch 45/60\n",
      " - 1s - loss: 0.9013\n",
      "Epoch 46/60\n",
      " - 1s - loss: 0.9434\n",
      "Epoch 47/60\n",
      " - 1s - loss: 0.9432\n",
      "Epoch 48/60\n",
      " - 1s - loss: 1.0144\n",
      "Epoch 49/60\n",
      " - 1s - loss: 0.9999\n",
      "Epoch 50/60\n",
      " - 1s - loss: 0.9039\n",
      "Epoch 51/60\n",
      " - 1s - loss: 1.0393\n",
      "Epoch 52/60\n",
      " - 1s - loss: 0.9933\n",
      "Epoch 53/60\n",
      " - 1s - loss: 0.8686\n",
      "Epoch 54/60\n",
      " - 1s - loss: 0.9349\n",
      "Epoch 55/60\n",
      " - 1s - loss: 0.9189\n",
      "Epoch 56/60\n",
      " - 1s - loss: 0.9669\n",
      "Epoch 57/60\n",
      " - 1s - loss: 1.0292\n",
      "Epoch 58/60\n",
      " - 1s - loss: 0.9290\n",
      "Epoch 59/60\n",
      " - 1s - loss: 0.9528\n",
      "Epoch 60/60\n",
      " - 1s - loss: 0.8818\n",
      "Test RMSE: 1.032\n",
      "Test MAE: 0.585\n"
     ]
    },
    {
     "data": {
      "text/plain": [
       "Text(0.5, 1.0, 'region_6075010100 LSTM prediction')"
      ]
     },
     "execution_count": 57,
     "metadata": {},
     "output_type": "execute_result"
    },
    {
     "data": {
      "image/png": "[encoded data removed]",
      "text/plain": [
       "<Figure size 1440x720 with 1 Axes>"
      ]
     },
     "metadata": {},
     "output_type": "display_data"
    }
   ],
   "source": [
    "## code snippet: https://www.analyticsvidhya.com/blog/2018/10/predicting-stock-price-machine-learningnd-deep-learning-techniques-python/\n",
    "split_size =0.7\n",
    "time_window = 12\n",
    "#creating dataframe\n",
    "x_train, y_train = np.empty(shape=[0, time_window, 1]),np.empty(shape=[0,1])\n",
    "X_test, Y_test = np.empty(shape=[0, time_window, 1]),np.empty(shape=[0,1])\n",
    "\n",
    "scaled_data = sample_time_series.iloc[8].T.to_frame()\n",
    "\n",
    "labels = scaled_data.index # add label\n",
    "\n",
    "#creating train and test sets\n",
    "dataset = scaled_data.values\n",
    "\n",
    "size = int(len(dataset) * split_size)\n",
    "\n",
    "train, test = dataset[0:size], dataset[size:len(dataset)]\n",
    "\n",
    "test_label =labels[size:len(labels)]# add label\n",
    "#converting dataset into x_train and y_train\n",
    "\n",
    "sub_x_train, sub_y_train = [], []\n",
    "for i in range(time_window,len(train)):\n",
    "    sub_x_train.append(train[i-time_window:i])\n",
    "    sub_y_train.append(train[i])\n",
    "sub_x_train, sub_y_train = np.array(sub_x_train), np.array(sub_y_train)\n",
    "x_train = np.concatenate((x_train, sub_x_train), axis=0)\n",
    "y_train = np.concatenate((y_train, sub_y_train), axis=0)\n",
    "\n",
    "# COMBINE Averages \n",
    "x_train = np.concatenate((x_train, x_train_averages), axis=1)\n",
    "\n",
    "# create test dataset predicting values, using past time_window from the train data\n",
    "inputs = dataset[len(dataset) - len(test) - time_window:]\n",
    "inputs = inputs.reshape(-1,1)\n",
    "\n",
    "sub_X_test = []\n",
    "sub_Y_test = []\n",
    "indexes = list()\n",
    "for i in range(time_window,inputs.shape[0]):\n",
    "    sub_X_test.append(inputs[i-time_window:i])\n",
    "    sub_Y_test.append(inputs[i])\n",
    "#     indexes.append(test_label[i])# add label\n",
    "sub_X_test,sub_Y_test = np.array(sub_X_test), np.array(sub_Y_test)\n",
    "\n",
    "X_test = np.concatenate((X_test, sub_X_test), axis=0)\n",
    "Y_test = np.concatenate((Y_test, sub_Y_test), axis=0)\n",
    "\n",
    "# COMBINE Averages\n",
    "X_test = np.concatenate((X_test, x_test_averages), axis=1)\n",
    "\n",
    "from keras.models import Sequential\n",
    "from keras.layers import Dense, Dropout, LSTM\n",
    "from sklearn.metrics import mean_squared_error,mean_absolute_error\n",
    "import seaborn as sns\n",
    "\n",
    "# create and fit the LSTM network\n",
    "model = Sequential()\n",
    "model.add(LSTM(units=24, return_sequences=True, input_shape=(x_train.shape[1],1)))\n",
    "model.add(LSTM(units=24))\n",
    "model.add(Dense(1))\n",
    "\n",
    "model.compile(loss='mean_squared_error', optimizer='adam')\n",
    "model.fit(x_train, y_train, epochs=60, batch_size=16, verbose=2)\n",
    "\n",
    "predict_speed = model.predict(X_test)\n",
    "lstm_mse = mean_squared_error(Y_test, predict_speed)\n",
    "lstm_mae = mean_absolute_error(Y_test, predict_speed)\n",
    "print('Test RMSE: %.3f' % np.sqrt(lstm_mse))\n",
    "print('Test MAE: %.3f' % lstm_mae)\n",
    "\n",
    "# plot\n",
    "\n",
    "sns.set(rc={'figure.figsize':(20,10)})\n",
    "\n",
    "plt.plot(labels,dataset,label='Train data')\n",
    "#         plt.plot(labels[int(len(labels)/2):],X[int(len(X)/2):])\n",
    "\n",
    "plt.plot(test_label,predict_speed, color='red',label='validation data')#\n",
    "plt.legend()\n",
    "plt.title('region_6075010100 LSTM prediction')"
   ]
  },
  {
   "cell_type": "code",
   "execution_count": 321,
   "metadata": {},
   "outputs": [
    {
     "data": {
      "text/plain": [
       "array([[4.47497561],\n",
       "       [6.17788   ],\n",
       "       [7.32318182],\n",
       "       [6.2499    ],\n",
       "       [5.76375   ],\n",
       "       [4.90534091],\n",
       "       [4.557325  ],\n",
       "       [3.48125373],\n",
       "       [1.85086525],\n",
       "       [2.8257751 ],\n",
       "       [2.40547416],\n",
       "       [2.52105303]])"
      ]
     },
     "execution_count": 321,
     "metadata": {},
     "output_type": "execute_result"
    }
   ],
   "source": [
    "neighbor_averages['6075010200'][0][0]"
   ]
  },
  {
   "cell_type": "code",
   "execution_count": 323,
   "metadata": {},
   "outputs": [
    {
     "data": {
      "text/plain": [
       "array([[ 5.67442857],\n",
       "       [ 9.44433333],\n",
       "       [ 6.944     ],\n",
       "       [ 7.5       ],\n",
       "       [12.778     ],\n",
       "       [ 5.92616667],\n",
       "       [ 4.881     ],\n",
       "       [ 5.59389655],\n",
       "       [ 3.98892   ],\n",
       "       [ 6.06392453],\n",
       "       [ 5.03227907],\n",
       "       [ 4.26435135]])"
      ]
     },
     "execution_count": 323,
     "metadata": {},
     "output_type": "execute_result"
    }
   ],
   "source": [
    "neighbor_averages['6075010400'][0][0]"
   ]
  },
  {
   "cell_type": "code",
   "execution_count": 324,
   "metadata": {},
   "outputs": [
    {
     "data": {
      "text/plain": [
       "array([[5.07470209],\n",
       "       [7.81110667],\n",
       "       [7.13359091],\n",
       "       [6.87495   ],\n",
       "       [9.270875  ],\n",
       "       [5.41575379],\n",
       "       [4.7191625 ],\n",
       "       [4.53757514],\n",
       "       [2.91989262],\n",
       "       [4.44484981],\n",
       "       [3.71887662],\n",
       "       [3.39270219]])"
      ]
     },
     "execution_count": 324,
     "metadata": {},
     "output_type": "execute_result"
    }
   ],
   "source": [
    "(neighbor_averages['6075010200'][0][0] + neighbor_averages['6075010400'][0][0]) / 2"
   ]
  },
  {
   "cell_type": "markdown",
   "metadata": {},
   "source": [
    "Access Model Training History in Keras"
   ]
  },
  {
   "cell_type": "code",
   "execution_count": null,
   "metadata": {},
   "outputs": [],
   "source": [
    "# list all data in history\n",
    "print(history.history.keys())\n",
    "# summarize history for accuracy\n",
    "plt.plot(history.history['acc'])\n",
    "plt.plot(history.history['val_acc'])\n",
    "plt.title('model accuracy')\n",
    "plt.ylabel('accuracy')\n",
    "plt.xlabel('epoch')\n",
    "plt.legend(['train', 'test'], loc='upper left')\n",
    "plt.show()\n",
    "# summarize history for loss\n",
    "plt.plot(history.history['loss'])\n",
    "plt.plot(history.history['val_loss'])\n",
    "plt.title('model loss')\n",
    "plt.ylabel('loss')\n",
    "plt.xlabel('epoch')\n",
    "plt.legend(['train', 'test'], loc='upper left')\n",
    "plt.show()"
   ]
  },
  {
   "cell_type": "markdown",
   "metadata": {},
   "source": [
    "# 4. Make Predictions"
   ]
  },
  {
   "cell_type": "code",
   "execution_count": 72,
   "metadata": {},
   "outputs": [
    {
     "name": "stdout",
     "output_type": "stream",
     "text": [
      "Epoch 1/60\n",
      " - 2s - loss: 24.9484\n",
      "Epoch 2/60\n",
      " - 1s - loss: 11.5793\n",
      "Epoch 3/60\n",
      " - 1s - loss: 3.7375\n",
      "Epoch 4/60\n",
      " - 1s - loss: 2.6491\n",
      "Epoch 5/60\n",
      " - 1s - loss: 2.6071\n",
      "Epoch 6/60\n",
      " - 1s - loss: 2.5855\n",
      "Epoch 7/60\n",
      " - 1s - loss: 2.5756\n",
      "Epoch 8/60\n",
      " - 1s - loss: 2.5511\n",
      "Epoch 9/60\n",
      " - 1s - loss: 2.5249\n",
      "Epoch 10/60\n",
      " - 1s - loss: 2.4942\n",
      "Epoch 11/60\n",
      " - 1s - loss: 2.4628\n",
      "Epoch 12/60\n",
      " - 1s - loss: 2.4208\n",
      "Epoch 13/60\n",
      " - 1s - loss: 2.3828\n",
      "Epoch 14/60\n",
      " - 1s - loss: 2.3421\n",
      "Epoch 15/60\n",
      " - 1s - loss: 2.3055\n",
      "Epoch 16/60\n",
      " - 1s - loss: 2.2329\n",
      "Epoch 17/60\n",
      " - 1s - loss: 2.1737\n",
      "Epoch 18/60\n",
      " - 1s - loss: 2.1272\n",
      "Epoch 19/60\n",
      " - 1s - loss: 1.9896\n",
      "Epoch 20/60\n",
      " - 1s - loss: 1.8420\n",
      "Epoch 21/60\n",
      " - 1s - loss: 1.7305\n",
      "Epoch 22/60\n",
      " - 1s - loss: 1.6464\n",
      "Epoch 23/60\n",
      " - 1s - loss: 1.6245\n",
      "Epoch 24/60\n",
      " - 1s - loss: 1.5623\n",
      "Epoch 25/60\n",
      " - 1s - loss: 1.4819\n",
      "Epoch 26/60\n",
      " - 1s - loss: 1.4266\n",
      "Epoch 27/60\n",
      " - 1s - loss: 1.3763\n",
      "Epoch 28/60\n",
      " - 1s - loss: 1.3350\n",
      "Epoch 29/60\n",
      " - 1s - loss: 1.3317\n",
      "Epoch 30/60\n",
      " - 1s - loss: 1.2845\n",
      "Epoch 31/60\n",
      " - 1s - loss: 1.2328\n",
      "Epoch 32/60\n",
      " - 1s - loss: 1.2148\n",
      "Epoch 33/60\n",
      " - 1s - loss: 1.2308\n",
      "Epoch 34/60\n",
      " - 1s - loss: 1.1734\n",
      "Epoch 35/60\n",
      " - 1s - loss: 1.1108\n",
      "Epoch 36/60\n",
      " - 1s - loss: 1.1129\n",
      "Epoch 37/60\n",
      " - 1s - loss: 1.0880\n",
      "Epoch 38/60\n",
      " - 1s - loss: 1.0646\n",
      "Epoch 39/60\n",
      " - 1s - loss: 1.0404\n",
      "Epoch 40/60\n",
      " - 1s - loss: 1.1366\n",
      "Epoch 41/60\n",
      " - 1s - loss: 1.0703\n",
      "Epoch 42/60\n",
      " - 1s - loss: 1.0621\n",
      "Epoch 43/60\n",
      " - 1s - loss: 1.0326\n",
      "Epoch 44/60\n",
      " - 1s - loss: 1.0224\n",
      "Epoch 45/60\n",
      " - 1s - loss: 1.0367\n",
      "Epoch 46/60\n",
      " - 1s - loss: 1.0665\n",
      "Epoch 47/60\n",
      " - 1s - loss: 0.9940\n",
      "Epoch 48/60\n",
      " - 1s - loss: 0.9624\n",
      "Epoch 49/60\n",
      " - 1s - loss: 0.9878\n",
      "Epoch 50/60\n",
      " - 1s - loss: 1.0462\n",
      "Epoch 51/60\n",
      " - 1s - loss: 0.9701\n",
      "Epoch 52/60\n",
      " - 1s - loss: 0.9489\n",
      "Epoch 53/60\n",
      " - 1s - loss: 0.9274\n",
      "Epoch 54/60\n",
      " - 1s - loss: 0.9523\n",
      "Epoch 55/60\n",
      " - 1s - loss: 0.9408\n",
      "Epoch 56/60\n",
      " - 1s - loss: 0.9218\n",
      "Epoch 57/60\n",
      " - 1s - loss: 0.9135\n",
      "Epoch 58/60\n",
      " - 1s - loss: 0.8882\n",
      "Epoch 59/60\n",
      " - 1s - loss: 0.9681\n",
      "Epoch 60/60\n",
      " - 1s - loss: 1.0496\n",
      "Test RMSE: 0.973\n",
      "Test MAE: 0.620\n"
     ]
    },
    {
     "data": {
      "text/plain": [
       "Text(0.5, 1.0, 'region_6075010900 LSTM prediction')"
      ]
     },
     "execution_count": 72,
     "metadata": {},
     "output_type": "execute_result"
    },
    {
     "data": {
      "image/png": "[encoded data removed]",
      "text/plain": [
       "<Figure size 1440x720 with 1 Axes>"
      ]
     },
     "metadata": {},
     "output_type": "display_data"
    }
   ],
   "source": [
    "from keras.models import Sequential\n",
    "from keras.layers import Dense, Dropout, LSTM\n",
    "from sklearn.metrics import mean_squared_error,mean_absolute_error\n",
    "import seaborn as sns\n",
    "\n",
    "# create and fit the LSTM network\n",
    "model = Sequential()\n",
    "model.add(LSTM(units=16, return_sequences=True, input_shape=(x_train.shape[1],1)))\n",
    "model.add(LSTM(units=16))\n",
    "model.add(Dense(1))\n",
    "\n",
    "model.compile(loss='mean_squared_error', optimizer='adam')\n",
    "model.fit(x_train, y_train, epochs=60, batch_size=16, verbose=2)\n",
    "\n",
    "predict_speed = model.predict(X_test)\n",
    "lstm_mse = mean_squared_error(Y_test, predict_speed)\n",
    "lstm_mae = mean_absolute_error(Y_test, predict_speed)\n",
    "print('Test RMSE: %.3f' % np.sqrt(lstm_mse))\n",
    "print('Test MAE: %.3f' % lstm_mae)\n",
    "\n",
    "# plot\n",
    "\n",
    "sns.set(rc={'figure.figsize':(20,10)})\n",
    "\n",
    "plt.plot(labels,dataset,label='Train data')\n",
    "#         plt.plot(labels[int(len(labels)/2):],X[int(len(X)/2):])\n",
    "\n",
    "plt.plot(test_label,predict_speed, color='red',label='validation data')#\n",
    "plt.legend()\n",
    "plt.title('region_6075010900 LSTM prediction')"
   ]
  },
  {
   "cell_type": "code",
   "execution_count": 70,
   "metadata": {},
   "outputs": [],
   "source": [
    "from statsmodels.tsa.arima_model import ARIMA\n",
    "# from code snippet: https://machinelearningmastery.com/arima-for-time-series-forecasting-with-python/\n",
    "def predict_time_series_ARIMA(mean_series,title,fig_size,split_size = 0.9,full=False):\n",
    "    labels = mean_series.index # add label\n",
    "    \n",
    "    X = mean_series.values\n",
    "    size = int(len(X) * split_size)\n",
    "\n",
    "    train, test = X[0:size], X[size:len(X)]\n",
    "    \n",
    "    test_label =labels[size:len(labels)]# add label\n",
    "    \n",
    "    history = [x for x in train]\n",
    "    predictions = list()\n",
    "    indexes = list()# add label\n",
    "    for t in range(len(test)):\n",
    "        model = ARIMA(history, order=(5,1,0))\n",
    "        model_fit = model.fit(disp=0)\n",
    "        output = model_fit.forecast()\n",
    "        yhat = output[0]\n",
    "        predictions.append(yhat)\n",
    "        obs = test[t]\n",
    "        history.append(obs)\n",
    "        indexes .append(test_label[t])# add label\n",
    "#         if t %100 ==0:\n",
    "#             print('predicted=%f, expected=%f' % (yhat, obs))\n",
    "    mse = mean_squared_error(test, predictions)\n",
    "    mae = mean_absolute_error(test, predictions)\n",
    "    print('Test RMSE: %.3f' % np.sqrt(mse))\n",
    "    print('Test MAE: %.3f' % mae)\n",
    "    \n",
    "    # plot\n",
    "    \n",
    "    sns.set(rc={'figure.figsize':fig_size})\n",
    "    if full:\n",
    "        plt.plot(labels,X,label = 'train data')\n",
    "#         plt.plot(labels[int(len(labels)/2):],X[int(len(X)/2):])\n",
    "    else:\n",
    "        plt.plot(indexes,test)\n",
    "    plt.plot(indexes,predictions, color='red',label='validation data')#\n",
    "    plt.legend()\n",
    "    plt.title(title)\n",
    "    \n",
    "    return plt, mse"
   ]
  },
  {
   "cell_type": "code",
   "execution_count": 71,
   "metadata": {},
   "outputs": [
    {
     "name": "stdout",
     "output_type": "stream",
     "text": [
      "Test RMSE: 1.091\n",
      "Test MAE: 0.692\n"
     ]
    },
    {
     "data": {
      "image/png": "[encoded data removed]",
      "text/plain": [
       "<Figure size 1440x720 with 1 Axes>"
      ]
     },
     "metadata": {},
     "output_type": "display_data"
    }
   ],
   "source": [
    "plt, mse = predict_time_series_ARIMA(sample_time_series.iloc[8],title = sample_time_series_scale.index[8],fig_size = (20,10),split_size = 0.7,full = True)"
   ]
  },
  {
   "cell_type": "markdown",
   "metadata": {},
   "source": [
    "The input of LSTM is a list of states (timestamps) \n",
    "- For each timestamp, state is initialized as a **feature vector**\n",
    "- Previously, we were extracting features (feature vector) from a **single** time series \n",
    "- New approach is to extract the same set of features (feature vector) from **multiple time series** and concatenate them into one vector \n",
    "\n",
    "Example: \n",
    "```python\n",
    "feature_set = []\n",
    "labels = []\n",
    "for i in range(60, 1260):\n",
    "    feature_set.append(apple_training_scaled[i-60:i, 0])\n",
    "    labels.append(apple_training_scaled[i, 0])\n",
    "```\n",
    "\n",
    "The code above creates a list of 60-dimensional vectors from 1 time series\n",
    "Suppose we wanted to look at 2 regions (2 different time series) at a time. We would simply need to create a list of 120-dimensional vectors (60 dimensions from 1 time series) \n",
    "\n",
    "Each region is a time series  \n",
    "> x.shape -> (regions, time_window, features)  \n",
    "> y.shape -> (regions, features) \n",
    "\n",
    "Currently, features is 1 (just speed, no other metric)\n",
    "\n",
    "1. https://stackoverflow.com/questions/45012992/how-to-prepare-data-for-lstm-when-using-multiple-time-series-of-different-length\n",
    "2. https://machinelearningmastery.com/lstm-model-architecture-for-rare-event-time-series-forecasting/"
   ]
  },
  {
   "cell_type": "code",
   "execution_count": 84,
   "metadata": {},
   "outputs": [
    {
     "name": "stdout",
     "output_type": "stream",
     "text": [
      "(2, 2)\n",
      "(2, 1, 2)\n"
     ]
    }
   ],
   "source": [
    "# np.atleast_2d([[[1,0], [1,2]],\n",
    "#                [[2,0], [1,1]]])\n",
    "\n",
    "# 2x2 matrix\n",
    "a = np.array([[0, 1],[2, 3]])\n",
    "print(a.shape)\n",
    "\n",
    "b = np.expand_dims(a, axis=1)\n",
    "print(b.shape)"
   ]
  },
  {
   "cell_type": "code",
   "execution_count": 89,
   "metadata": {},
   "outputs": [
    {
     "data": {
      "text/plain": [
       "(196, 697)"
      ]
     },
     "execution_count": 89,
     "metadata": {},
     "output_type": "execute_result"
    }
   ],
   "source": [
    "sample_time_series.shape"
   ]
  },
  {
   "cell_type": "code",
   "execution_count": null,
   "metadata": {},
   "outputs": [],
   "source": [
    "input_list = [np.expand_dims(np.atleast_2d(data[i:examples+i,:]), axis=0) for i in xrange(nb_samples)]\n",
    "input_mat = np.concatenate(input_list, axis=0)"
   ]
  },
  {
   "cell_type": "code",
   "execution_count": 110,
   "metadata": {},
   "outputs": [
    {
     "data": {
      "text/plain": [
       "(1, 196, 6)"
      ]
     },
     "execution_count": 110,
     "metadata": {},
     "output_type": "execute_result"
    }
   ],
   "source": [
    "np.expand_dims(np.atleast_2d(sample_time_series.iloc[:,0:6]), axis=0).shape"
   ]
  },
  {
   "cell_type": "code",
   "execution_count": 62,
   "metadata": {},
   "outputs": [
    {
     "data": {
      "text/plain": [
       "array([[1.10309386, 0.85082677, 0.13704   , ..., 1.05042637, 1.36847996,\n",
       "        0.        ],\n",
       "       [4.47497561, 6.17788   , 7.32318182, ..., 2.35615152, 2.46645894,\n",
       "        0.        ],\n",
       "       [5.635     , 5.9444    , 8.889     , ..., 4.90196078, 4.93452941,\n",
       "        0.        ],\n",
       "       ...,\n",
       "       [3.6389    , 8.611     , 0.        , ..., 5.31354839, 2.24141379,\n",
       "        0.        ],\n",
       "       [0.70871708, 0.54082318, 0.11789213, ..., 1.08395936, 1.190752  ,\n",
       "        0.        ],\n",
       "       [0.        , 0.        , 0.        , ..., 0.        , 0.        ,\n",
       "        0.        ]])"
      ]
     },
     "execution_count": 62,
     "metadata": {},
     "output_type": "execute_result"
    }
   ],
   "source": [
    "# # Multi-Time Series Testing\n",
    "# # https://gist.github.com/lukovkin/1aefa4509e066690b892\n",
    "# import keras.callbacks\n",
    "# from keras.models import Sequential  \n",
    "# from keras.layers.core import Dense, Activation, Dense, Dropout\n",
    "# from keras.layers.recurrent import LSTM\n",
    "\n",
    "# # Call back to capture losses \n",
    "# class LossHistory(keras.callbacks.Callback):\n",
    "#     def on_train_begin(self, logs={}):\n",
    "#         self.losses = []\n",
    "\n",
    "#     def on_batch_end(self, batch, logs={}):\n",
    "#         self.losses.append(logs.get('loss'))\n",
    "\n",
    "# Load data values \n",
    "data = sample_time_series.values\n",
    "\n",
    "# Specify range of sliding window \n",
    "examples = 24 # past 24 x \n",
    "y_examples = 1 # Predict next y value \n",
    "\n",
    "nb_samples = len(data) - examples - y_examples \n",
    "\n",
    "# np.atleast_2d - read input if array is at least 2 dimensions. If not 2d, make it into 2d. \n",
    "# np.expand_dims - expand the shape of an array. Insert new axis that will appear at the axis position \n",
    "# in the expanded array shape. \n",
    "\n",
    "input_list = [np.expand_dims(np.atleast_2d(data[i:examples+i,:]), axis=0) for i in xrange(nb_samples)]\n",
    "input_mat = np.concatenate(input_list, axis=0)\n",
    "\n",
    "# target - the first column in merged dataframe\n",
    "target_list = [np.atleast_2d(data[i+examples:examples+i+y_examples,0]) for i in xrange(nb_samples)]\n",
    "target_mat = np.concatenate(target_list, axis=0)\n",
    "\n",
    "# set up model\n",
    "trials = input_mat.shape[0]\n",
    "features = input_mat.shape[2]\n",
    "hidden = 64\n",
    "model = Sequential()\n",
    "model.add(LSTM(hidden, input_shape=(examples, features)))\n",
    "model.add(Dropout(.2))\n",
    "model.add(Dense(y_examples))\n",
    "model.add(Activation('linear'))\n",
    "model.compile(loss='mse', optimizer='rmsprop')\n",
    "\n",
    "# Train\n",
    "history = LossHistory()\n",
    "model.fit(input_mat, target_mat, nb_epoch=100, batch_size=400, callbacks=[history])"
   ]
  },
  {
   "cell_type": "code",
   "execution_count": 42,
   "metadata": {},
   "outputs": [
    {
     "name": "stdout",
     "output_type": "stream",
     "text": [
      "[0.06462957 0.0470709  0.00930841 0.00373782 0.00845006 0.08237146\n",
      " 0.08452446 0.16475164 0.13924162 0.14358263 0.10654545 0.1001483\n",
      " 0.14583433 0.101467   0.09550655 0.12943227 0.1113016  0.13454274\n",
      " 0.10317586 0.06515809 0.06496353 0.0677472  0.06731226 0.07636183\n",
      " 0.05516506 0.03936906 0.         0.         0.01653122 0.09480051\n",
      " 0.09408792 0.17438377 0.17960234 0.1482391  0.07099821 0.11999029\n",
      " 0.10193609 0.14654252 0.09085923 0.13135883 0.19096929 0.18325578\n",
      " 0.11824407 0.06348661 0.0703877  0.08088135 0.07958582 0.10045093\n",
      " 0.06067606 0.0284386  0.00316188 0.00351249 0.02886563 0.06000166\n",
      " 0.0868982  0.13891425 0.1748322  0.1203726  0.07781057 0.11962411\n",
      " 0.10746173 0.11526035 0.14353807 0.14678893 0.15524548 0.18075691\n",
      " 0.10268999 0.06819208 0.07455115 0.06616545 0.06527697 0.05211446]\n",
      "0.062428586468653215\n"
     ]
    }
   ],
   "source": [
    "feature_set = []\n",
    "labels = []\n",
    "\n",
    "for i in range(72, 697):\n",
    "    multi_region_data = []\n",
    "    for j in sample_time_series_scale.itertuples():\n",
    "        one_region_data = np.array(list(j)[1:])\n",
    "        one_region_data[i-72:i]\n",
    "        multi_region_data += one_region_data\n",
    "        print(row_data[i])\n",
    "#        feature_set.append(row_data[i-72:i])\n",
    "#        labels.append(row_data[i])\n",
    "        break\n",
    "#     feature_set.append(sample_time_series_scale[i-72:i, 0])\n",
    "#     labels.append(sample_time_series_scale[i, 0])\n",
    "    break"
   ]
  },
  {
   "cell_type": "code",
   "execution_count": null,
   "metadata": {},
   "outputs": [],
   "source": [
    "features_set = []  \n",
    "labels = []  \n",
    "for i in range(72, 697):  \n",
    "    features_set.append(apple_training_scaled[i-60:i, 0])\n",
    "    labels.append(apple_training_scaled[i, 0])"
   ]
  },
  {
   "cell_type": "code",
   "execution_count": null,
   "metadata": {},
   "outputs": [],
   "source": [
    "split_size = 0.7\n",
    "time_window = 3\n",
    "#creating dataframe\n",
    "x_train, y_train = np.empty(shape=[0, time_window, 1]),np.empty(shape=[0,1])\n",
    "X_test, Y_test = np.empty(shape=[0, time_window, 1]),np.empty(shape=[0,1])\n",
    "\n",
    "scaled_data = sample_time_series.iloc[8].T.to_frame()\n",
    "\n",
    "\n",
    "features_set = []  \n",
    "labels = []  \n",
    "for i in range(60, 1260):  \n",
    "    features_set.append(apple_training_scaled[i-60:i, 0])\n",
    "    labels.append(apple_training_scaled[i, 0])\n",
    "\n",
    "\n",
    "split_size =0.7\n",
    "time_window = 72\n",
    "#creating dataframe\n",
    "x_train, y_train = np.empty(shape=[0, time_window, 1]),np.empty(shape=[0,1])\n",
    "X_test, Y_test = np.empty(shape=[0, time_window, 1]),np.empty(shape=[0,1])\n",
    "for i, row in sample_time_series_scale.iterrows():\n",
    "    scaled_data = row.T.to_frame()\n",
    "\n",
    "    labels = scaled_data.index # add label\n",
    "\n",
    "    #creating train and test sets\n",
    "    dataset = scaled_data.values\n",
    "\n",
    "    size = int(len(dataset) * split_size)\n",
    "\n",
    "    train, test = dataset[0:size], dataset[size:len(X)]\n",
    "\n",
    "    test_label =labels[size:len(labels)]# add label\n",
    "    #converting dataset into x_train and y_train\n",
    "\n",
    "    sub_x_train, sub_y_train = [], []\n",
    "    for i in range(time_window,len(train)):\n",
    "        sub_x_train.append(train[i-time_window:i])\n",
    "        sub_y_train.append(train[i])\n",
    "    sub_x_train, sub_y_train = np.array(sub_x_train), np.array(sub_y_train)\n",
    "    x_train = np.concatenate((x_train, sub_x_train), axis=0)\n",
    "    y_train = np.concatenate((y_train, sub_y_train), axis=0)\n",
    "\n",
    "    # create test dataset predicting values, using past time_window from the train data\n",
    "    inputs = dataset[len(dataset) - len(test) - time_window:]\n",
    "    inputs = inputs.reshape(-1,1)\n",
    "\n",
    "    sub_X_test = []\n",
    "    sub_Y_test = []\n",
    "    indexes = list()\n",
    "    for i in range(time_window,inputs.shape[0]):\n",
    "        sub_X_test.append(inputs[i-time_window:i])\n",
    "        sub_Y_test.append(inputs[i])\n",
    "    #     indexes.append(test_label[i])# add label\n",
    "    sub_X_test,sub_Y_test = np.array(sub_X_test), np.array(sub_Y_test)\n",
    "\n",
    "    X_test = np.concatenate((X_test, sub_X_test), axis=0)\n",
    "    Y_test = np.concatenate((Y_test, sub_Y_test), axis=0)\n",
    "\n",
    "\n",
    "\n",
    "\n",
    "\n",
    "# create and fit the LSTM network\n",
    "model = Sequential()\n",
    "model.add(LSTM(units=16, return_sequences=True, input_shape=(x_train.shape[1],1)))\n",
    "model.add(LSTM(units=16))\n",
    "model.add(Dense(1))\n",
    "\n",
    "model.compile(loss='mean_squared_error', optimizer='adam')\n",
    "model.fit(x_train, y_train, epochs=10, batch_size=16, verbose=2)\n",
    "\n",
    "\n",
    "predict_speed = model.predict(X_test)\n",
    "lstm_mse = mean_squared_error(Y_test, predict_speed)\n",
    "lstm_mae = mean_absolute_error(Y_test, predict_speed)\n",
    "print('Test RMSE: %.3f' % np.sqrt(lstm_mse))\n",
    "print('Test MAE: %.3f' % lstm_mae)\n",
    "\n"
   ]
  },
  {
   "cell_type": "markdown",
   "metadata": {},
   "source": [
    "https://stackoverflow.com/questions/42585356/how-to-construct-input-data-to-lstm-for-time-series-multi-step-horizon-with-exte/42599514#comment81441573_42599514\n",
    "\n",
    "Input data structure example:  \n",
    "(300, 20 1) - translates to - 300 time series of length 20 with 1 feature  \n",
    "sequential_input = Input(shape=(20,1)) - shape is length of 20 and 1 feature\n",
    "\n",
    "In this case your input should consist of list of two tables: [sequential_data, features] where sequential_data.shape = (nb_of_examples, timesteps, sequential_features) and features.shape = (nb_of_examples, feature_nb). So sales or temperature should be stored in sequential_features and store_type in features.\n",
    "output = Dense(10)(blend)\n",
    "model = Model(input=[sequential_input, feature_input], output=output])"
   ]
  },
  {
   "cell_type": "code",
   "execution_count": null,
   "metadata": {},
   "outputs": [],
   "source": []
  },
  {
   "cell_type": "markdown",
   "metadata": {},
   "source": [
    "## Scaling up the model to multiple time-series\n",
    "- training separate neural network for every city is inefficient\n",
    "- train single neural network on all city data"
   ]
  },
  {
   "cell_type": "code",
   "execution_count": null,
   "metadata": {},
   "outputs": [],
   "source": []
  },
  {
   "cell_type": "code",
   "execution_count": null,
   "metadata": {},
   "outputs": [],
   "source": []
  },
  {
   "cell_type": "code",
   "execution_count": null,
   "metadata": {},
   "outputs": [],
   "source": []
  },
  {
   "cell_type": "code",
   "execution_count": null,
   "metadata": {},
   "outputs": [],
   "source": [
    "\n",
    "- Manually encoding city level features is prone to error\n",
    "- Use LSTM to automate feature extraction "
   ]
  },
  {
   "cell_type": "markdown",
   "metadata": {},
   "source": [
    "# Data Normalization\n",
    "- MinMaxScaler from sklearn.preprocessing to scale data from 0 and 1. \n",
    "- feature_range parameter specifies the range of scaled data"
   ]
  },
  {
   "cell_type": "markdown",
   "metadata": {},
   "source": [
    "# Predict value at time T, based on data from days T-N "
   ]
  },
  {
   "cell_type": "code",
   "execution_count": null,
   "metadata": {},
   "outputs": [],
   "source": []
  },
  {
   "cell_type": "code",
   "execution_count": null,
   "metadata": {},
   "outputs": [],
   "source": [
    "features_set = []  \n",
    "labels = []  \n",
    "for i in range(60, 1260):  \n",
    "    features_set.append(apple_training_scaled[i-60:i, 0])\n",
    "    labels.append(apple_training_scaled[i, 0])"
   ]
  },
  {
   "cell_type": "code",
   "execution_count": null,
   "metadata": {},
   "outputs": [],
   "source": [
    "features_set, labels = np.array(features_set), np.array(labels)  "
   ]
  },
  {
   "cell_type": "code",
   "execution_count": null,
   "metadata": {},
   "outputs": [],
   "source": []
  },
  {
   "cell_type": "code",
   "execution_count": null,
   "metadata": {},
   "outputs": [],
   "source": [
    "from keras.models import Sequential \n",
    "from keras.layers import Dense\n",
    "from keras.layers import LSTM\n",
    "from keras.layers import Dropout"
   ]
  },
  {
   "cell_type": "markdown",
   "metadata": {},
   "source": [
    "Instantiate model class `Sequential` \n",
    "- Add LSTM, Dropout, and Dense layers to this model"
   ]
  },
  {
   "cell_type": "code",
   "execution_count": null,
   "metadata": {},
   "outputs": [],
   "source": [
    "model = Sequential()"
   ]
  },
  {
   "cell_type": "markdown",
   "metadata": {},
   "source": [
    "- `add` method adds layers to sequential model\n",
    "- first parameter to the LSTM layer is the number of neurons\n",
    "- second parameter is `return_sequences` which is set to true since we will add more layers\n",
    "- `input_shape` is the number of timesteps\n",
    "- last paramter is the number of indicators\n",
    "- `Dropout` layer is added to avoid over-fitting (when models perform better on training data compared to test data) \n",
    "- `Dense` layer makes the model more robust. The number of neurons in the dense layer will be set to 1 since we want to predict a single value in the output \n",
    "- Compile LSTM model, specifiying the lsos function and optimizer \n",
    "- fit the model with the feature set. Specifying epochs, and batchsize. \n"
   ]
  },
  {
   "cell_type": "markdown",
   "metadata": {},
   "source": [
    "## 8. Impute nan values using weighted ave of nearest neighbors"
   ]
  },
  {
   "cell_type": "code",
   "execution_count": 1,
   "metadata": {},
   "outputs": [
    {
     "ename": "NameError",
     "evalue": "name 'nx' is not defined",
     "output_type": "error",
     "traceback": [
      "\u001b[0;31m---------------------------------------------------------------------------\u001b[0m",
      "\u001b[0;31mNameError\u001b[0m                                 Traceback (most recent call last)",
      "\u001b[0;32m<ipython-input-1-ba23ca8dc846>\u001b[0m in \u001b[0;36m<module>\u001b[0;34m\u001b[0m\n\u001b[0;32m----> 1\u001b[0;31m \u001b[0mG\u001b[0m \u001b[0;34m=\u001b[0m \u001b[0mnx\u001b[0m\u001b[0;34m.\u001b[0m\u001b[0mread_gpickle\u001b[0m\u001b[0;34m(\u001b[0m\u001b[0;34m'../../output/census_filtered.gpickle'\u001b[0m\u001b[0;34m)\u001b[0m\u001b[0;34m\u001b[0m\u001b[0m\n\u001b[0m\u001b[1;32m      2\u001b[0m \u001b[0mprint\u001b[0m\u001b[0;34m(\u001b[0m\u001b[0;34m'Graph stats:'\u001b[0m\u001b[0;34m)\u001b[0m\u001b[0;34m\u001b[0m\u001b[0m\n\u001b[1;32m      3\u001b[0m \u001b[0mprint\u001b[0m\u001b[0;34m(\u001b[0m\u001b[0;34m'Number of nodes: {}'\u001b[0m\u001b[0;34m.\u001b[0m\u001b[0mformat\u001b[0m\u001b[0;34m(\u001b[0m\u001b[0mG\u001b[0m\u001b[0;34m.\u001b[0m\u001b[0mnumber_of_nodes\u001b[0m\u001b[0;34m(\u001b[0m\u001b[0;34m)\u001b[0m\u001b[0;34m)\u001b[0m\u001b[0;34m)\u001b[0m\u001b[0;34m\u001b[0m\u001b[0m\n\u001b[1;32m      4\u001b[0m \u001b[0mprint\u001b[0m\u001b[0;34m(\u001b[0m\u001b[0;34m'Number of edges: {}'\u001b[0m\u001b[0;34m.\u001b[0m\u001b[0mformat\u001b[0m\u001b[0;34m(\u001b[0m\u001b[0mG\u001b[0m\u001b[0;34m.\u001b[0m\u001b[0mnumber_of_edges\u001b[0m\u001b[0;34m(\u001b[0m\u001b[0;34m)\u001b[0m\u001b[0;34m)\u001b[0m\u001b[0;34m)\u001b[0m\u001b[0;34m\u001b[0m\u001b[0m\n",
      "\u001b[0;31mNameError\u001b[0m: name 'nx' is not defined"
     ]
    }
   ],
   "source": [
    "G = nx.read_gpickle('../../output/census_filtered.gpickle')\n",
    "print('Graph stats:')\n",
    "print('Number of nodes: {}'.format(G.number_of_nodes()))\n",
    "print('Number of edges: {}'.format(G.number_of_edges()))"
   ]
  },
  {
   "cell_type": "code",
   "execution_count": null,
   "metadata": {},
   "outputs": [],
   "source": [
    "neighbors = n_nearest_neighbors(G, 6075990100)\n",
    "neighbors = [\"region_\" + str(x) for x in neighbors]\n",
    "neighbors"
   ]
  },
  {
   "cell_type": "code",
   "execution_count": null,
   "metadata": {},
   "outputs": [],
   "source": [
    "# Get time series of neighboring regions \n",
    "time_series[time_series.index.isin(neighbors)]"
   ]
  }
 ],
 "metadata": {
  "kernelspec": {
   "display_name": "Python 3",
   "language": "python",
   "name": "python3"
  },
  "language_info": {
   "codemirror_mode": {
    "name": "ipython",
    "version": 3
   },
   "file_extension": ".py",
   "mimetype": "text/x-python",
   "name": "python",
   "nbconvert_exporter": "python",
   "pygments_lexer": "ipython3",
   "version": "3.6.1"
  }
 },
 "nbformat": 4,
 "nbformat_minor": 2
}
