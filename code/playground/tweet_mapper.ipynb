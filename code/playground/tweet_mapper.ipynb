{
 "cells": [
  {
   "cell_type": "markdown",
   "metadata": {},
   "source": [
    "# Map Tweet to Census Region\n",
    "\n",
    "This notebook maps tweets to the corresponding census regions\n",
    "\n",
    "*Author: Koki Sasagawa*  \n",
    "*Date: 4/14/2019*"
   ]
  },
  {
   "cell_type": "code",
   "execution_count": 1,
   "metadata": {},
   "outputs": [],
   "source": [
    "import pandas as pd\n",
    "import numpy as np\n",
    "import geopandas as gpd\n",
    "import matplotlib.pyplot as plt\n",
    "import seaborn as sns\n",
    "import os\n",
    "import sys\n",
    "from shapely.geometry import Polygon, Point\n",
    "from datetime import datetime\n",
    "from pytz import timezone\n",
    "\n",
    "sys.path.insert(0, '../utils/')\n",
    "from twitter_processing import tweet_coordinate_mapper, tweet_aggregate_by_region, tweet_region_by_time_generator\n",
    "from api import reverse_geocode\n",
    "from decorators import timer\n",
    "\n",
    "%matplotlib inline"
   ]
  },
  {
   "cell_type": "code",
   "execution_count": 2,
   "metadata": {},
   "outputs": [],
   "source": [
    "# add timer \n",
    "tweet_coordinate_mapper = timer(tweet_coordinate_mapper)\n",
    "tweet_region_by_time_generator = timer(tweet_region_by_time_generator)"
   ]
  },
  {
   "cell_type": "markdown",
   "metadata": {},
   "source": [
    "## 1. Load Tweet data\n",
    "\n",
    "1. Tweet data containing SF, or mention SF\n",
    "2. Filtered tweets from each month that contain coordinates which map to greater area of San Fransisco"
   ]
  },
  {
   "cell_type": "code",
   "execution_count": 3,
   "metadata": {},
   "outputs": [
    {
     "name": "stdout",
     "output_type": "stream",
     "text": [
      "0 tweet_2016_02_01.csv\n",
      "1 tweet_2016_02_02.csv\n",
      "2 tweet_2016_02_03.csv\n",
      "3 tweet_2016_02_04.csv\n",
      "4 tweet_2016_02_05.csv\n",
      "5 tweet_2016_02_06.csv\n",
      "6 tweet_2016_02_07.csv\n",
      "7 tweet_2016_02_08.csv\n",
      "8 tweet_2016_02_09.csv\n",
      "9 tweet_2016_02_10.csv\n",
      "10 tweet_2016_02_11.csv\n",
      "11 tweet_2016_02_12.csv\n",
      "12 tweet_2016_02_13.csv\n",
      "13 tweet_2016_02_14.csv\n",
      "14 tweet_2016_02_15.csv\n",
      "15 tweet_2016_02_16.csv\n",
      "16 tweet_2016_02_17.csv\n",
      "17 tweet_2016_02_18.csv\n",
      "18 tweet_2016_02_19.csv\n",
      "19 tweet_2016_02_20.csv\n",
      "20 tweet_2016_02_21.csv\n",
      "21 tweet_2016_02_22.csv\n",
      "22 tweet_2016_02_23.csv\n",
      "23 tweet_2016_02_24.csv\n",
      "24 tweet_2016_02_25.csv\n",
      "25 tweet_2016_02_26.csv\n",
      "26 tweet_2016_02_27.csv\n",
      "27 tweet_2016_02_28.csv\n",
      "28 tweet_2016_02_29.csv\n"
     ]
    }
   ],
   "source": [
    "input_dir = '../../raw_data/tweets/'\n",
    "\n",
    "files = sorted(os.listdir(input_dir))\n",
    "for i, fname in enumerate(files):\n",
    "    print(i, fname)"
   ]
  },
  {
   "cell_type": "code",
   "execution_count": 4,
   "metadata": {},
   "outputs": [
    {
     "name": "stdout",
     "output_type": "stream",
     "text": [
      "tweet_2016_02_01.csv\n",
      "Dimensions: (3944, 13)\n"
     ]
    },
    {
     "data": {
      "text/html": [
       "<div>\n",
       "<style scoped>\n",
       "    .dataframe tbody tr th:only-of-type {\n",
       "        vertical-align: middle;\n",
       "    }\n",
       "\n",
       "    .dataframe tbody tr th {\n",
       "        vertical-align: top;\n",
       "    }\n",
       "\n",
       "    .dataframe thead th {\n",
       "        text-align: right;\n",
       "    }\n",
       "</style>\n",
       "<table border=\"1\" class=\"dataframe\">\n",
       "  <thead>\n",
       "    <tr style=\"text-align: right;\">\n",
       "      <th></th>\n",
       "      <th>lon</th>\n",
       "      <th>lat</th>\n",
       "      <th>time</th>\n",
       "      <th>time_stamp</th>\n",
       "      <th>text</th>\n",
       "      <th>hashtags</th>\n",
       "      <th>urls</th>\n",
       "      <th>user_mentions</th>\n",
       "      <th>favorite_count</th>\n",
       "      <th>retweet_count</th>\n",
       "      <th>user_followers_count</th>\n",
       "      <th>user_friends_count</th>\n",
       "      <th>user_statuses_count</th>\n",
       "    </tr>\n",
       "  </thead>\n",
       "  <tbody>\n",
       "    <tr>\n",
       "      <th>0</th>\n",
       "      <td>-119.306608</td>\n",
       "      <td>37.269176</td>\n",
       "      <td>2016-02-01 05:00:15+00:00</td>\n",
       "      <td>1454302815740</td>\n",
       "      <td>A guy at the airport:\\n\"Idk why he cut me off ...</td>\n",
       "      <td>0</td>\n",
       "      <td>0</td>\n",
       "      <td>0</td>\n",
       "      <td>0</td>\n",
       "      <td>0</td>\n",
       "      <td>160</td>\n",
       "      <td>189</td>\n",
       "      <td>1119</td>\n",
       "    </tr>\n",
       "    <tr>\n",
       "      <th>1</th>\n",
       "      <td>0.314300</td>\n",
       "      <td>42.308346</td>\n",
       "      <td>2016-02-01 05:01:01+00:00</td>\n",
       "      <td>1454302861683</td>\n",
       "      <td>@JoptanElMagno @apranorte y lo mejor,no caer e...</td>\n",
       "      <td>0</td>\n",
       "      <td>0</td>\n",
       "      <td>2</td>\n",
       "      <td>0</td>\n",
       "      <td>0</td>\n",
       "      <td>302</td>\n",
       "      <td>727</td>\n",
       "      <td>14007</td>\n",
       "    </tr>\n",
       "    <tr>\n",
       "      <th>2</th>\n",
       "      <td>-122.435978</td>\n",
       "      <td>37.770657</td>\n",
       "      <td>2016-02-01 05:01:14+00:00</td>\n",
       "      <td>1454302874659</td>\n",
       "      <td>I rather him call me his friend then just a wh...</td>\n",
       "      <td>2</td>\n",
       "      <td>0</td>\n",
       "      <td>0</td>\n",
       "      <td>0</td>\n",
       "      <td>0</td>\n",
       "      <td>87</td>\n",
       "      <td>187</td>\n",
       "      <td>1362</td>\n",
       "    </tr>\n",
       "    <tr>\n",
       "      <th>3</th>\n",
       "      <td>-122.435978</td>\n",
       "      <td>37.770657</td>\n",
       "      <td>2016-02-01 05:01:39+00:00</td>\n",
       "      <td>1454302899722</td>\n",
       "      <td>https://t.co/WNKPn1itmN</td>\n",
       "      <td>0</td>\n",
       "      <td>0</td>\n",
       "      <td>0</td>\n",
       "      <td>0</td>\n",
       "      <td>0</td>\n",
       "      <td>10</td>\n",
       "      <td>47</td>\n",
       "      <td>1</td>\n",
       "    </tr>\n",
       "    <tr>\n",
       "      <th>4</th>\n",
       "      <td>-122.466364</td>\n",
       "      <td>37.780964</td>\n",
       "      <td>2016-02-01 05:01:50+00:00</td>\n",
       "      <td>1454302910678</td>\n",
       "      <td>attended @starparish Speaker Series: a gr8 pre...</td>\n",
       "      <td>0</td>\n",
       "      <td>1</td>\n",
       "      <td>1</td>\n",
       "      <td>0</td>\n",
       "      <td>0</td>\n",
       "      <td>751</td>\n",
       "      <td>748</td>\n",
       "      <td>16076</td>\n",
       "    </tr>\n",
       "  </tbody>\n",
       "</table>\n",
       "</div>"
      ],
      "text/plain": [
       "          lon        lat                      time     time_stamp  \\\n",
       "0 -119.306608  37.269176 2016-02-01 05:00:15+00:00  1454302815740   \n",
       "1    0.314300  42.308346 2016-02-01 05:01:01+00:00  1454302861683   \n",
       "2 -122.435978  37.770657 2016-02-01 05:01:14+00:00  1454302874659   \n",
       "3 -122.435978  37.770657 2016-02-01 05:01:39+00:00  1454302899722   \n",
       "4 -122.466364  37.780964 2016-02-01 05:01:50+00:00  1454302910678   \n",
       "\n",
       "                                                text  hashtags  urls  \\\n",
       "0  A guy at the airport:\\n\"Idk why he cut me off ...         0     0   \n",
       "1  @JoptanElMagno @apranorte y lo mejor,no caer e...         0     0   \n",
       "2  I rather him call me his friend then just a wh...         2     0   \n",
       "3                            https://t.co/WNKPn1itmN         0     0   \n",
       "4  attended @starparish Speaker Series: a gr8 pre...         0     1   \n",
       "\n",
       "   user_mentions  favorite_count  retweet_count  user_followers_count  \\\n",
       "0              0               0              0                   160   \n",
       "1              2               0              0                   302   \n",
       "2              0               0              0                    87   \n",
       "3              0               0              0                    10   \n",
       "4              1               0              0                   751   \n",
       "\n",
       "   user_friends_count  user_statuses_count  \n",
       "0                 189                 1119  \n",
       "1                 727                14007  \n",
       "2                 187                 1362  \n",
       "3                  47                    1  \n",
       "4                 748                16076  "
      ]
     },
     "execution_count": 4,
     "metadata": {},
     "output_type": "execute_result"
    }
   ],
   "source": [
    "tweet1 = pd.read_csv(input_dir + files[0],\n",
    "                     parse_dates=['time'],\n",
    "                     # date_parser=dateparse,\n",
    "                     infer_datetime_format=True)\n",
    "\n",
    "print(files[0])\n",
    "print(\"Dimensions: {}\".format(tweet1.shape))\n",
    "tweet1.head()"
   ]
  },
  {
   "cell_type": "markdown",
   "metadata": {},
   "source": [
    "## 2. Match the timezone\n",
    "\n",
    "The datetime used in the tweets are UTC.  \n",
    "Convert these datetime objects to match San Francisco timezone (Pacific Standard Time) "
   ]
  },
  {
   "cell_type": "code",
   "execution_count": 5,
   "metadata": {},
   "outputs": [
    {
     "data": {
      "text/plain": [
       "Timestamp('2016-02-01 05:00:15+0000', tz='UTC')"
      ]
     },
     "execution_count": 5,
     "metadata": {},
     "output_type": "execute_result"
    }
   ],
   "source": [
    "tweet1['time'].iloc[0]"
   ]
  },
  {
   "cell_type": "code",
   "execution_count": 6,
   "metadata": {},
   "outputs": [],
   "source": [
    "def time_zone_converter(date, zone):\n",
    "    \"\"\"Convert the datetime object to a specified timezone\n",
    "    \n",
    "    :param date: datetime \n",
    "    :type date: pandas._libs.tslibs.timestamps.Timestamp\n",
    "    :param str zone: desired timezone \n",
    "    :return: datetime in specified timezone \n",
    "    :rtype: pandas._libs.tslibs.timestamps.Timestamp\n",
    "    \"\"\"\n",
    "    \n",
    "    date_format = '%Y-%m-%d %H:%M:%S %Z'\n",
    "    date.strftime(date_format)\n",
    "    date = date.astimezone(timezone(zone))\n",
    "    return date.strftime('%Y-%m-%d %H:%M:%S')"
   ]
  },
  {
   "cell_type": "code",
   "execution_count": 7,
   "metadata": {},
   "outputs": [
    {
     "data": {
      "text/html": [
       "<div>\n",
       "<style scoped>\n",
       "    .dataframe tbody tr th:only-of-type {\n",
       "        vertical-align: middle;\n",
       "    }\n",
       "\n",
       "    .dataframe tbody tr th {\n",
       "        vertical-align: top;\n",
       "    }\n",
       "\n",
       "    .dataframe thead th {\n",
       "        text-align: right;\n",
       "    }\n",
       "</style>\n",
       "<table border=\"1\" class=\"dataframe\">\n",
       "  <thead>\n",
       "    <tr style=\"text-align: right;\">\n",
       "      <th></th>\n",
       "      <th>lon</th>\n",
       "      <th>lat</th>\n",
       "      <th>time</th>\n",
       "      <th>time_stamp</th>\n",
       "      <th>text</th>\n",
       "      <th>hashtags</th>\n",
       "      <th>urls</th>\n",
       "      <th>user_mentions</th>\n",
       "      <th>favorite_count</th>\n",
       "      <th>retweet_count</th>\n",
       "      <th>user_followers_count</th>\n",
       "      <th>user_friends_count</th>\n",
       "      <th>user_statuses_count</th>\n",
       "    </tr>\n",
       "  </thead>\n",
       "  <tbody>\n",
       "    <tr>\n",
       "      <th>0</th>\n",
       "      <td>-119.306608</td>\n",
       "      <td>37.269176</td>\n",
       "      <td>2016-01-31 21:00:15</td>\n",
       "      <td>1454302815740</td>\n",
       "      <td>A guy at the airport:\\n\"Idk why he cut me off ...</td>\n",
       "      <td>0</td>\n",
       "      <td>0</td>\n",
       "      <td>0</td>\n",
       "      <td>0</td>\n",
       "      <td>0</td>\n",
       "      <td>160</td>\n",
       "      <td>189</td>\n",
       "      <td>1119</td>\n",
       "    </tr>\n",
       "    <tr>\n",
       "      <th>1</th>\n",
       "      <td>0.314300</td>\n",
       "      <td>42.308346</td>\n",
       "      <td>2016-01-31 21:01:01</td>\n",
       "      <td>1454302861683</td>\n",
       "      <td>@JoptanElMagno @apranorte y lo mejor,no caer e...</td>\n",
       "      <td>0</td>\n",
       "      <td>0</td>\n",
       "      <td>2</td>\n",
       "      <td>0</td>\n",
       "      <td>0</td>\n",
       "      <td>302</td>\n",
       "      <td>727</td>\n",
       "      <td>14007</td>\n",
       "    </tr>\n",
       "    <tr>\n",
       "      <th>2</th>\n",
       "      <td>-122.435978</td>\n",
       "      <td>37.770657</td>\n",
       "      <td>2016-01-31 21:01:14</td>\n",
       "      <td>1454302874659</td>\n",
       "      <td>I rather him call me his friend then just a wh...</td>\n",
       "      <td>2</td>\n",
       "      <td>0</td>\n",
       "      <td>0</td>\n",
       "      <td>0</td>\n",
       "      <td>0</td>\n",
       "      <td>87</td>\n",
       "      <td>187</td>\n",
       "      <td>1362</td>\n",
       "    </tr>\n",
       "    <tr>\n",
       "      <th>3</th>\n",
       "      <td>-122.435978</td>\n",
       "      <td>37.770657</td>\n",
       "      <td>2016-01-31 21:01:39</td>\n",
       "      <td>1454302899722</td>\n",
       "      <td>https://t.co/WNKPn1itmN</td>\n",
       "      <td>0</td>\n",
       "      <td>0</td>\n",
       "      <td>0</td>\n",
       "      <td>0</td>\n",
       "      <td>0</td>\n",
       "      <td>10</td>\n",
       "      <td>47</td>\n",
       "      <td>1</td>\n",
       "    </tr>\n",
       "    <tr>\n",
       "      <th>4</th>\n",
       "      <td>-122.466364</td>\n",
       "      <td>37.780964</td>\n",
       "      <td>2016-01-31 21:01:50</td>\n",
       "      <td>1454302910678</td>\n",
       "      <td>attended @starparish Speaker Series: a gr8 pre...</td>\n",
       "      <td>0</td>\n",
       "      <td>1</td>\n",
       "      <td>1</td>\n",
       "      <td>0</td>\n",
       "      <td>0</td>\n",
       "      <td>751</td>\n",
       "      <td>748</td>\n",
       "      <td>16076</td>\n",
       "    </tr>\n",
       "  </tbody>\n",
       "</table>\n",
       "</div>"
      ],
      "text/plain": [
       "          lon        lat                 time     time_stamp  \\\n",
       "0 -119.306608  37.269176  2016-01-31 21:00:15  1454302815740   \n",
       "1    0.314300  42.308346  2016-01-31 21:01:01  1454302861683   \n",
       "2 -122.435978  37.770657  2016-01-31 21:01:14  1454302874659   \n",
       "3 -122.435978  37.770657  2016-01-31 21:01:39  1454302899722   \n",
       "4 -122.466364  37.780964  2016-01-31 21:01:50  1454302910678   \n",
       "\n",
       "                                                text  hashtags  urls  \\\n",
       "0  A guy at the airport:\\n\"Idk why he cut me off ...         0     0   \n",
       "1  @JoptanElMagno @apranorte y lo mejor,no caer e...         0     0   \n",
       "2  I rather him call me his friend then just a wh...         2     0   \n",
       "3                            https://t.co/WNKPn1itmN         0     0   \n",
       "4  attended @starparish Speaker Series: a gr8 pre...         0     1   \n",
       "\n",
       "   user_mentions  favorite_count  retweet_count  user_followers_count  \\\n",
       "0              0               0              0                   160   \n",
       "1              2               0              0                   302   \n",
       "2              0               0              0                    87   \n",
       "3              0               0              0                    10   \n",
       "4              1               0              0                   751   \n",
       "\n",
       "   user_friends_count  user_statuses_count  \n",
       "0                 189                 1119  \n",
       "1                 727                14007  \n",
       "2                 187                 1362  \n",
       "3                  47                    1  \n",
       "4                 748                16076  "
      ]
     },
     "execution_count": 7,
     "metadata": {},
     "output_type": "execute_result"
    }
   ],
   "source": [
    "tweet1.loc[:, 'time'] = tweet1.apply(lambda row: time_zone_converter(date=row['time'], zone='US/Pacific'), axis=1)\n",
    "tweet1.head()"
   ]
  },
  {
   "cell_type": "markdown",
   "metadata": {},
   "source": [
    "There seems to be something off with the coordinates.\n",
    "Check to see what address they map to"
   ]
  },
  {
   "cell_type": "code",
   "execution_count": 8,
   "metadata": {},
   "outputs": [
    {
     "data": {
      "text/plain": [
       "'Fresno, CA, United States'"
      ]
     },
     "execution_count": 8,
     "metadata": {},
     "output_type": "execute_result"
    }
   ],
   "source": [
    "reverse_geocode(lon=-119.306608, lat=37.269176)"
   ]
  },
  {
   "cell_type": "code",
   "execution_count": 9,
   "metadata": {},
   "outputs": [
    {
     "data": {
      "text/plain": [
       "'La Fueva, Aragón, España'"
      ]
     },
     "execution_count": 9,
     "metadata": {},
     "output_type": "execute_result"
    }
   ],
   "source": [
    "reverse_geocode(lon=0.314300, lat=42.308346)"
   ]
  },
  {
   "cell_type": "code",
   "execution_count": 10,
   "metadata": {},
   "outputs": [
    {
     "data": {
      "text/plain": [
       "'Lower Haight, San Francisco, CA, United States'"
      ]
     },
     "execution_count": 10,
     "metadata": {},
     "output_type": "execute_result"
    }
   ],
   "source": [
    "reverse_geocode(lon=-122.435978, lat=37.770657)"
   ]
  },
  {
   "cell_type": "markdown",
   "metadata": {},
   "source": [
    "## 3. Convert lon, lat coordinates into GIS point\n",
    "\n",
    "Configuring the coordinate_mapper function used to map speed data for twitter data. "
   ]
  },
  {
   "cell_type": "code",
   "execution_count": 11,
   "metadata": {},
   "outputs": [
    {
     "name": "stdout",
     "output_type": "stream",
     "text": [
      "Size of census zones df: (196, 2)\n"
     ]
    },
    {
     "data": {
      "text/html": [
       "<div>\n",
       "<style scoped>\n",
       "    .dataframe tbody tr th:only-of-type {\n",
       "        vertical-align: middle;\n",
       "    }\n",
       "\n",
       "    .dataframe tbody tr th {\n",
       "        vertical-align: top;\n",
       "    }\n",
       "\n",
       "    .dataframe thead th {\n",
       "        text-align: right;\n",
       "    }\n",
       "</style>\n",
       "<table border=\"1\" class=\"dataframe\">\n",
       "  <thead>\n",
       "    <tr style=\"text-align: right;\">\n",
       "      <th></th>\n",
       "      <th>geoid10</th>\n",
       "      <th>geometry</th>\n",
       "    </tr>\n",
       "  </thead>\n",
       "  <tbody>\n",
       "    <tr>\n",
       "      <th>0</th>\n",
       "      <td>6075016500</td>\n",
       "      <td>POLYGON ((-122.446471 37.775802, -122.44478 37...</td>\n",
       "    </tr>\n",
       "    <tr>\n",
       "      <th>1</th>\n",
       "      <td>6075016400</td>\n",
       "      <td>POLYGON ((-122.44034 37.77658, -122.439844 37....</td>\n",
       "    </tr>\n",
       "    <tr>\n",
       "      <th>2</th>\n",
       "      <td>6075016300</td>\n",
       "      <td>POLYGON ((-122.429152 37.778007, -122.428909 3...</td>\n",
       "    </tr>\n",
       "    <tr>\n",
       "      <th>3</th>\n",
       "      <td>6075016100</td>\n",
       "      <td>POLYGON ((-122.428909 37.778039, -122.429152 3...</td>\n",
       "    </tr>\n",
       "    <tr>\n",
       "      <th>4</th>\n",
       "      <td>6075016000</td>\n",
       "      <td>POLYGON ((-122.420425 37.780583, -122.420336 3...</td>\n",
       "    </tr>\n",
       "  </tbody>\n",
       "</table>\n",
       "</div>"
      ],
      "text/plain": [
       "      geoid10                                           geometry\n",
       "0  6075016500  POLYGON ((-122.446471 37.775802, -122.44478 37...\n",
       "1  6075016400  POLYGON ((-122.44034 37.77658, -122.439844 37....\n",
       "2  6075016300  POLYGON ((-122.429152 37.778007, -122.428909 3...\n",
       "3  6075016100  POLYGON ((-122.428909 37.778039, -122.429152 3...\n",
       "4  6075016000  POLYGON ((-122.420425 37.780583, -122.420336 3..."
      ]
     },
     "execution_count": 11,
     "metadata": {},
     "output_type": "execute_result"
    }
   ],
   "source": [
    "shp_file = '../../temp_data/sf_GEOID_GIS_data.shp'\n",
    "\n",
    "# Load census data \n",
    "shp_file = gpd.GeoDataFrame.from_file(shp_file)\n",
    "print('Size of census zones df: {}'.format(shp_file.shape))\n",
    "shp_file.head()"
   ]
  },
  {
   "cell_type": "markdown",
   "metadata": {},
   "source": [
    "Remove the region ID 6075990100 from the shp file"
   ]
  },
  {
   "cell_type": "code",
   "execution_count": 12,
   "metadata": {},
   "outputs": [
    {
     "name": "stdout",
     "output_type": "stream",
     "text": [
      "(195, 2)\n"
     ]
    }
   ],
   "source": [
    "shp_file = shp_file[shp_file[\"geoid10\"] != 6075990100]\n",
    "print(shp_file.shape)"
   ]
  },
  {
   "cell_type": "code",
   "execution_count": 13,
   "metadata": {},
   "outputs": [],
   "source": [
    "# Directory to store files created\n",
    "output_dir = \"../../temp_data/tweets_mapped/\""
   ]
  },
  {
   "cell_type": "code",
   "execution_count": 14,
   "metadata": {},
   "outputs": [
    {
     "data": {
      "text/plain": [
       "array([ 0,  1,  2,  4,  5,  6,  7,  8,  9, 10, 11])"
      ]
     },
     "execution_count": 14,
     "metadata": {},
     "output_type": "execute_result"
    }
   ],
   "source": [
    "cols = np.delete(np.arange(12), 3)\n",
    "cols"
   ]
  },
  {
   "cell_type": "code",
   "execution_count": 15,
   "metadata": {},
   "outputs": [
    {
     "name": "stdout",
     "output_type": "stream",
     "text": [
      "Running tweet_coordinate_mapper...\n",
      "Mapping completed. Size before: 3944, Size after: 1458\n",
      "Finished in 1.8343s\n"
     ]
    },
    {
     "data": {
      "text/html": [
       "<div>\n",
       "<style scoped>\n",
       "    .dataframe tbody tr th:only-of-type {\n",
       "        vertical-align: middle;\n",
       "    }\n",
       "\n",
       "    .dataframe tbody tr th {\n",
       "        vertical-align: top;\n",
       "    }\n",
       "\n",
       "    .dataframe thead th {\n",
       "        text-align: right;\n",
       "    }\n",
       "</style>\n",
       "<table border=\"1\" class=\"dataframe\">\n",
       "  <thead>\n",
       "    <tr style=\"text-align: right;\">\n",
       "      <th></th>\n",
       "      <th>lon</th>\n",
       "      <th>lat</th>\n",
       "      <th>time</th>\n",
       "      <th>text</th>\n",
       "      <th>hashtags</th>\n",
       "      <th>urls</th>\n",
       "      <th>user_mentions</th>\n",
       "      <th>favorite_count</th>\n",
       "      <th>retweet_count</th>\n",
       "      <th>user_followers_count</th>\n",
       "      <th>user_friends_count</th>\n",
       "      <th>geometry</th>\n",
       "      <th>index_right</th>\n",
       "      <th>geoid10</th>\n",
       "    </tr>\n",
       "  </thead>\n",
       "  <tbody>\n",
       "    <tr>\n",
       "      <th>2</th>\n",
       "      <td>-122.435978</td>\n",
       "      <td>37.770657</td>\n",
       "      <td>2016-01-31 21:01:14</td>\n",
       "      <td>I rather him call me his friend then just a wh...</td>\n",
       "      <td>2</td>\n",
       "      <td>0</td>\n",
       "      <td>0</td>\n",
       "      <td>0</td>\n",
       "      <td>0</td>\n",
       "      <td>87</td>\n",
       "      <td>187</td>\n",
       "      <td>POINT (-122.4359785 37.7706565)</td>\n",
       "      <td>194</td>\n",
       "      <td>6075016700</td>\n",
       "    </tr>\n",
       "    <tr>\n",
       "      <th>3</th>\n",
       "      <td>-122.435978</td>\n",
       "      <td>37.770657</td>\n",
       "      <td>2016-01-31 21:01:39</td>\n",
       "      <td>https://t.co/WNKPn1itmN</td>\n",
       "      <td>0</td>\n",
       "      <td>0</td>\n",
       "      <td>0</td>\n",
       "      <td>0</td>\n",
       "      <td>0</td>\n",
       "      <td>10</td>\n",
       "      <td>47</td>\n",
       "      <td>POINT (-122.4359785 37.7706565)</td>\n",
       "      <td>194</td>\n",
       "      <td>6075016700</td>\n",
       "    </tr>\n",
       "    <tr>\n",
       "      <th>7</th>\n",
       "      <td>-122.435978</td>\n",
       "      <td>37.770657</td>\n",
       "      <td>2016-01-31 21:03:44</td>\n",
       "      <td>Damn. Does Sandy love across the street from t...</td>\n",
       "      <td>1</td>\n",
       "      <td>0</td>\n",
       "      <td>0</td>\n",
       "      <td>0</td>\n",
       "      <td>0</td>\n",
       "      <td>887</td>\n",
       "      <td>956</td>\n",
       "      <td>POINT (-122.4359785 37.7706565)</td>\n",
       "      <td>194</td>\n",
       "      <td>6075016700</td>\n",
       "    </tr>\n",
       "    <tr>\n",
       "      <th>8</th>\n",
       "      <td>-122.435978</td>\n",
       "      <td>37.770657</td>\n",
       "      <td>2016-01-31 21:04:04</td>\n",
       "      <td>@angeles19820928 @AsiaPrince_JKS MIRA MI PERFI...</td>\n",
       "      <td>0</td>\n",
       "      <td>0</td>\n",
       "      <td>2</td>\n",
       "      <td>0</td>\n",
       "      <td>0</td>\n",
       "      <td>464</td>\n",
       "      <td>695</td>\n",
       "      <td>POINT (-122.4359785 37.7706565)</td>\n",
       "      <td>194</td>\n",
       "      <td>6075016700</td>\n",
       "    </tr>\n",
       "    <tr>\n",
       "      <th>9</th>\n",
       "      <td>-122.435978</td>\n",
       "      <td>37.770657</td>\n",
       "      <td>2016-01-31 21:04:10</td>\n",
       "      <td>\"We could butt chug two bottles of #wine, no p...</td>\n",
       "      <td>1</td>\n",
       "      <td>0</td>\n",
       "      <td>0</td>\n",
       "      <td>0</td>\n",
       "      <td>0</td>\n",
       "      <td>1218</td>\n",
       "      <td>2067</td>\n",
       "      <td>POINT (-122.4359785 37.7706565)</td>\n",
       "      <td>194</td>\n",
       "      <td>6075016700</td>\n",
       "    </tr>\n",
       "  </tbody>\n",
       "</table>\n",
       "</div>"
      ],
      "text/plain": [
       "          lon        lat                 time  \\\n",
       "2 -122.435978  37.770657  2016-01-31 21:01:14   \n",
       "3 -122.435978  37.770657  2016-01-31 21:01:39   \n",
       "7 -122.435978  37.770657  2016-01-31 21:03:44   \n",
       "8 -122.435978  37.770657  2016-01-31 21:04:04   \n",
       "9 -122.435978  37.770657  2016-01-31 21:04:10   \n",
       "\n",
       "                                                text  hashtags  urls  \\\n",
       "2  I rather him call me his friend then just a wh...         2     0   \n",
       "3                            https://t.co/WNKPn1itmN         0     0   \n",
       "7  Damn. Does Sandy love across the street from t...         1     0   \n",
       "8  @angeles19820928 @AsiaPrince_JKS MIRA MI PERFI...         0     0   \n",
       "9  \"We could butt chug two bottles of #wine, no p...         1     0   \n",
       "\n",
       "   user_mentions  favorite_count  retweet_count  user_followers_count  \\\n",
       "2              0               0              0                    87   \n",
       "3              0               0              0                    10   \n",
       "7              0               0              0                   887   \n",
       "8              2               0              0                   464   \n",
       "9              0               0              0                  1218   \n",
       "\n",
       "   user_friends_count                         geometry  index_right  \\\n",
       "2                 187  POINT (-122.4359785 37.7706565)          194   \n",
       "3                  47  POINT (-122.4359785 37.7706565)          194   \n",
       "7                 956  POINT (-122.4359785 37.7706565)          194   \n",
       "8                 695  POINT (-122.4359785 37.7706565)          194   \n",
       "9                2067  POINT (-122.4359785 37.7706565)          194   \n",
       "\n",
       "      geoid10  \n",
       "2  6075016700  \n",
       "3  6075016700  \n",
       "7  6075016700  \n",
       "8  6075016700  \n",
       "9  6075016700  "
      ]
     },
     "execution_count": 15,
     "metadata": {},
     "output_type": "execute_result"
    }
   ],
   "source": [
    "# Test\n",
    "test = tweet_coordinate_mapper(shp_file=shp_file,\n",
    "                               input_dir=input_dir, \n",
    "                               output_dir=output_dir, \n",
    "                               file_name=\"tweet_2016_02_01.csv\",\n",
    "                               columns=cols,\n",
    "                               col_time=\"time\",\n",
    "                               zone=\"US/Pacific\")\n",
    "\n",
    "test.head()"
   ]
  },
  {
   "cell_type": "code",
   "execution_count": 14,
   "metadata": {},
   "outputs": [
    {
     "data": {
      "image/png": "[encoded data removed]",
      "text/plain": [
       "<Figure size 1440x864 with 1 Axes>"
      ]
     },
     "metadata": {
      "needs_background": "light"
     },
     "output_type": "display_data"
    }
   ],
   "source": [
    "x = [str(x) for x in test['geoid10'].value_counts().index]\n",
    "y = test['geoid10'].value_counts().values\n",
    "plt.figure(1, figsize=(20,12))\n",
    "plt.bar(x, y)\n",
    "plt.title(\"Distribution of mapped census regions\", fontsize=20)\n",
    "plt.xticks(rotation=90)\n",
    "plt.show()"
   ]
  },
  {
   "cell_type": "markdown",
   "metadata": {},
   "source": [
    "The distribution of where tweets map by region in this test data is very skewed.  \n",
    "Perhaps, this is due to using the coordinates associated with a place, which is obtained by taking the centroid.  \n",
    "In other words, if many users identify a location as their geographical information (i.e., Union Squre),  \n",
    "we take the centroid of this Polygon as the Point coordinate, which can result in multiple tweets sharing the exact same lon, lat coordinates. "
   ]
  },
  {
   "cell_type": "code",
   "execution_count": 15,
   "metadata": {},
   "outputs": [
    {
     "name": "stdout",
     "output_type": "stream",
     "text": [
      "Running tweet_coordinate_mapper...\n",
      "Mapping completed. Size before: 3944, Size after: 1458\n",
      "Finished in 1.6635s\n",
      "Running tweet_coordinate_mapper...\n",
      "Mapping completed. Size before: 4216, Size after: 1579\n",
      "Finished in 1.6542s\n",
      "Running tweet_coordinate_mapper...\n",
      "Mapping completed. Size before: 3832, Size after: 1584\n",
      "Finished in 1.5389s\n",
      "Running tweet_coordinate_mapper...\n",
      "Mapping completed. Size before: 4288, Size after: 1765\n",
      "Finished in 1.7235s\n",
      "Running tweet_coordinate_mapper...\n",
      "Mapping completed. Size before: 3924, Size after: 1733\n",
      "Finished in 1.5738s\n",
      "Running tweet_coordinate_mapper...\n",
      "Mapping completed. Size before: 4234, Size after: 1882\n",
      "Finished in 1.5326s\n",
      "Running tweet_coordinate_mapper...\n",
      "Mapping completed. Size before: 5202, Size after: 2206\n",
      "Finished in 2.0282s\n",
      "Running tweet_coordinate_mapper...\n",
      "Mapping completed. Size before: 3991, Size after: 1533\n",
      "Finished in 1.4265s\n",
      "Running tweet_coordinate_mapper...\n",
      "Mapping completed. Size before: 3605, Size after: 1380\n",
      "Finished in 1.3456s\n",
      "Running tweet_coordinate_mapper...\n",
      "Mapping completed. Size before: 3495, Size after: 1328\n",
      "Finished in 1.3807s\n",
      "Running tweet_coordinate_mapper...\n",
      "Mapping completed. Size before: 3791, Size after: 1502\n",
      "Finished in 1.4441s\n",
      "Running tweet_coordinate_mapper...\n",
      "Mapping completed. Size before: 3685, Size after: 1390\n",
      "Finished in 1.5264s\n",
      "Running tweet_coordinate_mapper...\n",
      "Mapping completed. Size before: 3787, Size after: 1420\n",
      "Finished in 1.5677s\n",
      "Running tweet_coordinate_mapper...\n",
      "Mapping completed. Size before: 3460, Size after: 1210\n",
      "Finished in 1.3582s\n",
      "Running tweet_coordinate_mapper...\n",
      "Mapping completed. Size before: 3717, Size after: 1235\n",
      "Finished in 1.3781s\n",
      "Running tweet_coordinate_mapper...\n",
      "Mapping completed. Size before: 3595, Size after: 1295\n",
      "Finished in 1.2858s\n",
      "Running tweet_coordinate_mapper...\n",
      "Mapping completed. Size before: 3731, Size after: 1428\n",
      "Finished in 1.3584s\n",
      "Running tweet_coordinate_mapper...\n",
      "Mapping completed. Size before: 4032, Size after: 1488\n",
      "Finished in 1.4836s\n",
      "Running tweet_coordinate_mapper...\n",
      "Mapping completed. Size before: 4025, Size after: 1496\n",
      "Finished in 1.4969s\n",
      "Running tweet_coordinate_mapper...\n",
      "Mapping completed. Size before: 3386, Size after: 1288\n",
      "Finished in 1.4059s\n",
      "Running tweet_coordinate_mapper...\n",
      "Mapping completed. Size before: 3330, Size after: 1080\n",
      "Finished in 1.2005s\n",
      "Running tweet_coordinate_mapper...\n",
      "Mapping completed. Size before: 3600, Size after: 1363\n",
      "Finished in 1.3034s\n",
      "Running tweet_coordinate_mapper...\n",
      "Mapping completed. Size before: 3568, Size after: 1313\n",
      "Finished in 1.3734s\n",
      "Running tweet_coordinate_mapper...\n",
      "Mapping completed. Size before: 3728, Size after: 1410\n",
      "Finished in 1.4756s\n",
      "Running tweet_coordinate_mapper...\n",
      "Mapping completed. Size before: 3760, Size after: 1475\n",
      "Finished in 1.4113s\n",
      "Running tweet_coordinate_mapper...\n",
      "Mapping completed. Size before: 3896, Size after: 1501\n",
      "Finished in 1.5018s\n",
      "Running tweet_coordinate_mapper...\n",
      "Mapping completed. Size before: 3818, Size after: 1431\n",
      "Finished in 1.5831s\n",
      "Running tweet_coordinate_mapper...\n",
      "Mapping completed. Size before: 4034, Size after: 1448\n",
      "Finished in 1.5772s\n",
      "Running tweet_coordinate_mapper...\n",
      "Mapping completed. Size before: 3734, Size after: 1413\n",
      "Finished in 1.3521s\n"
     ]
    }
   ],
   "source": [
    "for fname in files:\n",
    "    tweet_coordinate_mapper(shp_file=shp_file,\n",
    "                               input_dir=input_dir, \n",
    "                               output_dir=output_dir, \n",
    "                               file_name=fname,\n",
    "                               columns=cols,\n",
    "                               col_time=\"time\",\n",
    "                               zone=\"US/Pacific\")"
   ]
  },
  {
   "cell_type": "markdown",
   "metadata": {},
   "source": [
    "## 4. Aggregate by census region"
   ]
  },
  {
   "cell_type": "code",
   "execution_count": 18,
   "metadata": {},
   "outputs": [],
   "source": [
    "input_dir = '../../temp_data/tweets_mapped/'\n",
    "output_dir = '../../temp_data/region_tweets/'"
   ]
  },
  {
   "cell_type": "code",
   "execution_count": 3,
   "metadata": {},
   "outputs": [
    {
     "name": "stdout",
     "output_type": "stream",
     "text": [
      "Finished partitioning mapped_tweet_2016_02_01.csv\n",
      "Finished partitioning mapped_tweet_2016_02_02.csv\n",
      "Finished partitioning mapped_tweet_2016_02_03.csv\n",
      "Finished partitioning mapped_tweet_2016_02_04.csv\n",
      "Finished partitioning mapped_tweet_2016_02_05.csv\n",
      "Finished partitioning mapped_tweet_2016_02_06.csv\n",
      "Finished partitioning mapped_tweet_2016_02_07.csv\n",
      "Finished partitioning mapped_tweet_2016_02_08.csv\n",
      "Finished partitioning mapped_tweet_2016_02_09.csv\n",
      "Finished partitioning mapped_tweet_2016_02_10.csv\n",
      "Finished partitioning mapped_tweet_2016_02_11.csv\n",
      "Finished partitioning mapped_tweet_2016_02_12.csv\n",
      "Finished partitioning mapped_tweet_2016_02_13.csv\n",
      "Finished partitioning mapped_tweet_2016_02_14.csv\n",
      "Finished partitioning mapped_tweet_2016_02_15.csv\n",
      "Finished partitioning mapped_tweet_2016_02_16.csv\n",
      "Finished partitioning mapped_tweet_2016_02_17.csv\n",
      "Finished partitioning mapped_tweet_2016_02_18.csv\n",
      "Finished partitioning mapped_tweet_2016_02_19.csv\n",
      "Finished partitioning mapped_tweet_2016_02_20.csv\n",
      "Finished partitioning mapped_tweet_2016_02_21.csv\n",
      "Finished partitioning mapped_tweet_2016_02_22.csv\n",
      "Finished partitioning mapped_tweet_2016_02_23.csv\n",
      "Finished partitioning mapped_tweet_2016_02_24.csv\n",
      "Finished partitioning mapped_tweet_2016_02_25.csv\n",
      "Finished partitioning mapped_tweet_2016_02_26.csv\n",
      "Finished partitioning mapped_tweet_2016_02_27.csv\n",
      "Finished partitioning mapped_tweet_2016_02_28.csv\n",
      "Finished partitioning mapped_tweet_2016_02_29.csv\n"
     ]
    }
   ],
   "source": [
    "tweet_aggregate_by_region(input_dir, output_dir, base_fname='tweet_time_series_region')"
   ]
  },
  {
   "cell_type": "markdown",
   "metadata": {},
   "source": [
    "## Tweet features by region \n",
    "Features: hashtags\turls\tuser_mentions\tfavorite_count\tretweet_count\tuser_followers_count\tuser_friends_count"
   ]
  },
  {
   "cell_type": "markdown",
   "metadata": {},
   "source": [
    "### Tweet counts"
   ]
  },
  {
   "cell_type": "code",
   "execution_count": 43,
   "metadata": {},
   "outputs": [
    {
     "name": "stdout",
     "output_type": "stream",
     "text": [
      "Running tweet_region_by_time_generator...\n",
      "Reading files from directory: ../../temp_data/region_tweets/\n",
      "Finished in 1.5451s\n",
      "Dimensions: (188, 696)\n"
     ]
    },
    {
     "data": {
      "text/html": [
       "<div>\n",
       "<style scoped>\n",
       "    .dataframe tbody tr th:only-of-type {\n",
       "        vertical-align: middle;\n",
       "    }\n",
       "\n",
       "    .dataframe tbody tr th {\n",
       "        vertical-align: top;\n",
       "    }\n",
       "\n",
       "    .dataframe thead th {\n",
       "        text-align: right;\n",
       "    }\n",
       "</style>\n",
       "<table border=\"1\" class=\"dataframe\">\n",
       "  <thead>\n",
       "    <tr style=\"text-align: right;\">\n",
       "      <th>time</th>\n",
       "      <th>2016-01-31 21:00:00</th>\n",
       "      <th>2016-01-31 22:00:00</th>\n",
       "      <th>2016-01-31 23:00:00</th>\n",
       "      <th>2016-02-01 00:00:00</th>\n",
       "      <th>2016-02-01 01:00:00</th>\n",
       "      <th>2016-02-01 02:00:00</th>\n",
       "      <th>2016-02-01 03:00:00</th>\n",
       "      <th>2016-02-01 04:00:00</th>\n",
       "      <th>2016-02-01 05:00:00</th>\n",
       "      <th>2016-02-01 06:00:00</th>\n",
       "      <th>...</th>\n",
       "      <th>2016-02-29 11:00:00</th>\n",
       "      <th>2016-02-29 12:00:00</th>\n",
       "      <th>2016-02-29 13:00:00</th>\n",
       "      <th>2016-02-29 14:00:00</th>\n",
       "      <th>2016-02-29 15:00:00</th>\n",
       "      <th>2016-02-29 16:00:00</th>\n",
       "      <th>2016-02-29 17:00:00</th>\n",
       "      <th>2016-02-29 18:00:00</th>\n",
       "      <th>2016-02-29 19:00:00</th>\n",
       "      <th>2016-02-29 20:00:00</th>\n",
       "    </tr>\n",
       "  </thead>\n",
       "  <tbody>\n",
       "    <tr>\n",
       "      <th>tweet_region_6075010100</th>\n",
       "      <td>NaN</td>\n",
       "      <td>NaN</td>\n",
       "      <td>NaN</td>\n",
       "      <td>NaN</td>\n",
       "      <td>NaN</td>\n",
       "      <td>NaN</td>\n",
       "      <td>NaN</td>\n",
       "      <td>NaN</td>\n",
       "      <td>NaN</td>\n",
       "      <td>NaN</td>\n",
       "      <td>...</td>\n",
       "      <td>NaN</td>\n",
       "      <td>NaN</td>\n",
       "      <td>NaN</td>\n",
       "      <td>NaN</td>\n",
       "      <td>NaN</td>\n",
       "      <td>1.0</td>\n",
       "      <td>1.0</td>\n",
       "      <td>1.0</td>\n",
       "      <td>NaN</td>\n",
       "      <td>NaN</td>\n",
       "    </tr>\n",
       "    <tr>\n",
       "      <th>tweet_region_6075010200</th>\n",
       "      <td>NaN</td>\n",
       "      <td>NaN</td>\n",
       "      <td>NaN</td>\n",
       "      <td>NaN</td>\n",
       "      <td>NaN</td>\n",
       "      <td>NaN</td>\n",
       "      <td>NaN</td>\n",
       "      <td>NaN</td>\n",
       "      <td>NaN</td>\n",
       "      <td>NaN</td>\n",
       "      <td>...</td>\n",
       "      <td>NaN</td>\n",
       "      <td>NaN</td>\n",
       "      <td>NaN</td>\n",
       "      <td>NaN</td>\n",
       "      <td>NaN</td>\n",
       "      <td>NaN</td>\n",
       "      <td>NaN</td>\n",
       "      <td>NaN</td>\n",
       "      <td>NaN</td>\n",
       "      <td>NaN</td>\n",
       "    </tr>\n",
       "    <tr>\n",
       "      <th>tweet_region_6075010300</th>\n",
       "      <td>NaN</td>\n",
       "      <td>NaN</td>\n",
       "      <td>NaN</td>\n",
       "      <td>NaN</td>\n",
       "      <td>NaN</td>\n",
       "      <td>NaN</td>\n",
       "      <td>NaN</td>\n",
       "      <td>NaN</td>\n",
       "      <td>NaN</td>\n",
       "      <td>NaN</td>\n",
       "      <td>...</td>\n",
       "      <td>1.0</td>\n",
       "      <td>NaN</td>\n",
       "      <td>NaN</td>\n",
       "      <td>NaN</td>\n",
       "      <td>1.0</td>\n",
       "      <td>NaN</td>\n",
       "      <td>NaN</td>\n",
       "      <td>NaN</td>\n",
       "      <td>NaN</td>\n",
       "      <td>NaN</td>\n",
       "    </tr>\n",
       "    <tr>\n",
       "      <th>tweet_region_6075010400</th>\n",
       "      <td>NaN</td>\n",
       "      <td>NaN</td>\n",
       "      <td>NaN</td>\n",
       "      <td>1.0</td>\n",
       "      <td>NaN</td>\n",
       "      <td>NaN</td>\n",
       "      <td>NaN</td>\n",
       "      <td>NaN</td>\n",
       "      <td>NaN</td>\n",
       "      <td>NaN</td>\n",
       "      <td>...</td>\n",
       "      <td>NaN</td>\n",
       "      <td>NaN</td>\n",
       "      <td>NaN</td>\n",
       "      <td>NaN</td>\n",
       "      <td>NaN</td>\n",
       "      <td>NaN</td>\n",
       "      <td>NaN</td>\n",
       "      <td>NaN</td>\n",
       "      <td>NaN</td>\n",
       "      <td>NaN</td>\n",
       "    </tr>\n",
       "    <tr>\n",
       "      <th>tweet_region_6075010500</th>\n",
       "      <td>1.0</td>\n",
       "      <td>1.0</td>\n",
       "      <td>NaN</td>\n",
       "      <td>NaN</td>\n",
       "      <td>1.0</td>\n",
       "      <td>NaN</td>\n",
       "      <td>1.0</td>\n",
       "      <td>NaN</td>\n",
       "      <td>NaN</td>\n",
       "      <td>1.0</td>\n",
       "      <td>...</td>\n",
       "      <td>1.0</td>\n",
       "      <td>1.0</td>\n",
       "      <td>1.0</td>\n",
       "      <td>1.0</td>\n",
       "      <td>1.0</td>\n",
       "      <td>1.0</td>\n",
       "      <td>1.0</td>\n",
       "      <td>NaN</td>\n",
       "      <td>NaN</td>\n",
       "      <td>NaN</td>\n",
       "    </tr>\n",
       "  </tbody>\n",
       "</table>\n",
       "<p>5 rows × 696 columns</p>\n",
       "</div>"
      ],
      "text/plain": [
       "time                     2016-01-31 21:00:00  2016-01-31 22:00:00  \\\n",
       "tweet_region_6075010100                  NaN                  NaN   \n",
       "tweet_region_6075010200                  NaN                  NaN   \n",
       "tweet_region_6075010300                  NaN                  NaN   \n",
       "tweet_region_6075010400                  NaN                  NaN   \n",
       "tweet_region_6075010500                  1.0                  1.0   \n",
       "\n",
       "time                     2016-01-31 23:00:00  2016-02-01 00:00:00  \\\n",
       "tweet_region_6075010100                  NaN                  NaN   \n",
       "tweet_region_6075010200                  NaN                  NaN   \n",
       "tweet_region_6075010300                  NaN                  NaN   \n",
       "tweet_region_6075010400                  NaN                  1.0   \n",
       "tweet_region_6075010500                  NaN                  NaN   \n",
       "\n",
       "time                     2016-02-01 01:00:00  2016-02-01 02:00:00  \\\n",
       "tweet_region_6075010100                  NaN                  NaN   \n",
       "tweet_region_6075010200                  NaN                  NaN   \n",
       "tweet_region_6075010300                  NaN                  NaN   \n",
       "tweet_region_6075010400                  NaN                  NaN   \n",
       "tweet_region_6075010500                  1.0                  NaN   \n",
       "\n",
       "time                     2016-02-01 03:00:00  2016-02-01 04:00:00  \\\n",
       "tweet_region_6075010100                  NaN                  NaN   \n",
       "tweet_region_6075010200                  NaN                  NaN   \n",
       "tweet_region_6075010300                  NaN                  NaN   \n",
       "tweet_region_6075010400                  NaN                  NaN   \n",
       "tweet_region_6075010500                  1.0                  NaN   \n",
       "\n",
       "time                     2016-02-01 05:00:00  2016-02-01 06:00:00  ...  \\\n",
       "tweet_region_6075010100                  NaN                  NaN  ...   \n",
       "tweet_region_6075010200                  NaN                  NaN  ...   \n",
       "tweet_region_6075010300                  NaN                  NaN  ...   \n",
       "tweet_region_6075010400                  NaN                  NaN  ...   \n",
       "tweet_region_6075010500                  NaN                  1.0  ...   \n",
       "\n",
       "time                     2016-02-29 11:00:00  2016-02-29 12:00:00  \\\n",
       "tweet_region_6075010100                  NaN                  NaN   \n",
       "tweet_region_6075010200                  NaN                  NaN   \n",
       "tweet_region_6075010300                  1.0                  NaN   \n",
       "tweet_region_6075010400                  NaN                  NaN   \n",
       "tweet_region_6075010500                  1.0                  1.0   \n",
       "\n",
       "time                     2016-02-29 13:00:00  2016-02-29 14:00:00  \\\n",
       "tweet_region_6075010100                  NaN                  NaN   \n",
       "tweet_region_6075010200                  NaN                  NaN   \n",
       "tweet_region_6075010300                  NaN                  NaN   \n",
       "tweet_region_6075010400                  NaN                  NaN   \n",
       "tweet_region_6075010500                  1.0                  1.0   \n",
       "\n",
       "time                     2016-02-29 15:00:00  2016-02-29 16:00:00  \\\n",
       "tweet_region_6075010100                  NaN                  1.0   \n",
       "tweet_region_6075010200                  NaN                  NaN   \n",
       "tweet_region_6075010300                  1.0                  NaN   \n",
       "tweet_region_6075010400                  NaN                  NaN   \n",
       "tweet_region_6075010500                  1.0                  1.0   \n",
       "\n",
       "time                     2016-02-29 17:00:00  2016-02-29 18:00:00  \\\n",
       "tweet_region_6075010100                  1.0                  1.0   \n",
       "tweet_region_6075010200                  NaN                  NaN   \n",
       "tweet_region_6075010300                  NaN                  NaN   \n",
       "tweet_region_6075010400                  NaN                  NaN   \n",
       "tweet_region_6075010500                  1.0                  NaN   \n",
       "\n",
       "time                     2016-02-29 19:00:00  2016-02-29 20:00:00  \n",
       "tweet_region_6075010100                  NaN                  NaN  \n",
       "tweet_region_6075010200                  NaN                  NaN  \n",
       "tweet_region_6075010300                  NaN                  NaN  \n",
       "tweet_region_6075010400                  NaN                  NaN  \n",
       "tweet_region_6075010500                  NaN                  NaN  \n",
       "\n",
       "[5 rows x 696 columns]"
      ]
     },
     "execution_count": 43,
     "metadata": {},
     "output_type": "execute_result"
    }
   ],
   "source": [
    "tweet_count = tweet_region_by_time_generator(output_dir, columns=['time'], Y='text', usecols=[2,3,4,5,6,7,8,9,10])\n",
    "print(\"Dimensions: {}\".format(tweet_count.shape))\n",
    "tweet_count.head()"
   ]
  },
  {
   "cell_type": "markdown",
   "metadata": {},
   "source": [
    "Due to the tweets being in UTC, the timezone conversion resulted in shifting values. We therefore, do not have the last 3 hours of Feb 29th (9pm - 12AM) \n",
    "* Drop the first 3 columns (Janurary)"
   ]
  },
  {
   "cell_type": "code",
   "execution_count": 44,
   "metadata": {},
   "outputs": [
    {
     "name": "stdout",
     "output_type": "stream",
     "text": [
      "Total nan cells: 121993 out of 130848 or 93.23%\n"
     ]
    }
   ],
   "source": [
    "# Total number of cells\n",
    "total = np.prod(tweet_count.shape)\n",
    "# Get number of missing cells\n",
    "missing = sum(tweet_count.isna().sum().values)\n",
    "print(\"Total nan cells: {} out of {} or {:.2f}%\".format(missing, total, (missing / total) * 100))"
   ]
  },
  {
   "cell_type": "markdown",
   "metadata": {},
   "source": [
    "As expected, the tweets are very sparse due to filtering and mapping. \n",
    "Consider taking the total sum of by column to have a measure of activity per hour"
   ]
  },
  {
   "cell_type": "code",
   "execution_count": 64,
   "metadata": {},
   "outputs": [
    {
     "data": {
      "text/html": [
       "<div>\n",
       "<style scoped>\n",
       "    .dataframe tbody tr th:only-of-type {\n",
       "        vertical-align: middle;\n",
       "    }\n",
       "\n",
       "    .dataframe tbody tr th {\n",
       "        vertical-align: top;\n",
       "    }\n",
       "\n",
       "    .dataframe thead th {\n",
       "        text-align: right;\n",
       "    }\n",
       "</style>\n",
       "<table border=\"1\" class=\"dataframe\">\n",
       "  <thead>\n",
       "    <tr style=\"text-align: right;\">\n",
       "      <th>time</th>\n",
       "      <th>2016-01-31 21:00:00</th>\n",
       "      <th>2016-01-31 22:00:00</th>\n",
       "      <th>2016-01-31 23:00:00</th>\n",
       "      <th>2016-02-01 00:00:00</th>\n",
       "      <th>2016-02-01 01:00:00</th>\n",
       "      <th>2016-02-01 02:00:00</th>\n",
       "      <th>2016-02-01 03:00:00</th>\n",
       "      <th>2016-02-01 04:00:00</th>\n",
       "      <th>2016-02-01 05:00:00</th>\n",
       "      <th>2016-02-01 06:00:00</th>\n",
       "      <th>...</th>\n",
       "      <th>2016-02-29 11:00:00</th>\n",
       "      <th>2016-02-29 12:00:00</th>\n",
       "      <th>2016-02-29 13:00:00</th>\n",
       "      <th>2016-02-29 14:00:00</th>\n",
       "      <th>2016-02-29 15:00:00</th>\n",
       "      <th>2016-02-29 16:00:00</th>\n",
       "      <th>2016-02-29 17:00:00</th>\n",
       "      <th>2016-02-29 18:00:00</th>\n",
       "      <th>2016-02-29 19:00:00</th>\n",
       "      <th>2016-02-29 20:00:00</th>\n",
       "    </tr>\n",
       "  </thead>\n",
       "  <tbody>\n",
       "    <tr>\n",
       "      <th>0</th>\n",
       "      <td>10.0</td>\n",
       "      <td>10.0</td>\n",
       "      <td>11.0</td>\n",
       "      <td>4.0</td>\n",
       "      <td>3.0</td>\n",
       "      <td>4.0</td>\n",
       "      <td>4.0</td>\n",
       "      <td>1.0</td>\n",
       "      <td>7.0</td>\n",
       "      <td>4.0</td>\n",
       "      <td>...</td>\n",
       "      <td>21.0</td>\n",
       "      <td>18.0</td>\n",
       "      <td>14.0</td>\n",
       "      <td>18.0</td>\n",
       "      <td>21.0</td>\n",
       "      <td>17.0</td>\n",
       "      <td>14.0</td>\n",
       "      <td>6.0</td>\n",
       "      <td>13.0</td>\n",
       "      <td>19.0</td>\n",
       "    </tr>\n",
       "  </tbody>\n",
       "</table>\n",
       "<p>1 rows × 696 columns</p>\n",
       "</div>"
      ],
      "text/plain": [
       "time  2016-01-31 21:00:00  2016-01-31 22:00:00  2016-01-31 23:00:00  \\\n",
       "0                    10.0                 10.0                 11.0   \n",
       "\n",
       "time  2016-02-01 00:00:00  2016-02-01 01:00:00  2016-02-01 02:00:00  \\\n",
       "0                     4.0                  3.0                  4.0   \n",
       "\n",
       "time  2016-02-01 03:00:00  2016-02-01 04:00:00  2016-02-01 05:00:00  \\\n",
       "0                     4.0                  1.0                  7.0   \n",
       "\n",
       "time  2016-02-01 06:00:00  ...  2016-02-29 11:00:00  2016-02-29 12:00:00  \\\n",
       "0                     4.0  ...                 21.0                 18.0   \n",
       "\n",
       "time  2016-02-29 13:00:00  2016-02-29 14:00:00  2016-02-29 15:00:00  \\\n",
       "0                    14.0                 18.0                 21.0   \n",
       "\n",
       "time  2016-02-29 16:00:00  2016-02-29 17:00:00  2016-02-29 18:00:00  \\\n",
       "0                    17.0                 14.0                  6.0   \n",
       "\n",
       "time  2016-02-29 19:00:00  2016-02-29 20:00:00  \n",
       "0                    13.0                 19.0  \n",
       "\n",
       "[1 rows x 696 columns]"
      ]
     },
     "execution_count": 64,
     "metadata": {},
     "output_type": "execute_result"
    }
   ],
   "source": [
    "tweet_count_by_hour = pd.DataFrame(tweet_count.sum(axis=0)).transpose()\n",
    "tweet_count_by_hour\n",
    "# tweet_counts_by_hour"
   ]
  },
  {
   "cell_type": "code",
   "execution_count": 65,
   "metadata": {},
   "outputs": [
    {
     "data": {
      "text/plain": [
       "Timestamp('2016-01-31 21:00:00', freq='H')"
      ]
     },
     "execution_count": 65,
     "metadata": {},
     "output_type": "execute_result"
    }
   ],
   "source": [
    "tweet_count_by_hour.columns[0]"
   ]
  },
  {
   "cell_type": "code",
   "execution_count": 66,
   "metadata": {},
   "outputs": [
    {
     "data": {
      "image/png": "[encoded data removed]",
      "text/plain": [
       "<Figure size 720x504 with 1 Axes>"
      ]
     },
     "metadata": {
      "needs_background": "light"
     },
     "output_type": "display_data"
    }
   ],
   "source": [
    "plt.figure(1, figsize=(10,7))\n",
    "plt.plot(tweet_count_by_hour.columns, tweet_count_by_hour.iloc[0].values)\n",
    "plt.title(\"Tweet Counts\")\n",
    "plt.xticks(rotation=90)\n",
    "plt.show()"
   ]
  },
  {
   "cell_type": "markdown",
   "metadata": {},
   "source": [
    "### Hashtag count"
   ]
  },
  {
   "cell_type": "code",
   "execution_count": 48,
   "metadata": {},
   "outputs": [
    {
     "name": "stdout",
     "output_type": "stream",
     "text": [
      "Running tweet_region_by_time_generator...\n",
      "Reading files from directory: ../../temp_data/region_tweets/\n",
      "Finished in 1.5892s\n"
     ]
    },
    {
     "data": {
      "text/html": [
       "<div>\n",
       "<style scoped>\n",
       "    .dataframe tbody tr th:only-of-type {\n",
       "        vertical-align: middle;\n",
       "    }\n",
       "\n",
       "    .dataframe tbody tr th {\n",
       "        vertical-align: top;\n",
       "    }\n",
       "\n",
       "    .dataframe thead th {\n",
       "        text-align: right;\n",
       "    }\n",
       "</style>\n",
       "<table border=\"1\" class=\"dataframe\">\n",
       "  <thead>\n",
       "    <tr style=\"text-align: right;\">\n",
       "      <th>time</th>\n",
       "      <th>2016-01-31 21:00:00</th>\n",
       "      <th>2016-01-31 22:00:00</th>\n",
       "      <th>2016-01-31 23:00:00</th>\n",
       "      <th>2016-02-01 00:00:00</th>\n",
       "      <th>2016-02-01 01:00:00</th>\n",
       "      <th>2016-02-01 02:00:00</th>\n",
       "      <th>2016-02-01 03:00:00</th>\n",
       "      <th>2016-02-01 04:00:00</th>\n",
       "      <th>2016-02-01 05:00:00</th>\n",
       "      <th>2016-02-01 06:00:00</th>\n",
       "      <th>...</th>\n",
       "      <th>2016-02-29 11:00:00</th>\n",
       "      <th>2016-02-29 12:00:00</th>\n",
       "      <th>2016-02-29 13:00:00</th>\n",
       "      <th>2016-02-29 14:00:00</th>\n",
       "      <th>2016-02-29 15:00:00</th>\n",
       "      <th>2016-02-29 16:00:00</th>\n",
       "      <th>2016-02-29 17:00:00</th>\n",
       "      <th>2016-02-29 18:00:00</th>\n",
       "      <th>2016-02-29 19:00:00</th>\n",
       "      <th>2016-02-29 20:00:00</th>\n",
       "    </tr>\n",
       "  </thead>\n",
       "  <tbody>\n",
       "    <tr>\n",
       "      <th>0</th>\n",
       "      <td>5.333333</td>\n",
       "      <td>7.258621</td>\n",
       "      <td>17.108108</td>\n",
       "      <td>5.121212</td>\n",
       "      <td>2.3125</td>\n",
       "      <td>8.0</td>\n",
       "      <td>7.0</td>\n",
       "      <td>0.0</td>\n",
       "      <td>5.1</td>\n",
       "      <td>15.294118</td>\n",
       "      <td>...</td>\n",
       "      <td>20.685897</td>\n",
       "      <td>25.866667</td>\n",
       "      <td>17.090909</td>\n",
       "      <td>24.553333</td>\n",
       "      <td>15.955932</td>\n",
       "      <td>19.730769</td>\n",
       "      <td>20.693878</td>\n",
       "      <td>7.114286</td>\n",
       "      <td>12.155556</td>\n",
       "      <td>15.439394</td>\n",
       "    </tr>\n",
       "  </tbody>\n",
       "</table>\n",
       "<p>1 rows × 696 columns</p>\n",
       "</div>"
      ],
      "text/plain": [
       "time  2016-01-31 21:00:00  2016-01-31 22:00:00  2016-01-31 23:00:00  \\\n",
       "0                5.333333             7.258621            17.108108   \n",
       "\n",
       "time  2016-02-01 00:00:00  2016-02-01 01:00:00  2016-02-01 02:00:00  \\\n",
       "0                5.121212               2.3125                  8.0   \n",
       "\n",
       "time  2016-02-01 03:00:00  2016-02-01 04:00:00  2016-02-01 05:00:00  \\\n",
       "0                     7.0                  0.0                  5.1   \n",
       "\n",
       "time  2016-02-01 06:00:00  ...  2016-02-29 11:00:00  2016-02-29 12:00:00  \\\n",
       "0               15.294118  ...            20.685897            25.866667   \n",
       "\n",
       "time  2016-02-29 13:00:00  2016-02-29 14:00:00  2016-02-29 15:00:00  \\\n",
       "0               17.090909            24.553333            15.955932   \n",
       "\n",
       "time  2016-02-29 16:00:00  2016-02-29 17:00:00  2016-02-29 18:00:00  \\\n",
       "0               19.730769            20.693878             7.114286   \n",
       "\n",
       "time  2016-02-29 19:00:00  2016-02-29 20:00:00  \n",
       "0               12.155556            15.439394  \n",
       "\n",
       "[1 rows x 696 columns]"
      ]
     },
     "execution_count": 48,
     "metadata": {},
     "output_type": "execute_result"
    }
   ],
   "source": [
    "hashtag_count = tweet_region_by_time_generator(output_dir, columns=['time'], Y='hashtags', usecols=[2,3,4,5,6,7,8,9,10])\n",
    "hashtag_count_by_hour = pd.DataFrame(hashtag_count.sum(axis=0)).transpose()\n",
    "hashtag_count_by_hour"
   ]
  },
  {
   "cell_type": "code",
   "execution_count": 49,
   "metadata": {},
   "outputs": [
    {
     "data": {
      "image/png": "[encoded data removed]",
      "text/plain": [
       "<Figure size 720x504 with 1 Axes>"
      ]
     },
     "metadata": {
      "needs_background": "light"
     },
     "output_type": "display_data"
    }
   ],
   "source": [
    "plt.figure(2, figsize=(10,7))\n",
    "plt.plot(hashtag_count_by_hour.columns, hashtag_count_by_hour.iloc[0].values)\n",
    "plt.title(\"Hashtag Counts\")\n",
    "plt.xticks(rotation=90)\n",
    "plt.show()"
   ]
  },
  {
   "cell_type": "markdown",
   "metadata": {},
   "source": [
    "### urls"
   ]
  },
  {
   "cell_type": "code",
   "execution_count": 51,
   "metadata": {},
   "outputs": [
    {
     "name": "stdout",
     "output_type": "stream",
     "text": [
      "Running tweet_region_by_time_generator...\n",
      "Reading files from directory: ../../temp_data/region_tweets/\n",
      "Finished in 1.6561s\n"
     ]
    },
    {
     "data": {
      "text/html": [
       "<div>\n",
       "<style scoped>\n",
       "    .dataframe tbody tr th:only-of-type {\n",
       "        vertical-align: middle;\n",
       "    }\n",
       "\n",
       "    .dataframe tbody tr th {\n",
       "        vertical-align: top;\n",
       "    }\n",
       "\n",
       "    .dataframe thead th {\n",
       "        text-align: right;\n",
       "    }\n",
       "</style>\n",
       "<table border=\"1\" class=\"dataframe\">\n",
       "  <thead>\n",
       "    <tr style=\"text-align: right;\">\n",
       "      <th>time</th>\n",
       "      <th>2016-01-31 21:00:00</th>\n",
       "      <th>2016-01-31 22:00:00</th>\n",
       "      <th>2016-01-31 23:00:00</th>\n",
       "      <th>2016-02-01 00:00:00</th>\n",
       "      <th>2016-02-01 01:00:00</th>\n",
       "      <th>2016-02-01 02:00:00</th>\n",
       "      <th>2016-02-01 03:00:00</th>\n",
       "      <th>2016-02-01 04:00:00</th>\n",
       "      <th>2016-02-01 05:00:00</th>\n",
       "      <th>2016-02-01 06:00:00</th>\n",
       "      <th>...</th>\n",
       "      <th>2016-02-29 11:00:00</th>\n",
       "      <th>2016-02-29 12:00:00</th>\n",
       "      <th>2016-02-29 13:00:00</th>\n",
       "      <th>2016-02-29 14:00:00</th>\n",
       "      <th>2016-02-29 15:00:00</th>\n",
       "      <th>2016-02-29 16:00:00</th>\n",
       "      <th>2016-02-29 17:00:00</th>\n",
       "      <th>2016-02-29 18:00:00</th>\n",
       "      <th>2016-02-29 19:00:00</th>\n",
       "      <th>2016-02-29 20:00:00</th>\n",
       "    </tr>\n",
       "  </thead>\n",
       "  <tbody>\n",
       "    <tr>\n",
       "      <th>0</th>\n",
       "      <td>6.121212</td>\n",
       "      <td>7.12069</td>\n",
       "      <td>7.216216</td>\n",
       "      <td>3.090909</td>\n",
       "      <td>2.25</td>\n",
       "      <td>2.125</td>\n",
       "      <td>3.0</td>\n",
       "      <td>0.666667</td>\n",
       "      <td>5.2</td>\n",
       "      <td>3.117647</td>\n",
       "      <td>...</td>\n",
       "      <td>15.730769</td>\n",
       "      <td>11.5</td>\n",
       "      <td>9.363636</td>\n",
       "      <td>11.14</td>\n",
       "      <td>16.635593</td>\n",
       "      <td>13.230769</td>\n",
       "      <td>11.22449</td>\n",
       "      <td>5.085714</td>\n",
       "      <td>8.155556</td>\n",
       "      <td>12.94697</td>\n",
       "    </tr>\n",
       "  </tbody>\n",
       "</table>\n",
       "<p>1 rows × 696 columns</p>\n",
       "</div>"
      ],
      "text/plain": [
       "time  2016-01-31 21:00:00  2016-01-31 22:00:00  2016-01-31 23:00:00  \\\n",
       "0                6.121212              7.12069             7.216216   \n",
       "\n",
       "time  2016-02-01 00:00:00  2016-02-01 01:00:00  2016-02-01 02:00:00  \\\n",
       "0                3.090909                 2.25                2.125   \n",
       "\n",
       "time  2016-02-01 03:00:00  2016-02-01 04:00:00  2016-02-01 05:00:00  \\\n",
       "0                     3.0             0.666667                  5.2   \n",
       "\n",
       "time  2016-02-01 06:00:00  ...  2016-02-29 11:00:00  2016-02-29 12:00:00  \\\n",
       "0                3.117647  ...            15.730769                 11.5   \n",
       "\n",
       "time  2016-02-29 13:00:00  2016-02-29 14:00:00  2016-02-29 15:00:00  \\\n",
       "0                9.363636                11.14            16.635593   \n",
       "\n",
       "time  2016-02-29 16:00:00  2016-02-29 17:00:00  2016-02-29 18:00:00  \\\n",
       "0               13.230769             11.22449             5.085714   \n",
       "\n",
       "time  2016-02-29 19:00:00  2016-02-29 20:00:00  \n",
       "0                8.155556             12.94697  \n",
       "\n",
       "[1 rows x 696 columns]"
      ]
     },
     "execution_count": 51,
     "metadata": {},
     "output_type": "execute_result"
    }
   ],
   "source": [
    "url_count = tweet_region_by_time_generator(output_dir, columns=['time'], Y='urls', usecols=[2,3,4,5,6,7,8,9,10])\n",
    "url_count_by_hour = pd.DataFrame(url_count.sum(axis=0)).transpose()\n",
    "url_count_by_hour"
   ]
  },
  {
   "cell_type": "code",
   "execution_count": 52,
   "metadata": {},
   "outputs": [
    {
     "data": {
      "image/png": "[encoded data removed]",
      "text/plain": [
       "<Figure size 720x504 with 1 Axes>"
      ]
     },
     "metadata": {
      "needs_background": "light"
     },
     "output_type": "display_data"
    }
   ],
   "source": [
    "plt.figure(3, figsize=(10,7))\n",
    "plt.plot(url_count_by_hour.columns, url_count_by_hour.iloc[0].values)\n",
    "plt.title(\"Url Counts\")\n",
    "plt.xticks(rotation=90)\n",
    "plt.show()"
   ]
  },
  {
   "cell_type": "markdown",
   "metadata": {},
   "source": [
    "### user_mentions"
   ]
  },
  {
   "cell_type": "code",
   "execution_count": 53,
   "metadata": {},
   "outputs": [
    {
     "name": "stdout",
     "output_type": "stream",
     "text": [
      "Running tweet_region_by_time_generator...\n",
      "Reading files from directory: ../../temp_data/region_tweets/\n",
      "Finished in 2.0591s\n"
     ]
    },
    {
     "data": {
      "text/html": [
       "<div>\n",
       "<style scoped>\n",
       "    .dataframe tbody tr th:only-of-type {\n",
       "        vertical-align: middle;\n",
       "    }\n",
       "\n",
       "    .dataframe tbody tr th {\n",
       "        vertical-align: top;\n",
       "    }\n",
       "\n",
       "    .dataframe thead th {\n",
       "        text-align: right;\n",
       "    }\n",
       "</style>\n",
       "<table border=\"1\" class=\"dataframe\">\n",
       "  <thead>\n",
       "    <tr style=\"text-align: right;\">\n",
       "      <th>time</th>\n",
       "      <th>2016-01-31 21:00:00</th>\n",
       "      <th>2016-01-31 22:00:00</th>\n",
       "      <th>2016-01-31 23:00:00</th>\n",
       "      <th>2016-02-01 00:00:00</th>\n",
       "      <th>2016-02-01 01:00:00</th>\n",
       "      <th>2016-02-01 02:00:00</th>\n",
       "      <th>2016-02-01 03:00:00</th>\n",
       "      <th>2016-02-01 04:00:00</th>\n",
       "      <th>2016-02-01 05:00:00</th>\n",
       "      <th>2016-02-01 06:00:00</th>\n",
       "      <th>...</th>\n",
       "      <th>2016-02-29 11:00:00</th>\n",
       "      <th>2016-02-29 12:00:00</th>\n",
       "      <th>2016-02-29 13:00:00</th>\n",
       "      <th>2016-02-29 14:00:00</th>\n",
       "      <th>2016-02-29 15:00:00</th>\n",
       "      <th>2016-02-29 16:00:00</th>\n",
       "      <th>2016-02-29 17:00:00</th>\n",
       "      <th>2016-02-29 18:00:00</th>\n",
       "      <th>2016-02-29 19:00:00</th>\n",
       "      <th>2016-02-29 20:00:00</th>\n",
       "    </tr>\n",
       "  </thead>\n",
       "  <tbody>\n",
       "    <tr>\n",
       "      <th>0</th>\n",
       "      <td>5.69697</td>\n",
       "      <td>5.724138</td>\n",
       "      <td>2.486486</td>\n",
       "      <td>0.393939</td>\n",
       "      <td>0.5</td>\n",
       "      <td>0.25</td>\n",
       "      <td>2.0</td>\n",
       "      <td>0.333333</td>\n",
       "      <td>1.4</td>\n",
       "      <td>0.941176</td>\n",
       "      <td>...</td>\n",
       "      <td>6.153846</td>\n",
       "      <td>10.716667</td>\n",
       "      <td>6.378788</td>\n",
       "      <td>7.383333</td>\n",
       "      <td>4.561582</td>\n",
       "      <td>4.403846</td>\n",
       "      <td>4.377551</td>\n",
       "      <td>0.714286</td>\n",
       "      <td>0.6</td>\n",
       "      <td>10.621212</td>\n",
       "    </tr>\n",
       "  </tbody>\n",
       "</table>\n",
       "<p>1 rows × 696 columns</p>\n",
       "</div>"
      ],
      "text/plain": [
       "time  2016-01-31 21:00:00  2016-01-31 22:00:00  2016-01-31 23:00:00  \\\n",
       "0                 5.69697             5.724138             2.486486   \n",
       "\n",
       "time  2016-02-01 00:00:00  2016-02-01 01:00:00  2016-02-01 02:00:00  \\\n",
       "0                0.393939                  0.5                 0.25   \n",
       "\n",
       "time  2016-02-01 03:00:00  2016-02-01 04:00:00  2016-02-01 05:00:00  \\\n",
       "0                     2.0             0.333333                  1.4   \n",
       "\n",
       "time  2016-02-01 06:00:00  ...  2016-02-29 11:00:00  2016-02-29 12:00:00  \\\n",
       "0                0.941176  ...             6.153846            10.716667   \n",
       "\n",
       "time  2016-02-29 13:00:00  2016-02-29 14:00:00  2016-02-29 15:00:00  \\\n",
       "0                6.378788             7.383333             4.561582   \n",
       "\n",
       "time  2016-02-29 16:00:00  2016-02-29 17:00:00  2016-02-29 18:00:00  \\\n",
       "0                4.403846             4.377551             0.714286   \n",
       "\n",
       "time  2016-02-29 19:00:00  2016-02-29 20:00:00  \n",
       "0                     0.6            10.621212  \n",
       "\n",
       "[1 rows x 696 columns]"
      ]
     },
     "execution_count": 53,
     "metadata": {},
     "output_type": "execute_result"
    }
   ],
   "source": [
    "user_mentions_count = tweet_region_by_time_generator(output_dir, columns=['time'], Y='user_mentions', usecols=[2,3,4,5,6,7,8,9,10])\n",
    "user_mentions_count_by_hour = pd.DataFrame(user_mentions_count.sum(axis=0)).transpose()\n",
    "user_mentions_count_by_hour"
   ]
  },
  {
   "cell_type": "code",
   "execution_count": 54,
   "metadata": {},
   "outputs": [
    {
     "data": {
      "image/png": "[encoded data removed]",
      "text/plain": [
       "<Figure size 720x504 with 1 Axes>"
      ]
     },
     "metadata": {
      "needs_background": "light"
     },
     "output_type": "display_data"
    }
   ],
   "source": [
    "plt.figure(4, figsize=(10,7))\n",
    "plt.plot(user_mentions_count_by_hour.columns, user_mentions_count_by_hour.iloc[0].values)\n",
    "plt.title(\"User mention Counts\")\n",
    "plt.xticks(rotation=90)\n",
    "plt.show()"
   ]
  },
  {
   "cell_type": "markdown",
   "metadata": {},
   "source": [
    "### favorite_count"
   ]
  },
  {
   "cell_type": "code",
   "execution_count": 55,
   "metadata": {},
   "outputs": [
    {
     "name": "stdout",
     "output_type": "stream",
     "text": [
      "Running tweet_region_by_time_generator...\n",
      "Reading files from directory: ../../temp_data/region_tweets/\n",
      "Finished in 1.7003s\n"
     ]
    },
    {
     "data": {
      "text/html": [
       "<div>\n",
       "<style scoped>\n",
       "    .dataframe tbody tr th:only-of-type {\n",
       "        vertical-align: middle;\n",
       "    }\n",
       "\n",
       "    .dataframe tbody tr th {\n",
       "        vertical-align: top;\n",
       "    }\n",
       "\n",
       "    .dataframe thead th {\n",
       "        text-align: right;\n",
       "    }\n",
       "</style>\n",
       "<table border=\"1\" class=\"dataframe\">\n",
       "  <thead>\n",
       "    <tr style=\"text-align: right;\">\n",
       "      <th>time</th>\n",
       "      <th>2016-01-31 21:00:00</th>\n",
       "      <th>2016-01-31 22:00:00</th>\n",
       "      <th>2016-01-31 23:00:00</th>\n",
       "      <th>2016-02-01 00:00:00</th>\n",
       "      <th>2016-02-01 01:00:00</th>\n",
       "      <th>2016-02-01 02:00:00</th>\n",
       "      <th>2016-02-01 03:00:00</th>\n",
       "      <th>2016-02-01 04:00:00</th>\n",
       "      <th>2016-02-01 05:00:00</th>\n",
       "      <th>2016-02-01 06:00:00</th>\n",
       "      <th>...</th>\n",
       "      <th>2016-02-29 11:00:00</th>\n",
       "      <th>2016-02-29 12:00:00</th>\n",
       "      <th>2016-02-29 13:00:00</th>\n",
       "      <th>2016-02-29 14:00:00</th>\n",
       "      <th>2016-02-29 15:00:00</th>\n",
       "      <th>2016-02-29 16:00:00</th>\n",
       "      <th>2016-02-29 17:00:00</th>\n",
       "      <th>2016-02-29 18:00:00</th>\n",
       "      <th>2016-02-29 19:00:00</th>\n",
       "      <th>2016-02-29 20:00:00</th>\n",
       "    </tr>\n",
       "  </thead>\n",
       "  <tbody>\n",
       "    <tr>\n",
       "      <th>0</th>\n",
       "      <td>0.0</td>\n",
       "      <td>0.0</td>\n",
       "      <td>0.0</td>\n",
       "      <td>0.0</td>\n",
       "      <td>0.0</td>\n",
       "      <td>0.0</td>\n",
       "      <td>0.0</td>\n",
       "      <td>0.0</td>\n",
       "      <td>0.0</td>\n",
       "      <td>0.0</td>\n",
       "      <td>...</td>\n",
       "      <td>0.0</td>\n",
       "      <td>0.0</td>\n",
       "      <td>0.0</td>\n",
       "      <td>0.0</td>\n",
       "      <td>0.0</td>\n",
       "      <td>0.0</td>\n",
       "      <td>0.0</td>\n",
       "      <td>0.0</td>\n",
       "      <td>0.0</td>\n",
       "      <td>0.0</td>\n",
       "    </tr>\n",
       "  </tbody>\n",
       "</table>\n",
       "<p>1 rows × 696 columns</p>\n",
       "</div>"
      ],
      "text/plain": [
       "time  2016-01-31 21:00:00  2016-01-31 22:00:00  2016-01-31 23:00:00  \\\n",
       "0                     0.0                  0.0                  0.0   \n",
       "\n",
       "time  2016-02-01 00:00:00  2016-02-01 01:00:00  2016-02-01 02:00:00  \\\n",
       "0                     0.0                  0.0                  0.0   \n",
       "\n",
       "time  2016-02-01 03:00:00  2016-02-01 04:00:00  2016-02-01 05:00:00  \\\n",
       "0                     0.0                  0.0                  0.0   \n",
       "\n",
       "time  2016-02-01 06:00:00  ...  2016-02-29 11:00:00  2016-02-29 12:00:00  \\\n",
       "0                     0.0  ...                  0.0                  0.0   \n",
       "\n",
       "time  2016-02-29 13:00:00  2016-02-29 14:00:00  2016-02-29 15:00:00  \\\n",
       "0                     0.0                  0.0                  0.0   \n",
       "\n",
       "time  2016-02-29 16:00:00  2016-02-29 17:00:00  2016-02-29 18:00:00  \\\n",
       "0                     0.0                  0.0                  0.0   \n",
       "\n",
       "time  2016-02-29 19:00:00  2016-02-29 20:00:00  \n",
       "0                     0.0                  0.0  \n",
       "\n",
       "[1 rows x 696 columns]"
      ]
     },
     "execution_count": 55,
     "metadata": {},
     "output_type": "execute_result"
    }
   ],
   "source": [
    "favorite_count = tweet_region_by_time_generator(output_dir, columns=['time'], Y='favorite_count', usecols=[2,3,4,5,6,7,8,9,10])\n",
    "favorite_count_by_hour = pd.DataFrame(favorite_count.sum(axis=0)).transpose()\n",
    "favorite_count_by_hour"
   ]
  },
  {
   "cell_type": "code",
   "execution_count": 56,
   "metadata": {},
   "outputs": [
    {
     "data": {
      "image/png": "[encoded data removed]",
      "text/plain": [
       "<Figure size 720x504 with 1 Axes>"
      ]
     },
     "metadata": {
      "needs_background": "light"
     },
     "output_type": "display_data"
    }
   ],
   "source": [
    "plt.figure(4, figsize=(10,7))\n",
    "plt.plot(favorite_count_by_hour.columns, favorite_count_by_hour.iloc[0].values)\n",
    "plt.title(\"Favorite Counts\")\n",
    "plt.xticks(rotation=90)\n",
    "plt.show()"
   ]
  },
  {
   "cell_type": "markdown",
   "metadata": {},
   "source": [
    "### retweet_count"
   ]
  },
  {
   "cell_type": "code",
   "execution_count": 57,
   "metadata": {},
   "outputs": [
    {
     "name": "stdout",
     "output_type": "stream",
     "text": [
      "Running tweet_region_by_time_generator...\n",
      "Reading files from directory: ../../temp_data/region_tweets/\n",
      "Finished in 1.8609s\n"
     ]
    },
    {
     "data": {
      "text/html": [
       "<div>\n",
       "<style scoped>\n",
       "    .dataframe tbody tr th:only-of-type {\n",
       "        vertical-align: middle;\n",
       "    }\n",
       "\n",
       "    .dataframe tbody tr th {\n",
       "        vertical-align: top;\n",
       "    }\n",
       "\n",
       "    .dataframe thead th {\n",
       "        text-align: right;\n",
       "    }\n",
       "</style>\n",
       "<table border=\"1\" class=\"dataframe\">\n",
       "  <thead>\n",
       "    <tr style=\"text-align: right;\">\n",
       "      <th>time</th>\n",
       "      <th>2016-01-31 21:00:00</th>\n",
       "      <th>2016-01-31 22:00:00</th>\n",
       "      <th>2016-01-31 23:00:00</th>\n",
       "      <th>2016-02-01 00:00:00</th>\n",
       "      <th>2016-02-01 01:00:00</th>\n",
       "      <th>2016-02-01 02:00:00</th>\n",
       "      <th>2016-02-01 03:00:00</th>\n",
       "      <th>2016-02-01 04:00:00</th>\n",
       "      <th>2016-02-01 05:00:00</th>\n",
       "      <th>2016-02-01 06:00:00</th>\n",
       "      <th>...</th>\n",
       "      <th>2016-02-29 11:00:00</th>\n",
       "      <th>2016-02-29 12:00:00</th>\n",
       "      <th>2016-02-29 13:00:00</th>\n",
       "      <th>2016-02-29 14:00:00</th>\n",
       "      <th>2016-02-29 15:00:00</th>\n",
       "      <th>2016-02-29 16:00:00</th>\n",
       "      <th>2016-02-29 17:00:00</th>\n",
       "      <th>2016-02-29 18:00:00</th>\n",
       "      <th>2016-02-29 19:00:00</th>\n",
       "      <th>2016-02-29 20:00:00</th>\n",
       "    </tr>\n",
       "  </thead>\n",
       "  <tbody>\n",
       "    <tr>\n",
       "      <th>0</th>\n",
       "      <td>0.0</td>\n",
       "      <td>0.0</td>\n",
       "      <td>0.0</td>\n",
       "      <td>0.0</td>\n",
       "      <td>0.0</td>\n",
       "      <td>0.0</td>\n",
       "      <td>0.0</td>\n",
       "      <td>0.0</td>\n",
       "      <td>0.0</td>\n",
       "      <td>0.0</td>\n",
       "      <td>...</td>\n",
       "      <td>0.0</td>\n",
       "      <td>0.0</td>\n",
       "      <td>0.0</td>\n",
       "      <td>0.0</td>\n",
       "      <td>0.0</td>\n",
       "      <td>0.0</td>\n",
       "      <td>0.0</td>\n",
       "      <td>0.0</td>\n",
       "      <td>0.0</td>\n",
       "      <td>0.0</td>\n",
       "    </tr>\n",
       "  </tbody>\n",
       "</table>\n",
       "<p>1 rows × 696 columns</p>\n",
       "</div>"
      ],
      "text/plain": [
       "time  2016-01-31 21:00:00  2016-01-31 22:00:00  2016-01-31 23:00:00  \\\n",
       "0                     0.0                  0.0                  0.0   \n",
       "\n",
       "time  2016-02-01 00:00:00  2016-02-01 01:00:00  2016-02-01 02:00:00  \\\n",
       "0                     0.0                  0.0                  0.0   \n",
       "\n",
       "time  2016-02-01 03:00:00  2016-02-01 04:00:00  2016-02-01 05:00:00  \\\n",
       "0                     0.0                  0.0                  0.0   \n",
       "\n",
       "time  2016-02-01 06:00:00  ...  2016-02-29 11:00:00  2016-02-29 12:00:00  \\\n",
       "0                     0.0  ...                  0.0                  0.0   \n",
       "\n",
       "time  2016-02-29 13:00:00  2016-02-29 14:00:00  2016-02-29 15:00:00  \\\n",
       "0                     0.0                  0.0                  0.0   \n",
       "\n",
       "time  2016-02-29 16:00:00  2016-02-29 17:00:00  2016-02-29 18:00:00  \\\n",
       "0                     0.0                  0.0                  0.0   \n",
       "\n",
       "time  2016-02-29 19:00:00  2016-02-29 20:00:00  \n",
       "0                     0.0                  0.0  \n",
       "\n",
       "[1 rows x 696 columns]"
      ]
     },
     "execution_count": 57,
     "metadata": {},
     "output_type": "execute_result"
    }
   ],
   "source": [
    "retweet_count = tweet_region_by_time_generator(output_dir, columns=['time'], Y='retweet_count', usecols=[2,3,4,5,6,7,8,9,10])\n",
    "retweet_count_by_hour = pd.DataFrame(retweet_count.sum(axis=0)).transpose()\n",
    "retweet_count_by_hour"
   ]
  },
  {
   "cell_type": "code",
   "execution_count": 58,
   "metadata": {},
   "outputs": [
    {
     "data": {
      "image/png": "[encoded data removed]",
      "text/plain": [
       "<Figure size 720x504 with 1 Axes>"
      ]
     },
     "metadata": {
      "needs_background": "light"
     },
     "output_type": "display_data"
    }
   ],
   "source": [
    "plt.figure(5, figsize=(10,7))\n",
    "plt.plot(retweet_count_by_hour.columns, retweet_count_by_hour.iloc[0].values)\n",
    "plt.title(\"Retweet Counts\")\n",
    "plt.xticks(rotation=90)\n",
    "plt.show()"
   ]
  },
  {
   "cell_type": "markdown",
   "metadata": {},
   "source": [
    "### User follower count "
   ]
  },
  {
   "cell_type": "code",
   "execution_count": 59,
   "metadata": {},
   "outputs": [
    {
     "name": "stdout",
     "output_type": "stream",
     "text": [
      "Running tweet_region_by_time_generator...\n",
      "Reading files from directory: ../../temp_data/region_tweets/\n",
      "Finished in 1.8895s\n"
     ]
    },
    {
     "data": {
      "text/html": [
       "<div>\n",
       "<style scoped>\n",
       "    .dataframe tbody tr th:only-of-type {\n",
       "        vertical-align: middle;\n",
       "    }\n",
       "\n",
       "    .dataframe tbody tr th {\n",
       "        vertical-align: top;\n",
       "    }\n",
       "\n",
       "    .dataframe thead th {\n",
       "        text-align: right;\n",
       "    }\n",
       "</style>\n",
       "<table border=\"1\" class=\"dataframe\">\n",
       "  <thead>\n",
       "    <tr style=\"text-align: right;\">\n",
       "      <th>time</th>\n",
       "      <th>2016-01-31 21:00:00</th>\n",
       "      <th>2016-01-31 22:00:00</th>\n",
       "      <th>2016-01-31 23:00:00</th>\n",
       "      <th>2016-02-01 00:00:00</th>\n",
       "      <th>2016-02-01 01:00:00</th>\n",
       "      <th>2016-02-01 02:00:00</th>\n",
       "      <th>2016-02-01 03:00:00</th>\n",
       "      <th>2016-02-01 04:00:00</th>\n",
       "      <th>2016-02-01 05:00:00</th>\n",
       "      <th>2016-02-01 06:00:00</th>\n",
       "      <th>...</th>\n",
       "      <th>2016-02-29 11:00:00</th>\n",
       "      <th>2016-02-29 12:00:00</th>\n",
       "      <th>2016-02-29 13:00:00</th>\n",
       "      <th>2016-02-29 14:00:00</th>\n",
       "      <th>2016-02-29 15:00:00</th>\n",
       "      <th>2016-02-29 16:00:00</th>\n",
       "      <th>2016-02-29 17:00:00</th>\n",
       "      <th>2016-02-29 18:00:00</th>\n",
       "      <th>2016-02-29 19:00:00</th>\n",
       "      <th>2016-02-29 20:00:00</th>\n",
       "    </tr>\n",
       "  </thead>\n",
       "  <tbody>\n",
       "    <tr>\n",
       "      <th>0</th>\n",
       "      <td>22403.621212</td>\n",
       "      <td>13061.224138</td>\n",
       "      <td>58042.310811</td>\n",
       "      <td>9306.787879</td>\n",
       "      <td>1938.75</td>\n",
       "      <td>3530.625</td>\n",
       "      <td>1617.5</td>\n",
       "      <td>900.666667</td>\n",
       "      <td>16315.8</td>\n",
       "      <td>3819.764706</td>\n",
       "      <td>...</td>\n",
       "      <td>48994.448718</td>\n",
       "      <td>61258.133333</td>\n",
       "      <td>45293.090909</td>\n",
       "      <td>51073.533333</td>\n",
       "      <td>15250.418079</td>\n",
       "      <td>111347.903846</td>\n",
       "      <td>47295.311224</td>\n",
       "      <td>12251.628571</td>\n",
       "      <td>8009.111111</td>\n",
       "      <td>81925.409091</td>\n",
       "    </tr>\n",
       "  </tbody>\n",
       "</table>\n",
       "<p>1 rows × 696 columns</p>\n",
       "</div>"
      ],
      "text/plain": [
       "time  2016-01-31 21:00:00  2016-01-31 22:00:00  2016-01-31 23:00:00  \\\n",
       "0            22403.621212         13061.224138         58042.310811   \n",
       "\n",
       "time  2016-02-01 00:00:00  2016-02-01 01:00:00  2016-02-01 02:00:00  \\\n",
       "0             9306.787879              1938.75             3530.625   \n",
       "\n",
       "time  2016-02-01 03:00:00  2016-02-01 04:00:00  2016-02-01 05:00:00  \\\n",
       "0                  1617.5           900.666667              16315.8   \n",
       "\n",
       "time  2016-02-01 06:00:00  ...  2016-02-29 11:00:00  2016-02-29 12:00:00  \\\n",
       "0             3819.764706  ...         48994.448718         61258.133333   \n",
       "\n",
       "time  2016-02-29 13:00:00  2016-02-29 14:00:00  2016-02-29 15:00:00  \\\n",
       "0            45293.090909         51073.533333         15250.418079   \n",
       "\n",
       "time  2016-02-29 16:00:00  2016-02-29 17:00:00  2016-02-29 18:00:00  \\\n",
       "0           111347.903846         47295.311224         12251.628571   \n",
       "\n",
       "time  2016-02-29 19:00:00  2016-02-29 20:00:00  \n",
       "0             8009.111111         81925.409091  \n",
       "\n",
       "[1 rows x 696 columns]"
      ]
     },
     "execution_count": 59,
     "metadata": {},
     "output_type": "execute_result"
    }
   ],
   "source": [
    "follower_count = tweet_region_by_time_generator(output_dir, columns=['time'], Y='user_followers_count', usecols=[2,3,4,5,6,7,8,9,10])\n",
    "follower_count_by_hour = pd.DataFrame(follower_count.sum(axis=0)).transpose()\n",
    "follower_count_by_hour"
   ]
  },
  {
   "cell_type": "code",
   "execution_count": 60,
   "metadata": {},
   "outputs": [
    {
     "data": {
      "image/png": "[encoded data removed]",
      "text/plain": [
       "<Figure size 720x504 with 1 Axes>"
      ]
     },
     "metadata": {
      "needs_background": "light"
     },
     "output_type": "display_data"
    }
   ],
   "source": [
    "plt.figure(6, figsize=(10,7))\n",
    "plt.plot(follower_count_by_hour.columns, follower_count_by_hour.iloc[0].values)\n",
    "plt.title(\"Follower Counts\")\n",
    "plt.xticks(rotation=90)\n",
    "plt.show()"
   ]
  },
  {
   "cell_type": "markdown",
   "metadata": {},
   "source": [
    "### Friends count"
   ]
  },
  {
   "cell_type": "code",
   "execution_count": 61,
   "metadata": {},
   "outputs": [
    {
     "name": "stdout",
     "output_type": "stream",
     "text": [
      "Running tweet_region_by_time_generator...\n",
      "Reading files from directory: ../../temp_data/region_tweets/\n",
      "Finished in 1.9508s\n"
     ]
    },
    {
     "data": {
      "text/html": [
       "<div>\n",
       "<style scoped>\n",
       "    .dataframe tbody tr th:only-of-type {\n",
       "        vertical-align: middle;\n",
       "    }\n",
       "\n",
       "    .dataframe tbody tr th {\n",
       "        vertical-align: top;\n",
       "    }\n",
       "\n",
       "    .dataframe thead th {\n",
       "        text-align: right;\n",
       "    }\n",
       "</style>\n",
       "<table border=\"1\" class=\"dataframe\">\n",
       "  <thead>\n",
       "    <tr style=\"text-align: right;\">\n",
       "      <th>time</th>\n",
       "      <th>2016-01-31 21:00:00</th>\n",
       "      <th>2016-01-31 22:00:00</th>\n",
       "      <th>2016-01-31 23:00:00</th>\n",
       "      <th>2016-02-01 00:00:00</th>\n",
       "      <th>2016-02-01 01:00:00</th>\n",
       "      <th>2016-02-01 02:00:00</th>\n",
       "      <th>2016-02-01 03:00:00</th>\n",
       "      <th>2016-02-01 04:00:00</th>\n",
       "      <th>2016-02-01 05:00:00</th>\n",
       "      <th>2016-02-01 06:00:00</th>\n",
       "      <th>...</th>\n",
       "      <th>2016-02-29 11:00:00</th>\n",
       "      <th>2016-02-29 12:00:00</th>\n",
       "      <th>2016-02-29 13:00:00</th>\n",
       "      <th>2016-02-29 14:00:00</th>\n",
       "      <th>2016-02-29 15:00:00</th>\n",
       "      <th>2016-02-29 16:00:00</th>\n",
       "      <th>2016-02-29 17:00:00</th>\n",
       "      <th>2016-02-29 18:00:00</th>\n",
       "      <th>2016-02-29 19:00:00</th>\n",
       "      <th>2016-02-29 20:00:00</th>\n",
       "    </tr>\n",
       "  </thead>\n",
       "  <tbody>\n",
       "    <tr>\n",
       "      <th>0</th>\n",
       "      <td>6789.5</td>\n",
       "      <td>5037.810345</td>\n",
       "      <td>4376.621622</td>\n",
       "      <td>4422.333333</td>\n",
       "      <td>1651.125</td>\n",
       "      <td>1420.125</td>\n",
       "      <td>608.0</td>\n",
       "      <td>647.0</td>\n",
       "      <td>11038.9</td>\n",
       "      <td>1587.941176</td>\n",
       "      <td>...</td>\n",
       "      <td>14280.570513</td>\n",
       "      <td>10854.966667</td>\n",
       "      <td>8275.136364</td>\n",
       "      <td>10609.486667</td>\n",
       "      <td>8118.302825</td>\n",
       "      <td>9181.596154</td>\n",
       "      <td>15655.836735</td>\n",
       "      <td>7676.714286</td>\n",
       "      <td>5569.466667</td>\n",
       "      <td>16116.257576</td>\n",
       "    </tr>\n",
       "  </tbody>\n",
       "</table>\n",
       "<p>1 rows × 696 columns</p>\n",
       "</div>"
      ],
      "text/plain": [
       "time  2016-01-31 21:00:00  2016-01-31 22:00:00  2016-01-31 23:00:00  \\\n",
       "0                  6789.5          5037.810345          4376.621622   \n",
       "\n",
       "time  2016-02-01 00:00:00  2016-02-01 01:00:00  2016-02-01 02:00:00  \\\n",
       "0             4422.333333             1651.125             1420.125   \n",
       "\n",
       "time  2016-02-01 03:00:00  2016-02-01 04:00:00  2016-02-01 05:00:00  \\\n",
       "0                   608.0                647.0              11038.9   \n",
       "\n",
       "time  2016-02-01 06:00:00  ...  2016-02-29 11:00:00  2016-02-29 12:00:00  \\\n",
       "0             1587.941176  ...         14280.570513         10854.966667   \n",
       "\n",
       "time  2016-02-29 13:00:00  2016-02-29 14:00:00  2016-02-29 15:00:00  \\\n",
       "0             8275.136364         10609.486667          8118.302825   \n",
       "\n",
       "time  2016-02-29 16:00:00  2016-02-29 17:00:00  2016-02-29 18:00:00  \\\n",
       "0             9181.596154         15655.836735          7676.714286   \n",
       "\n",
       "time  2016-02-29 19:00:00  2016-02-29 20:00:00  \n",
       "0             5569.466667         16116.257576  \n",
       "\n",
       "[1 rows x 696 columns]"
      ]
     },
     "execution_count": 61,
     "metadata": {},
     "output_type": "execute_result"
    }
   ],
   "source": [
    "friends_count = tweet_region_by_time_generator(output_dir, columns=['time'], Y='user_friends_count', usecols=[2,3,4,5,6,7,8,9,10])\n",
    "friends_count_by_hour = pd.DataFrame(friends_count.sum(axis=0)).transpose()\n",
    "friends_count_by_hour"
   ]
  },
  {
   "cell_type": "code",
   "execution_count": 62,
   "metadata": {},
   "outputs": [
    {
     "data": {
      "image/png": "[encoded data removed]",
      "text/plain": [
       "<Figure size 720x504 with 1 Axes>"
      ]
     },
     "metadata": {
      "needs_background": "light"
     },
     "output_type": "display_data"
    }
   ],
   "source": [
    "plt.figure(7, figsize=(10,7))\n",
    "plt.plot(friends_count_by_hour.columns, friends_count_by_hour.iloc[0].values)\n",
    "plt.title(\"Friend Counts\")\n",
    "plt.xticks(rotation=90)\n",
    "plt.show()"
   ]
  },
  {
   "cell_type": "markdown",
   "metadata": {},
   "source": [
    "## All data"
   ]
  },
  {
   "cell_type": "code",
   "execution_count": 69,
   "metadata": {},
   "outputs": [
    {
     "name": "stdout",
     "output_type": "stream",
     "text": [
      "Dimensions: (5, 696)\n"
     ]
    },
    {
     "data": {
      "text/html": [
       "<div>\n",
       "<style scoped>\n",
       "    .dataframe tbody tr th:only-of-type {\n",
       "        vertical-align: middle;\n",
       "    }\n",
       "\n",
       "    .dataframe tbody tr th {\n",
       "        vertical-align: top;\n",
       "    }\n",
       "\n",
       "    .dataframe thead th {\n",
       "        text-align: right;\n",
       "    }\n",
       "</style>\n",
       "<table border=\"1\" class=\"dataframe\">\n",
       "  <thead>\n",
       "    <tr style=\"text-align: right;\">\n",
       "      <th>time</th>\n",
       "      <th>2016-01-31 21:00:00</th>\n",
       "      <th>2016-01-31 22:00:00</th>\n",
       "      <th>2016-01-31 23:00:00</th>\n",
       "      <th>2016-02-01 00:00:00</th>\n",
       "      <th>2016-02-01 01:00:00</th>\n",
       "      <th>2016-02-01 02:00:00</th>\n",
       "      <th>2016-02-01 03:00:00</th>\n",
       "      <th>2016-02-01 04:00:00</th>\n",
       "      <th>2016-02-01 05:00:00</th>\n",
       "      <th>2016-02-01 06:00:00</th>\n",
       "      <th>...</th>\n",
       "      <th>2016-02-29 11:00:00</th>\n",
       "      <th>2016-02-29 12:00:00</th>\n",
       "      <th>2016-02-29 13:00:00</th>\n",
       "      <th>2016-02-29 14:00:00</th>\n",
       "      <th>2016-02-29 15:00:00</th>\n",
       "      <th>2016-02-29 16:00:00</th>\n",
       "      <th>2016-02-29 17:00:00</th>\n",
       "      <th>2016-02-29 18:00:00</th>\n",
       "      <th>2016-02-29 19:00:00</th>\n",
       "      <th>2016-02-29 20:00:00</th>\n",
       "    </tr>\n",
       "  </thead>\n",
       "  <tbody>\n",
       "    <tr>\n",
       "      <th>tweet_count</th>\n",
       "      <td>10.000000</td>\n",
       "      <td>10.000000</td>\n",
       "      <td>11.000000</td>\n",
       "      <td>4.000000</td>\n",
       "      <td>3.0000</td>\n",
       "      <td>4.000</td>\n",
       "      <td>4.0</td>\n",
       "      <td>1.000000</td>\n",
       "      <td>7.0</td>\n",
       "      <td>4.000000</td>\n",
       "      <td>...</td>\n",
       "      <td>21.000000</td>\n",
       "      <td>18.000000</td>\n",
       "      <td>14.000000</td>\n",
       "      <td>18.000000</td>\n",
       "      <td>21.000000</td>\n",
       "      <td>17.000000</td>\n",
       "      <td>14.000000</td>\n",
       "      <td>6.000000</td>\n",
       "      <td>13.000000</td>\n",
       "      <td>19.000000</td>\n",
       "    </tr>\n",
       "    <tr>\n",
       "      <th>url_count</th>\n",
       "      <td>6.121212</td>\n",
       "      <td>7.120690</td>\n",
       "      <td>7.216216</td>\n",
       "      <td>3.090909</td>\n",
       "      <td>2.2500</td>\n",
       "      <td>2.125</td>\n",
       "      <td>3.0</td>\n",
       "      <td>0.666667</td>\n",
       "      <td>5.2</td>\n",
       "      <td>3.117647</td>\n",
       "      <td>...</td>\n",
       "      <td>15.730769</td>\n",
       "      <td>11.500000</td>\n",
       "      <td>9.363636</td>\n",
       "      <td>11.140000</td>\n",
       "      <td>16.635593</td>\n",
       "      <td>13.230769</td>\n",
       "      <td>11.224490</td>\n",
       "      <td>5.085714</td>\n",
       "      <td>8.155556</td>\n",
       "      <td>12.946970</td>\n",
       "    </tr>\n",
       "    <tr>\n",
       "      <th>hashtag_count</th>\n",
       "      <td>5.333333</td>\n",
       "      <td>7.258621</td>\n",
       "      <td>17.108108</td>\n",
       "      <td>5.121212</td>\n",
       "      <td>2.3125</td>\n",
       "      <td>8.000</td>\n",
       "      <td>7.0</td>\n",
       "      <td>0.000000</td>\n",
       "      <td>5.1</td>\n",
       "      <td>15.294118</td>\n",
       "      <td>...</td>\n",
       "      <td>20.685897</td>\n",
       "      <td>25.866667</td>\n",
       "      <td>17.090909</td>\n",
       "      <td>24.553333</td>\n",
       "      <td>15.955932</td>\n",
       "      <td>19.730769</td>\n",
       "      <td>20.693878</td>\n",
       "      <td>7.114286</td>\n",
       "      <td>12.155556</td>\n",
       "      <td>15.439394</td>\n",
       "    </tr>\n",
       "    <tr>\n",
       "      <th>user_mentions_count</th>\n",
       "      <td>5.696970</td>\n",
       "      <td>5.724138</td>\n",
       "      <td>2.486486</td>\n",
       "      <td>0.393939</td>\n",
       "      <td>0.5000</td>\n",
       "      <td>0.250</td>\n",
       "      <td>2.0</td>\n",
       "      <td>0.333333</td>\n",
       "      <td>1.4</td>\n",
       "      <td>0.941176</td>\n",
       "      <td>...</td>\n",
       "      <td>6.153846</td>\n",
       "      <td>10.716667</td>\n",
       "      <td>6.378788</td>\n",
       "      <td>7.383333</td>\n",
       "      <td>4.561582</td>\n",
       "      <td>4.403846</td>\n",
       "      <td>4.377551</td>\n",
       "      <td>0.714286</td>\n",
       "      <td>0.600000</td>\n",
       "      <td>10.621212</td>\n",
       "    </tr>\n",
       "    <tr>\n",
       "      <th>follower_count</th>\n",
       "      <td>22403.621212</td>\n",
       "      <td>13061.224138</td>\n",
       "      <td>58042.310811</td>\n",
       "      <td>9306.787879</td>\n",
       "      <td>1938.7500</td>\n",
       "      <td>3530.625</td>\n",
       "      <td>1617.5</td>\n",
       "      <td>900.666667</td>\n",
       "      <td>16315.8</td>\n",
       "      <td>3819.764706</td>\n",
       "      <td>...</td>\n",
       "      <td>48994.448718</td>\n",
       "      <td>61258.133333</td>\n",
       "      <td>45293.090909</td>\n",
       "      <td>51073.533333</td>\n",
       "      <td>15250.418079</td>\n",
       "      <td>111347.903846</td>\n",
       "      <td>47295.311224</td>\n",
       "      <td>12251.628571</td>\n",
       "      <td>8009.111111</td>\n",
       "      <td>81925.409091</td>\n",
       "    </tr>\n",
       "  </tbody>\n",
       "</table>\n",
       "<p>5 rows × 696 columns</p>\n",
       "</div>"
      ],
      "text/plain": [
       "time                 2016-01-31 21:00:00  2016-01-31 22:00:00  \\\n",
       "tweet_count                    10.000000            10.000000   \n",
       "url_count                       6.121212             7.120690   \n",
       "hashtag_count                   5.333333             7.258621   \n",
       "user_mentions_count             5.696970             5.724138   \n",
       "follower_count              22403.621212         13061.224138   \n",
       "\n",
       "time                 2016-01-31 23:00:00  2016-02-01 00:00:00  \\\n",
       "tweet_count                    11.000000             4.000000   \n",
       "url_count                       7.216216             3.090909   \n",
       "hashtag_count                  17.108108             5.121212   \n",
       "user_mentions_count             2.486486             0.393939   \n",
       "follower_count              58042.310811          9306.787879   \n",
       "\n",
       "time                 2016-02-01 01:00:00  2016-02-01 02:00:00  \\\n",
       "tweet_count                       3.0000                4.000   \n",
       "url_count                         2.2500                2.125   \n",
       "hashtag_count                     2.3125                8.000   \n",
       "user_mentions_count               0.5000                0.250   \n",
       "follower_count                 1938.7500             3530.625   \n",
       "\n",
       "time                 2016-02-01 03:00:00  2016-02-01 04:00:00  \\\n",
       "tweet_count                          4.0             1.000000   \n",
       "url_count                            3.0             0.666667   \n",
       "hashtag_count                        7.0             0.000000   \n",
       "user_mentions_count                  2.0             0.333333   \n",
       "follower_count                    1617.5           900.666667   \n",
       "\n",
       "time                 2016-02-01 05:00:00  2016-02-01 06:00:00  ...  \\\n",
       "tweet_count                          7.0             4.000000  ...   \n",
       "url_count                            5.2             3.117647  ...   \n",
       "hashtag_count                        5.1            15.294118  ...   \n",
       "user_mentions_count                  1.4             0.941176  ...   \n",
       "follower_count                   16315.8          3819.764706  ...   \n",
       "\n",
       "time                 2016-02-29 11:00:00  2016-02-29 12:00:00  \\\n",
       "tweet_count                    21.000000            18.000000   \n",
       "url_count                      15.730769            11.500000   \n",
       "hashtag_count                  20.685897            25.866667   \n",
       "user_mentions_count             6.153846            10.716667   \n",
       "follower_count              48994.448718         61258.133333   \n",
       "\n",
       "time                 2016-02-29 13:00:00  2016-02-29 14:00:00  \\\n",
       "tweet_count                    14.000000            18.000000   \n",
       "url_count                       9.363636            11.140000   \n",
       "hashtag_count                  17.090909            24.553333   \n",
       "user_mentions_count             6.378788             7.383333   \n",
       "follower_count              45293.090909         51073.533333   \n",
       "\n",
       "time                 2016-02-29 15:00:00  2016-02-29 16:00:00  \\\n",
       "tweet_count                    21.000000            17.000000   \n",
       "url_count                      16.635593            13.230769   \n",
       "hashtag_count                  15.955932            19.730769   \n",
       "user_mentions_count             4.561582             4.403846   \n",
       "follower_count              15250.418079        111347.903846   \n",
       "\n",
       "time                 2016-02-29 17:00:00  2016-02-29 18:00:00  \\\n",
       "tweet_count                    14.000000             6.000000   \n",
       "url_count                      11.224490             5.085714   \n",
       "hashtag_count                  20.693878             7.114286   \n",
       "user_mentions_count             4.377551             0.714286   \n",
       "follower_count              47295.311224         12251.628571   \n",
       "\n",
       "time                 2016-02-29 19:00:00  2016-02-29 20:00:00  \n",
       "tweet_count                    13.000000            19.000000  \n",
       "url_count                       8.155556            12.946970  \n",
       "hashtag_count                  12.155556            15.439394  \n",
       "user_mentions_count             0.600000            10.621212  \n",
       "follower_count               8009.111111         81925.409091  \n",
       "\n",
       "[5 rows x 696 columns]"
      ]
     },
     "execution_count": 69,
     "metadata": {},
     "output_type": "execute_result"
    }
   ],
   "source": [
    "all_data_by_hour = pd.concat([tweet_count_by_hour,\n",
    "                              url_count_by_hour, \n",
    "                              hashtag_count_by_hour, \n",
    "                              user_mentions_count_by_hour, \n",
    "                              follower_count_by_hour])\n",
    "\n",
    "all_data_by_hour.index = ['tweet_count', 'url_count', 'hashtag_count', 'user_mentions_count', 'follower_count']\n",
    "print(\"Dimensions: {}\".format(all_data_by_hour.shape))\n",
    "all_data_by_hour.head()"
   ]
  },
  {
   "cell_type": "code",
   "execution_count": 70,
   "metadata": {},
   "outputs": [],
   "source": [
    "all_data_by_hour.to_csv('../../output/tweet_features_by_hour.csv')"
   ]
  },
  {
   "cell_type": "code",
   "execution_count": null,
   "metadata": {},
   "outputs": [],
   "source": []
  }
 ],
 "metadata": {
  "kernelspec": {
   "display_name": "Python 3",
   "language": "python",
   "name": "python3"
  },
  "language_info": {
   "codemirror_mode": {
    "name": "ipython",
    "version": 3
   },
   "file_extension": ".py",
   "mimetype": "text/x-python",
   "name": "python",
   "nbconvert_exporter": "python",
   "pygments_lexer": "ipython3",
   "version": "3.6.1"
  }
 },
 "nbformat": 4,
 "nbformat_minor": 2
}
