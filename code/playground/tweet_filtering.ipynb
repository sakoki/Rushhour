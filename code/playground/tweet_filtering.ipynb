{
 "cells": [
  {
   "cell_type": "code",
   "execution_count": 2,
   "metadata": {},
   "outputs": [
    {
     "name": "stdout",
     "output_type": "stream",
     "text": [
      "sakoki\n"
     ]
    }
   ],
   "source": [
    "# Check user \n",
    "!echo $USER"
   ]
  },
  {
   "cell_type": "code",
   "execution_count": 3,
   "metadata": {},
   "outputs": [
    {
     "data": {
      "text/plain": [
       "['',\n",
       " '/home/sakoki/.conda/envs/rushhour/lib/python3.6/site-packages',\n",
       " '/home/sakoki/.conda/envs/rushhour/lib/python36.zip',\n",
       " '/home/sakoki/.conda/envs/rushhour/lib/python3.6',\n",
       " '/home/sakoki/.conda/envs/rushhour/lib/python3.6/lib-dynload',\n",
       " '/home/sakoki/.conda/envs/rushhour/lib/python3.6/site-packages/IPython/extensions',\n",
       " '/home/sakoki/.ipython']"
      ]
     },
     "execution_count": 3,
     "metadata": {},
     "output_type": "execute_result"
    }
   ],
   "source": [
    "# List all paths \n",
    "import sys\n",
    "sys.path"
   ]
  },
  {
   "cell_type": "code",
   "execution_count": 4,
   "metadata": {},
   "outputs": [],
   "source": [
    "import geopandas as gpd\n",
    "import pandas as pd\n",
    "import numpy as np \n",
    "import json\n",
    "import pprint\n",
    "import os \n",
    "import csv\n",
    "import re\n",
    "from time import time\n",
    "from shapely.geometry import Polygon\n",
    "from shapely.geometry import Point"
   ]
  },
  {
   "cell_type": "code",
   "execution_count": 5,
   "metadata": {},
   "outputs": [
    {
     "name": "stdout",
     "output_type": "stream",
     "text": [
      "0 SanFrancisco.2016-02-17\n",
      "1 SanFrancisco.2016-02-23\n",
      "2 SanFrancisco.2016-02-16\n",
      "3 SanFrancisco.2016-02-08\n",
      "4 SanFrancisco.2016-02-18\n",
      "5 SanFrancisco.2016-02-29\n",
      "6 SanFrancisco.2016-02-15\n",
      "7 SanFrancisco.2016-02-24\n",
      "8 SanFrancisco.2016-02-26\n",
      "9 SanFrancisco.2016-02-11\n",
      "10 SanFrancisco.2016-02-04\n",
      "11 SanFrancisco.2016-02-09\n",
      "12 SanFrancisco.2016-02-06\n",
      "13 SanFrancisco.2016-02-28\n",
      "14 SanFrancisco.2016-02-25\n",
      "15 SanFrancisco.2016-02-19\n",
      "16 SanFrancisco.2016-02-12\n",
      "17 SanFrancisco.2016-02-22\n",
      "18 SanFrancisco.2016-02-10\n",
      "19 SanFrancisco.2016-02-07\n",
      "20 SanFrancisco.2016-02-05\n",
      "21 SanFrancisco.2016-02-01\n",
      "22 SanFrancisco.2016-02-13\n",
      "23 SanFrancisco.2016-02-20\n",
      "24 SanFrancisco.2016-02-02\n",
      "25 SanFrancisco.2016-02-21\n",
      "26 SanFrancisco.2016-02-03\n",
      "27 SanFrancisco.2016-02-27\n",
      "28 SanFrancisco.2016-02-14\n"
     ]
    }
   ],
   "source": [
    "tweet_path = '/scratch/si699w19_fluxg/zhuofeng/SanFrancisco/'\n",
    "files = os.listdir(tweet_path)\n",
    "for i, fname in enumerate(files):\n",
    "    print(i, fname)"
   ]
  },
  {
   "cell_type": "markdown",
   "metadata": {},
   "source": [
    "## GIS filter development\n"
   ]
  },
  {
   "cell_type": "code",
   "execution_count": 6,
   "metadata": {},
   "outputs": [
    {
     "data": {
      "text/plain": [
       "['tweet_2016_02_02.csv',\n",
       " 'tweet_2016_02_01.csv',\n",
       " 'tweet_2016_02_26.csv',\n",
       " 'tweet_2016_02_27.csv',\n",
       " 'tweet_2016_02_06.csv',\n",
       " 'tweet_2016_02_12.csv',\n",
       " 'tweet_2016_02_09.csv',\n",
       " 'tweet_2016_02_08.csv',\n",
       " 'tweet_2016_02_28.csv',\n",
       " 'sf_all_census_zones.cpg',\n",
       " 'sf_all_census_zones.dbf',\n",
       " 'sf_all_census_zones.shp',\n",
       " 'tweet_2016_02_23.csv',\n",
       " 'tweet_2016_02_07.csv',\n",
       " 'tweet_2016_02_22.csv',\n",
       " 'tweet_2016_02_24.csv',\n",
       " 'tweet_2016_02_29.csv',\n",
       " 'tweet_2016_02_17.csv',\n",
       " 'tweet_2016_02_16.csv',\n",
       " 'tweet_2016_02_03.csv',\n",
       " 'tweet_2016_02_11.csv',\n",
       " 'tweet_2016_02_19.csv',\n",
       " 'tweet_2016_02_18.csv',\n",
       " 'tweet_2016_02_15.csv',\n",
       " 'tweet_2016_02_05.csv',\n",
       " 'tweet_2016_02_25.csv',\n",
       " 'tweet_2016_02_14.csv',\n",
       " 'tweet_2016_02_21.csv',\n",
       " 'sf_all_census_zones.shx',\n",
       " 'tweet_2016_02_10.csv',\n",
       " 'tweet_2016_02_20.csv',\n",
       " 'tweet_2016_02_13.csv',\n",
       " 'tweet_2016_02_04.csv']"
      ]
     },
     "execution_count": 6,
     "metadata": {},
     "output_type": "execute_result"
    }
   ],
   "source": [
    "os.listdir('./data')"
   ]
  },
  {
   "cell_type": "markdown",
   "metadata": {},
   "source": [
    "Test"
   ]
  },
  {
   "cell_type": "code",
   "execution_count": 7,
   "metadata": {},
   "outputs": [
    {
     "name": "stdout",
     "output_type": "stream",
     "text": [
      "True\n",
      "True\n"
     ]
    }
   ],
   "source": [
    "p1 = Polygon([(0,0), (1,1), (1,0)])\n",
    "p2 = Polygon([(0,1), (1,0), (1,1)])\n",
    "print(p1.intersects(p2))\n",
    "print(not p1.disjoint(p2))"
   ]
  },
  {
   "cell_type": "code",
   "execution_count": 8,
   "metadata": {},
   "outputs": [
    {
     "data": {
      "image/svg+xml": [
       "<svg xmlns=\"http://www.w3.org/2000/svg\" xmlns:xlink=\"http://www.w3.org/1999/xlink\" width=\"100.0\" height=\"100.0\" viewBox=\"-122.62550520000002 37.6935008 0.35694540000002917 0.2495433999999932\" preserveAspectRatio=\"xMinYMin meet\"><g transform=\"matrix(1,0,0,-1,0,75.636545)\"><path fill-rule=\"evenodd\" fill=\"#66cc99\" stroke=\"#555555\" stroke-width=\"0.007138908000000583\" opacity=\"0.6\" d=\"M -122.435382,37.708132 L -122.43588199999999,37.708231999999995 L -122.43617700000001,37.708231999999995 L -122.43620100000001,37.708231999999995 L -122.43658200000002,37.708231999999995 L -122.438182,37.708231999999995 L -122.43855800000001,37.708231999999995 L -122.438682,37.708231 L -122.438895,37.708248 L -122.43903299999998,37.708259 L -122.43911900000002,37.708269 L -122.43920299999999,37.708284 L -122.43967700000002,37.708332999999996 L -122.440459,37.708338 L -122.440497,37.708282 L -122.440536,37.708225 L -122.440537,37.708225999999996 L -122.440538,37.708227 L -122.44062300000002,37.708254 L -122.44071100000001,37.708282 L -122.440781,37.708304 L -122.44085500000001,37.708327 L -122.441223,37.708324999999995 L -122.441258,37.708312 L -122.441258,37.708310999999995 L -122.441546,37.708281 L -122.44181200000001,37.708256 L -122.44207900000002,37.708231 L -122.443138,37.708256999999996 L -122.44321199999999,37.708279 L -122.44448200000001,37.708332 L -122.44469199999999,37.708307999999995 L -122.44508899999998,37.708267 L -122.445381,37.708231999999995 L -122.44587499999999,37.708233 L -122.446381,37.708228999999996 L -122.44722500000002,37.708245 L -122.447281,37.708228999999996 L -122.44923299999999,37.708217999999995 L -122.449554,37.70822 L -122.44975099999999,37.708213 L -122.450158,37.70820000000001 L -122.45022,37.708197999999996 L -122.450386,37.708200999999995 L -122.451675,37.708149 L -122.45218299999999,37.708132 L -122.452995,37.708177 L -122.45380700000001,37.708222 L -122.453983,37.708231999999995 L -122.454341,37.708231999999995 L -122.45435600000002,37.708231999999995 L -122.45574699999999,37.708231 L -122.457183,37.708234999999995 L -122.457916,37.708242999999996 L -122.45850899999999,37.708231 L -122.45905,37.708231 L -122.459894,37.708231999999995 L -122.461275,37.708231999999995 L -122.46138299999998,37.708231999999995 L -122.462053,37.708231999999995 L -122.462282,37.708231999999995 L -122.46260100000002,37.708231999999995 L -122.46274000000001,37.708231999999995 L -122.462783,37.708231999999995 L -122.46358300000001,37.708332 L -122.464043,37.708239999999996 L -122.464083,37.708231999999995 L -122.46445,37.708231999999995 L -122.464483,37.708231999999995 L -122.46467000000001,37.708211 L -122.46489199999999,37.708186 L -122.46489599999998,37.708186 L -122.465383,37.708132 L -122.46575700000001,37.708132 L -122.465762,37.708131 L -122.466284,37.708131 L -122.46662799999999,37.708169 L -122.466632,37.708169 L -122.466791,37.708186999999995 L -122.466954,37.708206000000004 L -122.46697900000001,37.70821 L -122.46718299999999,37.708231999999995 L -122.46788299999999,37.708231999999995 L -122.468607,37.708231999999995 L -122.468883,37.708231999999995 L -122.468915,37.708231999999995 L -122.46893900000002,37.708231999999995 L -122.469057,37.708231999999995 L -122.469236,37.708231999999995 L -122.470883,37.708231999999995 L -122.471001,37.708252 L -122.471077,37.708264 L -122.471319,37.708304999999996 L -122.47148500000002,37.708331 L -122.47153100000001,37.708332 L -122.471761,37.70833400000001 L -122.47183700000001,37.708332 L -122.481083,37.708231999999995 L -122.48378300000002,37.708332 L -122.48488300000001,37.708332 L -122.48511699999999,37.708285 L -122.485382,37.708231 L -122.48559,37.708231 L -122.48563000000001,37.708231999999995 L -122.48570200000002,37.708231999999995 L -122.48604199999998,37.708233 L -122.48669000000001,37.708233 L -122.49358300000002,37.708231999999995 L -122.497783,37.708132 L -122.498169,37.708132 L -122.498233,37.708132 L -122.50248500000002,37.708133 L -122.502778,37.708133 L -122.50283199999998,37.708133 L -122.504385,37.708132 L -122.506931,37.708088 L -122.50710300000001,37.708085 L -122.550686,37.707332 L -122.575189,37.706721 L -122.578294,37.733988 L -122.57990000000002,37.748079 L -122.581281,37.760203 L -122.581981,37.76405 L -122.583293,37.771266 L -122.584728,37.779156 L -122.588174,37.789362 L -122.600236,37.802482999999995 L -122.61228500000001,37.815224 L -122.58458800000001,37.815228 L -122.550886,37.815328 L -122.546386,37.815228 L -122.536232,37.815303 L -122.534088,37.815346999999996 L -122.5301,37.81543 L -122.529198,37.815135 L -122.52839999999999,37.815239999999996 L -122.527399,37.814947 L -122.52730400000002,37.815647999999996 L -122.528414,37.817437999999996 L -122.529185,37.819027999999996 L -122.52708500000001,37.821028 L -122.525602,37.821218 L -122.52578500000001,37.821728 L -122.52538500000001,37.822427999999995 L -122.524385,37.822528 L -122.524535,37.822987999999995 L -122.52396300000001,37.823859 L -122.52356900000001,37.824661000000006 L -122.519275,37.824988999999995 L -122.518478,37.825294 L -122.51767800000002,37.825199 L -122.516776,37.824605999999996 L -122.51608100000001,37.82521 L -122.51187999999999,37.824338999999995 L -122.51108099999999,37.82444400000001 L -122.50518800000002,37.822888 L -122.50539299999998,37.822088 L -122.50467,37.821689 L -122.504166,37.820993 L -122.503369,37.821198 L -122.502867,37.820902 L -122.501475,37.821709999999996 L -122.501272,37.821211999999996 L -122.499764,37.819724 L -122.498968,37.820229 L -122.499878,37.821819999999995 L -122.49898200000001,37.822326 L -122.498843,37.822328 L -122.49626700000002,37.822361 L -122.49548300000002,37.822427999999995 L -122.494783,37.822728 L -122.49449899999999,37.823426 L -122.493483,37.823828 L -122.493183,37.824628 L -122.49248299999998,37.824828 L -122.49208300000001,37.825328 L -122.49138300000001,37.825728 L -122.491183,37.826428 L -122.486283,37.826228 L -122.48348300000002,37.826727999999996 L -122.482783,37.825628 L -122.481383,37.825928 L -122.481013,37.825843 L -122.479332,37.825548 L -122.47915600000002,37.825579 L -122.479056,37.825891999999996 L -122.478807,37.826674 L -122.47835899999998,37.828081999999995 L -122.478728,37.828782 L -122.47876900000001,37.828858 L -122.479643,37.830510000000004 L -122.47951,37.830418 L -122.479198,37.830874 L -122.47877600000001,37.831163 L -122.47864000000001,37.831171 L -122.47847500000002,37.831181 L -122.478355,37.830964 L -122.47828200000002,37.831224999999996 L -122.47845699999999,37.831213999999996 L -122.47853,37.831258 L -122.478633,37.831298 L -122.47806299999999,37.832457 L -122.477565,37.832572 L -122.47416900000002,37.833365 L -122.473619,37.831928999999995 L -122.47284500000002,37.832011 L -122.472248,37.832107 L -122.468079,37.833687 L -122.453983,37.839027 L -122.445483,37.842427 L -122.433625,37.846911999999996 L -122.42422700000002,37.850449999999995 L -122.42247499999998,37.85111 L -122.41871,37.852491 L -122.41867300000001,37.852505 L -122.418782,37.853425 L -122.41879399999998,37.853496 L -122.419881,37.860425 L -122.41990700000001,37.860579 L -122.42034199999999,37.863203 L -122.42038,37.863426 L -122.42216199999999,37.874435999999996 L -122.42248299999999,37.876425999999995 L -122.42268300000002,37.878126 L -122.42408300000001,37.884626 L -122.427583,37.904025 L -122.430183,37.918425 L -122.43228300000001,37.929823999999996 L -122.432216,37.929770999999995 L -122.430362,37.928304 L -122.43020500000002,37.928179 L -122.426444,37.925202 L -122.424602,37.923744 L -122.42268300000002,37.922224 L -122.420047,37.920131 L -122.41214200000002,37.913855 L -122.409507,37.911763 L -122.402593,37.906273999999996 L -122.39938199999999,37.90372500000001 L -122.38174000000001,37.889955 L -122.374782,37.884525 L -122.374582,37.884364 L -122.373982,37.883883999999995 L -122.37378200000002,37.883725 L -122.372581,37.880325 L -122.372229,37.879326 L -122.370676,37.874927 L -122.36922799999999,37.870826 L -122.36897999999998,37.870125 L -122.367781,37.866726 L -122.3654,37.860526 L -122.35826000000002,37.841926 L -122.355881,37.835727 L -122.35450399999999,37.832023 L -122.35263400000001,37.826988 L -122.35037600000001,37.820910999999995 L -122.34938700000002,37.818248 L -122.349194,37.817727999999995 L -122.34900099999999,37.81720800000001 L -122.348546,37.815967 L -122.34718099999999,37.812247 L -122.34688100000001,37.811426999999995 L -122.346681,37.811026999999996 L -122.34540100000001,37.808946999999996 L -122.34156100000001,37.802707 L -122.34028100000002,37.800627999999996 L -122.336642,37.795121 L -122.336581,37.795027999999995 L -122.336467,37.794846 L -122.33609099999998,37.794243 L -122.336088,37.794239 L -122.336082,37.794228 L -122.33608,37.794225 L -122.33517,37.792767999999995 L -122.33244299999998,37.788398 L -122.33153599999999,37.786941999999996 L -122.330811,37.785793999999996 L -122.33061000000002,37.785474 L -122.330387,37.78512 L -122.33016400000001,37.784766 L -122.32962300000001,37.783909 L -122.329532,37.783764000000005 L -122.32943999999999,37.783618 L -122.32887600000001,37.782723000000004 L -122.328805,37.78261 L -122.32873400000001,37.782498 L -122.32864000000002,37.78235 L -122.32791700000001,37.781202 L -122.32496000000002,37.776559999999996 L -122.32155500000002,37.771215 L -122.316092,37.762637999999995 L -122.31313600000001,37.757999 L -122.31047999999998,37.753828999999996 L -122.30727999999998,37.748667999999995 L -122.30118000000002,37.738828999999996 L -122.30028000000001,37.737429 L -122.29766800000002,37.733196 L -122.29448000000001,37.72803 L -122.2943,37.72775 L -122.29375999999998,37.72691 L -122.29357999999998,37.72663 L -122.29323999999998,37.72613 L -122.29222,37.72463 L -122.29188,37.724129999999995 L -122.29146,37.72347 L -122.2902,37.721489999999996 L -122.28978000000002,37.72083 L -122.28886,37.71939 L -122.28609900000002,37.71507 L -122.28518,37.713629999999995 L -122.28450000000001,37.71255 L -122.28246000000001,37.709309 L -122.28178,37.70823 L -122.29458,37.70823 L -122.360381,37.708331 L -122.371681,37.708331 L -122.375624,37.708373 L -122.376063,37.708363999999996 L -122.37940099999999,37.708406 L -122.379489,37.708414 L -122.381081,37.708431 L -122.38748200000002,37.708331 L -122.38897599999999,37.708331 L -122.39268200000001,37.708331 L -122.393226,37.708282 L -122.39331999999999,37.708273 L -122.39378200000002,37.708231 L -122.39430800000001,37.708273999999996 L -122.394628,37.7083 L -122.394834,37.708317 L -122.39497,37.708328 L -122.39510700000001,37.708338999999995 L -122.39578200000001,37.708331 L -122.39618100000001,37.708331 L -122.40028200000002,37.708331 L -122.40098200000001,37.708331 L -122.401307,37.708331 L -122.401327,37.708331 L -122.401482,37.708331 L -122.401591,37.708309 L -122.401765,37.708273999999996 L -122.40198199999999,37.708231 L -122.402382,37.708331 L -122.40268199999998,37.708331 L -122.40298200000001,37.708331 L -122.40328199999999,37.708331 L -122.40468199999998,37.708331 L -122.405226,37.708270999999996 L -122.40528100000002,37.708265 L -122.40529,37.708264 L -122.40536500000002,37.708255 L -122.40545300000001,37.708245 L -122.40548699999998,37.708241 L -122.40558200000001,37.708231 L -122.406481,37.708323 L -122.40718199999999,37.708231 L -122.40727599999998,37.708233 L -122.40737,37.708234999999995 L -122.40887000000001,37.708259 L -122.41037,37.708283 L -122.411442,37.708292 L -122.41237100000001,37.708303 L -122.41237999999998,37.708303 L -122.412516,37.708304 L -122.412898,37.708309 L -122.41328099999998,37.708315 L -122.413381,37.708306 L -122.41348099999999,37.708297 L -122.41373899999999,37.708273999999996 L -122.413997,37.708252 L -122.414182,37.708231 L -122.41432200000001,37.708231 L -122.414482,37.708231 L -122.415182,37.708231 L -122.415269,37.708239 L -122.415272,37.708239 L -122.41622200000002,37.708328 L -122.41708200000001,37.708331 L -122.41721100000001,37.708331 L -122.41816500000002,37.708331 L -122.41820400000002,37.708327 L -122.41869299999999,37.708279 L -122.419128,37.708236 L -122.41918200000002,37.708231 L -122.419802,37.708231 L -122.42008200000001,37.708231 L -122.422382,37.70823 L -122.42378200000002,37.70823 L -122.42389,37.708236 L -122.42528999999999,37.708301 L -122.425619,37.708315999999996 L -122.42598900000002,37.708332999999996 L -122.426091,37.708338999999995 L -122.426193,37.708344 L -122.42627,37.708346999999996 L -122.426366,37.708351 L -122.426927,37.708377999999996 L -122.427106,37.708385 L -122.427164,37.708388 L -122.427915,37.708423 L -122.42808200000002,37.708431 L -122.428294,37.70841 L -122.42918199999998,37.708331 L -122.42934100000001,37.708323 L -122.430027,37.708281 L -122.430882,37.708231 L -122.431341,37.708231 L -122.432182,37.708228999999996 L -122.43228900000001,37.708228999999996 L -122.43235,37.708231999999995 L -122.43338200000001,37.708231999999995 L -122.43398200000001,37.708132 L -122.434313,37.708132 L -122.43487000000002,37.708132 L -122.4351,37.708132 L -122.435382,37.708132 z\" /></g></svg>"
      ],
      "text/plain": [
       "<shapely.geometry.polygon.Polygon at 0x2b9b502dcba8>"
      ]
     },
     "execution_count": 8,
     "metadata": {},
     "output_type": "execute_result"
    }
   ],
   "source": [
    "# Read entire SF city GIS Polygon\n",
    "sf_polygon = gpd.read_file(\"./data/sf_all_census_zones.shp\")\n",
    "sf_polygon = sf_polygon['geometry'][0]\n",
    "sf_polygon"
   ]
  },
  {
   "cell_type": "code",
   "execution_count": 9,
   "metadata": {},
   "outputs": [
    {
     "data": {
      "text/plain": [
       "False"
      ]
     },
     "execution_count": 9,
     "metadata": {},
     "output_type": "execute_result"
    }
   ],
   "source": [
    "sf_polygon.contains(p1)"
   ]
  },
  {
   "cell_type": "code",
   "execution_count": 10,
   "metadata": {},
   "outputs": [
    {
     "data": {
      "text/plain": [
       "[[[-74.026675, 40.683935],\n",
       "  [-74.026675, 40.877483],\n",
       "  [-73.910408, 40.877483],\n",
       "  [-73.910408, 40.683935]]]"
      ]
     },
     "execution_count": 10,
     "metadata": {},
     "output_type": "execute_result"
    }
   ],
   "source": [
    "c = [[[-74.026675,40.683935],\n",
    "      [-74.026675,40.877483],\n",
    "      [-73.910408,40.877483],\n",
    "      [-73.910408,40.683935]]]\n",
    "\n",
    "c"
   ]
  },
  {
   "cell_type": "code",
   "execution_count": 11,
   "metadata": {},
   "outputs": [],
   "source": [
    "coord = [Point(i) for i in c[0]]"
   ]
  },
  {
   "cell_type": "code",
   "execution_count": 12,
   "metadata": {},
   "outputs": [
    {
     "data": {
      "image/svg+xml": [
       "<svg xmlns=\"http://www.w3.org/2000/svg\" xmlns:xlink=\"http://www.w3.org/1999/xlink\" width=\"100.0\" height=\"100.0\" viewBox=\"-74.03441692 40.67619308 0.13175083999999515 0.20903184000000152\" preserveAspectRatio=\"xMinYMin meet\"><g transform=\"matrix(1,0,0,-1,0,81.561418)\"><path fill-rule=\"evenodd\" fill=\"#66cc99\" stroke=\"#555555\" stroke-width=\"0.00418063680000003\" opacity=\"0.6\" d=\"M -74.026675,40.683935 L -74.026675,40.877483 L -73.910408,40.877483 L -73.910408,40.683935 L -74.026675,40.683935 z\" /></g></svg>"
      ],
      "text/plain": [
       "<shapely.geometry.polygon.Polygon at 0x2b9b502dceb8>"
      ]
     },
     "execution_count": 12,
     "metadata": {},
     "output_type": "execute_result"
    }
   ],
   "source": [
    "test = Polygon([[p.x, p.y] for p in coord])\n",
    "test"
   ]
  },
  {
   "cell_type": "code",
   "execution_count": 13,
   "metadata": {},
   "outputs": [
    {
     "data": {
      "image/svg+xml": [
       "<svg xmlns=\"http://www.w3.org/2000/svg\" xmlns:xlink=\"http://www.w3.org/1999/xlink\" width=\"100.0\" height=\"100.0\" viewBox=\"-74.9685415 39.780709 2.0 2.0\" preserveAspectRatio=\"xMinYMin meet\"><g transform=\"matrix(1,0,0,-1,0,81.561418)\"><circle cx=\"-73.9685415\" cy=\"40.780709\" r=\"0.06\" stroke=\"#555555\" stroke-width=\"0.02\" fill=\"#66cc99\" opacity=\"0.6\" /></g></svg>"
      ],
      "text/plain": [
       "<shapely.geometry.point.Point at 0x2b9b9cb59b38>"
      ]
     },
     "execution_count": 13,
     "metadata": {},
     "output_type": "execute_result"
    }
   ],
   "source": [
    "test.centroid"
   ]
  },
  {
   "cell_type": "markdown",
   "metadata": {},
   "source": [
    "## File Naming "
   ]
  },
  {
   "cell_type": "code",
   "execution_count": 14,
   "metadata": {},
   "outputs": [],
   "source": [
    "# Regex to capture data for filename \n",
    "p = re.compile(r\"\\d{4}-\\d{2}-\\d{2}\")"
   ]
  },
  {
   "cell_type": "code",
   "execution_count": 15,
   "metadata": {},
   "outputs": [],
   "source": [
    "def file_name(fname, regex):\n",
    "    \"\"\"Generate date to add to the end of file name\n",
    "    \n",
    "    :param str fname: string to match\n",
    "    :param regex: compiled regular expression\n",
    "    :type regex: _sre.SRE_Pattern \n",
    "    :return: matched and formatted string \n",
    "    \"\"\"\n",
    "    \n",
    "    match = regex.search(fname).group()\n",
    "    return re.sub('-', '_', match)"
   ]
  },
  {
   "cell_type": "markdown",
   "metadata": {},
   "source": [
    "# Twitter Data Filtering"
   ]
  },
  {
   "cell_type": "code",
   "execution_count": null,
   "metadata": {},
   "outputs": [],
   "source": [
    "# Read entire SF city GIS Polygon\n",
    "sf_polygon = gpd.read_file(\"./data/sf_all_census_zones.shp\")\n",
    "sf_polygon = sf_polygon['geometry'][0]\n",
    "sf_polygon"
   ]
  },
  {
   "cell_type": "markdown",
   "metadata": {},
   "source": [
    "The place object is always present when a Tweet is geo-tagged, while the coordinates object is only present (non-null) when the Tweet is assigned an exact location. If an exact location is provided, the coordinates object will provide a [long, lat] array with the geographical coordinates, and a Twitter Place that corresponds to that location will be assigned.  \n",
    "** Twitter Docs\n",
    "\n",
    "\n",
    "In mapping frameworks, spatial coordiates are often in order of latitude and longitude. In spatial databases spatial coordinates are in x = longitude, and y = latitude. "
   ]
  },
  {
   "cell_type": "markdown",
   "metadata": {},
   "source": [
    "## Developing the filtering script"
   ]
  },
  {
   "cell_type": "code",
   "execution_count": 19,
   "metadata": {},
   "outputs": [
    {
     "name": "stdout",
     "output_type": "stream",
     "text": [
      "Number of valid tweets: 3568\n",
      "Number of total tweets: 729358\n"
     ]
    }
   ],
   "source": [
    "with open(tweet_path + files[1], 'r', encoding='UTF-8') as infile:\n",
    "    with open('tweet_test.csv', 'w')as outfile:\n",
    "        tweet_writer = csv.writer(outfile)\n",
    "\n",
    "        tweet_writer.writerow(['lon', 'lat', 'time', 'time_stamp', 'text',\n",
    "                              'hashtags', 'urls', 'user_mentions',\n",
    "                              'favorite_count', 'retweet_count',\n",
    "                              'user_followers_count', 'user_friends_count',\n",
    "                              'user_statuses_count'])\n",
    "        \n",
    "        # Number of tweets per file \n",
    "        count = 0 \n",
    "        # Number of tweets corresponding to SF\n",
    "        valid = 0 \n",
    "#         for idx, line in enumerate(infile):\n",
    "        for line in infile: \n",
    "#             if count < 100: \n",
    "            count += 1 \n",
    "            tweets = json.loads(line)\n",
    "\n",
    "            # # Keep all tweets written in english\n",
    "            # if 'lang' in tweets and tweets['lang'] == 'en':\n",
    "\n",
    "            # Find the lon/lat coordinates\n",
    "            coordinates = ''\n",
    "\n",
    "            # Check if exact location was assigned \n",
    "            if tweets['coordinates'] != None:\n",
    "                point = Point(tweets['coordinates']['coordinates'])\n",
    "                if sf_polygon.contains(point):\n",
    "                    coordinates = point\n",
    "#                         print(\"{} Exact location found\".format(count))\n",
    "#                         print(coordinates)\n",
    "                else: \n",
    "                    continue\n",
    "            \n",
    "            # Check if geo was provided\n",
    "            elif tweets['geo'] != None:\n",
    "                # Deprecated attribute has coordinates formatted as [lat, lon]\n",
    "                point = Point(np.flip(tweets['geo']['coordinates']))\n",
    "                if sf_polygon.contains(point):\n",
    "                    coordinates = point\n",
    "                    print('Geo found!')\n",
    "                else:\n",
    "                    continue\n",
    "\n",
    "            # Check if tweet is geo-tagged \n",
    "            elif tweets['place'] != None: \n",
    "                # if tweets['place']['full_name'] == 'San Fransisco, CA':                        \n",
    "                if tweets['place']['bounding_box'] != None:\n",
    "                    coord = tweets['place']['bounding_box']['coordinates'] \n",
    "                    points = [Point(i) for i in coord[0]]\n",
    "                    polygon = Polygon([[p.x, p.y] for p in points])\n",
    "                    if not sf_polygon.disjoint(polygon):\n",
    "                        # Get center point of Polygon\n",
    "                        coordinates = polygon.centroid\n",
    "#                             print(\"{} Geotag found!\".format(count))\n",
    "#                             print(coordinates)\n",
    "                    else:\n",
    "                        continue\n",
    "\n",
    "            time = tweets['created_at']                                  # Time of creation\n",
    "            time_stamp = tweets['timestamp_ms']                          # Time of creation\n",
    "            text = tweets['text']                                        # Content\n",
    "            num_hashtag = len(tweets['entities']['hashtags'])            # Concepts \n",
    "            urls = len(tweets['entities']['urls'])                       # Linked resource\n",
    "            user_mentions = len(tweets['entities']['user_mentions'])     # Friend tagging \n",
    "            favorite_count = tweets['favorite_count']                    # Influence factor\n",
    "            retweet_count = tweets['retweet_count']                      # Influence spread \n",
    "            # user_favourites_count = tweets['user']['favourites_count']\n",
    "            user_followers_count = tweets['user']['followers_count']     # Popularity\n",
    "            user_friends_count = tweets['user']['friends_count']         # Connectedness \n",
    "            user_statuses_count = tweets['user']['statuses_count']       # Activity\n",
    "            \n",
    "            try:\n",
    "                tweet_writer.writerow([coordinates.x, coordinates.y, time, time_stamp, text, num_hashtag,\n",
    "                                      urls, user_mentions, favorite_count, retweet_count, \n",
    "                                      user_followers_count, user_friends_count,\n",
    "                                      user_statuses_count])\n",
    "                valid += 1 \n",
    "            except:\n",
    "                pass\n",
    "                \n",
    "        print(\"Number of valid tweets: {}\".format(valid))\n",
    "        print(\"Number of total tweets: {}\".format(count))"
   ]
  },
  {
   "cell_type": "markdown",
   "metadata": {},
   "source": [
    "## Run function on all files"
   ]
  },
  {
   "cell_type": "code",
   "execution_count": 20,
   "metadata": {},
   "outputs": [
    {
     "name": "stdout",
     "output_type": "stream",
     "text": [
      "Finished: SanFrancisco.2016-02-17\n",
      "Number of valid tweets: 3731\n",
      "Number of total tweets: 735709\n",
      "Finished: SanFrancisco.2016-02-23\n",
      "Number of valid tweets: 3568\n",
      "Number of total tweets: 729358\n",
      "Finished: SanFrancisco.2016-02-16\n",
      "Number of valid tweets: 3595\n",
      "Number of total tweets: 727710\n",
      "Finished: SanFrancisco.2016-02-08\n",
      "Number of valid tweets: 3991\n",
      "Number of total tweets: 743074\n",
      "Finished: SanFrancisco.2016-02-18\n",
      "Number of valid tweets: 4032\n",
      "Number of total tweets: 745560\n",
      "Finished: SanFrancisco.2016-02-29\n",
      "Number of valid tweets: 3734\n",
      "Number of total tweets: 734924\n",
      "Finished: SanFrancisco.2016-02-15\n",
      "Number of valid tweets: 3717\n",
      "Number of total tweets: 754446\n",
      "Finished: SanFrancisco.2016-02-24\n",
      "Number of valid tweets: 3728\n",
      "Number of total tweets: 744509\n",
      "Finished: SanFrancisco.2016-02-26\n",
      "Number of valid tweets: 3896\n",
      "Number of total tweets: 733845\n",
      "Finished: SanFrancisco.2016-02-11\n",
      "Number of valid tweets: 3791\n",
      "Number of total tweets: 772900\n",
      "Finished: SanFrancisco.2016-02-04\n",
      "Number of valid tweets: 4288\n",
      "Number of total tweets: 744084\n",
      "Finished: SanFrancisco.2016-02-09\n",
      "Number of valid tweets: 3605\n",
      "Number of total tweets: 669340\n",
      "Finished: SanFrancisco.2016-02-06\n",
      "Number of valid tweets: 4234\n",
      "Number of total tweets: 730803\n",
      "Finished: SanFrancisco.2016-02-28\n",
      "Number of valid tweets: 4034\n",
      "Number of total tweets: 841564\n",
      "Finished: SanFrancisco.2016-02-25\n",
      "Number of valid tweets: 3760\n",
      "Number of total tweets: 749121\n",
      "Finished: SanFrancisco.2016-02-19\n",
      "Number of valid tweets: 4025\n",
      "Number of total tweets: 716744\n",
      "Finished: SanFrancisco.2016-02-12\n",
      "Number of valid tweets: 3685\n",
      "Number of total tweets: 741217\n",
      "Finished: SanFrancisco.2016-02-22\n",
      "Number of valid tweets: 3600\n",
      "Number of total tweets: 754326\n",
      "Finished: SanFrancisco.2016-02-10\n",
      "Number of valid tweets: 3495\n",
      "Number of total tweets: 711521\n",
      "Finished: SanFrancisco.2016-02-07\n",
      "Number of valid tweets: 5202\n",
      "Number of total tweets: 869987\n",
      "Finished: SanFrancisco.2016-02-05\n",
      "Number of valid tweets: 3924\n",
      "Number of total tweets: 735887\n",
      "Finished: SanFrancisco.2016-02-01\n",
      "Number of valid tweets: 3944\n",
      "Number of total tweets: 777536\n",
      "Finished: SanFrancisco.2016-02-13\n",
      "Number of valid tweets: 3787\n",
      "Number of total tweets: 790439\n",
      "Finished: SanFrancisco.2016-02-20\n",
      "Number of valid tweets: 3386\n",
      "Number of total tweets: 645458\n",
      "Finished: SanFrancisco.2016-02-02\n",
      "Number of valid tweets: 4216\n",
      "Number of total tweets: 778915\n",
      "Finished: SanFrancisco.2016-02-21\n",
      "Number of valid tweets: 3330\n",
      "Number of total tweets: 737920\n",
      "Finished: SanFrancisco.2016-02-03\n",
      "Number of valid tweets: 3832\n",
      "Number of total tweets: 749923\n",
      "Finished: SanFrancisco.2016-02-27\n",
      "Number of valid tweets: 3818\n",
      "Number of total tweets: 813000\n",
      "Finished: SanFrancisco.2016-02-14\n",
      "Number of valid tweets: 3460\n",
      "Number of total tweets: 808800\n"
     ]
    },
    {
     "ename": "AttributeError",
     "evalue": "'str' object has no attribute 'perf_counter'",
     "output_type": "error",
     "traceback": [
      "\u001b[0;31m---------------------------------------------------------------------------\u001b[0m",
      "\u001b[0;31mAttributeError\u001b[0m                            Traceback (most recent call last)",
      "\u001b[0;32m<ipython-input-20-04d0666024f8>\u001b[0m in \u001b[0;36m<module>\u001b[0;34m\u001b[0m\n\u001b[1;32m     78\u001b[0m             \u001b[0mprint\u001b[0m\u001b[0;34m(\u001b[0m\u001b[0;34m\"Number of total tweets: {}\"\u001b[0m\u001b[0;34m.\u001b[0m\u001b[0mformat\u001b[0m\u001b[0;34m(\u001b[0m\u001b[0mcount\u001b[0m\u001b[0;34m)\u001b[0m\u001b[0;34m)\u001b[0m\u001b[0;34m\u001b[0m\u001b[0m\n\u001b[1;32m     79\u001b[0m \u001b[0;34m\u001b[0m\u001b[0m\n\u001b[0;32m---> 80\u001b[0;31m \u001b[0mend_time\u001b[0m \u001b[0;34m=\u001b[0m \u001b[0mtime\u001b[0m\u001b[0;34m.\u001b[0m\u001b[0mperf_counter\u001b[0m\u001b[0;34m(\u001b[0m\u001b[0;34m)\u001b[0m\u001b[0;34m\u001b[0m\u001b[0m\n\u001b[0m\u001b[1;32m     81\u001b[0m \u001b[0mrun_time\u001b[0m \u001b[0;34m=\u001b[0m \u001b[0mend_time\u001b[0m \u001b[0;34m-\u001b[0m \u001b[0mstart_time\u001b[0m\u001b[0;34m\u001b[0m\u001b[0m\n\u001b[1;32m     82\u001b[0m \u001b[0mprint\u001b[0m\u001b[0;34m(\u001b[0m\u001b[0;34m'Finished in {:.4f}s'\u001b[0m\u001b[0;34m.\u001b[0m\u001b[0mformat\u001b[0m\u001b[0;34m(\u001b[0m\u001b[0mrun_time\u001b[0m\u001b[0;34m)\u001b[0m\u001b[0;34m)\u001b[0m\u001b[0;34m\u001b[0m\u001b[0m\n",
      "\u001b[0;31mAttributeError\u001b[0m: 'str' object has no attribute 'perf_counter'"
     ]
    }
   ],
   "source": [
    "start_time = time.perf_counter()\n",
    "\n",
    "for fname in files:\n",
    "    with open(tweet_path + fname, 'r', encoding='UTF-8') as infile:\n",
    "        with open(\"tweet_{}.csv\".format(file_name(fname, p)), 'w') as outfile:\n",
    "            tweet_writer = csv.writer(outfile)\n",
    "\n",
    "            tweet_writer.writerow(['lon', 'lat', 'time', 'time_stamp', 'text',\n",
    "                                  'hashtags', 'urls', 'user_mentions',\n",
    "                                  'favorite_count', 'retweet_count',\n",
    "                                  'user_followers_count', 'user_friends_count',\n",
    "                                  'user_statuses_count'])\n",
    "\n",
    "            # Number of tweets per file \n",
    "            count = 0 \n",
    "            # Number of tweets corresponding to SF\n",
    "            valid = 0 \n",
    "            for line in infile: \n",
    "                # if count < 100: \n",
    "                count += 1 \n",
    "                tweets = json.loads(line)\n",
    "\n",
    "                # # Keep all tweets written in english\n",
    "                # if 'lang' in tweets and tweets['lang'] == 'en':\n",
    "\n",
    "                # Find the lon/lat coordinates\n",
    "                coordinates = ''\n",
    "\n",
    "                # Check if exact location was assigned \n",
    "                if tweets['coordinates'] != None:\n",
    "                    point = Point(tweets['coordinates']['coordinates'])\n",
    "                    if sf_polygon.contains(point):\n",
    "                        coordinates = point\n",
    "                        # print(\"{} Exact location found\".format(count))\n",
    "                        # print(coordinates)\n",
    "                    else: \n",
    "                        continue\n",
    "                \n",
    "                # Check if deprecated geo field was provided\n",
    "                elif tweets['geo'] != None:\n",
    "                    # Deprecated attribute has coordinates formatted as [lat, lon]\n",
    "                    # Flip to [lon, lat]\n",
    "                    point = Point(np.flip(tweets['geo']['coordinates']))\n",
    "                    if sf_polygon.contains(point):\n",
    "                        coordinates = point\n",
    "                    else:\n",
    "                        continue\n",
    "\n",
    "                # Check if tweet is geo-tagged \n",
    "                elif tweets['place'] != None: \n",
    "                    # if tweets['place']['full_name'] == 'San Fransisco, CA':                        \n",
    "                    if tweets['place']['bounding_box'] != None:\n",
    "                        coord = tweets['place']['bounding_box']['coordinates'] \n",
    "                        points = [Point(i) for i in coord[0]]\n",
    "                        polygon = Polygon([[p.x, p.y] for p in points])\n",
    "                        if not sf_polygon.disjoint(polygon):\n",
    "                            # Get center point of Polygon\n",
    "                            coordinates = polygon.centroid\n",
    "                            # print(\"{} Geotag found!\".format(count))\n",
    "                            # print(coordinates)\n",
    "                        else:\n",
    "                            continue\n",
    "\n",
    "                time = tweets['created_at']                                  # Time of creation\n",
    "                time_stamp = tweets['timestamp_ms']                          # Time of creation\n",
    "                text = tweets['text']                                        # Content\n",
    "                num_hashtag = len(tweets['entities']['hashtags'])            # Concepts \n",
    "                urls = len(tweets['entities']['urls'])                       # Linked resource\n",
    "                user_mentions = len(tweets['entities']['user_mentions'])     # Friend tagging \n",
    "                favorite_count = tweets['favorite_count']                    # Influence factor\n",
    "                retweet_count = tweets['retweet_count']                      # Influence spread \n",
    "                # user_favourites_count = tweets['user']['favourites_count']\n",
    "                user_followers_count = tweets['user']['followers_count']     # Popularity\n",
    "                user_friends_count = tweets['user']['friends_count']         # Connectedness \n",
    "                user_statuses_count = tweets['user']['statuses_count']       # Activity\n",
    "\n",
    "                try:\n",
    "                    tweet_writer.writerow([coordinates.x, coordinates.y, time, time_stamp, text, num_hashtag,\n",
    "                                          urls, user_mentions, favorite_count, retweet_count, \n",
    "                                          user_followers_count, user_friends_count,\n",
    "                                          user_statuses_count])\n",
    "                    valid += 1 \n",
    "                except:\n",
    "                    pass\n",
    "\n",
    "            print('Finished: {}'.format(fname))\n",
    "            print(\"Number of valid tweets: {}\".format(valid))\n",
    "            print(\"Number of total tweets: {}\".format(count))\n",
    "            \n",
    "end_time = time.perf_counter()\n",
    "run_time = end_time - start_time\n",
    "print('Finished in {:.4f}s'.format(run_time))"
   ]
  },
  {
   "cell_type": "markdown",
   "metadata": {},
   "source": [
    "Total number of tweets in dataset: 21900028  \n",
    "Total number of tweets retained: 111408  \n",
    "(21900028 / 111408) * 100 = 0.5113! "
   ]
  },
  {
   "cell_type": "code",
   "execution_count": null,
   "metadata": {},
   "outputs": [],
   "source": []
  }
 ],
 "metadata": {
  "kernelspec": {
   "display_name": "Python 3",
   "language": "python",
   "name": "python3"
  },
  "language_info": {
   "codemirror_mode": {
    "name": "ipython",
    "version": 3
   },
   "file_extension": ".py",
   "mimetype": "text/x-python",
   "name": "python",
   "nbconvert_exporter": "python",
   "pygments_lexer": "ipython3",
   "version": "3.6.1"
  }
 },
 "nbformat": 4,
 "nbformat_minor": 2
}
