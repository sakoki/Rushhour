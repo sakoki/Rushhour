{
 "cells": [
  {
   "cell_type": "markdown",
   "metadata": {},
   "source": [
    "# Exploratory Analysis\n",
    "*Author: Koki Sasagawa*  \n",
    "*Created on: 1/27/19* \n",
    "\n",
    "## Data\n",
    "The data we are exploring for this project is from the [uber movement](https://movement.uber.com/?lang=en-US) project. \n",
    "\n",
    "Some general information about the data:\n",
    "- Data is aggregated into zones to protect personally identifiable information or user behavior.\n",
    "- Data provided stretchs back 3 years ago, from 2016 all the way to 2018. All yearly data is broken up quarterly into separate files.  \n",
    "- Uber provides two zone types: **Census Zones** and **Traffic Analysis Zones**. \n",
    "- **Census Tract** - area roughly equivalent to a neighborhood established by the Bureau of Census for analyzing populations.<sup>1</sup> Generally encompass a population of 1,200 to 8,000 people. <sup>1</sup>\n",
    "- **Traffic Analysis Zones (TAZs)** - unit of geography most commonly used in conventional transportation planning models.<sup>2</sup> For typical metropolitan planing software, a zone of under 3000 people is common. Range from very large areas in the exurb to small as city blocks in central buisness districts.<sup>2</sup>\n",
    "- Census zones appear to be larger, while traffic analysis zones provide high resolution details of the regional landscape. \n",
    "- The Traffic Analysis zones data is considerably larger than Census Zones due to finer level details.\n",
    "- Geo Boundaries containing the longitude and latitude ranges for each zone"
   ]
  },
  {
   "cell_type": "markdown",
   "metadata": {},
   "source": [
    "### Census Zones\n",
    "*The following data is for the city of San Fransisco* \n",
    "Data is provided in the following variations:  \n",
    "\n",
    "| File                                        | Size     |\n",
    "|---------------------------------------------|----------|\n",
    "| Travel Times by Hour of Day (All Days)      | 387.9 MB | \n",
    "| Travel Times by Hour of Day (Weekdays Only) | 338.3 MB |\n",
    "| Travel Times by Hour of Day (Weekends Only) | 247.3 MB |\n",
    "| Travel Times by Day of Week                 | 142.7 MB | \n",
    "| Travel Times by Month (All Days)            | 64.1 MB  |\n",
    "| Travel Times by Month (Weekdays Only)       | 63.6 MB  | \n",
    "| Travel Times by Month (Weekends Only)       | 60.6 MB  |"
   ]
  },
  {
   "cell_type": "markdown",
   "metadata": {},
   "source": [
    "### Traffic Analysis Zones\n",
    "*The following data is for the city of San Fransisco* \n",
    "Data is provided in the following variations:  \n",
    "\n",
    "| File                                        | Size     |\n",
    "|---------------------------------------------|----------|\n",
    "| Travel Times by Hour of Day (All Days)      | 1.4 GB   | \n",
    "| Travel Times by Hour of Day (Weekdays Only) | 1.4 GB   |\n",
    "| Travel Times by Hour of Day (Weekends Only) | 999.3 MB |\n",
    "| Travel Times by Day of Week                 | 637.1 MB | \n",
    "| Travel Times by Month (All Days)            | 286.6 MB |\n",
    "| Travel Times by Month (Weekdays Only)       | 284.7 MB | \n",
    "| Travel Times by Month (Weekends Only)       | 266.5 MB |"
   ]
  },
  {
   "cell_type": "markdown",
   "metadata": {},
   "source": [
    "### Geo Boundaires\n",
    "Sample of json file with coordinates for each boundary\n",
    "```json\n",
    "{\"type\":\"Feature\",\n",
    " \"properties\":{\"MOVEMENT_ID\":\"3\",\n",
    "               \"DISPLAY_NAME\":\"18300 Sutter Boulevard, Morgan Hill\"},\n",
    " \"geometry\":{\"type\":\"MultiPolygon\",\n",
    "             \"coordinates\":[[[[-121.679781,37.158594],\n",
    "                              [-121.671983,37.164063],\n",
    "                              [-121.670184,37.165278],\n",
    "                              [-121.66749,37.167032],\n",
    "                              [-121.663253,37.162396],\n",
    "                              [-121.655618,37.156437],\n",
    "                              [-121.645075,37.145542],\n",
    "                              [-121.640905,37.141237],\n",
    "                              [-121.64082,37.14115],\n",
    "                              [-121.642424,37.139813],\n",
    "                              [-121.64338,37.13904],\n",
    "                              [-121.65269,37.13173],\n",
    "                              [-121.66269,37.14148],\n",
    "                              [-121.66333,37.14345],\n",
    "                              [-121.66718,37.14628],\n",
    "                              [-121.677079,37.155975],\n",
    "                              [-121.679781,37.158594]]]]}\n",
    "}\n",
    "```"
   ]
  },
  {
   "cell_type": "markdown",
   "metadata": {},
   "source": [
    "## Census/TAZs data\n",
    "Columns:\n",
    "\n",
    "1. **sourceid** - id of the starting point\n",
    "2. **dstid** - id of the ending point\n",
    "3. **hod** - hours of day (24 hour) \n",
    "4. **mean_travel_time** - average travel time it takes to get from sourceid to dstid in seconds\n",
    "5. **standard_deviation_travel_time**\n",
    "6. **geometric_mean_travel_time**\n",
    "7. **geometric_standard_deviation_travel_time**"
   ]
  },
  {
   "cell_type": "markdown",
   "metadata": {},
   "source": [
    "## Resources:\n",
    "1. Geographical Terms and Concepts. (2012). United States Census Bureau. [online] Available at: https://www.census.gov/geo/reference/gtc/gtc_ct. [Accessed 27 Jan. 2019].\n",
    "2. Miller, Harvey J. & Shih-Lung Shaw. (2001) Geographic Information Systems for Transportation, Oxford University Press US. p. 248. ISBN 0-19-512394-8.\n",
    "3. Data retrieved from Uber Movement, (c) 2019 Uber Technologies, Inc., https://movement.uber.com\n",
    "\n",
    "© United States Postal Service 2015 MultiNet North America © 2006 – 2015 TomTom. All rights reserved. "
   ]
  },
  {
   "cell_type": "code",
   "execution_count": null,
   "metadata": {
    "collapsed": true
   },
   "outputs": [],
   "source": []
  }
 ],
 "metadata": {
  "kernelspec": {
   "display_name": "Python 3",
   "language": "python",
   "name": "python3"
  },
  "language_info": {
   "codemirror_mode": {
    "name": "ipython",
    "version": 3
   },
   "file_extension": ".py",
   "mimetype": "text/x-python",
   "name": "python",
   "nbconvert_exporter": "python",
   "pygments_lexer": "ipython3",
   "version": "3.6.1"
  }
 },
 "nbformat": 4,
 "nbformat_minor": 2
}
