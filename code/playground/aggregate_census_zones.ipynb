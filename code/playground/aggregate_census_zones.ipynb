{
 "cells": [
  {
   "cell_type": "markdown",
   "metadata": {},
   "source": [
    "# Dissolve census polygon's\n",
    "- Generate one large GIS polygon for the entire city of SF\n",
    "- Use as the first filter to retain tweets with lat - lon coordinates that reside in SF\n",
    "\n",
    "*Author: Koki Sasagawa*  \n",
    "*Last modified: 3/31/2019*"
   ]
  },
  {
   "cell_type": "code",
   "execution_count": 1,
   "metadata": {},
   "outputs": [],
   "source": [
    "import networkx as nx\n",
    "import geopandas as gpd\n",
    "import numpy as np\n",
    "import pandas as pd\n",
    "import os \n",
    "import sys\n",
    "import json\n",
    "from shapely.geometry import Point\n",
    "from matplotlib import pyplot as plt\n",
    "\n",
    "%matplotlib inline "
   ]
  },
  {
   "cell_type": "code",
   "execution_count": 2,
   "metadata": {},
   "outputs": [],
   "source": [
    "# Specify temp data path\n",
    "temp_data_dir = '../../temp_data/'"
   ]
  },
  {
   "cell_type": "code",
   "execution_count": 3,
   "metadata": {},
   "outputs": [
    {
     "name": "stdout",
     "output_type": "stream",
     "text": [
      "0 test_file.csv\n",
      "1 region_tweets\n",
      "2 .DS_Store\n",
      "3 tweets_mapped\n",
      "4 all_speeds_feb_2016.csv\n",
      "5 sfdata_mapped\n",
      "6 code_by_vehicle_name.csv\n",
      "7 region_data_filtered\n",
      "8 code_by_vehicle_name(edited).csv\n",
      "9 dummy_df.csv\n",
      "10 sf_filtered_census_data.shx\n",
      "11 sf_filtered_census_data.shp\n",
      "12 sf_filtered_census_data.cpg\n",
      "13 sf_GEOID_GIS_data.shx\n",
      "14 sf_all_census_zones.shp\n",
      "15 sf_all_census_zones.cpg\n",
      "16 sf_all_census_zones.shx\n",
      "17 sf_GEOID_GIS_data.shp\n",
      "18 sf_GEOID_GIS_data.cpg\n",
      "19 sf_GEOID_GIS_data.dbf\n",
      "20 sf_all_census_zones.dbf\n",
      "21 region_data\n",
      "22 sf_filtered_census_data.dbf\n",
      "23 sfdata_clean\n"
     ]
    }
   ],
   "source": [
    "data_files = os.listdir(temp_data_dir)\n",
    "\n",
    "for i, j in enumerate(data_files):\n",
    "    print(i, j)      "
   ]
  },
  {
   "cell_type": "code",
   "execution_count": 5,
   "metadata": {},
   "outputs": [
    {
     "name": "stdout",
     "output_type": "stream",
     "text": [
      "Size of census zones df: (196, 2)\n"
     ]
    },
    {
     "data": {
      "text/html": [
       "<div>\n",
       "<style scoped>\n",
       "    .dataframe tbody tr th:only-of-type {\n",
       "        vertical-align: middle;\n",
       "    }\n",
       "\n",
       "    .dataframe tbody tr th {\n",
       "        vertical-align: top;\n",
       "    }\n",
       "\n",
       "    .dataframe thead th {\n",
       "        text-align: right;\n",
       "    }\n",
       "</style>\n",
       "<table border=\"1\" class=\"dataframe\">\n",
       "  <thead>\n",
       "    <tr style=\"text-align: right;\">\n",
       "      <th></th>\n",
       "      <th>geoid10</th>\n",
       "      <th>geometry</th>\n",
       "    </tr>\n",
       "  </thead>\n",
       "  <tbody>\n",
       "    <tr>\n",
       "      <th>0</th>\n",
       "      <td>6075016500</td>\n",
       "      <td>POLYGON ((-122.446471 37.775802, -122.44478 37...</td>\n",
       "    </tr>\n",
       "    <tr>\n",
       "      <th>1</th>\n",
       "      <td>6075016400</td>\n",
       "      <td>POLYGON ((-122.44034 37.77658, -122.439844 37....</td>\n",
       "    </tr>\n",
       "    <tr>\n",
       "      <th>2</th>\n",
       "      <td>6075016300</td>\n",
       "      <td>POLYGON ((-122.429152 37.778007, -122.428909 3...</td>\n",
       "    </tr>\n",
       "    <tr>\n",
       "      <th>3</th>\n",
       "      <td>6075016100</td>\n",
       "      <td>POLYGON ((-122.428909 37.778039, -122.429152 3...</td>\n",
       "    </tr>\n",
       "    <tr>\n",
       "      <th>4</th>\n",
       "      <td>6075016000</td>\n",
       "      <td>POLYGON ((-122.420425 37.780583, -122.420336 3...</td>\n",
       "    </tr>\n",
       "  </tbody>\n",
       "</table>\n",
       "</div>"
      ],
      "text/plain": [
       "      geoid10                                           geometry\n",
       "0  6075016500  POLYGON ((-122.446471 37.775802, -122.44478 37...\n",
       "1  6075016400  POLYGON ((-122.44034 37.77658, -122.439844 37....\n",
       "2  6075016300  POLYGON ((-122.429152 37.778007, -122.428909 3...\n",
       "3  6075016100  POLYGON ((-122.428909 37.778039, -122.429152 3...\n",
       "4  6075016000  POLYGON ((-122.420425 37.780583, -122.420336 3..."
      ]
     },
     "execution_count": 5,
     "metadata": {},
     "output_type": "execute_result"
    }
   ],
   "source": [
    "sf_census_zones = gpd.GeoDataFrame.from_file(temp_data_dir + data_files[17])\n",
    "print('Size of census zones df: {}'.format(sf_census_zones.shape))\n",
    "sf_census_zones.head()"
   ]
  },
  {
   "cell_type": "code",
   "execution_count": 6,
   "metadata": {},
   "outputs": [
    {
     "data": {
      "text/plain": [
       "array(['Polygon'], dtype=object)"
      ]
     },
     "execution_count": 6,
     "metadata": {},
     "output_type": "execute_result"
    }
   ],
   "source": [
    "sf_census_zones.geom_type.unique()"
   ]
  },
  {
   "cell_type": "code",
   "execution_count": 7,
   "metadata": {},
   "outputs": [
    {
     "data": {
      "text/html": [
       "<div>\n",
       "<style scoped>\n",
       "    .dataframe tbody tr th:only-of-type {\n",
       "        vertical-align: middle;\n",
       "    }\n",
       "\n",
       "    .dataframe tbody tr th {\n",
       "        vertical-align: top;\n",
       "    }\n",
       "\n",
       "    .dataframe thead th {\n",
       "        text-align: right;\n",
       "    }\n",
       "</style>\n",
       "<table border=\"1\" class=\"dataframe\">\n",
       "  <thead>\n",
       "    <tr style=\"text-align: right;\">\n",
       "      <th></th>\n",
       "      <th>geoid10</th>\n",
       "      <th>geometry</th>\n",
       "      <th>key</th>\n",
       "    </tr>\n",
       "  </thead>\n",
       "  <tbody>\n",
       "    <tr>\n",
       "      <th>0</th>\n",
       "      <td>6075016500</td>\n",
       "      <td>POLYGON ((-122.446471 37.775802, -122.44478 37...</td>\n",
       "      <td>1.0</td>\n",
       "    </tr>\n",
       "    <tr>\n",
       "      <th>1</th>\n",
       "      <td>6075016400</td>\n",
       "      <td>POLYGON ((-122.44034 37.77658, -122.439844 37....</td>\n",
       "      <td>1.0</td>\n",
       "    </tr>\n",
       "    <tr>\n",
       "      <th>2</th>\n",
       "      <td>6075016300</td>\n",
       "      <td>POLYGON ((-122.429152 37.778007, -122.428909 3...</td>\n",
       "      <td>1.0</td>\n",
       "    </tr>\n",
       "    <tr>\n",
       "      <th>3</th>\n",
       "      <td>6075016100</td>\n",
       "      <td>POLYGON ((-122.428909 37.778039, -122.429152 3...</td>\n",
       "      <td>1.0</td>\n",
       "    </tr>\n",
       "    <tr>\n",
       "      <th>4</th>\n",
       "      <td>6075016000</td>\n",
       "      <td>POLYGON ((-122.420425 37.780583, -122.420336 3...</td>\n",
       "      <td>1.0</td>\n",
       "    </tr>\n",
       "  </tbody>\n",
       "</table>\n",
       "</div>"
      ],
      "text/plain": [
       "      geoid10                                           geometry  key\n",
       "0  6075016500  POLYGON ((-122.446471 37.775802, -122.44478 37...  1.0\n",
       "1  6075016400  POLYGON ((-122.44034 37.77658, -122.439844 37....  1.0\n",
       "2  6075016300  POLYGON ((-122.429152 37.778007, -122.428909 3...  1.0\n",
       "3  6075016100  POLYGON ((-122.428909 37.778039, -122.429152 3...  1.0\n",
       "4  6075016000  POLYGON ((-122.420425 37.780583, -122.420336 3...  1.0"
      ]
     },
     "execution_count": 7,
     "metadata": {},
     "output_type": "execute_result"
    }
   ],
   "source": [
    "sf_census_zones['key'] = np.ones(len(sf_census_zones))\n",
    "sf_census_zones.head()"
   ]
  },
  {
   "cell_type": "code",
   "execution_count": 8,
   "metadata": {},
   "outputs": [],
   "source": [
    "sf_polygon = sf_census_zones.dissolve('key')['geometry']"
   ]
  },
  {
   "cell_type": "code",
   "execution_count": 9,
   "metadata": {},
   "outputs": [
    {
     "data": {
      "text/plain": [
       "key\n",
       "1.0    POLYGON ((-122.435382 37.708132, -122.435882 3...\n",
       "Name: geometry, dtype: object"
      ]
     },
     "execution_count": 9,
     "metadata": {},
     "output_type": "execute_result"
    }
   ],
   "source": [
    "sf_polygon"
   ]
  },
  {
   "cell_type": "code",
   "execution_count": 10,
   "metadata": {},
   "outputs": [
    {
     "data": {
      "text/plain": [
       "<matplotlib.axes._subplots.AxesSubplot at 0x1306771d0>"
      ]
     },
     "execution_count": 10,
     "metadata": {},
     "output_type": "execute_result"
    },
    {
     "data": {
      "image/png": "[encoded data removed]",
      "text/plain": [
       "<Figure size 1080x1080 with 1 Axes>"
      ]
     },
     "metadata": {
      "needs_background": "light"
     },
     "output_type": "display_data"
    }
   ],
   "source": [
    "sf_polygon.plot(figsize=(15,15))"
   ]
  },
  {
   "cell_type": "markdown",
   "metadata": {},
   "source": [
    "# Create function to check if Point belongs in Polygon"
   ]
  },
  {
   "cell_type": "code",
   "execution_count": 11,
   "metadata": {},
   "outputs": [
    {
     "name": "stdout",
     "output_type": "stream",
     "text": [
      "0 sfmtaAVLRawData02252016.csv\n",
      "1 sfmtaAVLRawData02132016.csv\n",
      "2 sfmtaAVLRawData02032016.csv\n",
      "3 sfmtaAVLRawData02022016.csv\n",
      "4 sfmtaAVLRawData02122016.csv\n",
      "5 sfmtaAVLRawData02242016.csv\n",
      "6 sfmtaAVLRawData02102016.csv\n",
      "7 sfmtaAVLRawData02262016.csv\n",
      "8 sfmtaAVLRawData02092016.csv\n",
      "9 sfmtaAVLRawData02192016.csv\n",
      "10 sfmtaAVLRawData02272016.csv\n",
      "11 sfmtaAVLRawData02182016.csv\n",
      "12 sfmtaAVLRawData02082016.csv\n",
      "13 sfmtaAVLRawData02012016.csv\n",
      "14 sfmtaAVLRawData02112016.csv\n",
      "15 sfmtaAVLRawData02142016.csv\n",
      "16 sfmtaAVLRawData02042016.csv\n",
      "17 sfmtaAVLRawData02222016.csv\n",
      "18 sfmtaAVLRawData02232016.csv\n",
      "19 sfmtaAVLRawData02052016.csv\n",
      "20 sfmtaAVLRawData02152016.csv\n",
      "21 sfmtaAVLRawData02212016.csv\n",
      "22 sfmtaAVLRawData02172016.csv\n",
      "23 sfmtaAVLRawData02072016.csv\n",
      "24 sfmtaAVLRawData02282016.csv\n",
      "25 sfmtaAVLRawData02062016.csv\n",
      "26 sfmtaAVLRawData02162016.csv\n",
      "27 sfmtaAVLRawData02292016.csv\n",
      "28 sfmtaAVLRawData02202016.csv\n"
     ]
    }
   ],
   "source": [
    "data_files = os.listdir(temp_data_dir + 'sfdata_clean/')\n",
    "\n",
    "for i, j in enumerate(data_files):\n",
    "    print(i, j)    "
   ]
  },
  {
   "cell_type": "code",
   "execution_count": 12,
   "metadata": {},
   "outputs": [
    {
     "name": "stdout",
     "output_type": "stream",
     "text": [
      "Size of df: (1444298, 9)\n"
     ]
    },
    {
     "name": "stderr",
     "output_type": "stream",
     "text": [
      "/Users/koki/Documents/Learning/UMICH_Courses/SI_699_Big_Data/rushhour_2/lib/python3.6/site-packages/IPython/core/interactiveshell.py:3020: DtypeWarning: Columns (2,7) have mixed types. Specify dtype option on import or set low_memory=False.\n",
      "  interactivity=interactivity, compiler=compiler, result=result)\n"
     ]
    },
    {
     "data": {
      "text/html": [
       "<div>\n",
       "<style scoped>\n",
       "    .dataframe tbody tr th:only-of-type {\n",
       "        vertical-align: middle;\n",
       "    }\n",
       "\n",
       "    .dataframe tbody tr th {\n",
       "        vertical-align: top;\n",
       "    }\n",
       "\n",
       "    .dataframe thead th {\n",
       "        text-align: right;\n",
       "    }\n",
       "</style>\n",
       "<table border=\"1\" class=\"dataframe\">\n",
       "  <thead>\n",
       "    <tr style=\"text-align: right;\">\n",
       "      <th></th>\n",
       "      <th>REV</th>\n",
       "      <th>REPORT_TIME</th>\n",
       "      <th>VEHICLE_TAG</th>\n",
       "      <th>LONGITUDE</th>\n",
       "      <th>LATITUDE</th>\n",
       "      <th>SPEED</th>\n",
       "      <th>HEADING</th>\n",
       "      <th>TRAIN_ASSIGNMENT</th>\n",
       "      <th>PREDICTABLE</th>\n",
       "    </tr>\n",
       "  </thead>\n",
       "  <tbody>\n",
       "    <tr>\n",
       "      <th>0</th>\n",
       "      <td>1515</td>\n",
       "      <td>02/25/2016 00:00:56</td>\n",
       "      <td>1</td>\n",
       "      <td>-122.41150</td>\n",
       "      <td>37.79491</td>\n",
       "      <td>0.0</td>\n",
       "      <td>131.0</td>\n",
       "      <td>NaN</td>\n",
       "      <td>0</td>\n",
       "    </tr>\n",
       "    <tr>\n",
       "      <th>1</th>\n",
       "      <td>1515</td>\n",
       "      <td>02/25/2016 00:02:26</td>\n",
       "      <td>1</td>\n",
       "      <td>-122.41145</td>\n",
       "      <td>37.79496</td>\n",
       "      <td>0.0</td>\n",
       "      <td>7.0</td>\n",
       "      <td>NaN</td>\n",
       "      <td>0</td>\n",
       "    </tr>\n",
       "    <tr>\n",
       "      <th>2</th>\n",
       "      <td>1515</td>\n",
       "      <td>02/25/2016 00:03:56</td>\n",
       "      <td>1</td>\n",
       "      <td>-122.41147</td>\n",
       "      <td>37.79476</td>\n",
       "      <td>0.0</td>\n",
       "      <td>176.0</td>\n",
       "      <td>NaN</td>\n",
       "      <td>0</td>\n",
       "    </tr>\n",
       "    <tr>\n",
       "      <th>3</th>\n",
       "      <td>1515</td>\n",
       "      <td>02/25/2016 00:05:26</td>\n",
       "      <td>1</td>\n",
       "      <td>-122.41164</td>\n",
       "      <td>37.79475</td>\n",
       "      <td>0.0</td>\n",
       "      <td>138.0</td>\n",
       "      <td>NaN</td>\n",
       "      <td>0</td>\n",
       "    </tr>\n",
       "    <tr>\n",
       "      <th>4</th>\n",
       "      <td>1515</td>\n",
       "      <td>02/25/2016 00:06:56</td>\n",
       "      <td>1</td>\n",
       "      <td>-122.41181</td>\n",
       "      <td>37.79505</td>\n",
       "      <td>0.0</td>\n",
       "      <td>286.0</td>\n",
       "      <td>NaN</td>\n",
       "      <td>0</td>\n",
       "    </tr>\n",
       "  </tbody>\n",
       "</table>\n",
       "</div>"
      ],
      "text/plain": [
       "    REV          REPORT_TIME VEHICLE_TAG  LONGITUDE  LATITUDE  SPEED  HEADING  \\\n",
       "0  1515  02/25/2016 00:00:56           1 -122.41150  37.79491    0.0    131.0   \n",
       "1  1515  02/25/2016 00:02:26           1 -122.41145  37.79496    0.0      7.0   \n",
       "2  1515  02/25/2016 00:03:56           1 -122.41147  37.79476    0.0    176.0   \n",
       "3  1515  02/25/2016 00:05:26           1 -122.41164  37.79475    0.0    138.0   \n",
       "4  1515  02/25/2016 00:06:56           1 -122.41181  37.79505    0.0    286.0   \n",
       "\n",
       "  TRAIN_ASSIGNMENT  PREDICTABLE  \n",
       "0              NaN            0  \n",
       "1              NaN            0  \n",
       "2              NaN            0  \n",
       "3              NaN            0  \n",
       "4              NaN            0  "
      ]
     },
     "execution_count": 12,
     "metadata": {},
     "output_type": "execute_result"
    }
   ],
   "source": [
    "test_file = pd.read_csv(temp_data_dir + 'sfdata_clean/' + data_files[0])\n",
    "print('Size of df: {}'.format(test_file.shape))\n",
    "test_file.head()"
   ]
  },
  {
   "cell_type": "code",
   "execution_count": 13,
   "metadata": {},
   "outputs": [],
   "source": [
    "point = Point(test_file[\"LONGITUDE\"][0], test_file['LATITUDE'][0])"
   ]
  },
  {
   "cell_type": "code",
   "execution_count": 14,
   "metadata": {},
   "outputs": [
    {
     "name": "stdout",
     "output_type": "stream",
     "text": [
      "True\n"
     ]
    }
   ],
   "source": [
    "print(sf_polygon.iloc[0].contains(point))"
   ]
  },
  {
   "cell_type": "code",
   "execution_count": 15,
   "metadata": {},
   "outputs": [
    {
     "name": "stderr",
     "output_type": "stream",
     "text": [
      "/Users/koki/Documents/Learning/UMICH_Courses/SI_699_Big_Data/rushhour_2/lib/python3.6/site-packages/geopandas/io/file.py:108: FionaDeprecationWarning: Use fiona.Env() instead.\n",
      "  with fiona.drivers():\n"
     ]
    }
   ],
   "source": [
    "type(sf_polygon.iloc[0])\n",
    "sf_polygon.to_file(temp_data_dir + 'aggregated_census_zones.shp')"
   ]
  },
  {
   "cell_type": "code",
   "execution_count": 37,
   "metadata": {},
   "outputs": [],
   "source": [
    "def filter_coordinates(lon, lat, region):\n",
    "    \"\"\"Accept lon, lat coordinates of a Point and checks if they belong in a region Polygon \n",
    "    \n",
    "    Convert lon,lat into GIS Point, then usig the GeoShape query contains check to see if a \n",
    "    GIS Polygon contains that Point. \n",
    "    \n",
    "    :param float lon: longitude\n",
    "    :param float lat: latitude\n",
    "    :param region: region of interest \n",
    "    :type region: shapely.geometry.polygon.Polygon\n",
    "    :return: True if Polygon contains Point, False otherwise \n",
    "    :rtype: bool\n",
    "    \"\"\"\n",
    "    \n",
    "    point = Point(lon, lat)\n",
    "    return region.contains(point)"
   ]
  },
  {
   "cell_type": "code",
   "execution_count": null,
   "metadata": {},
   "outputs": [],
   "source": []
  }
 ],
 "metadata": {
  "kernelspec": {
   "display_name": "Python 3",
   "language": "python",
   "name": "python3"
  },
  "language_info": {
   "codemirror_mode": {
    "name": "ipython",
    "version": 3
   },
   "file_extension": ".py",
   "mimetype": "text/x-python",
   "name": "python",
   "nbconvert_exporter": "python",
   "pygments_lexer": "ipython3",
   "version": "3.6.1"
  }
 },
 "nbformat": 4,
 "nbformat_minor": 2
}
