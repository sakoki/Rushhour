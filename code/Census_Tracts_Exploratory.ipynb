{
 "cells": [
  {
   "cell_type": "markdown",
   "metadata": {},
   "source": [
    "1. why use census versus traffic zone data?\n",
    "2. plot out distribution for week/day?"
   ]
  },
  {
   "cell_type": "code",
   "execution_count": 25,
   "metadata": {},
   "outputs": [],
   "source": [
    "import pandas as pd\n",
    "import seaborn as sns\n",
    "import matplotlib.pyplot as plt\n",
    "%matplotlib inline"
   ]
  },
  {
   "cell_type": "markdown",
   "metadata": {},
   "source": [
    "## 1 Data preparation\n",
    "### 1.1 Census Tracts"
   ]
  },
  {
   "cell_type": "code",
   "execution_count": 29,
   "metadata": {},
   "outputs": [],
   "source": [
    "data_dir = \"../raw_data/\"\n",
    "census_file = \"/Census_Tracts/san_francisco-censustracts-2018-1-All-HourlyAggregate.csv\""
   ]
  },
  {
   "cell_type": "code",
   "execution_count": 4,
   "metadata": {},
   "outputs": [
    {
     "data": {
      "text/html": [
       "<div>\n",
       "<style scoped>\n",
       "    .dataframe tbody tr th:only-of-type {\n",
       "        vertical-align: middle;\n",
       "    }\n",
       "\n",
       "    .dataframe tbody tr th {\n",
       "        vertical-align: top;\n",
       "    }\n",
       "\n",
       "    .dataframe thead th {\n",
       "        text-align: right;\n",
       "    }\n",
       "</style>\n",
       "<table border=\"1\" class=\"dataframe\">\n",
       "  <thead>\n",
       "    <tr style=\"text-align: right;\">\n",
       "      <th></th>\n",
       "      <th>sourceid</th>\n",
       "      <th>dstid</th>\n",
       "      <th>hod</th>\n",
       "      <th>mean_travel_time</th>\n",
       "      <th>standard_deviation_travel_time</th>\n",
       "      <th>geometric_mean_travel_time</th>\n",
       "      <th>geometric_standard_deviation_travel_time</th>\n",
       "    </tr>\n",
       "  </thead>\n",
       "  <tbody>\n",
       "    <tr>\n",
       "      <th>0</th>\n",
       "      <td>6</td>\n",
       "      <td>5</td>\n",
       "      <td>17</td>\n",
       "      <td>2917.18</td>\n",
       "      <td>790.28</td>\n",
       "      <td>2810.98</td>\n",
       "      <td>1.32</td>\n",
       "    </tr>\n",
       "    <tr>\n",
       "      <th>1</th>\n",
       "      <td>3</td>\n",
       "      <td>38</td>\n",
       "      <td>20</td>\n",
       "      <td>339.74</td>\n",
       "      <td>254.41</td>\n",
       "      <td>287.54</td>\n",
       "      <td>1.67</td>\n",
       "    </tr>\n",
       "    <tr>\n",
       "      <th>2</th>\n",
       "      <td>2</td>\n",
       "      <td>61</td>\n",
       "      <td>7</td>\n",
       "      <td>1443.36</td>\n",
       "      <td>374.62</td>\n",
       "      <td>1397.73</td>\n",
       "      <td>1.29</td>\n",
       "    </tr>\n",
       "    <tr>\n",
       "      <th>3</th>\n",
       "      <td>7</td>\n",
       "      <td>25</td>\n",
       "      <td>2</td>\n",
       "      <td>152.00</td>\n",
       "      <td>180.40</td>\n",
       "      <td>95.34</td>\n",
       "      <td>2.61</td>\n",
       "    </tr>\n",
       "    <tr>\n",
       "      <th>4</th>\n",
       "      <td>2</td>\n",
       "      <td>79</td>\n",
       "      <td>22</td>\n",
       "      <td>2320.41</td>\n",
       "      <td>324.85</td>\n",
       "      <td>2299.22</td>\n",
       "      <td>1.14</td>\n",
       "    </tr>\n",
       "  </tbody>\n",
       "</table>\n",
       "</div>"
      ],
      "text/plain": [
       "   sourceid  dstid  hod  mean_travel_time  standard_deviation_travel_time  \\\n",
       "0         6      5   17           2917.18                          790.28   \n",
       "1         3     38   20            339.74                          254.41   \n",
       "2         2     61    7           1443.36                          374.62   \n",
       "3         7     25    2            152.00                          180.40   \n",
       "4         2     79   22           2320.41                          324.85   \n",
       "\n",
       "   geometric_mean_travel_time  geometric_standard_deviation_travel_time  \n",
       "0                     2810.98                                      1.32  \n",
       "1                      287.54                                      1.67  \n",
       "2                     1397.73                                      1.29  \n",
       "3                       95.34                                      2.61  \n",
       "4                     2299.22                                      1.14  "
      ]
     },
     "execution_count": 4,
     "metadata": {},
     "output_type": "execute_result"
    }
   ],
   "source": [
    "census = pd.read_csv(data_dir+census_file)\n",
    "census.head()"
   ]
  },
  {
   "cell_type": "code",
   "execution_count": 58,
   "metadata": {},
   "outputs": [],
   "source": [
    "tmp_ = census[(census['sourceid']==6 )&(census['dstid']==5)]"
   ]
  },
  {
   "cell_type": "code",
   "execution_count": 61,
   "metadata": {},
   "outputs": [
    {
     "data": {
      "text/html": [
       "<div>\n",
       "<style scoped>\n",
       "    .dataframe tbody tr th:only-of-type {\n",
       "        vertical-align: middle;\n",
       "    }\n",
       "\n",
       "    .dataframe tbody tr th {\n",
       "        vertical-align: top;\n",
       "    }\n",
       "\n",
       "    .dataframe thead th {\n",
       "        text-align: right;\n",
       "    }\n",
       "</style>\n",
       "<table border=\"1\" class=\"dataframe\">\n",
       "  <thead>\n",
       "    <tr style=\"text-align: right;\">\n",
       "      <th></th>\n",
       "      <th>sourceid</th>\n",
       "      <th>dstid</th>\n",
       "      <th>hod</th>\n",
       "      <th>mean_travel_time</th>\n",
       "      <th>standard_deviation_travel_time</th>\n",
       "      <th>geometric_mean_travel_time</th>\n",
       "      <th>geometric_standard_deviation_travel_time</th>\n",
       "    </tr>\n",
       "  </thead>\n",
       "  <tbody>\n",
       "    <tr>\n",
       "      <th>0</th>\n",
       "      <td>6</td>\n",
       "      <td>5</td>\n",
       "      <td>17</td>\n",
       "      <td>2917.18</td>\n",
       "      <td>790.28</td>\n",
       "      <td>2810.98</td>\n",
       "      <td>1.32</td>\n",
       "    </tr>\n",
       "    <tr>\n",
       "      <th>284175</th>\n",
       "      <td>6</td>\n",
       "      <td>5</td>\n",
       "      <td>23</td>\n",
       "      <td>1965.00</td>\n",
       "      <td>110.49</td>\n",
       "      <td>1961.94</td>\n",
       "      <td>1.06</td>\n",
       "    </tr>\n",
       "    <tr>\n",
       "      <th>853456</th>\n",
       "      <td>6</td>\n",
       "      <td>5</td>\n",
       "      <td>0</td>\n",
       "      <td>2092.43</td>\n",
       "      <td>259.81</td>\n",
       "      <td>2078.03</td>\n",
       "      <td>1.12</td>\n",
       "    </tr>\n",
       "    <tr>\n",
       "      <th>1422668</th>\n",
       "      <td>6</td>\n",
       "      <td>5</td>\n",
       "      <td>7</td>\n",
       "      <td>2295.44</td>\n",
       "      <td>349.15</td>\n",
       "      <td>2269.66</td>\n",
       "      <td>1.16</td>\n",
       "    </tr>\n",
       "    <tr>\n",
       "      <th>1707158</th>\n",
       "      <td>6</td>\n",
       "      <td>5</td>\n",
       "      <td>13</td>\n",
       "      <td>2541.33</td>\n",
       "      <td>691.83</td>\n",
       "      <td>2461.42</td>\n",
       "      <td>1.28</td>\n",
       "    </tr>\n",
       "    <tr>\n",
       "      <th>3130329</th>\n",
       "      <td>6</td>\n",
       "      <td>5</td>\n",
       "      <td>22</td>\n",
       "      <td>2029.90</td>\n",
       "      <td>206.99</td>\n",
       "      <td>2019.58</td>\n",
       "      <td>1.11</td>\n",
       "    </tr>\n",
       "    <tr>\n",
       "      <th>3414860</th>\n",
       "      <td>6</td>\n",
       "      <td>5</td>\n",
       "      <td>18</td>\n",
       "      <td>2306.87</td>\n",
       "      <td>489.31</td>\n",
       "      <td>2261.93</td>\n",
       "      <td>1.21</td>\n",
       "    </tr>\n",
       "    <tr>\n",
       "      <th>3699342</th>\n",
       "      <td>6</td>\n",
       "      <td>5</td>\n",
       "      <td>10</td>\n",
       "      <td>2032.48</td>\n",
       "      <td>190.16</td>\n",
       "      <td>2024.32</td>\n",
       "      <td>1.09</td>\n",
       "    </tr>\n",
       "    <tr>\n",
       "      <th>3983755</th>\n",
       "      <td>6</td>\n",
       "      <td>5</td>\n",
       "      <td>14</td>\n",
       "      <td>2324.20</td>\n",
       "      <td>329.03</td>\n",
       "      <td>2302.42</td>\n",
       "      <td>1.14</td>\n",
       "    </tr>\n",
       "    <tr>\n",
       "      <th>4268229</th>\n",
       "      <td>6</td>\n",
       "      <td>5</td>\n",
       "      <td>16</td>\n",
       "      <td>2642.86</td>\n",
       "      <td>798.76</td>\n",
       "      <td>2526.37</td>\n",
       "      <td>1.35</td>\n",
       "    </tr>\n",
       "    <tr>\n",
       "      <th>5406309</th>\n",
       "      <td>6</td>\n",
       "      <td>5</td>\n",
       "      <td>15</td>\n",
       "      <td>2955.38</td>\n",
       "      <td>968.07</td>\n",
       "      <td>2814.98</td>\n",
       "      <td>1.36</td>\n",
       "    </tr>\n",
       "    <tr>\n",
       "      <th>5690585</th>\n",
       "      <td>6</td>\n",
       "      <td>5</td>\n",
       "      <td>21</td>\n",
       "      <td>2006.67</td>\n",
       "      <td>162.55</td>\n",
       "      <td>2000.50</td>\n",
       "      <td>1.08</td>\n",
       "    </tr>\n",
       "    <tr>\n",
       "      <th>5974916</th>\n",
       "      <td>6</td>\n",
       "      <td>5</td>\n",
       "      <td>8</td>\n",
       "      <td>2236.71</td>\n",
       "      <td>431.14</td>\n",
       "      <td>2200.21</td>\n",
       "      <td>1.19</td>\n",
       "    </tr>\n",
       "    <tr>\n",
       "      <th>6543306</th>\n",
       "      <td>6</td>\n",
       "      <td>5</td>\n",
       "      <td>19</td>\n",
       "      <td>2148.30</td>\n",
       "      <td>323.80</td>\n",
       "      <td>2127.20</td>\n",
       "      <td>1.15</td>\n",
       "    </tr>\n",
       "    <tr>\n",
       "      <th>6827657</th>\n",
       "      <td>6</td>\n",
       "      <td>5</td>\n",
       "      <td>20</td>\n",
       "      <td>2182.83</td>\n",
       "      <td>484.85</td>\n",
       "      <td>2141.01</td>\n",
       "      <td>1.20</td>\n",
       "    </tr>\n",
       "    <tr>\n",
       "      <th>7680792</th>\n",
       "      <td>6</td>\n",
       "      <td>5</td>\n",
       "      <td>12</td>\n",
       "      <td>2190.67</td>\n",
       "      <td>297.53</td>\n",
       "      <td>2172.05</td>\n",
       "      <td>1.14</td>\n",
       "    </tr>\n",
       "    <tr>\n",
       "      <th>8249823</th>\n",
       "      <td>6</td>\n",
       "      <td>5</td>\n",
       "      <td>2</td>\n",
       "      <td>2037.40</td>\n",
       "      <td>191.81</td>\n",
       "      <td>2028.69</td>\n",
       "      <td>1.10</td>\n",
       "    </tr>\n",
       "    <tr>\n",
       "      <th>9388343</th>\n",
       "      <td>6</td>\n",
       "      <td>5</td>\n",
       "      <td>9</td>\n",
       "      <td>2044.70</td>\n",
       "      <td>267.49</td>\n",
       "      <td>2028.69</td>\n",
       "      <td>1.13</td>\n",
       "    </tr>\n",
       "    <tr>\n",
       "      <th>9957393</th>\n",
       "      <td>6</td>\n",
       "      <td>5</td>\n",
       "      <td>11</td>\n",
       "      <td>2105.08</td>\n",
       "      <td>320.38</td>\n",
       "      <td>2084.66</td>\n",
       "      <td>1.14</td>\n",
       "    </tr>\n",
       "  </tbody>\n",
       "</table>\n",
       "</div>"
      ],
      "text/plain": [
       "         sourceid  dstid  hod  mean_travel_time  \\\n",
       "0               6      5   17           2917.18   \n",
       "284175          6      5   23           1965.00   \n",
       "853456          6      5    0           2092.43   \n",
       "1422668         6      5    7           2295.44   \n",
       "1707158         6      5   13           2541.33   \n",
       "3130329         6      5   22           2029.90   \n",
       "3414860         6      5   18           2306.87   \n",
       "3699342         6      5   10           2032.48   \n",
       "3983755         6      5   14           2324.20   \n",
       "4268229         6      5   16           2642.86   \n",
       "5406309         6      5   15           2955.38   \n",
       "5690585         6      5   21           2006.67   \n",
       "5974916         6      5    8           2236.71   \n",
       "6543306         6      5   19           2148.30   \n",
       "6827657         6      5   20           2182.83   \n",
       "7680792         6      5   12           2190.67   \n",
       "8249823         6      5    2           2037.40   \n",
       "9388343         6      5    9           2044.70   \n",
       "9957393         6      5   11           2105.08   \n",
       "\n",
       "         standard_deviation_travel_time  geometric_mean_travel_time  \\\n",
       "0                                790.28                     2810.98   \n",
       "284175                           110.49                     1961.94   \n",
       "853456                           259.81                     2078.03   \n",
       "1422668                          349.15                     2269.66   \n",
       "1707158                          691.83                     2461.42   \n",
       "3130329                          206.99                     2019.58   \n",
       "3414860                          489.31                     2261.93   \n",
       "3699342                          190.16                     2024.32   \n",
       "3983755                          329.03                     2302.42   \n",
       "4268229                          798.76                     2526.37   \n",
       "5406309                          968.07                     2814.98   \n",
       "5690585                          162.55                     2000.50   \n",
       "5974916                          431.14                     2200.21   \n",
       "6543306                          323.80                     2127.20   \n",
       "6827657                          484.85                     2141.01   \n",
       "7680792                          297.53                     2172.05   \n",
       "8249823                          191.81                     2028.69   \n",
       "9388343                          267.49                     2028.69   \n",
       "9957393                          320.38                     2084.66   \n",
       "\n",
       "         geometric_standard_deviation_travel_time  \n",
       "0                                            1.32  \n",
       "284175                                       1.06  \n",
       "853456                                       1.12  \n",
       "1422668                                      1.16  \n",
       "1707158                                      1.28  \n",
       "3130329                                      1.11  \n",
       "3414860                                      1.21  \n",
       "3699342                                      1.09  \n",
       "3983755                                      1.14  \n",
       "4268229                                      1.35  \n",
       "5406309                                      1.36  \n",
       "5690585                                      1.08  \n",
       "5974916                                      1.19  \n",
       "6543306                                      1.15  \n",
       "6827657                                      1.20  \n",
       "7680792                                      1.14  \n",
       "8249823                                      1.10  \n",
       "9388343                                      1.13  \n",
       "9957393                                      1.14  "
      ]
     },
     "execution_count": 61,
     "metadata": {},
     "output_type": "execute_result"
    }
   ],
   "source": [
    "len(tmp_)\n",
    "tmp_"
   ]
  },
  {
   "cell_type": "markdown",
   "metadata": {},
   "source": [
    "There aren't any missing eg N/A data."
   ]
  },
  {
   "cell_type": "code",
   "execution_count": 38,
   "metadata": {},
   "outputs": [
    {
     "data": {
      "text/plain": [
       "sourceid                                    False\n",
       "dstid                                       False\n",
       "hod                                         False\n",
       "mean_travel_time                            False\n",
       "standard_deviation_travel_time              False\n",
       "geometric_mean_travel_time                  False\n",
       "geometric_standard_deviation_travel_time    False\n",
       "dtype: bool"
      ]
     },
     "execution_count": 38,
     "metadata": {},
     "output_type": "execute_result"
    }
   ],
   "source": [
    "census.isnull().any(axis=0)"
   ]
  },
  {
   "cell_type": "code",
   "execution_count": 18,
   "metadata": {},
   "outputs": [],
   "source": [
    "group_census = census.groupby(by=['sourceid','dstid'])[['mean_travel_time']]"
   ]
  },
  {
   "cell_type": "code",
   "execution_count": 21,
   "metadata": {},
   "outputs": [
    {
     "data": {
      "text/plain": [
       "mean_travel_time    17.937299\n",
       "dtype: float64"
      ]
     },
     "execution_count": 21,
     "metadata": {},
     "output_type": "execute_result"
    }
   ],
   "source": [
    "group_census.count().mean()"
   ]
  },
  {
   "cell_type": "markdown",
   "metadata": {},
   "source": [
    "### 1.2 Traffic Analysis Zones"
   ]
  },
  {
   "cell_type": "code",
   "execution_count": 30,
   "metadata": {},
   "outputs": [],
   "source": [
    "taz_file = \"/Traffic_Analysis_Tracts/san_francisco-taz-2018-1-All-HourlyAggregate.csv\"\n",
    "taz = pd.read_csv(data_dir+taz_file)"
   ]
  },
  {
   "cell_type": "code",
   "execution_count": 31,
   "metadata": {
    "collapsed": true
   },
   "outputs": [],
   "source": [
    "group_taz = taz.groupby(by=['sourceid','dstid'])[['mean_travel_time']]"
   ]
  },
  {
   "cell_type": "code",
   "execution_count": 35,
   "metadata": {},
   "outputs": [
    {
     "data": {
      "text/plain": [
       "mean_travel_time    15.240894\n",
       "dtype: float64"
      ]
     },
     "execution_count": 35,
     "metadata": {},
     "output_type": "execute_result"
    }
   ],
   "source": [
    "group_taz.count().mean()"
   ]
  },
  {
   "cell_type": "markdown",
   "metadata": {},
   "source": [
    "### 1.3 weekly-level data in census"
   ]
  },
  {
   "cell_type": "code",
   "execution_count": 49,
   "metadata": {
    "collapsed": true
   },
   "outputs": [],
   "source": [
    "cweekly_file = \"Census_Tracts/san_francisco-censustracts-2018-1-WeeklyAggregate.csv\"\n",
    "cweekly = pd.read_csv(data_dir + census_weekly_file)"
   ]
  },
  {
   "cell_type": "code",
   "execution_count": 50,
   "metadata": {},
   "outputs": [
    {
     "data": {
      "text/html": [
       "<div>\n",
       "<style scoped>\n",
       "    .dataframe tbody tr th:only-of-type {\n",
       "        vertical-align: middle;\n",
       "    }\n",
       "\n",
       "    .dataframe tbody tr th {\n",
       "        vertical-align: top;\n",
       "    }\n",
       "\n",
       "    .dataframe thead th {\n",
       "        text-align: right;\n",
       "    }\n",
       "</style>\n",
       "<table border=\"1\" class=\"dataframe\">\n",
       "  <thead>\n",
       "    <tr style=\"text-align: right;\">\n",
       "      <th></th>\n",
       "      <th>sourceid</th>\n",
       "      <th>dstid</th>\n",
       "      <th>dow</th>\n",
       "      <th>mean_travel_time</th>\n",
       "      <th>standard_deviation_travel_time</th>\n",
       "      <th>geometric_mean_travel_time</th>\n",
       "      <th>geometric_standard_deviation_travel_time</th>\n",
       "    </tr>\n",
       "  </thead>\n",
       "  <tbody>\n",
       "    <tr>\n",
       "      <th>0</th>\n",
       "      <td>1829</td>\n",
       "      <td>2594</td>\n",
       "      <td>4</td>\n",
       "      <td>1615.17</td>\n",
       "      <td>544.28</td>\n",
       "      <td>1526.98</td>\n",
       "      <td>1.40</td>\n",
       "    </tr>\n",
       "    <tr>\n",
       "      <th>1</th>\n",
       "      <td>1919</td>\n",
       "      <td>1694</td>\n",
       "      <td>4</td>\n",
       "      <td>3981.88</td>\n",
       "      <td>912.37</td>\n",
       "      <td>3886.76</td>\n",
       "      <td>1.24</td>\n",
       "    </tr>\n",
       "    <tr>\n",
       "      <th>2</th>\n",
       "      <td>2356</td>\n",
       "      <td>331</td>\n",
       "      <td>3</td>\n",
       "      <td>965.52</td>\n",
       "      <td>325.81</td>\n",
       "      <td>918.00</td>\n",
       "      <td>1.36</td>\n",
       "    </tr>\n",
       "    <tr>\n",
       "      <th>3</th>\n",
       "      <td>2308</td>\n",
       "      <td>811</td>\n",
       "      <td>3</td>\n",
       "      <td>1603.71</td>\n",
       "      <td>590.20</td>\n",
       "      <td>1516.12</td>\n",
       "      <td>1.38</td>\n",
       "    </tr>\n",
       "    <tr>\n",
       "      <th>4</th>\n",
       "      <td>2323</td>\n",
       "      <td>661</td>\n",
       "      <td>3</td>\n",
       "      <td>334.06</td>\n",
       "      <td>185.17</td>\n",
       "      <td>291.79</td>\n",
       "      <td>1.69</td>\n",
       "    </tr>\n",
       "  </tbody>\n",
       "</table>\n",
       "</div>"
      ],
      "text/plain": [
       "   sourceid  dstid  dow  mean_travel_time  standard_deviation_travel_time  \\\n",
       "0      1829   2594    4           1615.17                          544.28   \n",
       "1      1919   1694    4           3981.88                          912.37   \n",
       "2      2356    331    3            965.52                          325.81   \n",
       "3      2308    811    3           1603.71                          590.20   \n",
       "4      2323    661    3            334.06                          185.17   \n",
       "\n",
       "   geometric_mean_travel_time  geometric_standard_deviation_travel_time  \n",
       "0                     1526.98                                      1.40  \n",
       "1                     3886.76                                      1.24  \n",
       "2                      918.00                                      1.36  \n",
       "3                     1516.12                                      1.38  \n",
       "4                      291.79                                      1.69  "
      ]
     },
     "execution_count": 50,
     "metadata": {},
     "output_type": "execute_result"
    }
   ],
   "source": [
    "cweekly.head()"
   ]
  },
  {
   "cell_type": "code",
   "execution_count": 51,
   "metadata": {
    "collapsed": true
   },
   "outputs": [],
   "source": [
    "group_cweekly = cweekly.groupby(by=['sourceid','dstid'])[['mean_travel_time']]"
   ]
  },
  {
   "cell_type": "code",
   "execution_count": 52,
   "metadata": {},
   "outputs": [
    {
     "data": {
      "text/plain": [
       "mean_travel_time    6.406593\n",
       "dtype: float64"
      ]
     },
     "execution_count": 52,
     "metadata": {},
     "output_type": "execute_result"
    }
   ],
   "source": [
    "group_cweekly.count().mean()"
   ]
  },
  {
   "cell_type": "markdown",
   "metadata": {},
   "source": [
    "## 2 Time granularity\n",
    "### 2.1 Data counts distribution over region pairs"
   ]
  },
  {
   "cell_type": "code",
   "execution_count": 48,
   "metadata": {},
   "outputs": [
    {
     "name": "stdout",
     "output_type": "stream",
     "text": [
      "570965\n",
      "2515337\n"
     ]
    }
   ],
   "source": [
    "print(len(group_census.count()))\n",
    "print(len(group_taz.count()))"
   ]
  },
  {
   "cell_type": "code",
   "execution_count": 47,
   "metadata": {},
   "outputs": [
    {
     "data": {
      "image/png": "[encoded data removed]",
      "text/plain": [
       "<matplotlib.figure.Figure at 0x10cc5b0f0>"
      ]
     },
     "metadata": {},
     "output_type": "display_data"
    }
   ],
   "source": [
    "sns.distplot(group_census.count(),label ='group_sensus')\n",
    "sns.distplot(group_taz.count(),label = 'group_taz').set_title('data counts distribution over region pairs')\n",
    "plt.legend()\n",
    "plt.show()"
   ]
  },
  {
   "cell_type": "code",
   "execution_count": 53,
   "metadata": {},
   "outputs": [
    {
     "data": {
      "image/png": "[encoded data removed]",
      "text/plain": [
       "<matplotlib.figure.Figure at 0x10cd73f98>"
      ]
     },
     "metadata": {},
     "output_type": "display_data"
    }
   ],
   "source": [
    "sns.distplot(group_census.count(),label ='group_sensus')\n",
    "sns.distplot(group_cweekly.count(),label = 'group_cweekly').set_title('data counts distribution over region pairs')\n",
    "plt.legend()\n",
    "plt.show()"
   ]
  },
  {
   "cell_type": "code",
   "execution_count": 56,
   "metadata": {},
   "outputs": [
    {
     "data": {
      "text/plain": [
       "Text(0,0.5,'frequency')"
      ]
     },
     "execution_count": 56,
     "metadata": {},
     "output_type": "execute_result"
    },
    {
     "data": {
      "image/png": "[encoded data removed]",
      "text/plain": [
       "<matplotlib.figure.Figure at 0x10b676320>"
      ]
     },
     "metadata": {},
     "output_type": "display_data"
    }
   ],
   "source": [
    "sns.distplot(group_cweekly.count(),label = 'group_cweekly')\n",
    "plt.xlabel('number of data rows for region pairs', fontsize=18)\n",
    "plt.ylabel('frequency', fontsize=16)"
   ]
  },
  {
   "cell_type": "code",
   "execution_count": null,
   "metadata": {
    "collapsed": true
   },
   "outputs": [],
   "source": []
  }
 ],
 "metadata": {
  "kernelspec": {
   "display_name": "Python 3",
   "language": "python",
   "name": "python3"
  },
  "language_info": {
   "codemirror_mode": {
    "name": "ipython",
    "version": 3
   },
   "file_extension": ".py",
   "mimetype": "text/x-python",
   "name": "python",
   "nbconvert_exporter": "python",
   "pygments_lexer": "ipython3",
   "version": "3.6.3"
  }
 },
 "nbformat": 4,
 "nbformat_minor": 2
}
