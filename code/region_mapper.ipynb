{
 "cells": [
  {
   "cell_type": "markdown",
   "metadata": {},
   "source": [
    "# Map geospatial data to census zones \n",
    "Author: Koki Sasagawa\n",
    "Last edited: 2/18/2019\n",
    "\n",
    "Should work with any datapoints that have lon lat coordinates"
   ]
  },
  {
   "cell_type": "code",
   "execution_count": 1,
   "metadata": {},
   "outputs": [],
   "source": [
    "import geopandas as gpd\n",
    "import matplotlib.pyplot as plt\n",
    "import pandas as pd\n",
    "import requests\n",
    "import urllib\n",
    "import json \n",
    "import re\n",
    "import os\n",
    "from shapely.geometry import Point\n",
    "from decorators import timer, repeater\n",
    "\n",
    "%matplotlib inline"
   ]
  },
  {
   "cell_type": "code",
   "execution_count": 2,
   "metadata": {},
   "outputs": [],
   "source": [
    "# Specifiy directory containing shape file\n",
    "gis_data_dir = '../raw_data/census_zones/sf/'"
   ]
  },
  {
   "cell_type": "code",
   "execution_count": 3,
   "metadata": {},
   "outputs": [
    {
     "name": "stdout",
     "output_type": "stream",
     "text": [
      "0 geo_export_8ddce19a-2ba8-4da5-8c6c-28ee960b9bc6.dbf\n",
      "1 geo_export_8ddce19a-2ba8-4da5-8c6c-28ee960b9bc6.shx\n",
      "2 geo_export_8ddce19a-2ba8-4da5-8c6c-28ee960b9bc6.shp\n",
      "3 san_francisco_censustracts.json\n",
      "4 geo_export_8ddce19a-2ba8-4da5-8c6c-28ee960b9bc6.prj\n"
     ]
    }
   ],
   "source": [
    "files = os.listdir(gis_data_dir)\n",
    "for i, n in enumerate(files):\n",
    "    print(i,n)"
   ]
  },
  {
   "cell_type": "markdown",
   "metadata": {},
   "source": [
    "# 1. SF 2010 census tracts data\n",
    "[dataset link](https://data.sfgov.org/Geographic-Locations-and-Boundaries/Census-2010-Tracts-for-San-Francisco/rarb-5ahf)\n",
    "\n",
    "`shp` - file containing geometry of each feature  \n",
    "`dbf` - dBase file containing attribute data for all of the features in the dataset  \n",
    "`shx` - spatial index, allows GIS systems to find features within the shp files  \n",
    "`prj` - projection file containing information about the projection and coordinate system the data uses\n",
    "\n",
    "\n",
    "| Code        | Description |\n",
    "|:------------|:------------|\n",
    "| aland10     | Area(land)  |\n",
    "| awater10    | Area(Water) |\n",
    "| countryfp10 | County FIPS |\n",
    "| funcstat10  | Functional Status Code (e.g., S = Statistical Entity) |\n",
    "| geoid10     | Numeric codes that uniquely identify all administrative/legal and statistical geographic areas |\n",
    "| intptlat10  | Internal Point (Latitude) |\n",
    "| intptlon10  | Internal Point (Longitude) |\n",
    "| mtfcc10     | MAF/TiGER feature class code |\n",
    "| namelsad    | Current name and the translated lega/statistical area dscription |\n",
    "| statefp10   | state FIPS |\n",
    "| tractce10   | census tract |\n",
    "| geometry    | shape on earth as specified by lat and lon |\n",
    "\n",
    "`FIPS`- Federal Information Processing Series: numeric codes assigned by the National Institude of Standards and Technology (NIST). Deals with US states and counties. US states identified with a 2-digit number while US counties are idnentified by a 3-digit number. \n",
    "> Example:\n",
    "> FIPS code: 06071 represents\n",
    "> California - 06\n",
    "> San Bernardino County - 071"
   ]
  },
  {
   "cell_type": "code",
   "execution_count": 4,
   "metadata": {},
   "outputs": [
    {
     "name": "stdout",
     "output_type": "stream",
     "text": [
      "Size of census zones df: (197, 13)\n"
     ]
    },
    {
     "data": {
      "text/html": [
       "<div>\n",
       "<style scoped>\n",
       "    .dataframe tbody tr th:only-of-type {\n",
       "        vertical-align: middle;\n",
       "    }\n",
       "\n",
       "    .dataframe tbody tr th {\n",
       "        vertical-align: top;\n",
       "    }\n",
       "\n",
       "    .dataframe thead th {\n",
       "        text-align: right;\n",
       "    }\n",
       "</style>\n",
       "<table border=\"1\" class=\"dataframe\">\n",
       "  <thead>\n",
       "    <tr style=\"text-align: right;\">\n",
       "      <th></th>\n",
       "      <th>aland10</th>\n",
       "      <th>awater10</th>\n",
       "      <th>countyfp10</th>\n",
       "      <th>funcstat10</th>\n",
       "      <th>geoid10</th>\n",
       "      <th>intptlat10</th>\n",
       "      <th>intptlon10</th>\n",
       "      <th>mtfcc10</th>\n",
       "      <th>name10</th>\n",
       "      <th>namelsad10</th>\n",
       "      <th>statefp10</th>\n",
       "      <th>tractce10</th>\n",
       "      <th>geometry</th>\n",
       "    </tr>\n",
       "  </thead>\n",
       "  <tbody>\n",
       "    <tr>\n",
       "      <th>0</th>\n",
       "      <td>370459.0</td>\n",
       "      <td>0.0</td>\n",
       "      <td>075</td>\n",
       "      <td>S</td>\n",
       "      <td>06075016500</td>\n",
       "      <td>+37.7741958</td>\n",
       "      <td>-122.4477884</td>\n",
       "      <td>G5020</td>\n",
       "      <td>165</td>\n",
       "      <td>Census Tract 165</td>\n",
       "      <td>06</td>\n",
       "      <td>016500</td>\n",
       "      <td>POLYGON ((-122.446471 37.775802, -122.44478 37...</td>\n",
       "    </tr>\n",
       "    <tr>\n",
       "      <th>1</th>\n",
       "      <td>309097.0</td>\n",
       "      <td>0.0</td>\n",
       "      <td>075</td>\n",
       "      <td>S</td>\n",
       "      <td>06075016400</td>\n",
       "      <td>+37.7750995</td>\n",
       "      <td>-122.4369729</td>\n",
       "      <td>G5020</td>\n",
       "      <td>164</td>\n",
       "      <td>Census Tract 164</td>\n",
       "      <td>06</td>\n",
       "      <td>016400</td>\n",
       "      <td>POLYGON ((-122.44034 37.77658, -122.439844 37....</td>\n",
       "    </tr>\n",
       "    <tr>\n",
       "      <th>2</th>\n",
       "      <td>245867.0</td>\n",
       "      <td>0.0</td>\n",
       "      <td>075</td>\n",
       "      <td>S</td>\n",
       "      <td>06075016300</td>\n",
       "      <td>+37.7760456</td>\n",
       "      <td>-122.4295509</td>\n",
       "      <td>G5020</td>\n",
       "      <td>163</td>\n",
       "      <td>Census Tract 163</td>\n",
       "      <td>06</td>\n",
       "      <td>016300</td>\n",
       "      <td>POLYGON ((-122.429152 37.778007, -122.428909 3...</td>\n",
       "    </tr>\n",
       "    <tr>\n",
       "      <th>3</th>\n",
       "      <td>368901.0</td>\n",
       "      <td>0.0</td>\n",
       "      <td>075</td>\n",
       "      <td>S</td>\n",
       "      <td>06075016100</td>\n",
       "      <td>+37.7799831</td>\n",
       "      <td>-122.4286631</td>\n",
       "      <td>G5020</td>\n",
       "      <td>161</td>\n",
       "      <td>Census Tract 161</td>\n",
       "      <td>06</td>\n",
       "      <td>016100</td>\n",
       "      <td>POLYGON ((-122.428909 37.778039, -122.429152 3...</td>\n",
       "    </tr>\n",
       "    <tr>\n",
       "      <th>4</th>\n",
       "      <td>158236.0</td>\n",
       "      <td>0.0</td>\n",
       "      <td>075</td>\n",
       "      <td>S</td>\n",
       "      <td>06075016000</td>\n",
       "      <td>+37.7823363</td>\n",
       "      <td>-122.4224838</td>\n",
       "      <td>G5020</td>\n",
       "      <td>160</td>\n",
       "      <td>Census Tract 160</td>\n",
       "      <td>06</td>\n",
       "      <td>016000</td>\n",
       "      <td>POLYGON ((-122.420425 37.780583, -122.420336 3...</td>\n",
       "    </tr>\n",
       "  </tbody>\n",
       "</table>\n",
       "</div>"
      ],
      "text/plain": [
       "    aland10  awater10 countyfp10 funcstat10      geoid10   intptlat10  \\\n",
       "0  370459.0       0.0        075          S  06075016500  +37.7741958   \n",
       "1  309097.0       0.0        075          S  06075016400  +37.7750995   \n",
       "2  245867.0       0.0        075          S  06075016300  +37.7760456   \n",
       "3  368901.0       0.0        075          S  06075016100  +37.7799831   \n",
       "4  158236.0       0.0        075          S  06075016000  +37.7823363   \n",
       "\n",
       "     intptlon10 mtfcc10 name10        namelsad10 statefp10 tractce10  \\\n",
       "0  -122.4477884   G5020    165  Census Tract 165        06    016500   \n",
       "1  -122.4369729   G5020    164  Census Tract 164        06    016400   \n",
       "2  -122.4295509   G5020    163  Census Tract 163        06    016300   \n",
       "3  -122.4286631   G5020    161  Census Tract 161        06    016100   \n",
       "4  -122.4224838   G5020    160  Census Tract 160        06    016000   \n",
       "\n",
       "                                            geometry  \n",
       "0  POLYGON ((-122.446471 37.775802, -122.44478 37...  \n",
       "1  POLYGON ((-122.44034 37.77658, -122.439844 37....  \n",
       "2  POLYGON ((-122.429152 37.778007, -122.428909 3...  \n",
       "3  POLYGON ((-122.428909 37.778039, -122.429152 3...  \n",
       "4  POLYGON ((-122.420425 37.780583, -122.420336 3...  "
      ]
     },
     "execution_count": 4,
     "metadata": {},
     "output_type": "execute_result"
    }
   ],
   "source": [
    "sf_census_zones = gpd.GeoDataFrame.from_file(gis_data_dir + files[2])\n",
    "print('Size of census zones df: {}'.format(sf_census_zones.shape))\n",
    "sf_census_zones.head()"
   ]
  },
  {
   "cell_type": "markdown",
   "metadata": {},
   "source": [
    "There are many columns we do not need. To remove them and save space, generate a new shape file and store in the temp_data folder"
   ]
  },
  {
   "cell_type": "code",
   "execution_count": 5,
   "metadata": {},
   "outputs": [
    {
     "data": {
      "text/plain": [
       "aland10       float64\n",
       "awater10      float64\n",
       "countyfp10     object\n",
       "funcstat10     object\n",
       "geoid10        object\n",
       "intptlat10     object\n",
       "intptlon10     object\n",
       "mtfcc10        object\n",
       "name10         object\n",
       "namelsad10     object\n",
       "statefp10      object\n",
       "tractce10      object\n",
       "geometry       object\n",
       "dtype: object"
      ]
     },
     "execution_count": 5,
     "metadata": {},
     "output_type": "execute_result"
    }
   ],
   "source": [
    "sf_census_zones.dtypes"
   ]
  },
  {
   "cell_type": "code",
   "execution_count": 6,
   "metadata": {},
   "outputs": [
    {
     "data": {
      "text/plain": [
       "{}"
      ]
     },
     "execution_count": 6,
     "metadata": {},
     "output_type": "execute_result"
    }
   ],
   "source": [
    "sf_census_zones.crs"
   ]
  },
  {
   "cell_type": "markdown",
   "metadata": {},
   "source": [
    "The circular blob is referring to the census zone for the off coast Farallon Islands"
   ]
  },
  {
   "cell_type": "code",
   "execution_count": 7,
   "metadata": {},
   "outputs": [
    {
     "data": {
      "text/plain": [
       "<matplotlib.axes._subplots.AxesSubplot at 0x125767470>"
      ]
     },
     "execution_count": 7,
     "metadata": {},
     "output_type": "execute_result"
    },
    {
     "data": {
      "image/png": "[encoded data removed]",
      "text/plain": [
       "<Figure size 864x864 with 1 Axes>"
      ]
     },
     "metadata": {
      "needs_background": "light"
     },
     "output_type": "display_data"
    }
   ],
   "source": [
    "sf_census_zones.plot(figsize=(12, 12))"
   ]
  },
  {
   "cell_type": "markdown",
   "metadata": {},
   "source": [
    "## Save unqiue ID and GIS polygon of census zones"
   ]
  },
  {
   "cell_type": "code",
   "execution_count": 8,
   "metadata": {},
   "outputs": [],
   "source": [
    "relevant_col = sf_census_zones.columns[[4, 12]].to_list()"
   ]
  },
  {
   "cell_type": "code",
   "execution_count": 9,
   "metadata": {},
   "outputs": [
    {
     "name": "stderr",
     "output_type": "stream",
     "text": [
      "/Users/koki/Documents/Learning/UMICH_course_material/SI_699_Big_Data/rushhour/lib/python3.6/site-packages/geopandas/io/file.py:108: FionaDeprecationWarning: Use fiona.Env() instead.\n",
      "  with fiona.drivers():\n"
     ]
    }
   ],
   "source": [
    "# Save new census file in temp folder\n",
    "sf_census_zones[relevant_col].to_file('../temp_data/sf_filtered_census_data.shp')"
   ]
  },
  {
   "cell_type": "markdown",
   "metadata": {},
   "source": [
    "# 2. Uber census tract data\n",
    "\n",
    "*Important Note:* We will not be using the uber data for this project as the census zones are actually not limited to SF, but the broader area of northern california"
   ]
  },
  {
   "cell_type": "code",
   "execution_count": 10,
   "metadata": {},
   "outputs": [
    {
     "name": "stdout",
     "output_type": "stream",
     "text": [
      "(2710, 3)\n"
     ]
    },
    {
     "data": {
      "text/html": [
       "<div>\n",
       "<style scoped>\n",
       "    .dataframe tbody tr th:only-of-type {\n",
       "        vertical-align: middle;\n",
       "    }\n",
       "\n",
       "    .dataframe tbody tr th {\n",
       "        vertical-align: top;\n",
       "    }\n",
       "\n",
       "    .dataframe thead th {\n",
       "        text-align: right;\n",
       "    }\n",
       "</style>\n",
       "<table border=\"1\" class=\"dataframe\">\n",
       "  <thead>\n",
       "    <tr style=\"text-align: right;\">\n",
       "      <th></th>\n",
       "      <th>MOVEMENT_ID</th>\n",
       "      <th>DISPLAY_NAME</th>\n",
       "      <th>geometry</th>\n",
       "    </tr>\n",
       "  </thead>\n",
       "  <tbody>\n",
       "    <tr>\n",
       "      <th>0</th>\n",
       "      <td>1</td>\n",
       "      <td>Sargent Creek, San Ardo</td>\n",
       "      <td>(POLYGON ((-121.595108 36.111261, -121.540189 ...</td>\n",
       "    </tr>\n",
       "    <tr>\n",
       "      <th>1</th>\n",
       "      <td>2</td>\n",
       "      <td>400 Northumberland Avenue, Redwood Oaks, Redwo...</td>\n",
       "      <td>(POLYGON ((-122.224626 37.465065, -122.223616 ...</td>\n",
       "    </tr>\n",
       "    <tr>\n",
       "      <th>2</th>\n",
       "      <td>3</td>\n",
       "      <td>18300 Sutter Boulevard, Morgan Hill</td>\n",
       "      <td>(POLYGON ((-121.679781 37.158594, -121.671983 ...</td>\n",
       "    </tr>\n",
       "    <tr>\n",
       "      <th>3</th>\n",
       "      <td>4</td>\n",
       "      <td>2700 Stoughton Way, Sheffield, Sacramento</td>\n",
       "      <td>(POLYGON ((-121.359211 38.57175, -121.346287 3...</td>\n",
       "    </tr>\n",
       "    <tr>\n",
       "      <th>4</th>\n",
       "      <td>5</td>\n",
       "      <td>3200 Huntsman Drive, Rosemont Park, Sacramento</td>\n",
       "      <td>(POLYGON ((-121.375124 38.553093, -121.371535 ...</td>\n",
       "    </tr>\n",
       "  </tbody>\n",
       "</table>\n",
       "</div>"
      ],
      "text/plain": [
       "  MOVEMENT_ID                                       DISPLAY_NAME  \\\n",
       "0           1                            Sargent Creek, San Ardo   \n",
       "1           2  400 Northumberland Avenue, Redwood Oaks, Redwo...   \n",
       "2           3                18300 Sutter Boulevard, Morgan Hill   \n",
       "3           4          2700 Stoughton Way, Sheffield, Sacramento   \n",
       "4           5     3200 Huntsman Drive, Rosemont Park, Sacramento   \n",
       "\n",
       "                                            geometry  \n",
       "0  (POLYGON ((-121.595108 36.111261, -121.540189 ...  \n",
       "1  (POLYGON ((-122.224626 37.465065, -122.223616 ...  \n",
       "2  (POLYGON ((-121.679781 37.158594, -121.671983 ...  \n",
       "3  (POLYGON ((-121.359211 38.57175, -121.346287 3...  \n",
       "4  (POLYGON ((-121.375124 38.553093, -121.371535 ...  "
      ]
     },
     "execution_count": 10,
     "metadata": {},
     "output_type": "execute_result"
    }
   ],
   "source": [
    "data = gpd.read_file(gis_data_dir + files[3])\n",
    "print(data.shape)\n",
    "data.head()"
   ]
  },
  {
   "cell_type": "code",
   "execution_count": 11,
   "metadata": {},
   "outputs": [
    {
     "data": {
      "text/plain": [
       "MOVEMENT_ID     object\n",
       "DISPLAY_NAME    object\n",
       "geometry        object\n",
       "dtype: object"
      ]
     },
     "execution_count": 11,
     "metadata": {},
     "output_type": "execute_result"
    }
   ],
   "source": [
    "data.dtypes"
   ]
  },
  {
   "cell_type": "code",
   "execution_count": 12,
   "metadata": {},
   "outputs": [
    {
     "data": {
      "text/plain": [
       "<matplotlib.axes._subplots.AxesSubplot at 0x1280c9c88>"
      ]
     },
     "execution_count": 12,
     "metadata": {},
     "output_type": "execute_result"
    },
    {
     "data": {
      "image/png": "[encoded data removed]",
      "text/plain": [
       "<Figure size 864x864 with 1 Axes>"
      ]
     },
     "metadata": {
      "needs_background": "light"
     },
     "output_type": "display_data"
    }
   ],
   "source": [
    "data.plot(figsize=(12, 12))"
   ]
  },
  {
   "cell_type": "markdown",
   "metadata": {},
   "source": [
    "Not really just sf census data, but spans over the central, norther california. "
   ]
  },
  {
   "cell_type": "markdown",
   "metadata": {},
   "source": [
    "# 3. DataSF Historical raw AVL/GPS data \n",
    "Each file contains 24 hours of data from the GPS units afficed to SFMTA vehicles."
   ]
  },
  {
   "cell_type": "markdown",
   "metadata": {},
   "source": [
    "The raw files contain formatting mistakes on the first row which combines it to the header row when reading as a csv. Creating a regular expression formatter to fix this for all files"
   ]
  },
  {
   "cell_type": "code",
   "execution_count": 13,
   "metadata": {},
   "outputs": [
    {
     "name": "stdout",
     "output_type": "stream",
     "text": [
      "sfmtaAVLRawData01312016.csv\n"
     ]
    }
   ],
   "source": [
    "input_dir = '../raw_data/sf_speed_data/'\n",
    "output_dir = '../temp_data/sfdata_clean/'\n",
    "\n",
    "# Check that file exists\n",
    "file_name = os.listdir(input_dir)[0]\n",
    "print(file_name)"
   ]
  },
  {
   "cell_type": "code",
   "execution_count": 14,
   "metadata": {},
   "outputs": [],
   "source": [
    "# def file_cleaner(data_input, data_output, file_name):\n",
    "#     '''Reads in SF speed data and formats them into proper csv files'''\n",
    "    \n",
    "#     with open(data_intput + file_name, 'r') as old_file:\n",
    "#         with open(data_output + file_name, 'w') as new_file:\n",
    "#             first = 0 \n",
    "#             for line in old_file.readlines():\n",
    "#                 # If it is the first line, separate the header from the data\n",
    "#                 if first == 0: \n",
    "#                     line = re.sub(r'\\t|\\n|\\s+', '', line)\n",
    "#                     header = re.findall(r'[A-Z+?\\_?]+', line)\n",
    "#                     data = re.findall(r'[\\-?\\d+?\\/?\\.?\\:?]+|\\,(?=\\,)', line)\n",
    "                    \n",
    "#                     # Date and time are connected \n",
    "#                     date = re.search(r'(\\d{2}\\/){2}\\d{4}', data[1]).group(0)\n",
    "#                     time = re.search(r'(\\d{2}\\:){2}\\d{2}', data[1]).group(0)\n",
    "#                     date = date + ' ' + time \n",
    "                    \n",
    "#                     # Remove the merged date and time\n",
    "#                     data.remove(data[1])\n",
    "                    \n",
    "#                     # Insert separated date and time\n",
    "#                     data.insert(1, date)\n",
    "                    \n",
    "#                     data = [x if x != ',' else '' for x in data]\n",
    "#                     header = (',').join(header)\n",
    "#                     data = (',').join(data)\n",
    "#                     new_file.write(header + '\\n')\n",
    "#                     new_file.write(data + '\\n')\n",
    "#                     first += 1 \n",
    "#                 else:\n",
    "#                     if line != '\\n':\n",
    "#                         line = line.rstrip()\n",
    "#                         new_file.write(line + '\\n')"
   ]
  },
  {
   "cell_type": "code",
   "execution_count": 15,
   "metadata": {},
   "outputs": [],
   "source": [
    "# file_cleaner(input_dir, data_output, file_name)"
   ]
  },
  {
   "cell_type": "markdown",
   "metadata": {},
   "source": [
    "## Read data with datetime field"
   ]
  },
  {
   "cell_type": "markdown",
   "metadata": {},
   "source": [
    "Reading in this data takes some time due to the datetime column. \n",
    "Optimize by setting `infer_datetime_format=True` which makes this function 4x faster than its previous version"
   ]
  },
  {
   "cell_type": "code",
   "execution_count": 16,
   "metadata": {},
   "outputs": [],
   "source": [
    "import time\n",
    "import numpy as np"
   ]
  },
  {
   "cell_type": "code",
   "execution_count": 40,
   "metadata": {},
   "outputs": [
    {
     "name": "stdout",
     "output_type": "stream",
     "text": [
      "1.2777195849994314\n",
      "Size of travel speed data: (281517, 6)\n"
     ]
    },
    {
     "data": {
      "text/html": [
       "<div>\n",
       "<style scoped>\n",
       "    .dataframe tbody tr th:only-of-type {\n",
       "        vertical-align: middle;\n",
       "    }\n",
       "\n",
       "    .dataframe tbody tr th {\n",
       "        vertical-align: top;\n",
       "    }\n",
       "\n",
       "    .dataframe thead th {\n",
       "        text-align: right;\n",
       "    }\n",
       "</style>\n",
       "<table border=\"1\" class=\"dataframe\">\n",
       "  <thead>\n",
       "    <tr style=\"text-align: right;\">\n",
       "      <th></th>\n",
       "      <th>REV</th>\n",
       "      <th>REPORT_TIME</th>\n",
       "      <th>VEHICLE_TAG</th>\n",
       "      <th>LONGITUDE</th>\n",
       "      <th>LATITUDE</th>\n",
       "      <th>SPEED</th>\n",
       "    </tr>\n",
       "  </thead>\n",
       "  <tbody>\n",
       "    <tr>\n",
       "      <th>0</th>\n",
       "      <td>1512</td>\n",
       "      <td>2016-01-31 00:04:19</td>\n",
       "      <td>1</td>\n",
       "      <td>-122.41513</td>\n",
       "      <td>37.80481</td>\n",
       "      <td>0.000</td>\n",
       "    </tr>\n",
       "    <tr>\n",
       "      <th>1</th>\n",
       "      <td>1512</td>\n",
       "      <td>2016-01-31 00:13:19</td>\n",
       "      <td>1</td>\n",
       "      <td>-122.41523</td>\n",
       "      <td>37.80506</td>\n",
       "      <td>0.000</td>\n",
       "    </tr>\n",
       "    <tr>\n",
       "      <th>2</th>\n",
       "      <td>1512</td>\n",
       "      <td>2016-01-31 00:17:49</td>\n",
       "      <td>1</td>\n",
       "      <td>-122.41407</td>\n",
       "      <td>37.80296</td>\n",
       "      <td>2.500</td>\n",
       "    </tr>\n",
       "    <tr>\n",
       "      <th>3</th>\n",
       "      <td>1512</td>\n",
       "      <td>2016-01-31 00:19:18</td>\n",
       "      <td>1</td>\n",
       "      <td>-122.41269</td>\n",
       "      <td>37.80096</td>\n",
       "      <td>3.889</td>\n",
       "    </tr>\n",
       "    <tr>\n",
       "      <th>4</th>\n",
       "      <td>1512</td>\n",
       "      <td>2016-01-31 00:19:54</td>\n",
       "      <td>1</td>\n",
       "      <td>-122.41243</td>\n",
       "      <td>37.79961</td>\n",
       "      <td>3.889</td>\n",
       "    </tr>\n",
       "  </tbody>\n",
       "</table>\n",
       "</div>"
      ],
      "text/plain": [
       "    REV         REPORT_TIME VEHICLE_TAG  LONGITUDE  LATITUDE  SPEED\n",
       "0  1512 2016-01-31 00:04:19           1 -122.41513  37.80481  0.000\n",
       "1  1512 2016-01-31 00:13:19           1 -122.41523  37.80506  0.000\n",
       "2  1512 2016-01-31 00:17:49           1 -122.41407  37.80296  2.500\n",
       "3  1512 2016-01-31 00:19:18           1 -122.41269  37.80096  3.889\n",
       "4  1512 2016-01-31 00:19:54           1 -122.41243  37.79961  3.889"
      ]
     },
     "execution_count": 40,
     "metadata": {},
     "output_type": "execute_result"
    }
   ],
   "source": [
    "start_time = time.perf_counter()\n",
    "# dateparse = lambda x: pd.datetime.strptime(x, '%m/%d/%Y %H:%M:%S')\n",
    "# dateparse = lambda x: pd.datetime.strptime(x, '%Y-%m-%d %H:%M:%S')\n",
    "\n",
    "traffic = pd.read_csv(input_dir + file_name,\n",
    "                      parse_dates=['REPORT_TIME'],\n",
    "                      # date_parser=dateparse,\n",
    "                      usecols=list(range(0,6)),\n",
    "                      infer_datetime_format=True)\n",
    "\n",
    "end_time = time.perf_counter()\n",
    "run_time = end_time - start_time\n",
    "print(run_time)\n",
    "print('Size of travel speed data: {}'.format(traffic.shape))\n",
    "traffic.head()"
   ]
  },
  {
   "cell_type": "code",
   "execution_count": 41,
   "metadata": {},
   "outputs": [
    {
     "data": {
      "text/plain": [
       "REV                     int64\n",
       "REPORT_TIME    datetime64[ns]\n",
       "VEHICLE_TAG            object\n",
       "LONGITUDE             float64\n",
       "LATITUDE              float64\n",
       "SPEED                 float64\n",
       "dtype: object"
      ]
     },
     "execution_count": 41,
     "metadata": {},
     "output_type": "execute_result"
    }
   ],
   "source": [
    "traffic.dtypes"
   ]
  },
  {
   "cell_type": "markdown",
   "metadata": {},
   "source": [
    "## Convert pandas into GeoPandas"
   ]
  },
  {
   "cell_type": "code",
   "execution_count": 33,
   "metadata": {},
   "outputs": [
    {
     "name": "stdout",
     "output_type": "stream",
     "text": [
      "11.14678761200048\n",
      "Size of travel speed data: (281517, 7)\n"
     ]
    },
    {
     "data": {
      "text/html": [
       "<div>\n",
       "<style scoped>\n",
       "    .dataframe tbody tr th:only-of-type {\n",
       "        vertical-align: middle;\n",
       "    }\n",
       "\n",
       "    .dataframe tbody tr th {\n",
       "        vertical-align: top;\n",
       "    }\n",
       "\n",
       "    .dataframe thead th {\n",
       "        text-align: right;\n",
       "    }\n",
       "</style>\n",
       "<table border=\"1\" class=\"dataframe\">\n",
       "  <thead>\n",
       "    <tr style=\"text-align: right;\">\n",
       "      <th></th>\n",
       "      <th>REV</th>\n",
       "      <th>REPORT_TIME</th>\n",
       "      <th>VEHICLE_TAG</th>\n",
       "      <th>LONGITUDE</th>\n",
       "      <th>LATITUDE</th>\n",
       "      <th>SPEED</th>\n",
       "      <th>geometry</th>\n",
       "    </tr>\n",
       "  </thead>\n",
       "  <tbody>\n",
       "    <tr>\n",
       "      <th>0</th>\n",
       "      <td>1512</td>\n",
       "      <td>2016-01-31 00:04:19</td>\n",
       "      <td>1</td>\n",
       "      <td>-122.41513</td>\n",
       "      <td>37.80481</td>\n",
       "      <td>0.000</td>\n",
       "      <td>POINT (-122.41513 37.80481)</td>\n",
       "    </tr>\n",
       "    <tr>\n",
       "      <th>1</th>\n",
       "      <td>1512</td>\n",
       "      <td>2016-01-31 00:13:19</td>\n",
       "      <td>1</td>\n",
       "      <td>-122.41523</td>\n",
       "      <td>37.80506</td>\n",
       "      <td>0.000</td>\n",
       "      <td>POINT (-122.41523 37.80506)</td>\n",
       "    </tr>\n",
       "    <tr>\n",
       "      <th>2</th>\n",
       "      <td>1512</td>\n",
       "      <td>2016-01-31 00:17:49</td>\n",
       "      <td>1</td>\n",
       "      <td>-122.41407</td>\n",
       "      <td>37.80296</td>\n",
       "      <td>2.500</td>\n",
       "      <td>POINT (-122.41407 37.80296)</td>\n",
       "    </tr>\n",
       "    <tr>\n",
       "      <th>3</th>\n",
       "      <td>1512</td>\n",
       "      <td>2016-01-31 00:19:18</td>\n",
       "      <td>1</td>\n",
       "      <td>-122.41269</td>\n",
       "      <td>37.80096</td>\n",
       "      <td>3.889</td>\n",
       "      <td>POINT (-122.41269 37.80096)</td>\n",
       "    </tr>\n",
       "    <tr>\n",
       "      <th>4</th>\n",
       "      <td>1512</td>\n",
       "      <td>2016-01-31 00:19:54</td>\n",
       "      <td>1</td>\n",
       "      <td>-122.41243</td>\n",
       "      <td>37.79961</td>\n",
       "      <td>3.889</td>\n",
       "      <td>POINT (-122.41243 37.79960999999999)</td>\n",
       "    </tr>\n",
       "  </tbody>\n",
       "</table>\n",
       "</div>"
      ],
      "text/plain": [
       "    REV         REPORT_TIME VEHICLE_TAG  LONGITUDE  LATITUDE  SPEED  \\\n",
       "0  1512 2016-01-31 00:04:19           1 -122.41513  37.80481  0.000   \n",
       "1  1512 2016-01-31 00:13:19           1 -122.41523  37.80506  0.000   \n",
       "2  1512 2016-01-31 00:17:49           1 -122.41407  37.80296  2.500   \n",
       "3  1512 2016-01-31 00:19:18           1 -122.41269  37.80096  3.889   \n",
       "4  1512 2016-01-31 00:19:54           1 -122.41243  37.79961  3.889   \n",
       "\n",
       "                               geometry  \n",
       "0           POINT (-122.41513 37.80481)  \n",
       "1           POINT (-122.41523 37.80506)  \n",
       "2           POINT (-122.41407 37.80296)  \n",
       "3           POINT (-122.41269 37.80096)  \n",
       "4  POINT (-122.41243 37.79960999999999)  "
      ]
     },
     "execution_count": 33,
     "metadata": {},
     "output_type": "execute_result"
    }
   ],
   "source": [
    "start_time = time.perf_counter()\n",
    "\n",
    "# Convert pandas to geopandas\n",
    "geom = traffic.apply(lambda x: Point(x['LONGITUDE'], x['LATITUDE']), axis=1)\n",
    "traffic = gpd.GeoDataFrame(traffic, geometry=geom)\n",
    "# traffic.crs = {'init': 'epsg:4326'}\n",
    "\n",
    "end_time = time.perf_counter()\n",
    "run_time = end_time - start_time\n",
    "\n",
    "print(run_time)\n",
    "print('Size of travel speed data: {}'.format(traffic.shape))\n",
    "traffic.head()"
   ]
  },
  {
   "cell_type": "markdown",
   "metadata": {},
   "source": [
    "Working with the pandas dataframe takes 11.14 seconds. Lets see if this can be sped up. "
   ]
  },
  {
   "cell_type": "code",
   "execution_count": 43,
   "metadata": {},
   "outputs": [
    {
     "name": "stdout",
     "output_type": "stream",
     "text": [
      "2.8215734799996426\n",
      "Size of travel speed data: (281517, 7)\n"
     ]
    },
    {
     "data": {
      "text/html": [
       "<div>\n",
       "<style scoped>\n",
       "    .dataframe tbody tr th:only-of-type {\n",
       "        vertical-align: middle;\n",
       "    }\n",
       "\n",
       "    .dataframe tbody tr th {\n",
       "        vertical-align: top;\n",
       "    }\n",
       "\n",
       "    .dataframe thead th {\n",
       "        text-align: right;\n",
       "    }\n",
       "</style>\n",
       "<table border=\"1\" class=\"dataframe\">\n",
       "  <thead>\n",
       "    <tr style=\"text-align: right;\">\n",
       "      <th></th>\n",
       "      <th>REV</th>\n",
       "      <th>REPORT_TIME</th>\n",
       "      <th>VEHICLE_TAG</th>\n",
       "      <th>LONGITUDE</th>\n",
       "      <th>LATITUDE</th>\n",
       "      <th>SPEED</th>\n",
       "      <th>geometry</th>\n",
       "    </tr>\n",
       "  </thead>\n",
       "  <tbody>\n",
       "    <tr>\n",
       "      <th>0</th>\n",
       "      <td>1512</td>\n",
       "      <td>2016-01-31 00:04:19</td>\n",
       "      <td>1</td>\n",
       "      <td>-122.41513</td>\n",
       "      <td>37.80481</td>\n",
       "      <td>0.000</td>\n",
       "      <td>POINT (-122.41513 37.80481)</td>\n",
       "    </tr>\n",
       "    <tr>\n",
       "      <th>1</th>\n",
       "      <td>1512</td>\n",
       "      <td>2016-01-31 00:13:19</td>\n",
       "      <td>1</td>\n",
       "      <td>-122.41523</td>\n",
       "      <td>37.80506</td>\n",
       "      <td>0.000</td>\n",
       "      <td>POINT (-122.41523 37.80506)</td>\n",
       "    </tr>\n",
       "    <tr>\n",
       "      <th>2</th>\n",
       "      <td>1512</td>\n",
       "      <td>2016-01-31 00:17:49</td>\n",
       "      <td>1</td>\n",
       "      <td>-122.41407</td>\n",
       "      <td>37.80296</td>\n",
       "      <td>2.500</td>\n",
       "      <td>POINT (-122.41407 37.80296)</td>\n",
       "    </tr>\n",
       "    <tr>\n",
       "      <th>3</th>\n",
       "      <td>1512</td>\n",
       "      <td>2016-01-31 00:19:18</td>\n",
       "      <td>1</td>\n",
       "      <td>-122.41269</td>\n",
       "      <td>37.80096</td>\n",
       "      <td>3.889</td>\n",
       "      <td>POINT (-122.41269 37.80096)</td>\n",
       "    </tr>\n",
       "    <tr>\n",
       "      <th>4</th>\n",
       "      <td>1512</td>\n",
       "      <td>2016-01-31 00:19:54</td>\n",
       "      <td>1</td>\n",
       "      <td>-122.41243</td>\n",
       "      <td>37.79961</td>\n",
       "      <td>3.889</td>\n",
       "      <td>POINT (-122.41243 37.79960999999999)</td>\n",
       "    </tr>\n",
       "  </tbody>\n",
       "</table>\n",
       "</div>"
      ],
      "text/plain": [
       "    REV         REPORT_TIME VEHICLE_TAG  LONGITUDE  LATITUDE  SPEED  \\\n",
       "0  1512 2016-01-31 00:04:19           1 -122.41513  37.80481  0.000   \n",
       "1  1512 2016-01-31 00:13:19           1 -122.41523  37.80506  0.000   \n",
       "2  1512 2016-01-31 00:17:49           1 -122.41407  37.80296  2.500   \n",
       "3  1512 2016-01-31 00:19:18           1 -122.41269  37.80096  3.889   \n",
       "4  1512 2016-01-31 00:19:54           1 -122.41243  37.79961  3.889   \n",
       "\n",
       "                               geometry  \n",
       "0           POINT (-122.41513 37.80481)  \n",
       "1           POINT (-122.41523 37.80506)  \n",
       "2           POINT (-122.41407 37.80296)  \n",
       "3           POINT (-122.41269 37.80096)  \n",
       "4  POINT (-122.41243 37.79960999999999)  "
      ]
     },
     "execution_count": 43,
     "metadata": {},
     "output_type": "execute_result"
    }
   ],
   "source": [
    "start_time = time.perf_counter()\n",
    "\n",
    "geom = pd.Series(zip(traffic.LONGITUDE, traffic.LATITUDE)).apply(Point)\n",
    "traffic = gpd.GeoDataFrame(traffic, geometry=geom)\n",
    "\n",
    "end_time = time.perf_counter()\n",
    "run_time = end_time - start_time\n",
    "print(run_time)\n",
    "print('Size of travel speed data: {}'.format(traffic.shape))\n",
    "traffic.head()"
   ]
  },
  {
   "cell_type": "markdown",
   "metadata": {},
   "source": [
    "The code is almost 4x faster by converting it first to tuple --> series --> then using the apply method to pass the function. "
   ]
  },
  {
   "cell_type": "code",
   "execution_count": 47,
   "metadata": {},
   "outputs": [
    {
     "data": {
      "text/html": [
       "<div>\n",
       "<style scoped>\n",
       "    .dataframe tbody tr th:only-of-type {\n",
       "        vertical-align: middle;\n",
       "    }\n",
       "\n",
       "    .dataframe tbody tr th {\n",
       "        vertical-align: top;\n",
       "    }\n",
       "\n",
       "    .dataframe thead th {\n",
       "        text-align: right;\n",
       "    }\n",
       "</style>\n",
       "<table border=\"1\" class=\"dataframe\">\n",
       "  <thead>\n",
       "    <tr style=\"text-align: right;\">\n",
       "      <th></th>\n",
       "      <th>geoid10</th>\n",
       "      <th>geometry</th>\n",
       "    </tr>\n",
       "  </thead>\n",
       "  <tbody>\n",
       "    <tr>\n",
       "      <th>0</th>\n",
       "      <td>06075016500</td>\n",
       "      <td>POLYGON ((-122.446471 37.775802, -122.44478 37...</td>\n",
       "    </tr>\n",
       "    <tr>\n",
       "      <th>1</th>\n",
       "      <td>06075016400</td>\n",
       "      <td>POLYGON ((-122.44034 37.77658, -122.439844 37....</td>\n",
       "    </tr>\n",
       "    <tr>\n",
       "      <th>2</th>\n",
       "      <td>06075016300</td>\n",
       "      <td>POLYGON ((-122.429152 37.778007, -122.428909 3...</td>\n",
       "    </tr>\n",
       "    <tr>\n",
       "      <th>3</th>\n",
       "      <td>06075016100</td>\n",
       "      <td>POLYGON ((-122.428909 37.778039, -122.429152 3...</td>\n",
       "    </tr>\n",
       "    <tr>\n",
       "      <th>4</th>\n",
       "      <td>06075016000</td>\n",
       "      <td>POLYGON ((-122.420425 37.780583, -122.420336 3...</td>\n",
       "    </tr>\n",
       "  </tbody>\n",
       "</table>\n",
       "</div>"
      ],
      "text/plain": [
       "       geoid10                                           geometry\n",
       "0  06075016500  POLYGON ((-122.446471 37.775802, -122.44478 37...\n",
       "1  06075016400  POLYGON ((-122.44034 37.77658, -122.439844 37....\n",
       "2  06075016300  POLYGON ((-122.429152 37.778007, -122.428909 3...\n",
       "3  06075016100  POLYGON ((-122.428909 37.778039, -122.429152 3...\n",
       "4  06075016000  POLYGON ((-122.420425 37.780583, -122.420336 3..."
      ]
     },
     "execution_count": 47,
     "metadata": {},
     "output_type": "execute_result"
    }
   ],
   "source": [
    "shp_file = '../raw_data/census_zones/sf/geo_export_8ddce19a-2ba8-4da5-8c6c-28ee960b9bc6.shp'\n",
    "shp_file = gpd.GeoDataFrame.from_file(shp_file)\n",
    "shp_file = shp_file[['geoid10', 'geometry']]\n",
    "shp_file.head()"
   ]
  },
  {
   "cell_type": "code",
   "execution_count": 48,
   "metadata": {},
   "outputs": [
    {
     "name": "stdout",
     "output_type": "stream",
     "text": [
      "9.493038871998579\n"
     ]
    },
    {
     "data": {
      "text/html": [
       "<div>\n",
       "<style scoped>\n",
       "    .dataframe tbody tr th:only-of-type {\n",
       "        vertical-align: middle;\n",
       "    }\n",
       "\n",
       "    .dataframe tbody tr th {\n",
       "        vertical-align: top;\n",
       "    }\n",
       "\n",
       "    .dataframe thead th {\n",
       "        text-align: right;\n",
       "    }\n",
       "</style>\n",
       "<table border=\"1\" class=\"dataframe\">\n",
       "  <thead>\n",
       "    <tr style=\"text-align: right;\">\n",
       "      <th></th>\n",
       "      <th>REV</th>\n",
       "      <th>REPORT_TIME</th>\n",
       "      <th>VEHICLE_TAG</th>\n",
       "      <th>LONGITUDE</th>\n",
       "      <th>LATITUDE</th>\n",
       "      <th>SPEED</th>\n",
       "      <th>geometry</th>\n",
       "      <th>index_right</th>\n",
       "      <th>geoid10</th>\n",
       "    </tr>\n",
       "  </thead>\n",
       "  <tbody>\n",
       "    <tr>\n",
       "      <th>0</th>\n",
       "      <td>1512</td>\n",
       "      <td>2016-01-31 00:04:19</td>\n",
       "      <td>1</td>\n",
       "      <td>-122.41513</td>\n",
       "      <td>37.80481</td>\n",
       "      <td>0.000</td>\n",
       "      <td>POINT (-122.41513 37.80481)</td>\n",
       "      <td>45</td>\n",
       "      <td>06075010100</td>\n",
       "    </tr>\n",
       "    <tr>\n",
       "      <th>1</th>\n",
       "      <td>1512</td>\n",
       "      <td>2016-01-31 00:13:19</td>\n",
       "      <td>1</td>\n",
       "      <td>-122.41523</td>\n",
       "      <td>37.80506</td>\n",
       "      <td>0.000</td>\n",
       "      <td>POINT (-122.41523 37.80506)</td>\n",
       "      <td>45</td>\n",
       "      <td>06075010100</td>\n",
       "    </tr>\n",
       "    <tr>\n",
       "      <th>66</th>\n",
       "      <td>1513</td>\n",
       "      <td>2016-01-31 06:34:19</td>\n",
       "      <td>1</td>\n",
       "      <td>-122.41516</td>\n",
       "      <td>37.80505</td>\n",
       "      <td>0.000</td>\n",
       "      <td>POINT (-122.41516 37.80505)</td>\n",
       "      <td>45</td>\n",
       "      <td>06075010100</td>\n",
       "    </tr>\n",
       "    <tr>\n",
       "      <th>67</th>\n",
       "      <td>1513</td>\n",
       "      <td>2016-01-31 06:37:19</td>\n",
       "      <td>1</td>\n",
       "      <td>-122.41496</td>\n",
       "      <td>37.80393</td>\n",
       "      <td>3.333</td>\n",
       "      <td>POINT (-122.41496 37.80393)</td>\n",
       "      <td>45</td>\n",
       "      <td>06075010100</td>\n",
       "    </tr>\n",
       "    <tr>\n",
       "      <th>86</th>\n",
       "      <td>1513</td>\n",
       "      <td>2016-01-31 07:04:57</td>\n",
       "      <td>1</td>\n",
       "      <td>-122.41481</td>\n",
       "      <td>37.80358</td>\n",
       "      <td>3.056</td>\n",
       "      <td>POINT (-122.41481 37.80358)</td>\n",
       "      <td>45</td>\n",
       "      <td>06075010100</td>\n",
       "    </tr>\n",
       "  </tbody>\n",
       "</table>\n",
       "</div>"
      ],
      "text/plain": [
       "     REV         REPORT_TIME VEHICLE_TAG  LONGITUDE  LATITUDE  SPEED  \\\n",
       "0   1512 2016-01-31 00:04:19           1 -122.41513  37.80481  0.000   \n",
       "1   1512 2016-01-31 00:13:19           1 -122.41523  37.80506  0.000   \n",
       "66  1513 2016-01-31 06:34:19           1 -122.41516  37.80505  0.000   \n",
       "67  1513 2016-01-31 06:37:19           1 -122.41496  37.80393  3.333   \n",
       "86  1513 2016-01-31 07:04:57           1 -122.41481  37.80358  3.056   \n",
       "\n",
       "                       geometry  index_right      geoid10  \n",
       "0   POINT (-122.41513 37.80481)           45  06075010100  \n",
       "1   POINT (-122.41523 37.80506)           45  06075010100  \n",
       "66  POINT (-122.41516 37.80505)           45  06075010100  \n",
       "67  POINT (-122.41496 37.80393)           45  06075010100  \n",
       "86  POINT (-122.41481 37.80358)           45  06075010100  "
      ]
     },
     "execution_count": 48,
     "metadata": {},
     "output_type": "execute_result"
    }
   ],
   "source": [
    "# Join with census data\n",
    "# 'op' - operation | specify 'within' because we want our zip ponts \n",
    "# that are within state polygons. \n",
    "start_time = time.perf_counter()\n",
    "\n",
    "traffic.crs = shp_file.crs \n",
    "mapped_traffic = gpd.sjoin(traffic, shp_file, op='within')\n",
    "\n",
    "end_time = time.perf_counter()\n",
    "run_time = end_time - start_time\n",
    "\n",
    "print(run_time)\n",
    "mapped_traffic.head()"
   ]
  },
  {
   "cell_type": "code",
   "execution_count": 54,
   "metadata": {},
   "outputs": [
    {
     "data": {
      "text/plain": [
       "geopandas.geodataframe.GeoDataFrame"
      ]
     },
     "execution_count": 54,
     "metadata": {},
     "output_type": "execute_result"
    }
   ],
   "source": [
    "type(shp_file)"
   ]
  },
  {
   "cell_type": "markdown",
   "metadata": {},
   "source": [
    "# 4. Check if utility functions work"
   ]
  },
  {
   "cell_type": "code",
   "execution_count": 4,
   "metadata": {},
   "outputs": [],
   "source": [
    "import os"
   ]
  },
  {
   "cell_type": "code",
   "execution_count": 5,
   "metadata": {},
   "outputs": [
    {
     "data": {
      "text/plain": [
       "['formatter.py',\n",
       " 'toolkit.py',\n",
       " '__init__.py',\n",
       " '__pycache__',\n",
       " 'region_mapper.py']"
      ]
     },
     "execution_count": 5,
     "metadata": {},
     "output_type": "execute_result"
    }
   ],
   "source": [
    "os.listdir('./utils')"
   ]
  },
  {
   "cell_type": "code",
   "execution_count": 6,
   "metadata": {},
   "outputs": [],
   "source": [
    "from utils.formatter import coordinate_mapper, SFDATA_file_cleaner\n",
    "from decorators import timer"
   ]
  },
  {
   "cell_type": "code",
   "execution_count": 7,
   "metadata": {},
   "outputs": [],
   "source": [
    "# Evaluate performate \n",
    "coordinate_mapper = timer(coordinate_mapper)"
   ]
  },
  {
   "cell_type": "code",
   "execution_count": 8,
   "metadata": {},
   "outputs": [
    {
     "name": "stdout",
     "output_type": "stream",
     "text": [
      "54\n"
     ]
    }
   ],
   "source": [
    "# Clean first 5 files for testing\n",
    "input_dir = '../raw_data/sf_speed_data/'\n",
    "output_dir = '../temp_data/sfdata_clean/'\n",
    "\n",
    "file_names = os.listdir('../raw_data/sf_speed_data')\n",
    "print(len(file_names))"
   ]
  },
  {
   "cell_type": "code",
   "execution_count": 9,
   "metadata": {},
   "outputs": [],
   "source": [
    "file_names = file_names[:5]\n",
    "\n",
    "for file in file_names:\n",
    "    SFDATA_file_cleaner(input_dir, output_dir, file)"
   ]
  },
  {
   "cell_type": "code",
   "execution_count": 10,
   "metadata": {},
   "outputs": [],
   "source": [
    "shp_file = '../raw_data/census_zones/sf/geo_export_8ddce19a-2ba8-4da5-8c6c-28ee960b9bc6.shp'"
   ]
  },
  {
   "cell_type": "code",
   "execution_count": 11,
   "metadata": {},
   "outputs": [],
   "source": [
    "input_dir = '../temp_data/sfdata_clean/'\n",
    "output_dir = '../output/sfdata_mapped/'"
   ]
  },
  {
   "cell_type": "markdown",
   "metadata": {},
   "source": [
    "## Performance test 1: reading shape file in coordinate mapper"
   ]
  },
  {
   "cell_type": "code",
   "execution_count": 50,
   "metadata": {},
   "outputs": [
    {
     "name": "stdout",
     "output_type": "stream",
     "text": [
      "Running coordinate_mapper...\n"
     ]
    },
    {
     "name": "stderr",
     "output_type": "stream",
     "text": [
      "/Users/koki/Documents/Learning/UMICH_course_material/SI_699_Big_Data/rushhour/lib/python3.6/site-packages/IPython/core/interactiveshell.py:3267: DtypeWarning: Columns (2) have mixed types. Specify dtype option on import or set low_memory=False.\n",
      "  exec(code_obj, self.user_global_ns, self.user_ns)\n"
     ]
    },
    {
     "name": "stdout",
     "output_type": "stream",
     "text": [
      "Finished in 33.5748s\n",
      "Running coordinate_mapper...\n",
      "Finished in 46.4996s\n",
      "Running coordinate_mapper...\n",
      "Finished in 48.2839s\n",
      "Running coordinate_mapper...\n",
      "Finished in 134.4163s\n",
      "Running coordinate_mapper...\n",
      "Finished in 44.6246s\n"
     ]
    }
   ],
   "source": [
    "for file in file_names:\n",
    "    coordinate_mapper(shp_file, input_dir, output_dir, file)"
   ]
  },
  {
   "cell_type": "markdown",
   "metadata": {},
   "source": [
    "Pretty slow.. Takes over 40+ seconds."
   ]
  },
  {
   "cell_type": "markdown",
   "metadata": {},
   "source": [
    "## Performance test 2: reading shape file first, then looping "
   ]
  },
  {
   "cell_type": "code",
   "execution_count": 11,
   "metadata": {},
   "outputs": [],
   "source": [
    "shp_file = gpd.GeoDataFrame.from_file(shp_file)\n",
    "shp_file = shp_file[['geoid10', 'geometry']]"
   ]
  },
  {
   "cell_type": "code",
   "execution_count": 15,
   "metadata": {},
   "outputs": [
    {
     "name": "stdout",
     "output_type": "stream",
     "text": [
      "Running coordinate_mapper...\n"
     ]
    },
    {
     "name": "stderr",
     "output_type": "stream",
     "text": [
      "/Users/koki/Documents/Learning/UMICH_course_material/SI_699_Big_Data/rushhour/lib/python3.6/site-packages/IPython/core/interactiveshell.py:3267: DtypeWarning: Columns (2) have mixed types. Specify dtype option on import or set low_memory=False.\n",
      "  exec(code_obj, self.user_global_ns, self.user_ns)\n"
     ]
    },
    {
     "name": "stdout",
     "output_type": "stream",
     "text": [
      "Finished in 32.2340s\n",
      "Running coordinate_mapper...\n",
      "Finished in 46.4872s\n",
      "Running coordinate_mapper...\n",
      "Finished in 46.3609s\n",
      "Running coordinate_mapper...\n",
      "Finished in 128.1971s\n",
      "Running coordinate_mapper...\n",
      "Finished in 43.7382s\n"
     ]
    }
   ],
   "source": [
    "for file in file_names:\n",
    "    coordinate_mapper(shp_file, input_dir, output_dir, file)"
   ]
  },
  {
   "cell_type": "markdown",
   "metadata": {},
   "source": [
    "Not that much better, maybe a second faster"
   ]
  },
  {
   "cell_type": "markdown",
   "metadata": {},
   "source": [
    "## Performance test 3: optimized coordinate mapper function"
   ]
  },
  {
   "cell_type": "code",
   "execution_count": 13,
   "metadata": {},
   "outputs": [],
   "source": [
    "shp_file = gpd.GeoDataFrame.from_file(shp_file)\n",
    "shp_file = shp_file[['geoid10', 'geometry']]"
   ]
  },
  {
   "cell_type": "code",
   "execution_count": 14,
   "metadata": {},
   "outputs": [
    {
     "name": "stdout",
     "output_type": "stream",
     "text": [
      "Running coordinate_mapper...\n",
      "Finished in 20.5079s\n",
      "Running coordinate_mapper...\n",
      "Finished in 28.4065s\n",
      "Running coordinate_mapper...\n",
      "Finished in 29.4398s\n",
      "Running coordinate_mapper...\n",
      "Finished in 85.4615s\n",
      "Running coordinate_mapper...\n",
      "Finished in 27.5626s\n"
     ]
    }
   ],
   "source": [
    "for file in file_names:\n",
    "    coordinate_mapper(shp_file, input_dir, output_dir, file)"
   ]
  },
  {
   "cell_type": "markdown",
   "metadata": {},
   "source": [
    "# 5. FCC API\n",
    "*Does not give census zone ID*  \n",
    "*FIPS is not specific enough as multiple census zones can have the same FIPS code*  \n",
    "\n",
    "Resources \n",
    "1. (https://gis.stackexchange.com/questions/294641/python-code-for-transforming-lat-long-into-fips-codes)\n",
    "2. (https://geo.fcc.gov/api/census/#!/block/get_block_find)\n",
    "3. (https://www.census.gov/geo/reference/geoidentifiers.html)\n",
    "\n",
    "FIPS codes  \n",
    "Federal Information Processing Series: numeric codes assigned by the National Institude of Standards and Technology (NIST). Deals with US states and counties. US states identified with a 2-digit number while US counties are idnentified by a 3-digit number. \n",
    "\n",
    "Example:\n",
    "> FIPS code: 06071 represents\n",
    "> California - 06\n",
    "> San Bernardino County - 071"
   ]
  },
  {
   "cell_type": "code",
   "execution_count": 25,
   "metadata": {},
   "outputs": [],
   "source": [
    "@timer\n",
    "def census_mapper(lat, lon):\n",
    "    '''Map lat and lon coordiantes to census zone using the fcc API'''\n",
    "    \n",
    "    #Encode parameters \n",
    "    params = urllib.parse.urlencode({'latitude': lat,\n",
    "                                     'longitude':lon,\n",
    "                                     'format':'json'})\n",
    "    \n",
    "    #Contruct request URL\n",
    "    url = 'https://geo.fcc.gov/api/census/block/find?' + params\n",
    "\n",
    "    #Get response from API\n",
    "    response = requests.get(url)\n",
    "\n",
    "    #Parse json in response\n",
    "    data = response.json()\n",
    "\n",
    "    #Print FIPS code\n",
    "    return data['County']['FIPS']"
   ]
  },
  {
   "cell_type": "code",
   "execution_count": 26,
   "metadata": {},
   "outputs": [
    {
     "name": "stdout",
     "output_type": "stream",
     "text": [
      "Running census_mapper...\n",
      "Finished in 0.2102s\n"
     ]
    },
    {
     "data": {
      "text/plain": [
       "'06075'"
      ]
     },
     "execution_count": 26,
     "metadata": {},
     "output_type": "execute_result"
    }
   ],
   "source": [
    "census_mapper(37.80456, -122.41509)"
   ]
  }
 ],
 "metadata": {
  "kernelspec": {
   "display_name": "Python 3",
   "language": "python",
   "name": "python3"
  },
  "language_info": {
   "codemirror_mode": {
    "name": "ipython",
    "version": 3
   },
   "file_extension": ".py",
   "mimetype": "text/x-python",
   "name": "python",
   "nbconvert_exporter": "python",
   "pygments_lexer": "ipython3",
   "version": "3.6.1"
  }
 },
 "nbformat": 4,
 "nbformat_minor": 2
}
