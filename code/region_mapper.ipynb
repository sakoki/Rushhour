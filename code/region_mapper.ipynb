{
 "cells": [
  {
   "cell_type": "markdown",
   "metadata": {},
   "source": [
    "# Map geospatial data to census zones \n",
    "Author: Koki Sasagawa\n",
    "Last edited: 2/12/2019\n",
    "\n",
    "Should work with any datapoints that have lon lat coordinates"
   ]
  },
  {
   "cell_type": "code",
   "execution_count": 12,
   "metadata": {},
   "outputs": [
    {
     "name": "stdout",
     "output_type": "stream",
     "text": [
      "Requirement already satisfied: decorators in /Library/Frameworks/Python.framework/Versions/3.6/lib/python3.6/site-packages\n",
      "\u001b[33mYou are using pip version 9.0.1, however version 19.0.2 is available.\n",
      "You should consider upgrading via the 'pip install --upgrade pip' command.\u001b[0m\n"
     ]
    }
   ],
   "source": [
    "!python3.6 -m pip install decorators"
   ]
  },
  {
   "cell_type": "code",
   "execution_count": 14,
   "metadata": {
    "collapsed": true
   },
   "outputs": [],
   "source": [
    "import geopandas as gpd\n",
    "import matplotlib.pyplot as plt\n",
    "import pandas as pd\n",
    "import requests\n",
    "import urllib\n",
    "import json \n",
    "import re\n",
    "import os\n",
    "from shapely.geometry import Point\n",
    "# from decorators import timer\n",
    "\n",
    "%matplotlib inline"
   ]
  },
  {
   "cell_type": "code",
   "execution_count": 15,
   "metadata": {
    "collapsed": true
   },
   "outputs": [],
   "source": [
    "# Specifiy directory containing shape file\n",
    "gis_data_dir = '../raw_data/census_zones/sf/'"
   ]
  },
  {
   "cell_type": "code",
   "execution_count": 16,
   "metadata": {},
   "outputs": [
    {
     "name": "stdout",
     "output_type": "stream",
     "text": [
      "0 .DS_Store\n",
      "1 geo_export_8c14e8b6-2d3c-4109-af6b-f6e25cb69f0c.prj\n",
      "2 geo_export_8c14e8b6-2d3c-4109-af6b-f6e25cb69f0c.dbf\n",
      "3 geo_export_8c14e8b6-2d3c-4109-af6b-f6e25cb69f0c.shp\n",
      "4 geo_export_8c14e8b6-2d3c-4109-af6b-f6e25cb69f0c.shx\n"
     ]
    }
   ],
   "source": [
    "files = os.listdir(gis_data_dir)\n",
    "for i, n in enumerate(files):\n",
    "    print(i,n)"
   ]
  },
  {
   "cell_type": "markdown",
   "metadata": {},
   "source": [
    "# SF 2010 census tracts data\n",
    "[dataset link](https://data.sfgov.org/Geographic-Locations-and-Boundaries/Census-2010-Tracts-for-San-Francisco/rarb-5ahf)\n",
    "\n",
    "`shp` - file containing geometry of each feature  \n",
    "`dbf` - dBase file containing attribute data for all of the features in the dataset  \n",
    "`shx` - spatial index, allows GIS systems to find features within the shp files  \n",
    "`prj` - projection file containing information about the projection and coordinate system the data uses\n",
    "\n",
    "\n",
    "| Code        | Description |\n",
    "|:------------|:------------|\n",
    "| aland10     | Area(land)  |\n",
    "| awater10    | Area(Water) |\n",
    "| countryfp10 | County FIPS |\n",
    "| funcstat10  | Functional Status Code (e.g., S = Statistical Entity) |\n",
    "| geoid10     | Numeric codes that uniquely identify all administrative/legal and statistical geographic areas |\n",
    "| intptlat10  | Internal Point (Latitude) |\n",
    "| intptlon10  | Internal Point (Longitude) |\n",
    "| mtfcc10     | MAF/TiGER feature class code |\n",
    "| namelsad    | Current name and the translated lega/statistical area dscription |\n",
    "| statefp10   | state FIPS |\n",
    "| tractce10   | census tract |\n",
    "| geometry    | shape on earth as specified by lat and lon |\n",
    "\n",
    "`FIPS`- Federal Information Processing Series: numeric codes assigned by the National Institude of Standards and Technology (NIST). Deals with US states and counties. US states identified with a 2-digit number while US counties are idnentified by a 3-digit number. \n",
    "> Example:\n",
    "> FIPS code: 06071 represents\n",
    "> California - 06\n",
    "> San Bernardino County - 071"
   ]
  },
  {
   "cell_type": "code",
   "execution_count": 17,
   "metadata": {},
   "outputs": [
    {
     "name": "stdout",
     "output_type": "stream",
     "text": [
      "Size of census zones df: (197, 13)\n"
     ]
    },
    {
     "data": {
      "text/html": [
       "<div>\n",
       "<style scoped>\n",
       "    .dataframe tbody tr th:only-of-type {\n",
       "        vertical-align: middle;\n",
       "    }\n",
       "\n",
       "    .dataframe tbody tr th {\n",
       "        vertical-align: top;\n",
       "    }\n",
       "\n",
       "    .dataframe thead th {\n",
       "        text-align: right;\n",
       "    }\n",
       "</style>\n",
       "<table border=\"1\" class=\"dataframe\">\n",
       "  <thead>\n",
       "    <tr style=\"text-align: right;\">\n",
       "      <th></th>\n",
       "      <th>aland10</th>\n",
       "      <th>awater10</th>\n",
       "      <th>countyfp10</th>\n",
       "      <th>funcstat10</th>\n",
       "      <th>geoid10</th>\n",
       "      <th>intptlat10</th>\n",
       "      <th>intptlon10</th>\n",
       "      <th>mtfcc10</th>\n",
       "      <th>name10</th>\n",
       "      <th>namelsad10</th>\n",
       "      <th>statefp10</th>\n",
       "      <th>tractce10</th>\n",
       "      <th>geometry</th>\n",
       "    </tr>\n",
       "  </thead>\n",
       "  <tbody>\n",
       "    <tr>\n",
       "      <th>0</th>\n",
       "      <td>370459.0</td>\n",
       "      <td>0.0</td>\n",
       "      <td>075</td>\n",
       "      <td>S</td>\n",
       "      <td>06075016500</td>\n",
       "      <td>+37.7741958</td>\n",
       "      <td>-122.4477884</td>\n",
       "      <td>G5020</td>\n",
       "      <td>165</td>\n",
       "      <td>Census Tract 165</td>\n",
       "      <td>06</td>\n",
       "      <td>016500</td>\n",
       "      <td>POLYGON ((-122.446471 37.775802, -122.44478 37...</td>\n",
       "    </tr>\n",
       "    <tr>\n",
       "      <th>1</th>\n",
       "      <td>309097.0</td>\n",
       "      <td>0.0</td>\n",
       "      <td>075</td>\n",
       "      <td>S</td>\n",
       "      <td>06075016400</td>\n",
       "      <td>+37.7750995</td>\n",
       "      <td>-122.4369729</td>\n",
       "      <td>G5020</td>\n",
       "      <td>164</td>\n",
       "      <td>Census Tract 164</td>\n",
       "      <td>06</td>\n",
       "      <td>016400</td>\n",
       "      <td>POLYGON ((-122.44034 37.77658, -122.439844 37....</td>\n",
       "    </tr>\n",
       "    <tr>\n",
       "      <th>2</th>\n",
       "      <td>245867.0</td>\n",
       "      <td>0.0</td>\n",
       "      <td>075</td>\n",
       "      <td>S</td>\n",
       "      <td>06075016300</td>\n",
       "      <td>+37.7760456</td>\n",
       "      <td>-122.4295509</td>\n",
       "      <td>G5020</td>\n",
       "      <td>163</td>\n",
       "      <td>Census Tract 163</td>\n",
       "      <td>06</td>\n",
       "      <td>016300</td>\n",
       "      <td>POLYGON ((-122.429152 37.778007, -122.428909 3...</td>\n",
       "    </tr>\n",
       "    <tr>\n",
       "      <th>3</th>\n",
       "      <td>368901.0</td>\n",
       "      <td>0.0</td>\n",
       "      <td>075</td>\n",
       "      <td>S</td>\n",
       "      <td>06075016100</td>\n",
       "      <td>+37.7799831</td>\n",
       "      <td>-122.4286631</td>\n",
       "      <td>G5020</td>\n",
       "      <td>161</td>\n",
       "      <td>Census Tract 161</td>\n",
       "      <td>06</td>\n",
       "      <td>016100</td>\n",
       "      <td>POLYGON ((-122.428909 37.778039, -122.429152 3...</td>\n",
       "    </tr>\n",
       "    <tr>\n",
       "      <th>4</th>\n",
       "      <td>158236.0</td>\n",
       "      <td>0.0</td>\n",
       "      <td>075</td>\n",
       "      <td>S</td>\n",
       "      <td>06075016000</td>\n",
       "      <td>+37.7823363</td>\n",
       "      <td>-122.4224838</td>\n",
       "      <td>G5020</td>\n",
       "      <td>160</td>\n",
       "      <td>Census Tract 160</td>\n",
       "      <td>06</td>\n",
       "      <td>016000</td>\n",
       "      <td>POLYGON ((-122.420425 37.780583, -122.420336 3...</td>\n",
       "    </tr>\n",
       "  </tbody>\n",
       "</table>\n",
       "</div>"
      ],
      "text/plain": [
       "    aland10  awater10 countyfp10 funcstat10      geoid10   intptlat10  \\\n",
       "0  370459.0       0.0        075          S  06075016500  +37.7741958   \n",
       "1  309097.0       0.0        075          S  06075016400  +37.7750995   \n",
       "2  245867.0       0.0        075          S  06075016300  +37.7760456   \n",
       "3  368901.0       0.0        075          S  06075016100  +37.7799831   \n",
       "4  158236.0       0.0        075          S  06075016000  +37.7823363   \n",
       "\n",
       "     intptlon10 mtfcc10 name10        namelsad10 statefp10 tractce10  \\\n",
       "0  -122.4477884   G5020    165  Census Tract 165        06    016500   \n",
       "1  -122.4369729   G5020    164  Census Tract 164        06    016400   \n",
       "2  -122.4295509   G5020    163  Census Tract 163        06    016300   \n",
       "3  -122.4286631   G5020    161  Census Tract 161        06    016100   \n",
       "4  -122.4224838   G5020    160  Census Tract 160        06    016000   \n",
       "\n",
       "                                            geometry  \n",
       "0  POLYGON ((-122.446471 37.775802, -122.44478 37...  \n",
       "1  POLYGON ((-122.44034 37.77658, -122.439844 37....  \n",
       "2  POLYGON ((-122.429152 37.778007, -122.428909 3...  \n",
       "3  POLYGON ((-122.428909 37.778039, -122.429152 3...  \n",
       "4  POLYGON ((-122.420425 37.780583, -122.420336 3...  "
      ]
     },
     "execution_count": 17,
     "metadata": {},
     "output_type": "execute_result"
    }
   ],
   "source": [
    "sf_census_zones = gpd.GeoDataFrame.from_file(gis_data_dir + files[3])\n",
    "print('Size of census zones df: {}'.format(sf_census_zones.shape))\n",
    "sf_census_zones.head()"
   ]
  },
  {
   "cell_type": "code",
   "execution_count": 22,
   "metadata": {},
   "outputs": [
    {
     "data": {
      "text/plain": [
       "197"
      ]
     },
     "execution_count": 22,
     "metadata": {},
     "output_type": "execute_result"
    }
   ],
   "source": [
    "len(sf_census_zones.name10.unique())"
   ]
  },
  {
   "cell_type": "code",
   "execution_count": 18,
   "metadata": {},
   "outputs": [
    {
     "data": {
      "text/plain": [
       "aland10       float64\n",
       "awater10      float64\n",
       "countyfp10     object\n",
       "funcstat10     object\n",
       "geoid10        object\n",
       "intptlat10     object\n",
       "intptlon10     object\n",
       "mtfcc10        object\n",
       "name10         object\n",
       "namelsad10     object\n",
       "statefp10      object\n",
       "tractce10      object\n",
       "geometry       object\n",
       "dtype: object"
      ]
     },
     "execution_count": 18,
     "metadata": {},
     "output_type": "execute_result"
    }
   ],
   "source": [
    "sf_census_zones.dtypes"
   ]
  },
  {
   "cell_type": "code",
   "execution_count": 19,
   "metadata": {},
   "outputs": [
    {
     "data": {
      "text/plain": [
       "{'init': 'epsg:4326'}"
      ]
     },
     "execution_count": 19,
     "metadata": {},
     "output_type": "execute_result"
    }
   ],
   "source": [
    "sf_census_zones.crs"
   ]
  },
  {
   "cell_type": "markdown",
   "metadata": {},
   "source": [
    "The circular blob is referring to the census zone for the off coast Farallon Islands"
   ]
  },
  {
   "cell_type": "code",
   "execution_count": 20,
   "metadata": {},
   "outputs": [
    {
     "data": {
      "text/plain": [
       "<matplotlib.axes._subplots.AxesSubplot at 0x125057358>"
      ]
     },
     "execution_count": 20,
     "metadata": {},
     "output_type": "execute_result"
    },
    {
     "data": {
      "image/png": "iVBORw0KGgoAAAANSUhEUgAAAtMAAAD8CAYAAAC1kSj7AAAABHNCSVQICAgIfAhkiAAAAAlwSFlz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\n",
      "text/plain": [
       "<matplotlib.figure.Figure at 0x118fb0240>"
      ]
     },
     "metadata": {},
     "output_type": "display_data"
    }
   ],
   "source": [
    "sf_census_zones.plot(figsize=(12, 12))"
   ]
  },
  {
   "cell_type": "markdown",
   "metadata": {},
   "source": [
    "# Uber census tract data"
   ]
  },
  {
   "cell_type": "code",
   "execution_count": 8,
   "metadata": {},
   "outputs": [
    {
     "name": "stdout",
     "output_type": "stream",
     "text": [
      "(2710, 3)\n"
     ]
    },
    {
     "data": {
      "text/html": [
       "<div>\n",
       "<style scoped>\n",
       "    .dataframe tbody tr th:only-of-type {\n",
       "        vertical-align: middle;\n",
       "    }\n",
       "\n",
       "    .dataframe tbody tr th {\n",
       "        vertical-align: top;\n",
       "    }\n",
       "\n",
       "    .dataframe thead th {\n",
       "        text-align: right;\n",
       "    }\n",
       "</style>\n",
       "<table border=\"1\" class=\"dataframe\">\n",
       "  <thead>\n",
       "    <tr style=\"text-align: right;\">\n",
       "      <th></th>\n",
       "      <th>MOVEMENT_ID</th>\n",
       "      <th>DISPLAY_NAME</th>\n",
       "      <th>geometry</th>\n",
       "    </tr>\n",
       "  </thead>\n",
       "  <tbody>\n",
       "    <tr>\n",
       "      <th>0</th>\n",
       "      <td>1</td>\n",
       "      <td>Sargent Creek, San Ardo</td>\n",
       "      <td>(POLYGON ((-121.595108 36.111261, -121.540189 ...</td>\n",
       "    </tr>\n",
       "    <tr>\n",
       "      <th>1</th>\n",
       "      <td>2</td>\n",
       "      <td>400 Northumberland Avenue, Redwood Oaks, Redwo...</td>\n",
       "      <td>(POLYGON ((-122.224626 37.465065, -122.223616 ...</td>\n",
       "    </tr>\n",
       "    <tr>\n",
       "      <th>2</th>\n",
       "      <td>3</td>\n",
       "      <td>18300 Sutter Boulevard, Morgan Hill</td>\n",
       "      <td>(POLYGON ((-121.679781 37.158594, -121.671983 ...</td>\n",
       "    </tr>\n",
       "    <tr>\n",
       "      <th>3</th>\n",
       "      <td>4</td>\n",
       "      <td>2700 Stoughton Way, Sheffield, Sacramento</td>\n",
       "      <td>(POLYGON ((-121.359211 38.57175, -121.346287 3...</td>\n",
       "    </tr>\n",
       "    <tr>\n",
       "      <th>4</th>\n",
       "      <td>5</td>\n",
       "      <td>3200 Huntsman Drive, Rosemont Park, Sacramento</td>\n",
       "      <td>(POLYGON ((-121.375124 38.553093, -121.371535 ...</td>\n",
       "    </tr>\n",
       "  </tbody>\n",
       "</table>\n",
       "</div>"
      ],
      "text/plain": [
       "  MOVEMENT_ID                                       DISPLAY_NAME  \\\n",
       "0           1                            Sargent Creek, San Ardo   \n",
       "1           2  400 Northumberland Avenue, Redwood Oaks, Redwo...   \n",
       "2           3                18300 Sutter Boulevard, Morgan Hill   \n",
       "3           4          2700 Stoughton Way, Sheffield, Sacramento   \n",
       "4           5     3200 Huntsman Drive, Rosemont Park, Sacramento   \n",
       "\n",
       "                                            geometry  \n",
       "0  (POLYGON ((-121.595108 36.111261, -121.540189 ...  \n",
       "1  (POLYGON ((-122.224626 37.465065, -122.223616 ...  \n",
       "2  (POLYGON ((-121.679781 37.158594, -121.671983 ...  \n",
       "3  (POLYGON ((-121.359211 38.57175, -121.346287 3...  \n",
       "4  (POLYGON ((-121.375124 38.553093, -121.371535 ...  "
      ]
     },
     "execution_count": 8,
     "metadata": {},
     "output_type": "execute_result"
    }
   ],
   "source": [
    "data = gpd.read_file(gis_data_dir + files[3])\n",
    "print(data.shape)\n",
    "data.head()"
   ]
  },
  {
   "cell_type": "code",
   "execution_count": 9,
   "metadata": {},
   "outputs": [
    {
     "data": {
      "text/plain": [
       "MOVEMENT_ID     object\n",
       "DISPLAY_NAME    object\n",
       "geometry        object\n",
       "dtype: object"
      ]
     },
     "execution_count": 9,
     "metadata": {},
     "output_type": "execute_result"
    }
   ],
   "source": [
    "data.dtypes"
   ]
  },
  {
   "cell_type": "code",
   "execution_count": 10,
   "metadata": {},
   "outputs": [
    {
     "data": {
      "text/plain": [
       "<matplotlib.axes._subplots.AxesSubplot at 0x128072c50>"
      ]
     },
     "execution_count": 10,
     "metadata": {},
     "output_type": "execute_result"
    },
    {
     "data": {
      "image/png": "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\n",
      "text/plain": [
       "<Figure size 864x864 with 1 Axes>"
      ]
     },
     "metadata": {
      "needs_background": "light"
     },
     "output_type": "display_data"
    }
   ],
   "source": [
    "data.plot(figsize=(12, 12))"
   ]
  },
  {
   "cell_type": "markdown",
   "metadata": {},
   "source": [
    "Not really just sf census data, but spans over the central, norther california. "
   ]
  },
  {
   "cell_type": "markdown",
   "metadata": {},
   "source": [
    "# DataSF Historical raw AVL/GPS data \n",
    "Each file contains 24 hours of data from the GPS units afficed to SFMTA vehicles."
   ]
  },
  {
   "cell_type": "code",
   "execution_count": 11,
   "metadata": {},
   "outputs": [
    {
     "name": "stdout",
     "output_type": "stream",
     "text": [
      "sfmtaAVLRawData01032016.csv\n"
     ]
    }
   ],
   "source": [
    "data_intput = '../raw_data/sf_speed_data/'\n",
    "data_output = '../temp_data/sfdata_clean/'\n",
    "\n",
    "file_name = os.listdir(data_intput)[2]\n",
    "print(file_name)"
   ]
  },
  {
   "cell_type": "code",
   "execution_count": 14,
   "metadata": {},
   "outputs": [],
   "source": [
    "def file_cleaner(input_dir, output_dir, file_name):\n",
    "    '''Reads in SF speed data and formats them into proper csv files'''\n",
    "    \n",
    "    with open(data_intput + file_name, 'r') as old_file:\n",
    "        with open(data_output + file_name, 'w') as new_file:\n",
    "            first = 0 \n",
    "            for line in old_file.readlines():\n",
    "                # If it is the first line, separate the header from the data\n",
    "                if first == 0: \n",
    "                    line = re.sub(r'\\t|\\n|\\s+', '', line)\n",
    "                    header = re.findall(r'[A-Z+?\\_?]+', line)\n",
    "                    data = re.findall(r'[\\-?\\d+?\\/?\\.?\\:?]+|\\,(?=\\,)', line)\n",
    "                    \n",
    "                    # Date and time are connected \n",
    "                    date = re.search(r'(\\d{2}\\/){2}\\d{4}', data[1]).group(0)\n",
    "                    time = re.search(r'(\\d{2}\\:){2}\\d{2}', data[1]).group(0)\n",
    "                    date = date + ' ' + time \n",
    "                    \n",
    "                    # Remove the merged date and time\n",
    "                    data.remove(data[1])\n",
    "                    \n",
    "                    # Insert separated date and time\n",
    "                    data.insert(1, date)\n",
    "                    \n",
    "                    data = [x if x != ',' else '' for x in data]\n",
    "                    header = (',').join(header)\n",
    "                    data = (',').join(data)\n",
    "                    new_file.write(header + '\\n')\n",
    "                    new_file.write(data + '\\n')\n",
    "                    first += 1 \n",
    "                else:\n",
    "                    if line != '\\n':\n",
    "                        line = line.rstrip()\n",
    "                        new_file.write(line + '\\n')"
   ]
  },
  {
   "cell_type": "code",
   "execution_count": 15,
   "metadata": {},
   "outputs": [],
   "source": [
    "file_cleaner(data_intput, data_output, file_name)"
   ]
  },
  {
   "cell_type": "code",
   "execution_count": null,
   "metadata": {}
   "outputs": [],
   "source": [
    "# Test load travel data\n",
    "from datetime import datetime \n",
    "\n",
    "dateparse = lambda dates: [pd.datetime.strptime(d, '%m/%d/%Y %H:%M:%S') for d in dates]\n",
    "\n",
    "traffic = pd.read_csv(data_output+file_name,\n",
    "                      parse_dates=['REPORT_TIME'], \n",
    "                      date_parser=dateparse, \n",
    "                      usecols=list(range(0,6)))\n",
    "\n",
    "print('Size of travel speed data: {}'.format(traffic.shape))\n",
    "traffic.head()"
   ]
  },
  {
   "cell_type": "code",
   "execution_count": 17,
   "metadata": {},
   "outputs": [
    {
     "name": "stdout",
     "output_type": "stream",
     "text": [
      "Size of travel speed data: (494778, 10)\n"
     ]
    },
    {
     "data": {
      "text/html": [
       "<div>\n",
       "<style scoped>\n",
       "    .dataframe tbody tr th:only-of-type {\n",
       "        vertical-align: middle;\n",
       "    }\n",
       "\n",
       "    .dataframe tbody tr th {\n",
       "        vertical-align: top;\n",
       "    }\n",
       "\n",
       "    .dataframe thead th {\n",
       "        text-align: right;\n",
       "    }\n",
       "</style>\n",
       "<table border=\"1\" class=\"dataframe\">\n",
       "  <thead>\n",
       "    <tr style=\"text-align: right;\">\n",
       "      <th></th>\n",
       "      <th>REV</th>\n",
       "      <th>REPORT_TIME</th>\n",
       "      <th>VEHICLE_TAG</th>\n",
       "      <th>LONGITUDE</th>\n",
       "      <th>LATITUDE</th>\n",
       "      <th>SPEED</th>\n",
       "      <th>HEADING</th>\n",
       "      <th>TRAIN_ASSIGNMENT</th>\n",
       "      <th>PREDICTABLE</th>\n",
       "      <th>geometry</th>\n",
       "    </tr>\n",
       "    <tr>\n",
       "      <th>index_left</th>\n",
       "      <th></th>\n",
       "      <th></th>\n",
       "      <th></th>\n",
       "      <th></th>\n",
       "      <th></th>\n",
       "      <th></th>\n",
       "      <th></th>\n",
       "      <th></th>\n",
       "      <th></th>\n",
       "      <th></th>\n",
       "    </tr>\n",
       "  </thead>\n",
       "  <tbody>\n",
       "    <tr>\n",
       "      <th>0</th>\n",
       "      <td>1512</td>\n",
       "      <td>2016-01-31 00:02:49</td>\n",
       "      <td>1</td>\n",
       "      <td>-122.42047</td>\n",
       "      <td>37.80633</td>\n",
       "      <td>0.0</td>\n",
       "      <td>201.0</td>\n",
       "      <td>NaN</td>\n",
       "      <td>0</td>\n",
       "      <td>POINT (-122.42047 37.80633)</td>\n",
       "    </tr>\n",
       "    <tr>\n",
       "      <th>1</th>\n",
       "      <td>1512</td>\n",
       "      <td>2016-01-31 00:04:19</td>\n",
       "      <td>1</td>\n",
       "      <td>-122.42049</td>\n",
       "      <td>37.80638</td>\n",
       "      <td>0.0</td>\n",
       "      <td>256.0</td>\n",
       "      <td>NaN</td>\n",
       "      <td>0</td>\n",
       "      <td>POINT (-122.42049 37.80638)</td>\n",
       "    </tr>\n",
       "    <tr>\n",
       "      <th>2</th>\n",
       "      <td>1512</td>\n",
       "      <td>2016-01-31 00:13:19</td>\n",
       "      <td>1</td>\n",
       "      <td>-122.42092</td>\n",
       "      <td>37.80690</td>\n",
       "      <td>0.0</td>\n",
       "      <td>247.0</td>\n",
       "      <td>NaN</td>\n",
       "      <td>0</td>\n",
       "      <td>POINT (-122.42092 37.8069)</td>\n",
       "    </tr>\n",
       "    <tr>\n",
       "      <th>3</th>\n",
       "      <td>1512</td>\n",
       "      <td>2016-01-31 00:17:49</td>\n",
       "      <td>1</td>\n",
       "      <td>-122.42091</td>\n",
       "      <td>37.80690</td>\n",
       "      <td>0.0</td>\n",
       "      <td>0.0</td>\n",
       "      <td>NaN</td>\n",
       "      <td>0</td>\n",
       "      <td>POINT (-122.42091 37.8069)</td>\n",
       "    </tr>\n",
       "    <tr>\n",
       "      <th>4</th>\n",
       "      <td>1512</td>\n",
       "      <td>2016-01-31 00:19:18</td>\n",
       "      <td>1</td>\n",
       "      <td>-122.42090</td>\n",
       "      <td>37.80691</td>\n",
       "      <td>0.0</td>\n",
       "      <td>259.0</td>\n",
       "      <td>NaN</td>\n",
       "      <td>0</td>\n",
       "      <td>POINT (-122.4209 37.80690999999999)</td>\n",
       "    </tr>\n",
       "  </tbody>\n",
       "</table>\n",
       "</div>"
      ],
      "text/plain": [
       "    REV         REPORT_TIME VEHICLE_TAG  LONGITUDE  LATITUDE  SPEED  HEADING  \\\n",
       "0  1512 2016-01-31 00:02:49           1 -122.41518  37.80485  0.000    231.0   \n",
       "1  1512 2016-01-31 00:04:19           1 -122.41513  37.80481  0.000    231.0   \n",
       "2  1512 2016-01-31 00:13:19           1 -122.41523  37.80506  0.000    230.0   \n",
       "3  1512 2016-01-31 00:17:49           1 -122.41407  37.80296  2.500    133.0   \n",
       "4  1512 2016-01-31 00:19:18           1 -122.41269  37.80096  3.889    171.0   \n",
       "\n",
       "                                       geometry  \n",
       "index_left                                       \n",
       "0                   POINT (-122.42047 37.80633)  \n",
       "1                   POINT (-122.42049 37.80638)  \n",
       "2                    POINT (-122.42092 37.8069)  \n",
       "3                    POINT (-122.42091 37.8069)  \n",
       "4           POINT (-122.4209 37.80690999999999)  "
      ]
     },
     "execution_count": 17,
     "metadata": {},
     "output_type": "execute_result"
    }
   ],
   "source": [
    "# Convert pandas to geopandas\n",
    "geom = traffic.apply(lambda x: Point(x['LONGITUDE'], x['LATITUDE']), axis=1)\n",
    "traffic = gpd.GeoDataFrame(traffic, geometry=geom)\n",
    "# traffic.crs = {'init': 'epsg:4326'}\n",
    "print('Size of travel speed data: {}'.format(traffic.shape))\n",
    "traffic.head()"
   ]
  },
  {
   "cell_type": "code",
   "execution_count": 18,
   "metadata": {},
   "outputs": [
    {
     "data": {
      "text/html": [
       "<div>\n",
       "<style scoped>\n",
       "    .dataframe tbody tr th:only-of-type {\n",
       "        vertical-align: middle;\n",
       "    }\n",
       "\n",
       "    .dataframe tbody tr th {\n",
       "        vertical-align: top;\n",
       "    }\n",
       "\n",
       "    .dataframe thead th {\n",
       "        text-align: right;\n",
       "    }\n",
       "</style>\n",
       "<table border=\"1\" class=\"dataframe\">\n",
       "  <thead>\n",
       "    <tr style=\"text-align: right;\">\n",
       "      <th></th>\n",
       "      <th>REV</th>\n",
       "      <th>REPORT_TIME</th>\n",
       "      <th>VEHICLE_TAG</th>\n",
       "      <th>LONGITUDE</th>\n",
       "      <th>LATITUDE</th>\n",
       "      <th>SPEED</th>\n",
       "      <th>HEADING</th>\n",
       "      <th>TRAIN_ASSIGNMENT</th>\n",
       "      <th>PREDICTABLE</th>\n",
       "      <th>geometry</th>\n",
       "      <th>...</th>\n",
       "      <th>countyfp10</th>\n",
       "      <th>funcstat10</th>\n",
       "      <th>geoid10</th>\n",
       "      <th>intptlat10</th>\n",
       "      <th>intptlon10</th>\n",
       "      <th>mtfcc10</th>\n",
       "      <th>name10</th>\n",
       "      <th>namelsad10</th>\n",
       "      <th>statefp10</th>\n",
       "      <th>tractce10</th>\n",
       "    </tr>\n",
       "  </thead>\n",
       "  <tbody>\n",
       "    <tr>\n",
       "      <th>0</th>\n",
       "      <td>1512</td>\n",
       "      <td>2016-01-31 00:02:49</td>\n",
       "      <td>1</td>\n",
       "      <td>-122.42047</td>\n",
       "      <td>37.80633</td>\n",
       "      <td>0.0</td>\n",
       "      <td>201.0</td>\n",
       "      <td>NaN</td>\n",
       "      <td>0</td>\n",
       "      <td>POINT (-122.42047 37.80633)</td>\n",
       "      <td>...</td>\n",
       "      <td>075</td>\n",
       "      <td>S</td>\n",
       "      <td>06075010200</td>\n",
       "      <td>+37.8058607</td>\n",
       "      <td>-122.4229252</td>\n",
       "      <td>G5020</td>\n",
       "      <td>102</td>\n",
       "      <td>Census Tract 102</td>\n",
       "      <td>06</td>\n",
       "      <td>010200</td>\n",
       "    </tr>\n",
       "    <tr>\n",
       "      <th>1</th>\n",
       "      <td>1512</td>\n",
       "      <td>2016-01-31 00:04:19</td>\n",
       "      <td>1</td>\n",
       "      <td>-122.42049</td>\n",
       "      <td>37.80638</td>\n",
       "      <td>0.0</td>\n",
       "      <td>256.0</td>\n",
       "      <td>NaN</td>\n",
       "      <td>0</td>\n",
       "      <td>POINT (-122.42049 37.80638)</td>\n",
       "      <td>...</td>\n",
       "      <td>075</td>\n",
       "      <td>S</td>\n",
       "      <td>06075010200</td>\n",
       "      <td>+37.8058607</td>\n",
       "      <td>-122.4229252</td>\n",
       "      <td>G5020</td>\n",
       "      <td>102</td>\n",
       "      <td>Census Tract 102</td>\n",
       "      <td>06</td>\n",
       "      <td>010200</td>\n",
       "    </tr>\n",
       "    <tr>\n",
       "      <th>2</th>\n",
       "      <td>1512</td>\n",
       "      <td>2016-01-31 00:13:19</td>\n",
       "      <td>1</td>\n",
       "      <td>-122.42092</td>\n",
       "      <td>37.80690</td>\n",
       "      <td>0.0</td>\n",
       "      <td>247.0</td>\n",
       "      <td>NaN</td>\n",
       "      <td>0</td>\n",
       "      <td>POINT (-122.42092 37.8069)</td>\n",
       "      <td>...</td>\n",
       "      <td>075</td>\n",
       "      <td>S</td>\n",
       "      <td>06075010200</td>\n",
       "      <td>+37.8058607</td>\n",
       "      <td>-122.4229252</td>\n",
       "      <td>G5020</td>\n",
       "      <td>102</td>\n",
       "      <td>Census Tract 102</td>\n",
       "      <td>06</td>\n",
       "      <td>010200</td>\n",
       "    </tr>\n",
       "    <tr>\n",
       "      <th>67</th>\n",
       "      <td>1513</td>\n",
       "      <td>2016-01-31 06:34:19</td>\n",
       "      <td>1</td>\n",
       "      <td>-122.42091</td>\n",
       "      <td>37.80690</td>\n",
       "      <td>0.0</td>\n",
       "      <td>0.0</td>\n",
       "      <td>NaN</td>\n",
       "      <td>0</td>\n",
       "      <td>POINT (-122.42091 37.8069)</td>\n",
       "      <td>...</td>\n",
       "      <td>075</td>\n",
       "      <td>S</td>\n",
       "      <td>06075010200</td>\n",
       "      <td>+37.8058607</td>\n",
       "      <td>-122.4229252</td>\n",
       "      <td>G5020</td>\n",
       "      <td>102</td>\n",
       "      <td>Census Tract 102</td>\n",
       "      <td>06</td>\n",
       "      <td>010200</td>\n",
       "    </tr>\n",
       "    <tr>\n",
       "      <th>68</th>\n",
       "      <td>1513</td>\n",
       "      <td>2016-01-31 06:37:19</td>\n",
       "      <td>1</td>\n",
       "      <td>-122.42090</td>\n",
       "      <td>37.80691</td>\n",
       "      <td>0.0</td>\n",
       "      <td>259.0</td>\n",
       "      <td>NaN</td>\n",
       "      <td>0</td>\n",
       "      <td>POINT (-122.4209 37.80690999999999)</td>\n",
       "      <td>...</td>\n",
       "      <td>075</td>\n",
       "      <td>S</td>\n",
       "      <td>06075010200</td>\n",
       "      <td>+37.8058607</td>\n",
       "      <td>-122.4229252</td>\n",
       "      <td>G5020</td>\n",
       "      <td>102</td>\n",
       "      <td>Census Tract 102</td>\n",
       "      <td>06</td>\n",
       "      <td>010200</td>\n",
       "    </tr>\n",
       "  </tbody>\n",
       "</table>\n",
       "<p>5 rows × 23 columns</p>\n",
       "</div>"
      ],
      "text/plain": [
       "     REV         REPORT_TIME VEHICLE_TAG  LONGITUDE  LATITUDE  SPEED  HEADING  \\\n",
       "0   1512 2016-01-31 00:02:49           1 -122.41518  37.80485  0.000    231.0   \n",
       "1   1512 2016-01-31 00:04:19           1 -122.41513  37.80481  0.000    231.0   \n",
       "2   1512 2016-01-31 00:13:19           1 -122.41523  37.80506  0.000    230.0   \n",
       "67  1513 2016-01-31 06:34:19           1 -122.41516  37.80505  0.000    252.0   \n",
       "68  1513 2016-01-31 06:37:19           1 -122.41496  37.80393  3.333    171.0   \n",
       "\n",
       "   TRAIN_ASSIGNMENT  PREDICTABLE                     geometry  ...  \\\n",
       "0               NaN            0  POINT (-122.41518 37.80485)  ...   \n",
       "1               NaN            0  POINT (-122.41513 37.80481)  ...   \n",
       "2               NaN            0  POINT (-122.41523 37.80506)  ...   \n",
       "67              NaN            0  POINT (-122.41516 37.80505)  ...   \n",
       "68              NaN            0  POINT (-122.41496 37.80393)  ...   \n",
       "\n",
       "     ...     countyfp10  funcstat10      geoid10   intptlat10    intptlon10  \\\n",
       "0    ...            075           S  06075010200  +37.8058607  -122.4229252   \n",
       "1    ...            075           S  06075010200  +37.8058607  -122.4229252   \n",
       "2    ...            075           S  06075010200  +37.8058607  -122.4229252   \n",
       "3    ...            075           S  06075010200  +37.8058607  -122.4229252   \n",
       "4    ...            075           S  06075010200  +37.8058607  -122.4229252   \n",
       "\n",
       "  mtfcc10 name10        namelsad10 statefp10 tractce10  \n",
       "0   G5020    102  Census Tract 102        06    010200  \n",
       "1   G5020    102  Census Tract 102        06    010200  \n",
       "2   G5020    102  Census Tract 102        06    010200  \n",
       "3   G5020    102  Census Tract 102        06    010200  \n",
       "4   G5020    102  Census Tract 102        06    010200  \n",
       "\n",
       "[5 rows x 23 columns]"
      ]
     },
     "execution_count": 18,
     "metadata": {},
     "output_type": "execute_result"
    }
   ],
   "source": [
    "# Join with census data\n",
    "# 'op' - operation | specify 'within' because we want our zip ponts \n",
    "# that are within state polygons. \n",
    "traffic.crs = sf_census_zones.crs \n",
    "mapped_traffic = gpd.sjoin(traffic, sf_census_zones, op='within')\n",
    "mapped_traffic.head()"
   ]
  },
  {
   "cell_type": "code",
   "execution_count": 19,
   "metadata": {},
   "outputs": [],
   "source": [
    "import os"
   ]
  },
  {
   "cell_type": "code",
   "execution_count": 20,
   "metadata": {},
   "outputs": [
    {
     "data": {
      "text/plain": [
       "['scraping_sfmta.py',\n",
       " 'exploratory.ipynb',\n",
       " 'nyc_map.ipynb',\n",
       " '.DS_Store',\n",
       " 'ARIMA_baseline.ipynb',\n",
       " 'utils',\n",
       " 'crawling_sfmta_data.ipynb',\n",
       " '__pycache__',\n",
       " 'README.md ',\n",
       " 'region_mapper.ipynb',\n",
       " '.ipynb_checkpoints',\n",
       " 'Census_Tracts_Exploratory.ipynb',\n",
       " 'decorators.py']"
      ]
     },
     "execution_count": 20,
     "metadata": {},
     "output_type": "execute_result"
    }
   ],
   "source": [
    "os.listdir()"
   ]
  },
  {
   "cell_type": "code",
   "execution_count": 10,
   "metadata": {},
   "outputs": [],
   "source": [
    "from utils.formatter import coordinate_mapper"
   ]
  },
  {
   "cell_type": "code",
   "execution_count": 11,
   "metadata": {},
   "outputs": [
    {
     "name": "stdout",
     "output_type": "stream",
     "text": [
      "../raw_data/census_zones/sf/\n",
      "geo_export_8ddce19a-2ba8-4da5-8c6c-28ee960b9bc6.shp\n"
     ]
    }
   ],
   "source": [
    "print(gis_data_dir)\n",
    "print(files[2])"
   ]
  },
  {
   "cell_type": "code",
   "execution_count": 12,
   "metadata": {},
   "outputs": [
    {
     "name": "stdout",
     "output_type": "stream",
     "text": [
      "../raw_data/census_zones/sf/geo_export_8ddce19a-2ba8-4da5-8c6c-28ee960b9bc6.shp\n"
     ]
    }
   ],
   "source": [
    "shp_file = gis_data_dir + files[2]\n",
    "print(shp_file)\n",
    "input_dir = '../temp_data/sfdata_clean/'\n",
    "output_dir = '../output/sfdata_mapped/'\n",
    "file_name = 'sfmtaAVLRawData01312016.csv'"
   ]
  },
  {
   "cell_type": "code",
   "execution_count": 13,
   "metadata": {},
   "outputs": [
    {
     "name": "stderr",
     "output_type": "stream",
     "text": [
      "/Users/koki/Documents/Learning/UMICH_course_material/SI_699_Big_Data/rushhour/lib/python3.6/site-packages/IPython/core/interactiveshell.py:3191: DtypeWarning: Columns (2,7) have mixed types. Specify dtype option on import or set low_memory=False.\n",
      "  if (yield from self.run_code(code, result)):\n"
     ]
    }
   ],
   "source": [
    "coordinate_mapper(shp_file, input_dir, output_dir, file_name)"
   ]
  },
  {
   "cell_type": "markdown",
   "metadata": {},
   "source": [
    "# FCC API\n",
    "*Does not give census zone ID*  \n",
    "*FIPS is not specific enough as multiple census zones can have the same FIPS code*  \n",
    "\n",
    "Resources \n",
    "1. (https://gis.stackexchange.com/questions/294641/python-code-for-transforming-lat-long-into-fips-codes)\n",
    "2. (https://geo.fcc.gov/api/census/#!/block/get_block_find)\n",
    "3. (https://www.census.gov/geo/reference/geoidentifiers.html)\n",
    "\n",
    "FIPS codes  \n",
    "Federal Information Processing Series: numeric codes assigned by the National Institude of Standards and Technology (NIST). Deals with US states and counties. US states identified with a 2-digit number while US counties are idnentified by a 3-digit number. \n",
    "\n",
    "Example:\n",
    "> FIPS code: 06071 represents\n",
    "> California - 06\n",
    "> San Bernardino County - 071"
   ]
  },
  {
   "cell_type": "code",
   "execution_count": 25,
   "metadata": {
    "collapsed": true
   },
   "outputs": [],
   "source": [
    "#@timer\n",
    "def census_mapper(lat, lon):\n",
    "    '''Map lat and lon coordiantes to census zone using the fcc API'''\n",
    "    \n",
    "    #Encode parameters \n",
    "    params = urllib.parse.urlencode({'latitude': lat,\n",
    "                                     'longitude':lon,\n",
    "                                     'format':'json'})\n",
    "    \n",
    "    #Contruct request URL\n",
    "    url = 'https://geo.fcc.gov/api/census/block/find?' + params\n",
    "\n",
    "    #Get response from API\n",
    "    response = requests.get(url)\n",
    "\n",
    "    #Parse json in response\n",
    "    data = response.json()\n",
    "\n",
    "    #Print FIPS code\n",
    "    return data['County']['FIPS']"
   ]
  },
  {
   "cell_type": "code",
   "execution_count": 26,
   "metadata": {},
   "outputs": [
    {
     "name": "stdout",
     "output_type": "stream",
     "text": [
      "Running census_mapper...\n",
      "Finished in 0.2102s\n"
     ]
    },
    {
     "data": {
      "text/plain": [
       "'06075'"
      ]
     },
     "execution_count": 26,
     "metadata": {},
     "output_type": "execute_result"
    }
   ],
   "source": [
    "census_mapper(37.80456, -122.41509)"
   ]
  }
 ],
 "metadata": {
  "kernelspec": {
   "display_name": "Python 3",
   "language": "python",
   "name": "python3"
  },
  "language_info": {
   "codemirror_mode": {
    "name": "ipython",
    "version": 3
   },
   "file_extension": ".py",
   "mimetype": "text/x-python",
   "name": "python",
   "nbconvert_exporter": "python",
   "pygments_lexer": "ipython3",
   "version": "3.6.3"
  }
 },
 "nbformat": 4,
 "nbformat_minor": 2
}
